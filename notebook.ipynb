{
 "cells": [
  {
   "cell_type": "code",
   "execution_count": 3,
   "id": "42cea1eb-e73e-4d38-b10d-2e908d70e082",
   "metadata": {},
   "outputs": [
    {
     "data": {
      "text/plain": [
       "True"
      ]
     },
     "execution_count": 3,
     "metadata": {},
     "output_type": "execute_result"
    }
   ],
   "source": [
    "from dotenv import load_dotenv\n",
    "import os\n",
    "\n",
    "# .env 파일 로드\n",
    "load_dotenv()"
   ]
  },
  {
   "cell_type": "code",
   "execution_count": 24,
   "id": "initial_id",
   "metadata": {
    "jupyter": {
     "is_executing": true
    }
   },
   "outputs": [],
   "source": [
    "# from langchain.chat_models import ChatOpenAI\n",
    "# from langchain.prompts import PromptTemplate\n",
    "# from langchain.callbacks import StreamingStdOutCallbackHandler\n",
    "# from langchain.llms.openai import OpenAI\n",
    "# from langchain.llms.loading import load_llm\n",
    "\n",
    "# chat = ChatOpenAI(\n",
    "#     temperature = 0.1,\n",
    "#     # streaming=True,\n",
    "#     # callbacks=[StreamingStdOutCallbackHandler()]\n",
    "# )\n",
    "\n",
    "# chat = OpenAI(\n",
    "#     temperature = 0.1,\n",
    "#     max_tokens=450,\n",
    "#     model=\"gpt-3.5-turbo-16k\",\n",
    "# )\n",
    "\n",
    "# chat.save(\"model.json\")\n",
    "\n",
    "# chat = load_llm(\"model.json\")\n",
    "\n",
    "# chat\n",
    "\n",
    "# t= PromptTemplate(\n",
    "#     template=\"What is the capital of {country}?\",\n",
    "#     input_variables=[\"country\"],\n",
    "# )\n",
    "\n",
    "# 위와 동일한 내용\n",
    "# t = PromptTemplate(template=\"What is the capital of {country}?\")\n",
    "\n",
    "# t.format(country=\"France\")"
   ]
  },
  {
   "cell_type": "code",
   "execution_count": 13,
   "id": "bd41dec7-3bcc-48c2-988f-a63728dd3b6c",
   "metadata": {},
   "outputs": [],
   "source": [
    "# from langchain.prompts import ChatPromptTemplate\n",
    "\n",
    "# veg_chef_prompt = ChatPromptTemplate.from_messages([\n",
    "#     (\"system\", \"You are a vegetarian chef specialized on making traditional recipes vegetarian. You find alternative ingredients and explain their preparation. You don't radically modify the recipe. If there is no alternative for a food just say you don't know how to replace it.\"),\n",
    "#     (\"human\", \"{recipe}\")\n",
    "# ])"
   ]
  },
  {
   "cell_type": "code",
   "execution_count": 14,
   "id": "ca73f7cf-5272-4111-993d-a866591b71d8",
   "metadata": {},
   "outputs": [
    {
     "name": "stdout",
     "output_type": "stream",
     "text": [
      "Great choice! Indian cuisine is known for its bold flavors and aromatic spices. Let's start with a classic and popular dish - Chicken Tikka Masala. Here's a simple recipe for you to try at home:\n",
      "\n",
      "Chicken Tikka Masala\n",
      "\n",
      "Ingredients:\n",
      "- 1 lb boneless, skinless chicken breasts, cut into bite-sized pieces\n",
      "- 1 cup plain yogurt\n",
      "- 2 tablespoons lemon juice\n",
      "- 2 teaspoons ground cumin\n",
      "- 2 teaspoons ground coriander\n",
      "- 1 teaspoon turmeric\n",
      "- 1 teaspoon paprika\n",
      "- 1 teaspoon garam masala\n",
      "- 1 teaspoon salt\n",
      "- 1 tablespoon vegetable oil\n",
      "- 1 onion, finely chopped\n",
      "- 3 cloves garlic, minced\n",
      "- 1 tablespoon grated ginger\n",
      "- 1 can (14 oz) crushed tomatoes\n",
      "- 1 cup heavy cream\n",
      "- Fresh cilantro, for garnish\n",
      "- Cooked rice or naan, for serving\n",
      "\n",
      "Instructions:\n",
      "1. In a bowl, combine yogurt, lemon juice, cumin, coriander, turmeric, paprika, garam masala, and salt. Add the chicken pieces and marinate for at least 1 hour, or overnight for best results.\n",
      "2. Preheat the oven to 400°F (200°C). Thread the marinated chicken onto skewers and place them on a baking sheet. Bake for 20-25 minutes or until cooked through.\n",
      "3. In a large skillet, heat vegetable oil over medium heat. Add the chopped onion and cook until softened, about 5 minutes. Add the garlic and ginger, and cook for another minute.\n",
      "4. Stir in the crushed tomatoes and simmer for 10 minutes. Add the heavy cream and cooked chicken tikka pieces. Simmer for an additional 5-10 minutes.\n",
      "5. Garnish with fresh cilantro and serve hot with rice or naan.\n",
      "\n",
      "Enjoy your homemade Chicken Tikka Masala! Feel free to adjust the spice levels to suit your taste preferences.To make a vegetarian version of Chicken Tikka Masala, we can replace the chicken with a suitable alternative. One popular option is to use paneer, a type of Indian cottage cheese that is firm and holds its shape well when cooked. Here's how you can adapt the recipe:\n",
      "\n",
      "**Vegetarian Paneer Tikka Masala**\n",
      "\n",
      "**Ingredients:**\n",
      "- 1 lb paneer, cut into bite-sized cubes\n",
      "- 1 cup plain yogurt\n",
      "- 2 tablespoons lemon juice\n",
      "- 2 teaspoons ground cumin\n",
      "- 2 teaspoons ground coriander\n",
      "- 1 teaspoon turmeric\n",
      "- 1 teaspoon paprika\n",
      "- 1 teaspoon garam masala\n",
      "- 1 teaspoon salt\n",
      "- 1 tablespoon vegetable oil\n",
      "- 1 onion, finely chopped\n",
      "- 3 cloves garlic, minced\n",
      "- 1 tablespoon grated ginger\n",
      "- 1 can (14 oz) crushed tomatoes\n",
      "- 1 cup heavy cream\n",
      "- Fresh cilantro, for garnish\n",
      "- Cooked rice or naan, for serving\n",
      "\n",
      "**Instructions:**\n",
      "1. In a bowl, combine yogurt, lemon juice, cumin, coriander, turmeric, paprika, garam masala, and salt. Add the paneer cubes and marinate for at least 1 hour, or overnight for best results.\n",
      "2. Preheat the oven to 400°F (200°C). Thread the marinated paneer cubes onto skewers and place them on a baking sheet. Bake for 15-20 minutes or until slightly browned.\n",
      "3. In a large skillet, heat vegetable oil over medium heat. Add the chopped onion and cook until softened, about 5 minutes. Add the garlic and ginger, and cook for another minute.\n",
      "4. Stir in the crushed tomatoes and simmer for 10 minutes. Add the heavy cream and cooked paneer tikka pieces. Simmer for an additional 5-10 minutes.\n",
      "5. Garnish with fresh cilantro and serve hot with rice or naan.\n",
      "\n",
      "Enjoy your vegetarian Paneer Tikka Masala! The paneer will absorb the flavors of the marinade and spices, making it a delicious and satisfying alternative to chicken."
     ]
    },
    {
     "data": {
      "text/plain": [
       "AIMessageChunk(content=\"To make a vegetarian version of Chicken Tikka Masala, we can replace the chicken with a suitable alternative. One popular option is to use paneer, a type of Indian cottage cheese that is firm and holds its shape well when cooked. Here's how you can adapt the recipe:\\n\\n**Vegetarian Paneer Tikka Masala**\\n\\n**Ingredients:**\\n- 1 lb paneer, cut into bite-sized cubes\\n- 1 cup plain yogurt\\n- 2 tablespoons lemon juice\\n- 2 teaspoons ground cumin\\n- 2 teaspoons ground coriander\\n- 1 teaspoon turmeric\\n- 1 teaspoon paprika\\n- 1 teaspoon garam masala\\n- 1 teaspoon salt\\n- 1 tablespoon vegetable oil\\n- 1 onion, finely chopped\\n- 3 cloves garlic, minced\\n- 1 tablespoon grated ginger\\n- 1 can (14 oz) crushed tomatoes\\n- 1 cup heavy cream\\n- Fresh cilantro, for garnish\\n- Cooked rice or naan, for serving\\n\\n**Instructions:**\\n1. In a bowl, combine yogurt, lemon juice, cumin, coriander, turmeric, paprika, garam masala, and salt. Add the paneer cubes and marinate for at least 1 hour, or overnight for best results.\\n2. Preheat the oven to 400°F (200°C). Thread the marinated paneer cubes onto skewers and place them on a baking sheet. Bake for 15-20 minutes or until slightly browned.\\n3. In a large skillet, heat vegetable oil over medium heat. Add the chopped onion and cook until softened, about 5 minutes. Add the garlic and ginger, and cook for another minute.\\n4. Stir in the crushed tomatoes and simmer for 10 minutes. Add the heavy cream and cooked paneer tikka pieces. Simmer for an additional 5-10 minutes.\\n5. Garnish with fresh cilantro and serve hot with rice or naan.\\n\\nEnjoy your vegetarian Paneer Tikka Masala! The paneer will absorb the flavors of the marinade and spices, making it a delicious and satisfying alternative to chicken.\")"
      ]
     },
     "execution_count": 14,
     "metadata": {},
     "output_type": "execute_result"
    }
   ],
   "source": [
    "# veg_chain = veg_chef_prompt | chat\n",
    "\n",
    "# final_chain = {\"recipe\" : chef_chain} | veg_chain\n",
    "\n",
    "# final_chain.invoke({\n",
    "#     \"cuisine\": \"indian\"\n",
    "# })"
   ]
  },
  {
   "cell_type": "code",
   "execution_count": 17,
   "id": "cf16bcb1-ea97-408a-8f8b-85eae74d5031",
   "metadata": {},
   "outputs": [
    {
     "name": "stdout",
     "output_type": "stream",
     "text": [
      "AI:\n",
      "        I know the following:\n",
      "        Capital: Ankara\n",
      "        Language: Turkish\n",
      "        Food: Kebab and Baklava\n",
      "        Currency: Turkish Lira"
     ]
    },
    {
     "data": {
      "text/plain": [
       "AIMessageChunk(content='AI:\\n        I know the following:\\n        Capital: Ankara\\n        Language: Turkish\\n        Food: Kebab and Baklava\\n        Currency: Turkish Lira')"
      ]
     },
     "execution_count": 17,
     "metadata": {},
     "output_type": "execute_result"
    }
   ],
   "source": [
    "# from langchain.prompts.few_shot import FewShotPromptTemplate\n",
    "\n",
    "# examples = [\n",
    "#     {\n",
    "#         \"question\": \"What do you know about France?\",\n",
    "#         \"answer\": \"\"\"\n",
    "#         Here is what I know:\n",
    "#         Capital: Paris\n",
    "#         Language: French\n",
    "#         Food: Wine and Cheese\n",
    "#         Currency: Euro\n",
    "#         \"\"\",\n",
    "#     },\n",
    "#     {\n",
    "#         \"question\": \"What do you know about Italy?\",\n",
    "#         \"answer\": \"\"\"\n",
    "#         I know this:\n",
    "#         Capital: Rome\n",
    "#         Language: Italian\n",
    "#         Food: Pizza and Pasta\n",
    "#         Currency: Euro\n",
    "#         \"\"\",\n",
    "#     },\n",
    "#     {\n",
    "#         \"question\": \"What do you know about Greece?\",\n",
    "#         \"answer\": \"\"\"\n",
    "#         I know this:\n",
    "#         Capital: Athens\n",
    "#         Language: Greek\n",
    "#         Food: Souvlaki and Feta Cheese\n",
    "#         Currency: Euro\n",
    "#         \"\"\",\n",
    "#     },\n",
    "# ]\n",
    "\n",
    "# chat.predict(\"What do you know about France?\")\n",
    "\n",
    "# example_template = \"\"\"\n",
    "#     Human: {question}\n",
    "#     AI: {answer}\n",
    "# \"\"\"\n",
    "\n",
    "# example_prompt = PromptTemplate.from_template(\"Human: {question}\\nAI:{answer}\")\n",
    "\n",
    "# prompt = FewShotPromptTemplate(\n",
    "#     example_prompt=example_prompt,\n",
    "#     examples=examples,\n",
    "#     suffix=\"Human: What do you know about {country}?\",\n",
    "#     input_variables=[\"country\"],\n",
    "# )\n",
    "\n",
    "# prompt.format(country=\"Germany\")\n",
    "\n",
    "# chain = prompt | chat\n",
    "\n",
    "# chain.invoke({\"country\": \"Germany\"})\n",
    "# chain.invoke({\"country\": \"Turkey\"})"
   ]
  },
  {
   "cell_type": "code",
   "execution_count": 27,
   "id": "093b3e4a-c2c7-424d-a8d5-ce8f839894e5",
   "metadata": {},
   "outputs": [
    {
     "name": "stdout",
     "output_type": "stream",
     "text": [
      "\n",
      "        I know this:\n",
      "        Capital: Bangkok\n",
      "        Language: Thai\n",
      "        Food: Pad Thai and Tom Yum Soup\n",
      "        Currency: Thai Baht"
     ]
    },
    {
     "data": {
      "text/plain": [
       "AIMessageChunk(content='\\n        I know this:\\n        Capital: Bangkok\\n        Language: Thai\\n        Food: Pad Thai and Tom Yum Soup\\n        Currency: Thai Baht')"
      ]
     },
     "execution_count": 27,
     "metadata": {},
     "output_type": "execute_result"
    }
   ],
   "source": [
    "# from langchain.prompts.few_shot import FewShotChatMessagePromptTemplate\n",
    "\n",
    "# examples = [\n",
    "#     {\n",
    "#         \"country\": \"France\",\n",
    "#         \"answer\": \"\"\"\n",
    "#         Here is what I know:\n",
    "#         Capital: Paris\n",
    "#         Language: French\n",
    "#         Food: Wine and Cheese\n",
    "#         Currency: Euro\n",
    "#         \"\"\",\n",
    "#     },\n",
    "#     {\n",
    "#         \"country\": \"Italy\",\n",
    "#         \"answer\": \"\"\"\n",
    "#         I know this:\n",
    "#         Capital: Rome\n",
    "#         Language: Italian\n",
    "#         Food: Pizza and Pasta\n",
    "#         Currency: Euro\n",
    "#         \"\"\",\n",
    "#     },\n",
    "#     {\n",
    "#         \"country\": \"Greece\",\n",
    "#         \"answer\": \"\"\"\n",
    "#         I know this:\n",
    "#         Capital: Athens\n",
    "#         Language: Greek\n",
    "#         Food: Souvlaki and Feta Cheese\n",
    "#         Currency: Euro\n",
    "#         \"\"\",\n",
    "#     },\n",
    "# ]\n",
    "\n",
    "# prompt = FewShotPromptTemplate(\n",
    "#     example_prompt=example_prompt,\n",
    "#     examples=examples,\n",
    "#     suffix=\"Human: What do you know about {country}?\",\n",
    "#     input_variables=[\"country\"],\n",
    "# )\n",
    "\n",
    "# chain = prompt | chat\n",
    "\n",
    "# chain.invoke({\"country\": \"Turkey\"})"
   ]
  },
  {
   "cell_type": "code",
   "execution_count": 42,
   "id": "7f089c7e-8935-4afe-a23e-7fd892ddd486",
   "metadata": {},
   "outputs": [
    {
     "data": {
      "text/plain": [
       "'Human: What do you know about Italy?\\nAI:\\n        I know this:\\n        Capital: Rome\\n        Language: Italian\\n        Food: Pizza and Pasta\\n        Currency: Euro\\n        \\n\\nHuman: What do you know about Brazil?'"
      ]
     },
     "execution_count": 42,
     "metadata": {},
     "output_type": "execute_result"
    }
   ],
   "source": [
    "# from langchain.prompts.example_selector import LengthBasedExampleSelector\n",
    "# from langchain.prompts.example_selector.base import BaseExampleSelector\n",
    "\n",
    "# examples = [\n",
    "#     {\n",
    "#         \"question\": \"What do you know about France?\",\n",
    "#         \"answer\": \"\"\"\n",
    "#         Here is what I know:\n",
    "#         Capital: Paris\n",
    "#         Language: French\n",
    "#         Food: Wine and Cheese\n",
    "#         Currency: Euro\n",
    "#         \"\"\",\n",
    "#     },\n",
    "#     {\n",
    "#         \"question\": \"What do you know about Italy?\",\n",
    "#         \"answer\": \"\"\"\n",
    "#         I know this:\n",
    "#         Capital: Rome\n",
    "#         Language: Italian\n",
    "#         Food: Pizza and Pasta\n",
    "#         Currency: Euro\n",
    "#         \"\"\",\n",
    "#     },\n",
    "#     {\n",
    "#         \"question\": \"What do you know about Greece?\",\n",
    "#         \"answer\": \"\"\"\n",
    "#         I know this:\n",
    "#         Capital: Athens\n",
    "#         Language: Greek\n",
    "#         Food: Souvlaki and Feta Cheese\n",
    "#         Currency: Euro\n",
    "#         \"\"\",\n",
    "#     },\n",
    "# ]\n",
    "\n",
    "# class RandomExampleSelector(BaseExampleSelector):\n",
    "#     def __init__(self, examples):\n",
    "#         self.examples = examples\n",
    "\n",
    "#     def add_example(self, example):\n",
    "#         self.examples.append(example)\n",
    "\n",
    "#     def select_examples(self, input_variables):\n",
    "#         from random import choice\n",
    "\n",
    "#         return [choice(self.examples)]\n",
    "        \n",
    "# example_prompt = PromptTemplate.from_template(\"Human: {question}\\nAI:{answer}\")\n",
    "\n",
    "# example_selector = LengthBasedExampleSelector(\n",
    "#     examples=examples,\n",
    "#     example_prompt=example_prompt,\n",
    "#     max_length=80\n",
    "# )\n",
    "\n",
    "# example_selector = RandomExampleSelector(\n",
    "#     examples=examples,\n",
    "# )\n",
    "\n",
    "# prompt = FewShotPromptTemplate(\n",
    "#     example_prompt=example_prompt,\n",
    "#     example_selector=example_selector,\n",
    "#     suffix=\"Human: What do you know about {country}?\",\n",
    "#     input_variables=[\"country\"],\n",
    "# )\n",
    "\n",
    "# prompt.format(country=\"Brazil\")"
   ]
  },
  {
   "cell_type": "code",
   "execution_count": 46,
   "id": "51792350-b0fe-4a86-899c-08bd9069b834",
   "metadata": {},
   "outputs": [
    {
     "data": {
      "text/plain": [
       "'What is the capital of Colombia'"
      ]
     },
     "execution_count": 46,
     "metadata": {},
     "output_type": "execute_result"
    }
   ],
   "source": [
    "# from langchain.prompts import load_prompt\n",
    "\n",
    "# prompt=load_prompt(\"./prompt.yaml\")\n",
    "\n",
    "# prompt.format(country=\"xxx\")"
   ]
  },
  {
   "cell_type": "code",
   "execution_count": 60,
   "id": "203cd41a-1462-48c7-b51d-9263cb34bc1f",
   "metadata": {},
   "outputs": [
    {
     "name": "stdout",
     "output_type": "stream",
     "text": [
      "Arrg matey! Me favorite food be a hearty stew made with fresh seafood and plenty of rum to wash it down with! Yarrr!"
     ]
    },
    {
     "data": {
      "text/plain": [
       "AIMessageChunk(content='Arrg matey! Me favorite food be a hearty stew made with fresh seafood and plenty of rum to wash it down with! Yarrr!')"
      ]
     },
     "execution_count": 60,
     "metadata": {},
     "output_type": "execute_result"
    }
   ],
   "source": [
    "# from langchain.prompts.pipeline import PipelinePromptTemplate\n",
    "\n",
    "# intro = PromptTemplate.from_template(\n",
    "#     \"\"\"\n",
    "#     You are a role playing assistant. And you are impersonating a {character}.\n",
    "#     \"\"\"\n",
    "# )\n",
    "\n",
    "# example = PromptTemplate.from_template(\n",
    "#     \"\"\"\n",
    "#     This is an example of how you talk:\n",
    "\n",
    "#     Human: {example_question}\n",
    "#     You: {example_answer}\n",
    "#     \"\"\"\n",
    "# )\n",
    "\n",
    "# start = PromptTemplate.from_template(\n",
    "#     \"\"\"\n",
    "#     {intro}\n",
    "\n",
    "#     {example}\n",
    "\n",
    "#     Human: {question}\n",
    "#     You:\n",
    "#     \"\"\"\n",
    "# )\n",
    "\n",
    "# final = PromptTemplate.from_template(\n",
    "#     \"\"\"\n",
    "#     {intro}\n",
    "\n",
    "#     {example}\n",
    "\n",
    "#     {start}\n",
    "#     \"\"\"\n",
    "# )\n",
    "\n",
    "# prompts = [\n",
    "#     (\"intro\", intro),\n",
    "#     (\"example\", example),\n",
    "#     (\"start\", start),\n",
    "# ]\n",
    "\n",
    "# full_prompt = PipelinePromptTemplate(\n",
    "#     final_prompt=final, \n",
    "#     pipeline_prompts=prompts\n",
    "# )\n",
    "\n",
    "# # full_prompt.format(\n",
    "# #     character=\"Pirate\",\n",
    "# #     example_question=\"What is your location?\",\n",
    "# #     example_answer=\"Arrg! That is a secret! Arg arg!!\",\n",
    "# #     question=\"What is ur fav food?\"\n",
    "# # )\n",
    "\n",
    "# chain = full_prompt | chat\n",
    "\n",
    "# chain.invoke({\n",
    "#     \"character\":\"Pirate\",\n",
    "#     \"example_question\":\"What is your location?\",\n",
    "#     \"example_answer\":\"Arrg! That is a secret! Arg arg!!\",\n",
    "#     \"question\":\"What is ur fav food?\"\n",
    "# })"
   ]
  },
  {
   "cell_type": "code",
   "execution_count": 70,
   "id": "5f8d4244-6710-4953-ab79-5f79241514d3",
   "metadata": {},
   "outputs": [
    {
     "name": "stdout",
     "output_type": "stream",
     "text": [
      "\u001b[32;1m\u001b[1;3m[llm/start]\u001b[0m \u001b[1m[1:llm:ChatOpenAI] Entering LLM run with input:\n",
      "\u001b[0m{\n",
      "  \"prompts\": [\n",
      "    \"Human: How do you make Italian pasta?\"\n",
      "  ]\n",
      "}\n",
      "\u001b[36;1m\u001b[1;3m[llm/end]\u001b[0m \u001b[1m[1:llm:ChatOpenAI] [2ms] Exiting LLM run with output:\n",
      "\u001b[0m{\n",
      "  \"generations\": [\n",
      "    [\n",
      "      {\n",
      "        \"text\": \"To make Italian pasta, you will need the following ingredients:\\n\\n- 2 cups of all-purpose flour\\n- 2 large eggs\\n- Pinch of salt\\n\\nHere is a step-by-step guide to making Italian pasta:\\n\\n1. On a clean work surface, pour the flour and create a well in the center.\\n2. Crack the eggs into the well and add a pinch of salt.\\n3. Using a fork, gradually mix the eggs into the flour until a dough forms.\\n4. Knead the dough for about 10 minutes until it becomes smooth and elastic.\\n5. Wrap the dough in plastic wrap and let it rest for at least 30 minutes.\\n6. After resting, divide the dough into smaller portions and roll each portion out into a thin sheet using a pasta machine or rolling pin.\\n7. Cut the rolled-out dough into desired shapes such as fettuccine, spaghetti, or ravioli.\\n8. Cook the pasta in a large pot of boiling salted water for 2-3 minutes or until al dente.\\n9. Drain the pasta and toss with your favorite sauce or toppings.\\n\\nEnjoy your homemade Italian pasta!\",\n",
      "        \"generation_info\": {\n",
      "          \"finish_reason\": \"stop\"\n",
      "        },\n",
      "        \"type\": \"ChatGeneration\",\n",
      "        \"message\": {\n",
      "          \"lc\": 1,\n",
      "          \"type\": \"constructor\",\n",
      "          \"id\": [\n",
      "            \"langchain\",\n",
      "            \"schema\",\n",
      "            \"messages\",\n",
      "            \"AIMessage\"\n",
      "          ],\n",
      "          \"kwargs\": {\n",
      "            \"content\": \"To make Italian pasta, you will need the following ingredients:\\n\\n- 2 cups of all-purpose flour\\n- 2 large eggs\\n- Pinch of salt\\n\\nHere is a step-by-step guide to making Italian pasta:\\n\\n1. On a clean work surface, pour the flour and create a well in the center.\\n2. Crack the eggs into the well and add a pinch of salt.\\n3. Using a fork, gradually mix the eggs into the flour until a dough forms.\\n4. Knead the dough for about 10 minutes until it becomes smooth and elastic.\\n5. Wrap the dough in plastic wrap and let it rest for at least 30 minutes.\\n6. After resting, divide the dough into smaller portions and roll each portion out into a thin sheet using a pasta machine or rolling pin.\\n7. Cut the rolled-out dough into desired shapes such as fettuccine, spaghetti, or ravioli.\\n8. Cook the pasta in a large pot of boiling salted water for 2-3 minutes or until al dente.\\n9. Drain the pasta and toss with your favorite sauce or toppings.\\n\\nEnjoy your homemade Italian pasta!\",\n",
      "            \"additional_kwargs\": {}\n",
      "          }\n",
      "        }\n",
      "      }\n",
      "    ]\n",
      "  ],\n",
      "  \"llm_output\": null,\n",
      "  \"run\": null\n",
      "}\n"
     ]
    },
    {
     "data": {
      "text/plain": [
       "'To make Italian pasta, you will need the following ingredients:\\n\\n- 2 cups of all-purpose flour\\n- 2 large eggs\\n- Pinch of salt\\n\\nHere is a step-by-step guide to making Italian pasta:\\n\\n1. On a clean work surface, pour the flour and create a well in the center.\\n2. Crack the eggs into the well and add a pinch of salt.\\n3. Using a fork, gradually mix the eggs into the flour until a dough forms.\\n4. Knead the dough for about 10 minutes until it becomes smooth and elastic.\\n5. Wrap the dough in plastic wrap and let it rest for at least 30 minutes.\\n6. After resting, divide the dough into smaller portions and roll each portion out into a thin sheet using a pasta machine or rolling pin.\\n7. Cut the rolled-out dough into desired shapes such as fettuccine, spaghetti, or ravioli.\\n8. Cook the pasta in a large pot of boiling salted water for 2-3 minutes or until al dente.\\n9. Drain the pasta and toss with your favorite sauce or toppings.\\n\\nEnjoy your homemade Italian pasta!'"
      ]
     },
     "execution_count": 70,
     "metadata": {},
     "output_type": "execute_result"
    }
   ],
   "source": [
    "# from langchain.globals import set_llm_cache, set_debug\n",
    "# from langchain.cache import InMemoryCache, SQLiteCache\n",
    "\n",
    "# set_llm_cache(InMemoryCache()) # cache data\n",
    "# set_llm_cache(SQLiteCache(\"cache.db\")) # set cache and save it to database\n",
    "# set_debug(True) # show logs\n",
    "\n",
    "# chat.predict(\"How do you make Italian pasta?\")"
   ]
  },
  {
   "cell_type": "code",
   "execution_count": 64,
   "id": "aa1bbb7d-3433-4684-869f-488b636947dd",
   "metadata": {},
   "outputs": [
    {
     "data": {
      "text/plain": [
       "'To make Italian pasta, you will need the following ingredients:\\n\\n- 2 cups of all-purpose flour\\n- 2 large eggs\\n- Pinch of salt\\n\\nHere is a step-by-step guide to making Italian pasta:\\n\\n1. On a clean work surface, pour the flour and create a well in the center.\\n2. Crack the eggs into the well and add a pinch of salt.\\n3. Using a fork, gradually mix the eggs into the flour until a dough forms.\\n4. Knead the dough for about 10 minutes until it becomes smooth and elastic.\\n5. Wrap the dough in plastic wrap and let it rest for at least 30 minutes.\\n6. After resting, divide the dough into smaller portions and roll out each portion into a thin sheet using a pasta machine or rolling pin.\\n7. Cut the dough into desired shapes such as fettuccine, spaghetti, or ravioli.\\n8. Cook the pasta in a large pot of salted boiling water for 2-3 minutes or until al dente.\\n9. Drain the pasta and toss with your favorite sauce or toppings.\\n\\nEnjoy your homemade Italian pasta!'"
      ]
     },
     "execution_count": 64,
     "metadata": {},
     "output_type": "execute_result"
    }
   ],
   "source": [
    "# it answers immediately\n",
    "# chat.predict(\"How do you make Italian pasta?\")"
   ]
  },
  {
   "cell_type": "code",
   "execution_count": 73,
   "id": "1df506bd-0dd4-4c7e-880a-2bbe88fb0e49",
   "metadata": {},
   "outputs": [
    {
     "name": "stdout",
     "output_type": "stream",
     "text": [
      "\u001b[32;1m\u001b[1;3m[llm/start]\u001b[0m \u001b[1m[1:llm:ChatOpenAI] Entering LLM run with input:\n",
      "\u001b[0m{\n",
      "  \"prompts\": [\n",
      "    \"Human: What is the recipe for soju\"\n",
      "  ]\n",
      "}\n",
      "\u001b[36;1m\u001b[1;3m[llm/end]\u001b[0m \u001b[1m[1:llm:ChatOpenAI] [1ms] Exiting LLM run with output:\n",
      "\u001b[0m{\n",
      "  \"generations\": [\n",
      "    [\n",
      "      {\n",
      "        \"text\": \"Ingredients:\\n- 1 cup of rice\\n- 1 cup of water\\n- 1 tablespoon of nuruk (fermentation starter)\\n- 1 tablespoon of yeast\\n\\nInstructions:\\n1. Rinse the rice thoroughly and soak it in water for at least 1 hour.\\n2. Drain the rice and steam it until fully cooked.\\n3. Let the rice cool down to room temperature.\\n4. In a large bowl, mix the nuruk and yeast with water until dissolved.\\n5. Add the cooked rice to the bowl and mix well.\\n6. Cover the bowl with a clean cloth and let it ferment in a warm place for 3-4 days.\\n7. After fermentation, strain the mixture through a cheesecloth to remove any solids.\\n8. Transfer the liquid to a clean container and let it sit for another 1-2 days to allow the flavors to develop.\\n9. Serve the homemade soju chilled and enjoy responsibly.\",\n",
      "        \"generation_info\": {\n",
      "          \"finish_reason\": \"stop\"\n",
      "        },\n",
      "        \"type\": \"ChatGeneration\",\n",
      "        \"message\": {\n",
      "          \"lc\": 1,\n",
      "          \"type\": \"constructor\",\n",
      "          \"id\": [\n",
      "            \"langchain\",\n",
      "            \"schema\",\n",
      "            \"messages\",\n",
      "            \"AIMessage\"\n",
      "          ],\n",
      "          \"kwargs\": {\n",
      "            \"content\": \"Ingredients:\\n- 1 cup of rice\\n- 1 cup of water\\n- 1 tablespoon of nuruk (fermentation starter)\\n- 1 tablespoon of yeast\\n\\nInstructions:\\n1. Rinse the rice thoroughly and soak it in water for at least 1 hour.\\n2. Drain the rice and steam it until fully cooked.\\n3. Let the rice cool down to room temperature.\\n4. In a large bowl, mix the nuruk and yeast with water until dissolved.\\n5. Add the cooked rice to the bowl and mix well.\\n6. Cover the bowl with a clean cloth and let it ferment in a warm place for 3-4 days.\\n7. After fermentation, strain the mixture through a cheesecloth to remove any solids.\\n8. Transfer the liquid to a clean container and let it sit for another 1-2 days to allow the flavors to develop.\\n9. Serve the homemade soju chilled and enjoy responsibly.\",\n",
      "            \"additional_kwargs\": {}\n",
      "          }\n",
      "        }\n",
      "      }\n",
      "    ]\n",
      "  ],\n",
      "  \"llm_output\": null,\n",
      "  \"run\": null\n",
      "}\n",
      "\u001b[32;1m\u001b[1;3m[llm/start]\u001b[0m \u001b[1m[1:llm:ChatOpenAI] Entering LLM run with input:\n",
      "\u001b[0m{\n",
      "  \"prompts\": [\n",
      "    \"Human: What is the recipe for bread\"\n",
      "  ]\n",
      "}\n",
      "\u001b[36;1m\u001b[1;3m[llm/end]\u001b[0m \u001b[1m[1:llm:ChatOpenAI] [1ms] Exiting LLM run with output:\n",
      "\u001b[0m{\n",
      "  \"generations\": [\n",
      "    [\n",
      "      {\n",
      "        \"text\": \"Ingredients:\\n- 3 1/2 cups all-purpose flour\\n- 1 packet active dry yeast\\n- 1 1/2 cups warm water\\n- 2 tablespoons sugar\\n- 1 teaspoon salt\\n- 2 tablespoons olive oil\\n\\nInstructions:\\n1. In a large mixing bowl, combine the warm water, sugar, and yeast. Let it sit for about 5-10 minutes until the yeast is foamy.\\n2. Add the flour, salt, and olive oil to the yeast mixture. Mix until a dough forms.\\n3. Knead the dough on a floured surface for about 5-10 minutes until it is smooth and elastic.\\n4. Place the dough in a greased bowl, cover with a clean towel, and let it rise in a warm place for about 1-2 hours or until doubled in size.\\n5. Punch down the dough and shape it into a loaf. Place the loaf in a greased loaf pan.\\n6. Cover the loaf with a clean towel and let it rise for another 30-45 minutes.\\n7. Preheat the oven to 375°F (190°C).\\n8. Bake the bread for 25-30 minutes or until golden brown and sounds hollow when tapped on the bottom.\\n9. Let the bread cool before slicing and serving. Enjoy!\",\n",
      "        \"generation_info\": {\n",
      "          \"finish_reason\": \"stop\"\n",
      "        },\n",
      "        \"type\": \"ChatGeneration\",\n",
      "        \"message\": {\n",
      "          \"lc\": 1,\n",
      "          \"type\": \"constructor\",\n",
      "          \"id\": [\n",
      "            \"langchain\",\n",
      "            \"schema\",\n",
      "            \"messages\",\n",
      "            \"AIMessage\"\n",
      "          ],\n",
      "          \"kwargs\": {\n",
      "            \"content\": \"Ingredients:\\n- 3 1/2 cups all-purpose flour\\n- 1 packet active dry yeast\\n- 1 1/2 cups warm water\\n- 2 tablespoons sugar\\n- 1 teaspoon salt\\n- 2 tablespoons olive oil\\n\\nInstructions:\\n1. In a large mixing bowl, combine the warm water, sugar, and yeast. Let it sit for about 5-10 minutes until the yeast is foamy.\\n2. Add the flour, salt, and olive oil to the yeast mixture. Mix until a dough forms.\\n3. Knead the dough on a floured surface for about 5-10 minutes until it is smooth and elastic.\\n4. Place the dough in a greased bowl, cover with a clean towel, and let it rise in a warm place for about 1-2 hours or until doubled in size.\\n5. Punch down the dough and shape it into a loaf. Place the loaf in a greased loaf pan.\\n6. Cover the loaf with a clean towel and let it rise for another 30-45 minutes.\\n7. Preheat the oven to 375°F (190°C).\\n8. Bake the bread for 25-30 minutes or until golden brown and sounds hollow when tapped on the bottom.\\n9. Let the bread cool before slicing and serving. Enjoy!\",\n",
      "            \"additional_kwargs\": {}\n",
      "          }\n",
      "        }\n",
      "      }\n",
      "    ]\n",
      "  ],\n",
      "  \"llm_output\": null,\n",
      "  \"run\": null\n",
      "}\n",
      "Ingredients:\n",
      "- 1 cup of rice\n",
      "- 1 cup of water\n",
      "- 1 tablespoon of nuruk (fermentation starter)\n",
      "- 1 tablespoon of yeast\n",
      "\n",
      "Instructions:\n",
      "1. Rinse the rice thoroughly and soak it in water for at least 1 hour.\n",
      "2. Drain the rice and steam it until fully cooked.\n",
      "3. Let the rice cool down to room temperature.\n",
      "4. In a large bowl, mix the nuruk and yeast with water until dissolved.\n",
      "5. Add the cooked rice to the bowl and mix well.\n",
      "6. Cover the bowl with a clean cloth and let it ferment in a warm place for 3-4 days.\n",
      "7. After fermentation, strain the mixture through a cheesecloth to remove any solids.\n",
      "8. Transfer the liquid to a clean container and let it sit for another 1-2 days to allow the flavors to develop.\n",
      "9. Serve the homemade soju chilled and enjoy responsibly. Ingredients:\n",
      "- 3 1/2 cups all-purpose flour\n",
      "- 1 packet active dry yeast\n",
      "- 1 1/2 cups warm water\n",
      "- 2 tablespoons sugar\n",
      "- 1 teaspoon salt\n",
      "- 2 tablespoons olive oil\n",
      "\n",
      "Instructions:\n",
      "1. In a large mixing bowl, combine the warm water, sugar, and yeast. Let it sit for about 5-10 minutes until the yeast is foamy.\n",
      "2. Add the flour, salt, and olive oil to the yeast mixture. Mix until a dough forms.\n",
      "3. Knead the dough on a floured surface for about 5-10 minutes until it is smooth and elastic.\n",
      "4. Place the dough in a greased bowl, cover with a clean towel, and let it rise in a warm place for about 1-2 hours or until doubled in size.\n",
      "5. Punch down the dough and shape it into a loaf. Place the loaf in a greased loaf pan.\n",
      "6. Cover the loaf with a clean towel and let it rise for another 30-45 minutes.\n",
      "7. Preheat the oven to 375°F (190°C).\n",
      "8. Bake the bread for 25-30 minutes or until golden brown and sounds hollow when tapped on the bottom.\n",
      "9. Let the bread cool before slicing and serving. Enjoy! \n",
      "\n",
      "0.0\n"
     ]
    }
   ],
   "source": [
    "# from langchain.callbacks import get_openai_callback\n",
    "\n",
    "# with get_openai_callback() as usage: \n",
    "#     a = chat.predict(\"What is the recipe for soju\")\n",
    "#     b = chat.predict(\"What is the recipe for bread\")\n",
    "#     print(a, b, \"\\n\")\n",
    "#     # print(usage)\n",
    "#     # print(usage.total_cost)\n",
    "#     # print(usage.total_tfrom langchain.llms.loading import load_llm\n",
    "# okens) # completion_tokens 도 가능"
   ]
  },
  {
   "cell_type": "code",
   "execution_count": 3,
   "id": "dc77c888-fa66-4e1e-8fd3-33f343cf36ac",
   "metadata": {},
   "outputs": [
    {
     "data": {
      "text/plain": [
       "{'history': [HumanMessage(content='Hi!'), AIMessage(content='How are you?')]}"
      ]
     },
     "execution_count": 3,
     "metadata": {},
     "output_type": "execute_result"
    }
   ],
   "source": [
    "#Memory\n",
    "\n",
    "# from langchain.memory import ConversationBufferMemory\n",
    "\n",
    "# memory = ConversationBufferMemory() # String 형식으로 출력\n",
    "# memory = ConversationBufferMemory(return_messages=True) # chat model 형식으로 출력\n",
    "\n",
    "# memory.save_context({\"input\":\"Hi!\"}, {\"output\":\"How are you?\"})\n",
    "\n",
    "# memory.load_memory_variables({}) # 비효율적"
   ]
  },
  {
   "cell_type": "code",
   "execution_count": 13,
   "id": "4d1fbd86-3746-4725-902a-238ad4b74ac2",
   "metadata": {},
   "outputs": [],
   "source": [
    "# 최근 n개 메세지만 저장 -> the most recent conversation\n",
    "# from langchain.memory import ConversationBufferWindowMemory\n",
    "\n",
    "# memory = ConversationBufferWindowMemory(\n",
    "#     return_messages=True,\n",
    "#     k= 4, # 몇 개를 저장할지 설정\n",
    "# )\n",
    "\n",
    "# def add_message(input, output):\n",
    "#     memory.save_context({\"input\":input}, {\"output\":output})\n",
    "\n",
    "# add_message(1,1)"
   ]
  },
  {
   "cell_type": "code",
   "execution_count": 14,
   "id": "9639c85b-06c8-4fcb-86be-c13806d27685",
   "metadata": {},
   "outputs": [],
   "source": [
    "# add_message(2,2)\n",
    "# add_message(3,3)\n",
    "# add_message(4,4)"
   ]
  },
  {
   "cell_type": "code",
   "execution_count": 15,
   "id": "3a630f5f-8bff-4fe7-9727-0e663cbaa581",
   "metadata": {},
   "outputs": [
    {
     "data": {
      "text/plain": [
       "{'history': [HumanMessage(content='1'),\n",
       "  AIMessage(content='1'),\n",
       "  HumanMessage(content='2'),\n",
       "  AIMessage(content='2'),\n",
       "  HumanMessage(content='3'),\n",
       "  AIMessage(content='3'),\n",
       "  HumanMessage(content='4'),\n",
       "  AIMessage(content='4')]}"
      ]
     },
     "execution_count": 15,
     "metadata": {},
     "output_type": "execute_result"
    }
   ],
   "source": [
    "# memory.load_memory_variables({})"
   ]
  },
  {
   "cell_type": "code",
   "execution_count": 16,
   "id": "7b760ff5-9c52-4d33-80c1-acef09b902ba",
   "metadata": {},
   "outputs": [],
   "source": [
    "# add_message(5,5)"
   ]
  },
  {
   "cell_type": "code",
   "execution_count": 17,
   "id": "23c7f2a6-0f80-4bb3-9795-7190b9632b03",
   "metadata": {},
   "outputs": [
    {
     "data": {
      "text/plain": [
       "{'history': [HumanMessage(content='2'),\n",
       "  AIMessage(content='2'),\n",
       "  HumanMessage(content='3'),\n",
       "  AIMessage(content='3'),\n",
       "  HumanMessage(content='4'),\n",
       "  AIMessage(content='4'),\n",
       "  HumanMessage(content='5'),\n",
       "  AIMessage(content='5')]}"
      ]
     },
     "execution_count": 17,
     "metadata": {},
     "output_type": "execute_result"
    }
   ],
   "source": [
    "# memory.load_memory_variables({}) # (1,1) 이 사라진 것을 확인 가능 -> 이전 대화를 기억할 수 없다."
   ]
  },
  {
   "cell_type": "code",
   "execution_count": 22,
   "id": "3e320eb3-bb92-4c02-8201-da1bf1dd463b",
   "metadata": {},
   "outputs": [],
   "source": [
    "# summary -> useful for a very long conversation\n",
    "# 글자수가 많기 때문에 초반에는 더 많은 메모리와 토큰을 차지함\n",
    "# 그러나 대화가 진행될수록 저장된 메세지가 매우 많아지면서 모두 연결됨\n",
    "# 요약이 토큰 양을 줄일 수 있음 -> 더 효율적\n",
    "\n",
    "# from langchain.memory import ConversationSummaryMemory\n",
    "# from langchain.chat_models import ChatOpenAI\n",
    "\n",
    "# llm = ChatOpenAI(temperature=0.1)\n",
    "\n",
    "# memory = ConversationSummaryMemory(llm=llm)\n",
    "\n",
    "# def add_message(input,output):\n",
    "#     memory.save_context({\"input\":input}, {\"output\":output})\n",
    "\n",
    "# def get_history():\n",
    "#     return memory.load_memory_variables({})\n",
    "\n",
    "# add_message(\"Hi, I'm Camille. I live in South Korea.\", \"Wow that is so cool!\")"
   ]
  },
  {
   "cell_type": "code",
   "execution_count": 23,
   "id": "5a49d0e2-257b-488a-8928-c6c1c1cfc7ae",
   "metadata": {},
   "outputs": [],
   "source": [
    "# add_message(\"South Korea is so pretty.\", \"I wish I could go!\")"
   ]
  },
  {
   "cell_type": "code",
   "execution_count": 24,
   "id": "2a33a261-9f00-4891-8f06-a13666e8d674",
   "metadata": {},
   "outputs": [
    {
     "data": {
      "text/plain": [
       "{'history': 'Camille introduces herself as living in South Korea, and the AI responds enthusiastically, calling it cool and expressing a wish to visit.'}"
      ]
     },
     "execution_count": 24,
     "metadata": {},
     "output_type": "execute_result"
    }
   ],
   "source": [
    "# get_history()"
   ]
  },
  {
   "cell_type": "code",
   "execution_count": 4,
   "id": "a9d0d06c-25ac-47f6-9a56-c7d6fcac647e",
   "metadata": {},
   "outputs": [
    {
     "name": "stdout",
     "output_type": "stream",
     "text": [
      "Collecting tiktoken\n",
      "  Downloading tiktoken-0.9.0-cp311-cp311-win_amd64.whl.metadata (6.8 kB)\n",
      "Requirement already satisfied: regex>=2022.1.18 in c:\\users\\persona_ai\\git\\fullstack-gpt\\venv\\lib\\site-packages (from tiktoken) (2024.11.6)\n",
      "Requirement already satisfied: requests>=2.26.0 in c:\\users\\persona_ai\\git\\fullstack-gpt\\venv\\lib\\site-packages (from tiktoken) (2.32.3)\n",
      "Requirement already satisfied: charset-normalizer<4,>=2 in c:\\users\\persona_ai\\git\\fullstack-gpt\\venv\\lib\\site-packages (from requests>=2.26.0->tiktoken) (3.2.0)\n",
      "Requirement already satisfied: idna<4,>=2.5 in c:\\users\\persona_ai\\git\\fullstack-gpt\\venv\\lib\\site-packages (from requests>=2.26.0->tiktoken) (3.4)\n",
      "Requirement already satisfied: urllib3<3,>=1.21.1 in c:\\users\\persona_ai\\git\\fullstack-gpt\\venv\\lib\\site-packages (from requests>=2.26.0->tiktoken) (1.26.20)\n",
      "Requirement already satisfied: certifi>=2017.4.17 in c:\\users\\persona_ai\\git\\fullstack-gpt\\venv\\lib\\site-packages (from requests>=2.26.0->tiktoken) (2023.7.22)\n",
      "Downloading tiktoken-0.9.0-cp311-cp311-win_amd64.whl (893 kB)\n",
      "   ---------------------------------------- 0.0/893.9 kB ? eta -:--:--\n",
      "   --------------------------------------- 893.9/893.9 kB 10.2 MB/s eta 0:00:00\n",
      "Installing collected packages: tiktoken\n",
      "Successfully installed tiktoken-0.9.0\n"
     ]
    }
   ],
   "source": [
    "!pip install tiktoken"
   ]
  },
  {
   "cell_type": "code",
   "execution_count": 5,
   "id": "4964a1a1-aa02-4c7c-af97-1612c653162f",
   "metadata": {},
   "outputs": [],
   "source": [
    "# 가장 최근 메세지, 가장 오래된 메세지 모두 요약\n",
    "# window buffer memory + buffer window memory\n",
    "\n",
    "# from langchain.memory import ConversationSummaryBufferMemory\n",
    "# from langchain.chat_models import ChatOpenAI\n",
    "\n",
    "# llm = ChatOpenAI(temperature=0.1)\n",
    "\n",
    "# memory = ConversationSummaryBufferMemory(\n",
    "#     llm=llm,\n",
    "#     max_token_limit=150, # 최대 토큰 수\n",
    "#     return_messages=True, # chat model\n",
    "# )\n",
    "\n",
    "# def add_message(input,output):\n",
    "#     memory.save_context({\"input\":input}, {\"output\":output})\n",
    "\n",
    "# def get_history():\n",
    "#     return memory.load_memory_variables({})\n",
    "\n",
    "# add_message(\"Hi, I'm Camille. I live in South Korea.\", \"Wow that is so cool!\")"
   ]
  },
  {
   "cell_type": "code",
   "execution_count": 6,
   "id": "93194d8f-c903-4db1-8830-f648ab74f9c3",
   "metadata": {},
   "outputs": [
    {
     "data": {
      "text/plain": [
       "{'history': [HumanMessage(content=\"Hi, I'm Camille. I live in South Korea.\"),\n",
       "  AIMessage(content='Wow that is so cool!')]}"
      ]
     },
     "execution_count": 6,
     "metadata": {},
     "output_type": "execute_result"
    }
   ],
   "source": [
    "# get_history()"
   ]
  },
  {
   "cell_type": "code",
   "execution_count": 7,
   "id": "b084735f-c406-4de5-a905-8e35e2fd4e5f",
   "metadata": {},
   "outputs": [],
   "source": [
    "# add_message(\"South Korea is so pretty.\", \"I wish I could go!\")"
   ]
  },
  {
   "cell_type": "code",
   "execution_count": 8,
   "id": "18c09746-866b-4ce3-a9bc-6961cf649402",
   "metadata": {},
   "outputs": [
    {
     "data": {
      "text/plain": [
       "{'history': [HumanMessage(content=\"Hi, I'm Camille. I live in South Korea.\"),\n",
       "  AIMessage(content='Wow that is so cool!'),\n",
       "  HumanMessage(content='South Korea is so pretty.'),\n",
       "  AIMessage(content='I wish I could go!')]}"
      ]
     },
     "execution_count": 8,
     "metadata": {},
     "output_type": "execute_result"
    }
   ],
   "source": [
    "# get_history()"
   ]
  },
  {
   "cell_type": "code",
   "execution_count": 9,
   "id": "409fbd8e-12f8-4d9f-b242-1b4245e2c124",
   "metadata": {},
   "outputs": [],
   "source": [
    "# add_message(\"How far is Korea from Argentina?\", \"I don't know! Super far!\")"
   ]
  },
  {
   "cell_type": "code",
   "execution_count": 10,
   "id": "03644869-113f-4ebc-b473-55de7db3b88c",
   "metadata": {},
   "outputs": [
    {
     "data": {
      "text/plain": [
       "{'history': [HumanMessage(content=\"Hi, I'm Camille. I live in South Korea.\"),\n",
       "  AIMessage(content='Wow that is so cool!'),\n",
       "  HumanMessage(content='South Korea is so pretty.'),\n",
       "  AIMessage(content='I wish I could go!'),\n",
       "  HumanMessage(content='How far is Korea from Argentina?'),\n",
       "  AIMessage(content=\"I don't know! Super far!\")]}"
      ]
     },
     "execution_count": 10,
     "metadata": {},
     "output_type": "execute_result"
    }
   ],
   "source": [
    "# get_history()"
   ]
  },
  {
   "cell_type": "code",
   "execution_count": 11,
   "id": "3f6b64b4-1a38-44b0-a101-e9a711d0dc4e",
   "metadata": {},
   "outputs": [],
   "source": [
    "# add_message(\"How far is Brazil from Argentina?\", \"I don't know! Super far!\")"
   ]
  },
  {
   "cell_type": "code",
   "execution_count": 12,
   "id": "a70b027e-18ee-49dd-9b2c-224bf4762393",
   "metadata": {},
   "outputs": [
    {
     "data": {
      "text/plain": [
       "{'history': [HumanMessage(content=\"Hi, I'm Camille. I live in South Korea.\"),\n",
       "  AIMessage(content='Wow that is so cool!'),\n",
       "  HumanMessage(content='South Korea is so pretty.'),\n",
       "  AIMessage(content='I wish I could go!'),\n",
       "  HumanMessage(content='How far is Korea from Argentina?'),\n",
       "  AIMessage(content=\"I don't know! Super far!\"),\n",
       "  HumanMessage(content='How far is Brazil from Argentina?'),\n",
       "  AIMessage(content=\"I don't know! Super far!\")]}"
      ]
     },
     "execution_count": 12,
     "metadata": {},
     "output_type": "execute_result"
    }
   ],
   "source": [
    "# get_history()"
   ]
  },
  {
   "cell_type": "code",
   "execution_count": 13,
   "id": "2032896b-2649-4cc8-9c92-77334feeb070",
   "metadata": {},
   "outputs": [],
   "source": [
    "# add_message(\"How far is Colombia from Argentina?\", \"I don't know! Super far!\")"
   ]
  },
  {
   "cell_type": "code",
   "execution_count": 14,
   "id": "5dcb57f1-95bf-488e-ac27-c0e79fef57e7",
   "metadata": {},
   "outputs": [
    {
     "data": {
      "text/plain": [
       "{'history': [HumanMessage(content=\"Hi, I'm Camille. I live in South Korea.\"),\n",
       "  AIMessage(content='Wow that is so cool!'),\n",
       "  HumanMessage(content='South Korea is so pretty.'),\n",
       "  AIMessage(content='I wish I could go!'),\n",
       "  HumanMessage(content='How far is Korea from Argentina?'),\n",
       "  AIMessage(content=\"I don't know! Super far!\"),\n",
       "  HumanMessage(content='How far is Brazil from Argentina?'),\n",
       "  AIMessage(content=\"I don't know! Super far!\"),\n",
       "  HumanMessage(content='How far is Colombia from Argentina?'),\n",
       "  AIMessage(content=\"I don't know! Super far!\")]}"
      ]
     },
     "execution_count": 14,
     "metadata": {},
     "output_type": "execute_result"
    }
   ],
   "source": [
    "# get_history()"
   ]
  },
  {
   "cell_type": "code",
   "execution_count": 15,
   "id": "8d1c508f-521b-4b26-a946-94cce1a25ef1",
   "metadata": {},
   "outputs": [],
   "source": [
    "# add_message(\"How far is China from Peru?\", \"I don't know! Super far!\")"
   ]
  },
  {
   "cell_type": "code",
   "execution_count": 16,
   "id": "258c9003-6e1b-42f1-bb5c-520ee083a73d",
   "metadata": {},
   "outputs": [
    {
     "data": {
      "text/plain": [
       "{'history': [SystemMessage(content='The human introduces herself as Camille and mentions she lives in South Korea.'),\n",
       "  AIMessage(content='Wow that is so cool!'),\n",
       "  HumanMessage(content='South Korea is so pretty.'),\n",
       "  AIMessage(content='I wish I could go!'),\n",
       "  HumanMessage(content='How far is Korea from Argentina?'),\n",
       "  AIMessage(content=\"I don't know! Super far!\"),\n",
       "  HumanMessage(content='How far is Brazil from Argentina?'),\n",
       "  AIMessage(content=\"I don't know! Super far!\"),\n",
       "  HumanMessage(content='How far is Colombia from Argentina?'),\n",
       "  AIMessage(content=\"I don't know! Super far!\"),\n",
       "  HumanMessage(content='How far is China from Peru?'),\n",
       "  AIMessage(content=\"I don't know! Super far!\")]}"
      ]
     },
     "execution_count": 16,
     "metadata": {},
     "output_type": "execute_result"
    }
   ],
   "source": [
    "# get_history()"
   ]
  },
  {
   "cell_type": "code",
   "execution_count": 20,
   "id": "20fb8852-584d-4adf-a6c7-24b1a7166b2d",
   "metadata": {},
   "outputs": [],
   "source": [
    "# ConversationKGMemory (Knowledge Graph)\n",
    "# 가장 중요한 것들만 뽑아내는 요약본 -> 대화에서 entity 추출\n",
    "\n",
    "# from langchain.memory import ConversationKGMemory\n",
    "# from langchain.chat_models import ChatOpenAI\n",
    "\n",
    "# llm = ChatOpenAI(temperature=0.1)\n",
    "\n",
    "# memory = ConversationKGMemory(\n",
    "#     llm=llm,\n",
    "#     return_messages=True, # chat model\n",
    "# )\n",
    "\n",
    "# def add_message(input,output):\n",
    "#     memory.save_context({\"input\":input}, {\"output\":output})\n",
    "\n",
    "# add_message(\"Hi, I'm Camille. I live in South Korea.\", \"Wow that is so cool!\")"
   ]
  },
  {
   "cell_type": "code",
   "execution_count": 21,
   "id": "71990c5a-3e0a-485e-b3ab-f11f2b564211",
   "metadata": {},
   "outputs": [
    {
     "data": {
      "text/plain": [
       "{'history': [SystemMessage(content='On Camille: Camille lives in South Korea.')]}"
      ]
     },
     "execution_count": 21,
     "metadata": {},
     "output_type": "execute_result"
    }
   ],
   "source": [
    "# memory.load_memory_variables({\"input\":\"who is Camille\"})"
   ]
  },
  {
   "cell_type": "code",
   "execution_count": 22,
   "id": "39439124-a281-4a88-bae0-08dcb90ec524",
   "metadata": {},
   "outputs": [],
   "source": [
    "# add_message(\"Camille likes Kimchi\", \"Sounds delicious\")"
   ]
  },
  {
   "cell_type": "code",
   "execution_count": 23,
   "id": "f907f8b3-ca49-4bc4-8f2d-08b4adfa897b",
   "metadata": {},
   "outputs": [
    {
     "data": {
      "text/plain": [
       "{'history': [SystemMessage(content='On Camille: Camille lives in South Korea. Camille likes Kimchi.')]}"
      ]
     },
     "execution_count": 23,
     "metadata": {},
     "output_type": "execute_result"
    }
   ],
   "source": [
    "# memory.load_memory_variables({\"input\":\"what does Camille like\"})"
   ]
  },
  {
   "cell_type": "code",
   "execution_count": 31,
   "id": "a23ee3a0-b195-4a11-937c-4895c4b9c7f9",
   "metadata": {},
   "outputs": [
    {
     "data": {
      "text/plain": [
       "'Nice to meet you, Camille! How can I assist you today?'"
      ]
     },
     "execution_count": 31,
     "metadata": {},
     "output_type": "execute_result"
    }
   ],
   "source": [
    "# Memory on LLMChain\n",
    "# interaction의 토큰 수가 limit(80)보다 많으면 가장 오래된 interaction을 요약해줌\n",
    "\n",
    "# from langchain.memory import ConversationSummaryBufferMemory\n",
    "# from langchain.chat_models import ChatOpenAI\n",
    "# from langchain.chains import LLMChain\n",
    "# from langchain.prompts import PromptTemplate\n",
    "\n",
    "# llm = ChatOpenAI(temperature=0.1)\n",
    "\n",
    "# memory = ConversationSummaryBufferMemory(\n",
    "#     llm=llm,\n",
    "#     max_token_limit=80,\n",
    "#     # verbose=True, # log\n",
    "# )\n",
    "\n",
    "# chain = LLMChain(\n",
    "#     llm=llm,\n",
    "#     memory=memory,\n",
    "#     prompt=PromptTemplate.from_template(\"{question}\")\n",
    "# )\n",
    "\n",
    "# chain.predict(question=\"My name is Camille\")"
   ]
  },
  {
   "cell_type": "code",
   "execution_count": 29,
   "id": "37465a01-d319-477a-891e-d69973c804c5",
   "metadata": {},
   "outputs": [
    {
     "data": {
      "text/plain": [
       "\", the capital city of South Korea. It is a bustling metropolis with a vibrant culture, delicious food, and a mix of modern skyscrapers and historic palaces. I love exploring the city's neighborhoods, trying new restaurants, and taking in the beautiful views of the Han River. Seoul is a dynamic and exciting place to call home.\""
      ]
     },
     "execution_count": 29,
     "metadata": {},
     "output_type": "execute_result"
    }
   ],
   "source": [
    "# chain.predict(question=\"I live in Seoul\")"
   ]
  },
  {
   "cell_type": "code",
   "execution_count": 33,
   "id": "5ac7fe55-e0e3-473c-8b35-62a6b68bf2f9",
   "metadata": {},
   "outputs": [
    {
     "data": {
      "text/plain": [
       "\"I'm sorry, I do not have access to personal information such as your name.\""
      ]
     },
     "execution_count": 33,
     "metadata": {},
     "output_type": "execute_result"
    }
   ],
   "source": [
    "# chain.predict(question=\"What's my name\") # it doesn't work -> history isn't added"
   ]
  },
  {
   "cell_type": "code",
   "execution_count": 34,
   "id": "2bbe02d0-e033-4472-9826-b70208fd29fc",
   "metadata": {},
   "outputs": [
    {
     "data": {
      "text/plain": [
       "{'history': \"Human: My name is Camille\\nAI: Nice to meet you, Camille! How can I assist you today?\\nHuman: What's my name\\nAI: I'm sorry, I do not have access to personal information such as your name.\"}"
      ]
     },
     "execution_count": 34,
     "metadata": {},
     "output_type": "execute_result"
    }
   ],
   "source": [
    "# memory.load_memory_variables({}) # Update는 진행하지만 프롬프트에 그 히스토리를 반영하지 않는다 -> template 추가"
   ]
  },
  {
   "cell_type": "code",
   "execution_count": 42,
   "id": "46671d1d-9053-4238-b2fa-7b2c36f27a08",
   "metadata": {},
   "outputs": [
    {
     "data": {
      "text/plain": [
       "'Hello Camille! How can I assist you today?'"
      ]
     },
     "execution_count": 42,
     "metadata": {},
     "output_type": "execute_result"
    }
   ],
   "source": [
    "# 먼저 메모리 객체 생성 (memory_key 설정 포함)\n",
    "# memory = ConversationSummaryBufferMemory(\n",
    "#     llm=llm,\n",
    "#     max_token_limit=120,\n",
    "#     memory_key=\"chat_history\" # 템플릿에서 동일한 이름 사용해야 함\n",
    "# )\n",
    "\n",
    "# template = \"\"\"\n",
    "#     You are a helpful AI talking to a human. \n",
    "\n",
    "#     {chat_history}\n",
    "#     Human:{question}\n",
    "#     You:\n",
    "# \"\"\"\n",
    "\n",
    "# # 템플릿 적용\n",
    "# chain = LLMChain(\n",
    "#     llm=llm,\n",
    "#     memory=memory,\n",
    "#     prompt=PromptTemplate.from_template(template)\n",
    "# )\n",
    "\n",
    "# chain.predict(question=\"My name is Camille\")"
   ]
  },
  {
   "cell_type": "code",
   "execution_count": 43,
   "id": "88569369-da69-445f-8046-2f0243ba2c53",
   "metadata": {},
   "outputs": [
    {
     "data": {
      "text/plain": [
       "\"That's great to know! How can I assist you with living in Seoul?\""
      ]
     },
     "execution_count": 43,
     "metadata": {},
     "output_type": "execute_result"
    }
   ],
   "source": [
    "# chain.predict(question=\"I live in Seoul\") # prompt가 history를 저장한다."
   ]
  },
  {
   "cell_type": "code",
   "execution_count": 44,
   "id": "35fd7753-ef78-4926-82d8-5ead92a4b07c",
   "metadata": {},
   "outputs": [
    {
     "data": {
      "text/plain": [
       "'Your name is Camille.'"
      ]
     },
     "execution_count": 44,
     "metadata": {},
     "output_type": "execute_result"
    }
   ],
   "source": [
    "# chain.predict(question=\"What's my name\") # it remembers my name!"
   ]
  },
  {
   "cell_type": "code",
   "execution_count": 45,
   "id": "bb1d640a-5311-4bcc-8135-4ac552ffb4fe",
   "metadata": {},
   "outputs": [
    {
     "data": {
      "text/plain": [
       "{'chat_history': \"Human: My name is Camille\\nAI: Hello Camille! How can I assist you today?\\nHuman: I live in Seoul\\nAI: That's great to know! How can I assist you with living in Seoul?\\nHuman: What's my name\\nAI: Your name is Camille.\"}"
      ]
     },
     "execution_count": 45,
     "metadata": {},
     "output_type": "execute_result"
    }
   ],
   "source": [
    "# memory.load_memory_variables({}) # 텍스트 형식으로 출력됨. "
   ]
  },
  {
   "cell_type": "code",
   "execution_count": 48,
   "id": "63108b4b-4c73-42ee-8dd7-6d43ab437809",
   "metadata": {},
   "outputs": [
    {
     "name": "stdout",
     "output_type": "stream",
     "text": [
      "\n",
      "\n",
      "\u001b[1m> Entering new LLMChain chain...\u001b[0m\n",
      "Prompt after formatting:\n",
      "\u001b[32;1m\u001b[1;3mSystem: You are a helpful AI talking to human\n",
      "Human: My name is Camille\u001b[0m\n",
      "\n",
      "\u001b[1m> Finished chain.\u001b[0m\n"
     ]
    },
    {
     "data": {
      "text/plain": [
       "'Hello Camille! How can I assist you today?'"
      ]
     },
     "execution_count": 48,
     "metadata": {},
     "output_type": "execute_result"
    }
   ],
   "source": [
    "# chat based memory: 대화 기반의 형식으로 받고 싶다면 \n",
    "# from langchain.memory import ConversationSummaryBufferMemory\n",
    "# from langchain.chat_models import ChatOpenAI\n",
    "# from langchain.chains import LLMChain\n",
    "# from langchain.prompts import PromptTemplate, ChatPromptTemplate, MessagesPlaceholder\n",
    "\n",
    "# llm = ChatOpenAI(temperature=0.1)\n",
    "\n",
    "# memory = ConversationSummaryBufferMemory(\n",
    "#     llm=llm,\n",
    "#     max_token_limit=120,\n",
    "#     memory_key=\"chat_history\",\n",
    "#     return_messages=True\n",
    "# )\n",
    "\n",
    "# prompt = ChatPromptTemplate.from_messages([\n",
    "#     (\"system\", \"You are a helpful AI talking to human\"),\n",
    "#     MessagesPlaceholder(variable_name=\"chat_history\"), # 우리는 메세지가 얼마나 많고 누구로부터 왔는지 모름. 위의 memory class로 대체될 것.\n",
    "#     (\"human\", \"{question}\")\n",
    "# ])\n",
    "\n",
    "# chain = LLMChain(\n",
    "#     llm=llm,\n",
    "#     memory=memory,\n",
    "#     prompt=prompt,\n",
    "#     verbose=True\n",
    "# )\n",
    "\n",
    "# chain.predict(question=\"My name is Camille\")"
   ]
  },
  {
   "cell_type": "code",
   "execution_count": 49,
   "id": "16b13f0c-d2c2-4997-b952-3dbf82c5ce79",
   "metadata": {},
   "outputs": [
    {
     "name": "stdout",
     "output_type": "stream",
     "text": [
      "\n",
      "\n",
      "\u001b[1m> Entering new LLMChain chain...\u001b[0m\n",
      "Prompt after formatting:\n",
      "\u001b[32;1m\u001b[1;3mSystem: You are a helpful AI talking to human\n",
      "Human: My name is Camille\n",
      "AI: Hello Camille! How can I assist you today?\n",
      "Human: I live in Seoul\u001b[0m\n",
      "\n",
      "\u001b[1m> Finished chain.\u001b[0m\n"
     ]
    },
    {
     "data": {
      "text/plain": [
       "'Seoul is a vibrant city with a rich history and culture. Is there anything specific you would like to know or discuss about Seoul?'"
      ]
     },
     "execution_count": 49,
     "metadata": {},
     "output_type": "execute_result"
    }
   ],
   "source": [
    "# chain.predict(question=\"I live in Seoul\")"
   ]
  },
  {
   "cell_type": "code",
   "execution_count": 50,
   "id": "503aae30-7b4b-4ebd-b276-7f51e1b0aa78",
   "metadata": {},
   "outputs": [
    {
     "name": "stdout",
     "output_type": "stream",
     "text": [
      "\n",
      "\n",
      "\u001b[1m> Entering new LLMChain chain...\u001b[0m\n",
      "Prompt after formatting:\n",
      "\u001b[32;1m\u001b[1;3mSystem: You are a helpful AI talking to human\n",
      "Human: My name is Camille\n",
      "AI: Hello Camille! How can I assist you today?\n",
      "Human: I live in Seoul\n",
      "AI: Seoul is a vibrant city with a rich history and culture. Is there anything specific you would like to know or discuss about Seoul?\n",
      "Human: What's my name\u001b[0m\n",
      "\n",
      "\u001b[1m> Finished chain.\u001b[0m\n"
     ]
    },
    {
     "data": {
      "text/plain": [
       "'Your name is Camille. How can I assist you further, Camille?'"
      ]
     },
     "execution_count": 50,
     "metadata": {},
     "output_type": "execute_result"
    }
   ],
   "source": [
    "# chain.predict(question=\"What's my name\")"
   ]
  },
  {
   "cell_type": "code",
   "execution_count": 63,
   "id": "8e4ea2c7-82ae-4d22-8ae6-2cb4ff1ae3bd",
   "metadata": {},
   "outputs": [],
   "source": [
    "# # 커스터마이징 메모리: LCEL based Memory\n",
    "\n",
    "# from langchain.memory import ConversationSummaryBufferMemory\n",
    "# from langchain.chat_models import ChatOpenAI\n",
    "# from langchain.schema.runnable import RunnablePassthrough # Prompt가 format 되기 전에 함수 실행시키는 걸 허락해준다\n",
    "# from langchain.prompts import PromptTemplate, ChatPromptTemplate, MessagesPlaceholder\n",
    "\n",
    "# llm = ChatOpenAI(temperature=0.1)\n",
    "\n",
    "# # memory와 prompt는 변하지 않는다.\n",
    "# memory = ConversationSummaryBufferMemory(\n",
    "#     llm=llm,\n",
    "#     max_token_limit=120,\n",
    "#     memory_key=\"history\",\n",
    "#     return_messages=True\n",
    "# )\n",
    "\n",
    "# prompt = ChatPromptTemplate.from_messages([\n",
    "#     (\"system\", \"You are a helpful AI talking to human\"),\n",
    "#     MessagesPlaceholder(variable_name=\"history\"), # 우리는 메세지가 얼마나 많고 누구로부터 왔는지 모름. 위의 memory class로 대체될 것.\n",
    "#     (\"human\", \"{question}\")\n",
    "# ]) \n",
    "\n",
    "# def load_memory(_): # _: ignore\n",
    "#     # print(input)\n",
    "#     return memory.load_memory_variables({})[\"history\"]\n",
    "\n",
    "# chain = RunnablePassthrough.assign(history=load_memory) | prompt | llm\n",
    "\n",
    "# # 체인을 호출하는 함수 생성 -> 수동으로 메모리 관리하는 것보다 편리한 방법\n",
    "# def invoke_chain(question): \n",
    "#     result = chain.invoke({\"question\": question})\n",
    "#     memory.save_context(\n",
    "#         {\"input\":question}, \n",
    "#         {\"output\":result.content}\n",
    "#     )\n",
    "#     print(result)"
   ]
  },
  {
   "cell_type": "code",
   "execution_count": 64,
   "id": "82fb7199-b05f-4b51-b0a7-ce75930aab62",
   "metadata": {},
   "outputs": [
    {
     "name": "stdout",
     "output_type": "stream",
     "text": [
      "content='Hello Camille! How can I assist you today?'\n"
     ]
    }
   ],
   "source": [
    "# invoke_chain(\"My name is Camille\") #  대화 내용이 메모리에 저장되고, LLM은 이전 대화 내용을 기억하면서 응답함"
   ]
  },
  {
   "cell_type": "code",
   "execution_count": 65,
   "id": "d81f752e-077d-4334-b3b8-6d9549a8ff2d",
   "metadata": {},
   "outputs": [
    {
     "name": "stdout",
     "output_type": "stream",
     "text": [
      "content='Your name is Camille.'\n"
     ]
    }
   ],
   "source": [
    "# invoke_chain(\"what is my name\")"
   ]
  },
  {
   "cell_type": "code",
   "execution_count": 14,
   "id": "b8eaced5-d9fc-49aa-a0dd-af0c30c3cc39",
   "metadata": {},
   "outputs": [
    {
     "data": {
      "text/plain": [
       "[Document(metadata={'source': './files/chapter_one.txt'}, page_content=\"1984\\n\\n \\nPart 1, Chapter 1\\n\\n\\nPart One\\n\\n\\n1\\nIt was a bright cold day in April, and the clocks were striking thirteen. Winston Smith, his chin nuzzled into his breast in an effort to escape the vile wind, slipped quickly through the glass doors of Victory Mansions, though not quickly enough to prevent a swirl of gritty dust from entering along with him.\\n\\nThe hallway smelt of boiled cabbage and old rag mats. At one end of it a coloured poster, too large for indoor display, had been tacked to the wall. It depicted simply an enormous face, more than a metre wide: the face of a man of about forty-five, with a heavy black moustache and ruggedly handsome features. Winston made for the stairs. It was no use trying the lift. Even at the best of times it was seldom working, and at present the electric current was cut off during daylight hours. It was part of the economy drive in preparation for Hate Week. The flat was seven flights up, and Winston, who was thirty-nine and had a varicose ulcer above his right ankle, went slowly, resting several times on the way. On each landing, opposite the lift-shaft, the poster with the enormous face gazed from the wall. It was one of those pictures which are so contrived that the eyes follow you about when you move. BIG BROTHER IS WATCHING YOU, the caption beneath it ran.\\n\\nInside the flat a fruity voice was reading out a list of figures which had something to do with the production of pig-iron. The voice came from an oblong metal plaque like a dulled mirror which formed part of the surface of the right-hand wall. Winston turned a switch and the voice sank somewhat, though the words were still distinguishable. The instrument (the telescreen, it was called) could be dimmed, but there was no way of shutting it off completely. He moved over to the window: a smallish, frail figure, the meagreness of his body merely emphasized by the blue overalls which were the uniform of the party. His hair was very fair, his face naturally sanguine, his skin roughened by coarse soap and blunt razor blades and the cold of the winter that had just ended.\\n\\nOutside, even through the shut window-pane, the world looked cold. Down in the street little eddies of wind were whirling dust and torn paper into spirals, and though the sun was shining and the sky a harsh blue, there seemed to be no colour in anything, except the posters that were plastered everywhere. The blackmoustachio'd face gazed down from every commanding corner. There was one on the house-front immediately opposite. BIG BROTHER IS WATCHING YOU, the caption said, while the dark eyes looked deep into Winston's own. Down at streetlevel another poster, torn at one corner, flapped fitfully in the wind, alternately covering and uncovering the single word INGSOC. In the far distance a helicopter skimmed down between the roofs, hovered for an instant like a bluebottle, and darted away again with a curving flight. It was the police patrol, snooping into people's windows. The patrols did not matter, however. Only the Thought Police mattered.\\n\\nBehind Winston's back the voice from the telescreen was still babbling away about pig-iron and the overfulfilment of the Ninth Three-Year Plan. The telescreen received and transmitted simultaneously. Any sound that Winston made, above the level of a very low whisper, would be picked up by it, moreover, so long as he remained within the field of vision which the metal plaque commanded, he could be seen as well as heard. There was of course no way of knowing whether you were being watched at any given moment. How often, or on what system, the Thought Police plugged in on any individual wire was guesswork. It was even conceivable that they watched everybody all the time. But at any rate they could plug in your wire whenever they wanted to. You had to live -- did live, from habit that became instinct -- in the assumption that every sound you made was overheard, and, except in darkness, every movement scrutinized.\\n\\nWinston kept his back turned to the telescreen. It was safer, though, as he well knew, even a back can be revealing. A kilometre away the Ministry of Truth, his place of work, towered vast and white above the grimy landscape. This, he thought with a sort of vague distaste -- this was London, chief city of Airstrip One, itself the third most populous of the provinces of Oceania. He tried to squeeze out some childhood memory that should tell him whether London had always been quite like this. Were there always these vistas of rotting nineteenth-century houses, their sides shored up with baulks of timber, their windows patched with cardboard and their roofs with corrugated iron, their crazy garden walls sagging in all directions? And the bombed sites where the plaster dust swirled in the air and the willow-herb straggled over the heaps of rubble; and the places where the bombs had cleared a larger patch and there had sprung up sordid colonies of wooden dwellings like chicken-houses? But it was no use, he could not remember: nothing remained of his childhood except a series of bright-lit tableaux occurring against no background and mostly unintelligible.\\n\\nThe Ministry of Truth -- Minitrue, in Newspeak -- was startlingly different from any other object in sight. It was an enormous pyramidal structure of glittering white concrete, soaring up, terrace after terrace, 300 metres into the air. From where Winston stood it was just possible to read, picked out on its white face in elegant lettering, the three slogans of the Party:\\n\\nWAR IS PEACE\\n\\nFREEDOM IS SLAVERY\\n\\nIGNORANCE IS STRENGTH\\n\\nThe Ministry of Truth contained, it was said, three thousand rooms above ground level, and corresponding ramifications below. Scattered about London there were just three other buildings of similar appearance and size. So completely did they dwarf the surrounding architecture that from the roof of Victory Mansions you could see all four of them simultaneously. They were the homes of the four Ministries between which the entire apparatus of government was divided. The Ministry of Truth, which concerned itself with news, entertainment, education, and the fine arts. The Ministry of Peace, which concerned itself with war. The Ministry of Love, which maintained law and order. And the Ministry of Plenty, which was responsible for economic affairs. Their names, in Newspeak: Minitrue, Minipax, Miniluv, and Miniplenty.\\n\\nThe Ministry of Love was the really frightening one. There were no windows in it at all. Winston had never been inside the Ministry of Love, nor within half a kilometre of it. It was a place impossible to enter except on official business, and then only by penetrating through a maze of barbed-wire entanglements, steel doors, and hidden machine-gun nests. Even the streets leading up to its outer barriers were roamed by gorilla-faced guards in black uniforms, armed with jointed truncheons.\\n\\nWinston turned round abruptly. He had set his features into the expression of quiet optimism which it was advisable to wear when facing the telescreen. He crossed the room into the tiny kitchen. By leaving the Ministry at this time of day he had sacrificed his lunch in the canteen, and he was aware that there was no food in the kitchen except a hunk of dark-coloured bread which had got to be saved for tomorrow's breakfast. He took down from the shelf a bottle of colourless liquid with a plain white label marked VICTORY GIN. It gave off a sickly, oily smell, as of Chinese ricespirit. Winston poured out nearly a teacupful, nerved himself for a shock, and gulped it down like a dose of medicine.\\n\\nInstantly his face turned scarlet and the water ran out of his eyes. The stuff was like nitric acid, and moreover, in swallowing it one had the sensation of being hit on the back of the head with a rubber club. The next moment, however, the burning in his belly died down and the world began to look more cheerful. He took a cigarette from a crumpled packet marked VICTORY CIGARETTES and incautiously held it upright, whereupon the tobacco fell out on to the floor. With the next he was more successful. He went back to the living-room and sat down at a small table that stood to the left of the telescreen. From the table drawer he took out a penholder, a bottle of ink, and a thick, quarto-sized blank book with a red back and a marbled cover.\\n\\nFor some reason the telescreen in the living-room was in an unusual position. Instead of being placed, as was normal, in the end wall, where it could command the whole room, it was in the longer wall, opposite the window. To one side of it there was a shallow alcove in which Winston was now sitting, and which, when the flats were built, had probably been intended to hold bookshelves. By sitting in the alcove, and keeping well back, Winston was able to remain outside the range of the telescreen, so far as sight went. He could be heard, of course, but so long as he stayed in his present position he could not be seen. It was partly the unusual geography of the room that had suggested to him the thing that he was now about to do.\\n\\nBut it had also been suggested by the book that he had just taken out of the drawer. It was a peculiarly beautiful book. Its smooth creamy paper, a little yellowed by age, was of a kind that had not been manufactured for at least forty years past. He could guess, however, that the book was much older than that. He had seen it lying in the window of a frowsy little junk-shop in a slummy quarter of the town (just what quarter he did not now remember) and had been stricken immediately by an overwhelming desire to possess it. Party members were supposed not to go into ordinary shops ('dealing on the free market', it was called), but the rule was not strictly kept, because there were various things, such as shoelaces and razor blades, which it was impossible to get hold of in any other way. He had given a quick glance up and down the street and then had slipped inside and bought the book for two dollars fifty. At the time he was not conscious of wanting it for any particular purpose. He had carried it guiltily home in his briefcase. Even with nothing written in it, it was a compromising possession.\\n\\nThe thing that he was about to do was to open a diary. This was not illegal (nothing was illegal, since there were no longer any laws), but if detected it was reasonably certain that it would be punished by death, or at least by twenty-five years in a forced-labour camp. Winston fitted a nib into the penholder and sucked it to get the grease off. The pen was an archaic instrument, seldom used even for signatures, and he had procured one, furtively and with some difficulty, simply because of a feeling that the beautiful creamy paper deserved to be written on with a real nib instead of being scratched with an ink-pencil. Actually he was not used to writing by hand. Apart from very short notes, it was usual to dictate everything into the speakwrite which was of course impossible for his present purpose. He dipped the pen into the ink and then faltered for just a second. A tremor had gone through his bowels. To mark the paper was the decisive act. In small clumsy letters he wrote:\\n\\nApril 4th, 1984.\\n\\nHe sat back. A sense of complete helplessness had descended upon him. To begin with, he did not know with any certainty that this was 1984. It must be round about that date, since he was fairly sure that his age was thirty-nine, and he believed that he had been born in 1944 or 1945; but it was never possible nowadays to pin down any date within a year or two.\\n\\nFor whom, it suddenly occurred to him to wonder, was he writing this diary? For the future, for the unborn. His mind hovered for a moment round the doubtful date on the page, and then fetched up with a bump against the Newspeak word doublethink. For the first time the magnitude of what he had undertaken came home to him. How could you communicate with the future? It was of its nature impossible. Either the future would resemble the present, in which case it would not listen to him: or it would be different from it, and his predicament would be meaningless.\\n\\nFor some time he sat gazing stupidly at the paper. The telescreen had changed over to strident military music. It was curious that he seemed not merely to have lost the power of expressing himself, but even to have forgotten what it was that he had originally intended to say. For weeks past he had been making ready for this moment, and it had never crossed his mind that anything would be needed except courage. The actual writing would be easy. All he had to do was to transfer to paper the interminable restless monologue that had been running inside his head, literally for years. At this moment, however, even the monologue had dried up. Moreover his varicose ulcer had begun itching unbearably. He dared not scratch it, because if he did so it always became inflamed. The seconds were ticking by. He was conscious of nothing except the blankness of the page in front of him, the itching of the skin above his ankle, the blaring of the music, and a slight booziness caused by the gin.\\n\\nSuddenly he began writing in sheer panic, only imperfectly aware of what he was setting down. His small but childish handwriting straggled up and down the page, shedding first its capital letters and finally even its full stops:\\n\\nApril 4th, 1984. Last night to the flicks. All war films. One very good one of a ship full of refugees being bombed somewhere in the Mediterranean. Audience much amused by shots of a great huge fat man trying to swim away with a helicopter after him, first you saw him wallowing along in the water like a porpoise, then you saw him through the helicopters gunsights, then he was full of holes and the sea round him turned pink and he sank as suddenly as though the holes had let in the water, audience shouting with laughter when he sank. then you saw a lifeboat full of children with a helicopter hovering over it. there was a middle-aged woman might have been a jewess sitting up in the bow with a little boy about three years old in her arms. little boy screaming with fright and hiding his head between her breasts as if he was trying to burrow right into her and the woman putting her arms round him and comforting him although she was blue with fright herself, all the time covering him up as much as possible as if she thought her arms could keep the bullets off him. then the helicopter planted a 20 kilo bomb in among them terrific flash and the boat went all to matchwood. then there was a wonderful shot of a child's arm going up up up right up into the air a helicopter with a camera in its nose must have followed it up and there was a lot of applause from the party seats but a woman down in the prole part of the house suddenly started kicking up a fuss and shouting they didnt oughter of showed it not in front of kids they didnt it aint right not in front of kids it aint until the police turned her turned her out i dont suppose anything happened to her nobody cares what the proles say typical prole reaction they never --\\n\\nWinston stopped writing, partly because he was suffering from cramp. He did not know what had made him pour out this stream of rubbish. But the curious thing was that while he was doing so a totally different memory had clarified itself in his mind, to the point where he almost felt equal to writing it down. It was, he now realized, because of this other incident that he had suddenly decided to come home and begin the diary today.\\n\\nIt had happened that morning at the Ministry, if anything so nebulous could be said to happen.\\n\\nIt was nearly eleven hundred, and in the Records Department, where Winston worked, they were dragging the chairs out of the cubicles and grouping them in the centre of the hall opposite the big telescreen, in preparation for the Two Minutes Hate. Winston was just taking his place in one of the middle rows when two people whom he knew by sight, but had never spoken to, came unexpectedly into the room. One of them was a girl whom he often passed in the corridors. He did not know her name, but he knew that she worked in the Fiction Department. Presumably -- since he had sometimes seen her with oily hands and carrying a spanner she had some mechanical job on one of the novel-writing machines. She was a bold-looking girl, of about twenty-seven, with thick hair, a freckled face, and swift, athletic movements. A narrow scarlet sash, emblem of the Junior Anti-Sex League, was wound several times round the waist of her overalls, just tightly enough to bring out the shapeliness of her hips. Winston had disliked her from the very first moment of seeing her. He knew the reason. It was because of the atmosphere of hockey-fields and cold baths and community hikes and general clean-mindedness which she managed to carry about with her. He disliked nearly all women, and especially the young and pretty ones. It was always the women, and above all the young ones, who were the most bigoted adherents of the Party, the swallowers of slogans, the amateur spies and nosers-out of unorthodoxy. But this particular girl gave him the impression of being more dangerous than most. Once when they passed in the corridor she gave him a quick sidelong glance which seemed to pierce right into him and for a moment had filled him with black terror. The idea had even crossed his mind that she might be an agent of the Thought Police. That, it was true, was very unlikely. Still, he continued to feel a peculiar uneasiness, which had fear mixed up in it as well as hostility, whenever she was anywhere near him.\\n\\nThe other person was a man named O'Brien, a member of the Inner Party and holder of some post so important and remote that Winston had only a dim idea of its nature. A momentary hush passed over the group of people round the chairs as they saw the black overalls of an Inner Party member approaching. O'Brien was a large, burly man with a thick neck and a coarse, humorous, brutal face. In spite of his formidable appearance he had a certain charm of manner. He had a trick of resettling his spectacles on his nose which was curiously disarming -- in some indefinable way, curiously civilized. It was a gesture which, if anyone had still thought in such terms, might have recalled an eighteenth-century nobleman offering his snuffbox. Winston had seen O'Brien perhaps a dozen times in almost as many years. He felt deeply drawn to him, and not solely because he was intrigued by the contrast between O'Brien's urbane manner and his prize-fighter's physique. Much more it was because of a secretly held belief -- or perhaps not even a belief, merely a hope -- that O'Brien's political orthodoxy was not perfect. Something in his face suggested it irresistibly. And again, perhaps it was not even unorthodoxy that was written in his face, but simply intelligence. But at any rate he had the appearance of being a person that you could talk to if somehow you could cheat the telescreen and get him alone. Winston had never made the smallest effort to verify this guess: indeed, there was no way of doing so. At this moment O'Brien glanced at his wrist-watch, saw that it was nearly eleven hundred, and evidently decided to stay in the Records Department until the Two Minutes Hate was over. He took a chair in the same row as Winston, a couple of places away. A small, sandy-haired woman who worked in the next cubicle to Winston was between them. The girl with dark hair was sitting immediately behind.\\n\\nThe next moment a hideous, grinding speech, as of some monstrous machine running without oil, burst from the big telescreen at the end of the room. It was a noise that set one's teeth on edge and bristled the hair at the back of one's neck. The Hate had started.\\n\\nAs usual, the face of Emmanuel Goldstein, the Enemy of the People, had flashed on to the screen. There were hisses here and there among the audience. The little sandy-haired woman gave a squeak of mingled fear and disgust. Goldstein was the renegade and backslider who once, long ago (how long ago, nobody quite remembered), had been one of the leading figures of the Party, almost on a level with Big Brother himself, and then had engaged in counter-revolutionary activities, had been condemned to death, and had mysteriously escaped and disappeared. The programmes of the Two Minutes Hate varied from day to day, but there was none in which Goldstein was not the principal figure. He was the primal traitor, the earliest defiler of the Party's purity. All subsequent crimes against the Party, all treacheries, acts of sabotage, heresies, deviations, sprang directly out of his teaching. Somewhere or other he was still alive and hatching his conspiracies: perhaps somewhere beyond the sea, under the protection of his foreign paymasters, perhaps even -- so it was occasionally rumoured -- in some hiding-place in Oceania itself.\\n\\nWinston's diaphragm was constricted. He could never see the face of Goldstein without a painful mixture of emotions. It was a lean Jewish face, with a great fuzzy aureole of white hair and a small goatee beard -- a clever face, and yet somehow inherently despicable, with a kind of senile silliness in the long thin nose, near the end of which a pair of spectacles was perched. It resembled the face of a sheep, and the voice, too, had a sheep-like quality. Goldstein was delivering his usual venomous attack upon the doctrines of the Party -- an attack so exaggerated and perverse that a child should have been able to see through it, and yet just plausible enough to fill one with an alarmed feeling that other people, less level-headed than oneself, might be taken in by it. He was abusing Big Brother, he was denouncing the dictatorship of the Party, he was demanding the immediate conclusion of peace with Eurasia, he was advocating freedom of speech, freedom of the Press, freedom of assembly, freedom of thought, he was crying hysterically that the revolution had been betrayed -- and all this in rapid polysyllabic speech which was a sort of parody of the habitual style of the orators of the Party, and even contained Newspeak words: more Newspeak words, indeed, than any Party member would normally use in real life. And all the while, lest one should be in any doubt as to the reality which Goldstein's specious claptrap covered, behind his head on the telescreen there marched the endless columns of the Eurasian army -- row after row of solid-looking men with expressionless Asiatic faces, who swam up to the surface of the screen and vanished, to be replaced by others exactly similar. The dull rhythmic tramp of the soldiers' boots formed the background to Goldstein's bleating voice.\\n\\nBefore the Hate had proceeded for thirty seconds, uncontrollable exclamations of rage were breaking out from half the people in the room. The self-satisfied sheep-like face on the screen, and the terrifying power of the Eurasian army behind it, were too much to be borne: besides, the sight or even the thought of Goldstein produced fear and anger automatically. He was an object of hatred more constant than either Eurasia or Eastasia, since when Oceania was at war with one of these Powers it was generally at peace with the other. But what was strange was that although Goldstein was hated and despised by everybody, although every day and a thousand times a day, on platforms, on the telescreen, in newspapers, in books, his theories were refuted, smashed, ridiculed, held up to the general gaze for the pitiful rubbish that they were in spite of all this, his influence never seemed to grow less. Always there were fresh dupes waiting to be seduced by him. A day never passed when spies and saboteurs acting under his directions were not unmasked by the Thought Police. He was the commander of a vast shadowy army, an underground network of conspirators dedicated to the overthrow of the State. The Brotherhood, its name was supposed to be. There were also whispered stories of a terrible book, a compendium of all the heresies, of which Goldstein was the author and which circulated clandestinely here and there. It was a book without a title. People referred to it, if at all, simply as the book. But one knew of such things only through vague rumours. Neither the Brotherhood nor the book was a subject that any ordinary Party member would mention if there was a way of avoiding it.\\n\\nIn its second minute the Hate rose to a frenzy. People were leaping up and down in their places and shouting at the tops of their voices in an effort to drown the maddening bleating voice that came from the screen. The little sandy-haired woman had turned bright pink, and her mouth was opening and shutting like that of a landed fish. Even O'Brien's heavy face was flushed. He was sitting very straight in his chair, his powerful chest swelling and quivering as though he were standing up to the assault of a wave. The dark-haired girl behind Winston had begun crying out 'Swine! Swine! Swine!' and suddenly she picked up a heavy Newspeak dictionary and flung it at the screen. It struck Goldstein's nose and bounced off; the voice continued inexorably. In a lucid moment Winston found that he was shouting with the others and kicking his heel violently against the rung of his chair. The horrible thing about the Two Minutes Hate was not that one was obliged to act a part, but, on the contrary, that it was impossible to avoid joining in. Within thirty seconds any pretence was always unnecessary. A hideous ecstasy of fear and vindictiveness, a desire to kill, to torture, to smash faces in with a sledge-hammer, seemed to flow through the whole group of people like an electric current, turning one even against one's will into a grimacing, screaming lunatic. And yet the rage that one felt was an abstract, undirected emotion which could be switched from one object to another like the flame of a blowlamp. Thus, at one moment Winston's hatred was not turned against Goldstein at all, but, on the contrary, against Big Brother, the Party, and the Thought Police; and at such moments his heart went out to the lonely, derided heretic on the screen, sole guardian of truth and sanity in a world of lies. And yet the very next instant he was at one with the people about him, and all that was said of Goldstein seemed to him to be true. At those moments his secret loathing of Big Brother changed into adoration, and Big Brother seemed to tower up, an invincible, fearless protector, standing like a rock against the hordes of Asia, and Goldstein, in spite of his isolation, his helplessness, and the doubt that hung about his very existence, seemed like some sinister enchanter, capable by the mere power of his voice of wrecking the structure of civilization.\\n\\nIt was even possible, at moments, to switch one's hatred this way or that by a voluntary act. Suddenly, by the sort of violent effort with which one wrenches one's head away from the pillow in a nightmare, Winston succeeded in transferring his hatred from the face on the screen to the dark-haired girl behind him. Vivid, beautiful hallucinations flashed through his mind. He would flog her to death with a rubber truncheon. He would tie her naked to a stake and shoot her full of arrows like Saint Sebastian. He would ravish her and cut her throat at the moment of climax. Better than before, moreover, he realized why it was that he hated her. He hated her because she was young and pretty and sexless, because he wanted to go to bed with her and would never do so, because round her sweet supple waist, which seemed to ask you to encircle it with your arm, there was only the odious scarlet sash, aggressive symbol of chastity.\\n\\nThe Hate rose to its climax. The voice of Goldstein had become an actual sheep's bleat, and for an instant the face changed into that of a sheep. Then the sheep-face melted into the figure of a Eurasian soldier who seemed to be advancing, huge and terrible, his sub-machine gun roaring, and seeming to spring out of the surface of the screen, so that some of the people in the front row actually flinched backwards in their seats. But in the same moment, drawing a deep sigh of relief from everybody, the hostile figure melted into the face of Big Brother, black-haired, black-moustachio'd, full of power and mysterious calm, and so vast that it almost filled up the screen. Nobody heard what Big Brother was saying. It was merely a few words of encouragement, the sort of words that are uttered in the din of battle, not distinguishable individually but restoring confidence by the fact of being spoken. Then the face of Big Brother faded away again, and instead the three slogans of the Party stood out in bold capitals:\\n\\nWAR IS PEACE\\n\\nFREEDOM IS SLAVERY\\n\\nIGNORANCE IS STRENGTH\\n\\nBut the face of Big Brother seemed to persist for several seconds on the screen, as though the impact that it had made on everyone's eyeballs was too vivid to wear off immediately. The little sandyhaired woman had flung herself forward over the back of the chair in front of her. With a tremulous murmur that sounded like 'My Saviour!' she extended her arms towards the screen. Then she buried her face in her hands. It was apparent that she was uttering a prayer.\\n\\nAt this moment the entire group of people broke into a deep, slow, rhythmical chant of 'B-B! ...B-B!' -- over and over again, very slowly, with a long pause between the first 'B' and the second-a heavy, murmurous sound, somehow curiously savage, in the background of which one seemed to hear the stamp of naked feet and the throbbing of tom-toms. For perhaps as much as thirty seconds they kept it up. It was a refrain that was often heard in moments of overwhelming emotion. Partly it was a sort of hymn to the wisdom and majesty of Big Brother, but still more it was an act of self-hypnosis, a deliberate drowning of consciousness by means of rhythmic noise. Winston's entrails seemed to grow cold. In the Two Minutes Hate he could not help sharing in the general delirium, but this sub-human chanting of 'B-B! ...B-B!' always filled him with horror. Of course he chanted with the rest: it was impossible to do otherwise. To dissemble your feelings, to control your face, to do what everyone else was doing, was an instinctive reaction. But there was a space of a couple of seconds during which the expression of his eyes might conceivably have betrayed him. And it was exactly at this moment that the significant thing happened -- if, indeed, it did happen.\\n\\nMomentarily he caught O'Brien's eye. O'Brien had stood up. He had taken off his spectacles and was in the act of resettling them on his nose with his characteristic gesture. But there was a fraction of a second when their eyes met, and for as long as it took to happen Winston knew-yes, he knew!-that O'Brien was thinking the same thing as himself. An unmistakable message had passed. It was as though their two minds had opened and the thoughts were flowing from one into the other through their eyes. 'I am with you,' O'Brien seemed to be saying to him. 'I know precisely what you are feeling. I know all about your contempt, your hatred, your disgust. But don't worry, I am on your side!' And then the flash of intelligence was gone, and O'Brien's face was as inscrutable as everybody else's.\\n\\nThat was all, and he was already uncertain whether it had happened. Such incidents never had any sequel. All that they did was to keep alive in him the belief, or hope, that others besides himself were the enemies of the Party. Perhaps the rumours of vast underground conspiracies were true after all -- perhaps the Brotherhood really existed! It was impossible, in spite of the endless arrests and confessions and executions, to be sure that the Brotherhood was not simply a myth. Some days he believed in it, some days not. There was no evidence, only fleeting glimpses that might mean anything or nothing: snatches of overheard conversation, faint scribbles on lavatory walls -- once, even, when two strangers met, a small movement of the hand which had looked as though it might be a signal of recognition. It was all guesswork: very likely he had imagined everything. He had gone back to his cubicle without looking at O'Brien again. The idea of following up their momentary contact hardly crossed his mind. It would have been inconceivably dangerous even if he had known how to set about doing it. For a second, two seconds, they had exchanged an equivocal glance, and that was the end of the story. But even that was a memorable event, in the locked loneliness in which one had to live.\\n\\nWinston roused himself and sat up straighter. He let out a belch. The gin was rising from his stomach.\\n\\nHis eyes re-focused on the page. He discovered that while he sat helplessly musing he had also been writing, as though by automatic action. And it was no longer the same cramped, awkward handwriting as before. His pen had slid voluptuously over the smooth paper, printing in large neat capitals -\\n\\nDOWN WITH BIG BROTHER\\n\\nDOWN WITH BIG BROTHER\\n\\nDOWN WITH BIG BROTHER\\n\\nDOWN WITH BIG BROTHER\\n\\nDOWN WITH BIG BROTHER\\n\\nover and over again, filling half a page.\\n\\nHe could not help feeling a twinge of panic. It was absurd, since the writing of those particular words was not more dangerous than the initial act of opening the diary, but for a moment he was tempted to tear out the spoiled pages and abandon the enterprise altogether.\\n\\nHe did not do so, however, because he knew that it was useless. Whether he wrote DOWN WITH BIG BROTHER, or whether he refrained from writing it, made no difference. Whether he went on with the diary, or whether he did not go on with it, made no difference. The Thought Police would get him just the same. He had committed -- would still have committed, even if he had never set pen to paper -- the essential crime that contained all others in itself. Thoughtcrime, they called it. Thoughtcrime was not a thing that could be concealed for ever. You might dodge successfully for a while, even for years, but sooner or later they were bound to get you.\\n\\nIt was always at night -- the arrests invariably happened at night. The sudden jerk out of sleep, the rough hand shaking your shoulder, the lights glaring in your eyes, the ring of hard faces round the bed. In the vast majority of cases there was no trial, no report of the arrest. People simply disappeared, always during the night. Your name was removed from the registers, every record of everything you had ever done was wiped out, your one-time existence was denied and then forgotten. You were abolished, annihilated: vaporized was the usual word.\\n\\nFor a moment he was seized by a kind of hysteria. He began writing in a hurried untidy scrawl:\\n\\ntheyll shoot me i don't care theyll shoot me in the back of the neck i dont care down with big brother they always shoot you in the back of the neck i dont care down with big brother --\\n\\nHe sat back in his chair, slightly ashamed of himself, and laid down the pen. The next moment he started violently. There was a knocking at the door.\\n\\nAlready! He sat as still as a mouse, in the futile hope that whoever it was might go away after a single attempt. But no, the knocking was repeated. The worst thing of all would be to delay. His heart was thumping like a drum, but his face, from long habit, was probably expressionless. He got up and moved heavily towards the door.\\n\\n\\nForward >\")]"
      ]
     },
     "execution_count": 14,
     "metadata": {},
     "output_type": "execute_result"
    }
   ],
   "source": [
    "# from langchain.chat_models import ChatOpenAI\n",
    "# from langchain.document_loaders import TextLoader\n",
    "\n",
    "# llm = ChatOpenAI(temperature=0.1)\n",
    "\n",
    "# loader = TextLoader(\"./files/chapter_one.txt\")\n",
    "\n",
    "# loader.load()"
   ]
  },
  {
   "cell_type": "code",
   "execution_count": 20,
   "id": "52d87956-3719-4128-b2b9-e80ac5b774d9",
   "metadata": {},
   "outputs": [
    {
     "name": "stderr",
     "output_type": "stream",
     "text": [
      "CropBox missing from /Page, defaulting to MediaBox\n",
      "CropBox missing from /Page, defaulting to MediaBox\n",
      "CropBox missing from /Page, defaulting to MediaBox\n",
      "CropBox missing from /Page, defaulting to MediaBox\n",
      "CropBox missing from /Page, defaulting to MediaBox\n",
      "CropBox missing from /Page, defaulting to MediaBox\n",
      "CropBox missing from /Page, defaulting to MediaBox\n",
      "CropBox missing from /Page, defaulting to MediaBox\n",
      "CropBox missing from /Page, defaulting to MediaBox\n"
     ]
    },
    {
     "data": {
      "text/plain": [
       "[Document(metadata={'source': './files/chapter_one.pdf'}, page_content=\"1984\\n\\nPart\\t1,\\tChapter\\t1\\n\\nPart\\tOne\\n\\n1\\t It\\twas\\ta\\tbright\\tcold\\tday\\tin\\tApril,\\tand\\tthe\\tclocks\\twere\\tstriking\\tthirteen.\\tWinston\\tSmith,\\this\\tchin\\tnuzzled\\tinto\\t his\\tbreast\\tin\\tan\\teffort\\tto\\tescape\\tthe\\tvile\\twind,\\tslipped\\tquickly\\tthrough\\tthe\\tglass\\tdoors\\tof\\tVictory\\tMansions,\\t though\\tnot\\tquickly\\tenough\\tto\\tprevent\\ta\\tswirl\\tof\\tgritty\\tdust\\tfrom\\tentering\\talong\\twith\\thim.\\n\\nThe\\thallway\\tsmelt\\tof\\tboiled\\tcabbage\\tand\\told\\trag\\tmats.\\tAt\\tone\\tend\\tof\\tit\\ta\\tcoloured\\tposter,\\ttoo\\tlarge\\tfor\\t indoor\\tdisplay,\\thad\\tbeen\\ttacked\\tto\\tthe\\twall.\\tIt\\tdepicted\\tsimply\\tan\\tenormous\\tface,\\tmore\\tthan\\ta\\tmetre\\twide:\\t the\\tface\\tof\\ta\\tman\\tof\\tabout\\tforty-five,\\twith\\ta\\theavy\\tblack\\tmoustache\\tand\\truggedly\\thandsome\\tfeatures.\\t Winston\\tmade\\tfor\\tthe\\tstairs.\\tIt\\twas\\tno\\tuse\\ttrying\\tthe\\tlift.\\tEven\\tat\\tthe\\tbest\\tof\\ttimes\\tit\\twas\\tseldom\\tworking,\\t and\\tat\\tpresent\\tthe\\telectric\\tcurrent\\twas\\tcut\\toff\\tduring\\tdaylight\\thours.\\tIt\\twas\\tpart\\tof\\tthe\\teconomy\\tdrive\\tin\\t preparation\\tfor\\tHate\\tWeek.\\tThe\\tflat\\twas\\tseven\\tflights\\tup,\\tand\\tWinston,\\twho\\twas\\tthirty-nine\\tand\\thad\\ta\\t varicose\\tulcer\\tabove\\this\\tright\\tankle,\\twent\\tslowly,\\tresting\\tseveral\\ttimes\\ton\\tthe\\tway.\\tOn\\teach\\tlanding,\\t opposite\\tthe\\tlift-shaft,\\tthe\\tposter\\twith\\tthe\\tenormous\\tface\\tgazed\\tfrom\\tthe\\twall.\\tIt\\twas\\tone\\tof\\tthose\\tpictures\\t which\\tare\\tso\\tcontrived\\tthat\\tthe\\teyes\\tfollow\\tyou\\tabout\\twhen\\tyou\\tmove.\\tBIG\\tBROTHER\\tIS\\tWATCHING\\tYOU,\\t the\\tcaption\\tbeneath\\tit\\tran.\\n\\nInside\\tthe\\tflat\\ta\\tfruity\\tvoice\\twas\\treading\\tout\\ta\\tlist\\tof\\tfigures\\twhich\\thad\\tsomething\\tto\\tdo\\twith\\tthe\\tproduction\\t of\\tpig-iron.\\tThe\\tvoice\\tcame\\tfrom\\tan\\toblong\\tmetal\\tplaque\\tlike\\ta\\tdulled\\tmirror\\twhich\\tformed\\tpart\\tof\\tthe\\t surface\\tof\\tthe\\tright-hand\\twall.\\tWinston\\tturned\\ta\\tswitch\\tand\\tthe\\tvoice\\tsank\\tsomewhat,\\tthough\\tthe\\twords\\t were\\tstill\\tdistinguishable.\\tThe\\tinstrument\\t(the\\ttelescreen,\\tit\\twas\\tcalled)\\tcould\\tbe\\tdimmed,\\tbut\\tthere\\twas\\tno\\t way\\tof\\tshutting\\tit\\toff\\tcompletely.\\tHe\\tmoved\\tover\\tto\\tthe\\twindow:\\ta\\tsmallish,\\tfrail\\tfigure,\\tthe\\tmeagreness\\tof\\t his\\tbody\\tmerely\\temphasized\\tby\\tthe\\tblue\\toveralls\\twhich\\twere\\tthe\\tuniform\\tof\\tthe\\tparty.\\tHis\\thair\\twas\\tvery\\t fair,\\this\\tface\\tnaturally\\tsanguine,\\this\\tskin\\troughened\\tby\\tcoarse\\tsoap\\tand\\tblunt\\trazor\\tblades\\tand\\tthe\\tcold\\tof\\t the\\twinter\\tthat\\thad\\tjust\\tended.\\n\\nOutside,\\teven\\tthrough\\tthe\\tshut\\twindow-pane,\\tthe\\tworld\\tlooked\\tcold.\\tDown\\tin\\tthe\\tstreet\\tlittle\\teddies\\tof\\t wind\\twere\\twhirling\\tdust\\tand\\ttorn\\tpaper\\tinto\\tspirals,\\tand\\tthough\\tthe\\tsun\\twas\\tshining\\tand\\tthe\\tsky\\ta\\tharsh\\t blue,\\tthere\\tseemed\\tto\\tbe\\tno\\tcolour\\tin\\tanything,\\texcept\\tthe\\tposters\\tthat\\twere\\tplastered\\teverywhere.\\tThe\\t blackmoustachio'd\\tface\\tgazed\\tdown\\tfrom\\tevery\\tcommanding\\tcorner.\\tThere\\twas\\tone\\ton\\tthe\\thouse-front\\t immediately\\topposite.\\tBIG\\tBROTHER\\tIS\\tWATCHING\\tYOU,\\tthe\\tcaption\\tsaid,\\twhile\\tthe\\tdark\\teyes\\tlooked\\tdeep\\t into\\tWinston's\\town.\\tDown\\tat\\tstreetlevel\\tanother\\tposter,\\ttorn\\tat\\tone\\tcorner,\\tflapped\\tfitfully\\tin\\tthe\\twind,\\t alternately\\tcovering\\tand\\tuncovering\\tthe\\tsingle\\tword\\tINGSOC.\\tIn\\tthe\\tfar\\tdistance\\ta\\thelicopter\\tskimmed\\t down\\tbetween\\tthe\\troofs,\\thovered\\tfor\\tan\\tinstant\\tlike\\ta\\tbluebottle,\\tand\\tdarted\\taway\\tagain\\twith\\ta\\tcurving\\t flight.\\tIt\\twas\\tthe\\tpolice\\tpatrol,\\tsnooping\\tinto\\tpeople's\\twindows.\\tThe\\tpatrols\\tdid\\tnot\\tmatter,\\thowever.\\tOnly\\t the\\tThought\\tPolice\\tmattered.\\n\\nBehind\\tWinston's\\tback\\tthe\\tvoice\\tfrom\\tthe\\ttelescreen\\twas\\tstill\\tbabbling\\taway\\tabout\\tpig-iron\\tand\\tthe\\t overfulfilment\\tof\\tthe\\tNinth\\tThree-Year\\tPlan.\\tThe\\ttelescreen\\treceived\\tand\\ttransmitted\\tsimultaneously.\\tAny\\t sound\\tthat\\tWinston\\tmade,\\tabove\\tthe\\tlevel\\tof\\ta\\tvery\\tlow\\twhisper,\\twould\\tbe\\tpicked\\tup\\tby\\tit,\\tmoreover,\\tso\\t long\\tas\\the\\tremained\\twithin\\tthe\\tfield\\tof\\tvision\\twhich\\tthe\\tmetal\\tplaque\\tcommanded,\\the\\tcould\\tbe\\tseen\\tas\\twell\\t as\\theard.\\tThere\\twas\\tof\\tcourse\\tno\\tway\\tof\\tknowing\\twhether\\tyou\\twere\\tbeing\\twatched\\tat\\tany\\tgiven\\tmoment.\\t How\\toften,\\tor\\ton\\twhat\\tsystem,\\tthe\\tThought\\tPolice\\tplugged\\tin\\ton\\tany\\tindividual\\twire\\twas\\tguesswork.\\tIt\\twas\\n\\neven\\tconceivable\\tthat\\tthey\\twatched\\teverybody\\tall\\tthe\\ttime.\\tBut\\tat\\tany\\trate\\tthey\\tcould\\tplug\\tin\\tyour\\twire\\t whenever\\tthey\\twanted\\tto.\\tYou\\thad\\tto\\tlive\\t--\\tdid\\tlive,\\tfrom\\thabit\\tthat\\tbecame\\tinstinct\\t--\\tin\\tthe\\tassumption\\t that\\tevery\\tsound\\tyou\\tmade\\twas\\toverheard,\\tand,\\texcept\\tin\\tdarkness,\\tevery\\tmovement\\tscrutinized.\\n\\nWinston\\tkept\\this\\tback\\tturned\\tto\\tthe\\ttelescreen.\\tIt\\twas\\tsafer,\\tthough,\\tas\\the\\twell\\tknew,\\teven\\ta\\tback\\tcan\\tbe\\t revealing.\\tA\\tkilometre\\taway\\tthe\\tMinistry\\tof\\tTruth,\\this\\tplace\\tof\\twork,\\ttowered\\tvast\\tand\\twhite\\tabove\\tthe\\t grimy\\tlandscape.\\tThis,\\the\\tthought\\twith\\ta\\tsort\\tof\\tvague\\tdistaste\\t--\\tthis\\twas\\tLondon,\\tchief\\tcity\\tof\\tAirstrip\\tOne,\\t itself\\tthe\\tthird\\tmost\\tpopulous\\tof\\tthe\\tprovinces\\tof\\tOceania.\\tHe\\ttried\\tto\\tsqueeze\\tout\\tsome\\tchildhood\\tmemory\\t that\\tshould\\ttell\\thim\\twhether\\tLondon\\thad\\talways\\tbeen\\tquite\\tlike\\tthis.\\tWere\\tthere\\talways\\tthese\\tvistas\\tof\\t rotting\\tnineteenth-century\\thouses,\\ttheir\\tsides\\tshored\\tup\\twith\\tbaulks\\tof\\ttimber,\\ttheir\\twindows\\tpatched\\t with\\tcardboard\\tand\\ttheir\\troofs\\twith\\tcorrugated\\tiron,\\ttheir\\tcrazy\\tgarden\\twalls\\tsagging\\tin\\tall\\tdirections?\\tAnd\\t the\\tbombed\\tsites\\twhere\\tthe\\tplaster\\tdust\\tswirled\\tin\\tthe\\tair\\tand\\tthe\\twillow-herb\\tstraggled\\tover\\tthe\\theaps\\tof\\t rubble;\\tand\\tthe\\tplaces\\twhere\\tthe\\tbombs\\thad\\tcleared\\ta\\tlarger\\tpatch\\tand\\tthere\\thad\\tsprung\\tup\\tsordid\\tcolonies\\t of\\twooden\\tdwellings\\tlike\\tchicken-houses?\\tBut\\tit\\twas\\tno\\tuse,\\the\\tcould\\tnot\\tremember:\\tnothing\\tremained\\tof\\t his\\tchildhood\\texcept\\ta\\tseries\\tof\\tbright-lit\\ttableaux\\toccurring\\tagainst\\tno\\tbackground\\tand\\tmostly\\t unintelligible.\\n\\nThe\\tMinistry\\tof\\tTruth\\t--\\tMinitrue,\\tin\\tNewspeak\\t--\\twas\\tstartlingly\\tdifferent\\tfrom\\tany\\tother\\tobject\\tin\\tsight.\\tIt\\t was\\tan\\tenormous\\tpyramidal\\tstructure\\tof\\tglittering\\twhite\\tconcrete,\\tsoaring\\tup,\\tterrace\\tafter\\tterrace,\\t300\\t metres\\tinto\\tthe\\tair.\\tFrom\\twhere\\tWinston\\tstood\\tit\\twas\\tjust\\tpossible\\tto\\tread,\\tpicked\\tout\\ton\\tits\\twhite\\tface\\tin\\t elegant\\tlettering,\\tthe\\tthree\\tslogans\\tof\\tthe\\tParty:\\n\\nWAR\\tIS\\tPEACE\\n\\nFREEDOM\\tIS\\tSLAVERY\\n\\nIGNORANCE\\tIS\\tSTRENGTH\\n\\nThe\\tMinistry\\tof\\tTruth\\tcontained,\\tit\\twas\\tsaid,\\tthree\\tthousand\\trooms\\tabove\\tground\\tlevel,\\tand\\tcorresponding\\t ramifications\\tbelow.\\tScattered\\tabout\\tLondon\\tthere\\twere\\tjust\\tthree\\tother\\tbuildings\\tof\\tsimilar\\tappearance\\t and\\tsize.\\tSo\\tcompletely\\tdid\\tthey\\tdwarf\\tthe\\tsurrounding\\tarchitecture\\tthat\\tfrom\\tthe\\troof\\tof\\tVictory\\tMansions\\t you\\tcould\\tsee\\tall\\tfour\\tof\\tthem\\tsimultaneously.\\tThey\\twere\\tthe\\thomes\\tof\\tthe\\tfour\\tMinistries\\tbetween\\twhich\\t the\\tentire\\tapparatus\\tof\\tgovernment\\twas\\tdivided.\\tThe\\tMinistry\\tof\\tTruth,\\twhich\\tconcerned\\titself\\twith\\tnews,\\t entertainment,\\teducation,\\tand\\tthe\\tfine\\tarts.\\tThe\\tMinistry\\tof\\tPeace,\\twhich\\tconcerned\\titself\\twith\\twar.\\tThe\\t Ministry\\tof\\tLove,\\twhich\\tmaintained\\tlaw\\tand\\torder.\\tAnd\\tthe\\tMinistry\\tof\\tPlenty,\\twhich\\twas\\tresponsible\\tfor\\t economic\\taffairs.\\tTheir\\tnames,\\tin\\tNewspeak:\\tMinitrue,\\tMinipax,\\tMiniluv,\\tand\\tMiniplenty.\\n\\nThe\\tMinistry\\tof\\tLove\\twas\\tthe\\treally\\tfrightening\\tone.\\tThere\\twere\\tno\\twindows\\tin\\tit\\tat\\tall.\\tWinston\\thad\\tnever\\t been\\tinside\\tthe\\tMinistry\\tof\\tLove,\\tnor\\twithin\\thalf\\ta\\tkilometre\\tof\\tit.\\tIt\\twas\\ta\\tplace\\timpossible\\tto\\tenter\\texcept\\t on\\tofficial\\tbusiness,\\tand\\tthen\\tonly\\tby\\tpenetrating\\tthrough\\ta\\tmaze\\tof\\tbarbed-wire\\tentanglements,\\tsteel\\t doors,\\tand\\thidden\\tmachine-gun\\tnests.\\tEven\\tthe\\tstreets\\tleading\\tup\\tto\\tits\\touter\\tbarriers\\twere\\troamed\\tby\\t gorilla-faced\\tguards\\tin\\tblack\\tuniforms,\\tarmed\\twith\\tjointed\\ttruncheons.\\n\\nWinston\\tturned\\tround\\tabruptly.\\tHe\\thad\\tset\\this\\tfeatures\\tinto\\tthe\\texpression\\tof\\tquiet\\toptimism\\twhich\\tit\\twas\\t advisable\\tto\\twear\\twhen\\tfacing\\tthe\\ttelescreen.\\tHe\\tcrossed\\tthe\\troom\\tinto\\tthe\\ttiny\\tkitchen.\\tBy\\tleaving\\tthe\\t Ministry\\tat\\tthis\\ttime\\tof\\tday\\the\\thad\\tsacrificed\\this\\tlunch\\tin\\tthe\\tcanteen,\\tand\\the\\twas\\taware\\tthat\\tthere\\twas\\tno\\t food\\tin\\tthe\\tkitchen\\texcept\\ta\\thunk\\tof\\tdark-coloured\\tbread\\twhich\\thad\\tgot\\tto\\tbe\\tsaved\\tfor\\ttomorrow's\\t breakfast.\\tHe\\ttook\\tdown\\tfrom\\tthe\\tshelf\\ta\\tbottle\\tof\\tcolourless\\tliquid\\twith\\ta\\tplain\\twhite\\tlabel\\tmarked\\t VICTORY\\tGIN.\\tIt\\tgave\\toff\\ta\\tsickly,\\toily\\tsmell,\\tas\\tof\\tChinese\\tricespirit.\\tWinston\\tpoured\\tout\\tnearly\\ta\\tteacupful,\\t nerved\\thimself\\tfor\\ta\\tshock,\\tand\\tgulped\\tit\\tdown\\tlike\\ta\\tdose\\tof\\tmedicine.\\n\\nInstantly\\this\\tface\\tturned\\tscarlet\\tand\\tthe\\twater\\tran\\tout\\tof\\this\\teyes.\\tThe\\tstuff\\twas\\tlike\\tnitric\\tacid,\\tand\\t moreover,\\tin\\tswallowing\\tit\\tone\\thad\\tthe\\tsensation\\tof\\tbeing\\thit\\ton\\tthe\\tback\\tof\\tthe\\thead\\twith\\ta\\trubber\\tclub.\\t The\\tnext\\tmoment,\\thowever,\\tthe\\tburning\\tin\\this\\tbelly\\tdied\\tdown\\tand\\tthe\\tworld\\tbegan\\tto\\tlook\\tmore\\tcheerful.\\n\\nHe\\ttook\\ta\\tcigarette\\tfrom\\ta\\tcrumpled\\tpacket\\tmarked\\tVICTORY\\tCIGARETTES\\tand\\tincautiously\\theld\\tit\\tupright,\\t whereupon\\tthe\\ttobacco\\tfell\\tout\\ton\\tto\\tthe\\tfloor.\\tWith\\tthe\\tnext\\the\\twas\\tmore\\tsuccessful.\\tHe\\twent\\tback\\tto\\tthe\\t living-room\\tand\\tsat\\tdown\\tat\\ta\\tsmall\\ttable\\tthat\\tstood\\tto\\tthe\\tleft\\tof\\tthe\\ttelescreen.\\tFrom\\tthe\\ttable\\tdrawer\\the\\t took\\tout\\ta\\tpenholder,\\ta\\tbottle\\tof\\tink,\\tand\\ta\\tthick,\\tquarto-sized\\tblank\\tbook\\twith\\ta\\tred\\tback\\tand\\ta\\tmarbled\\t cover.\\n\\nFor\\tsome\\treason\\tthe\\ttelescreen\\tin\\tthe\\tliving-room\\twas\\tin\\tan\\tunusual\\tposition.\\tInstead\\tof\\tbeing\\tplaced,\\tas\\t was\\tnormal,\\tin\\tthe\\tend\\twall,\\twhere\\tit\\tcould\\tcommand\\tthe\\twhole\\troom,\\tit\\twas\\tin\\tthe\\tlonger\\twall,\\topposite\\t the\\twindow.\\tTo\\tone\\tside\\tof\\tit\\tthere\\twas\\ta\\tshallow\\talcove\\tin\\twhich\\tWinston\\twas\\tnow\\tsitting,\\tand\\twhich,\\t when\\tthe\\tflats\\twere\\tbuilt,\\thad\\tprobably\\tbeen\\tintended\\tto\\thold\\tbookshelves.\\tBy\\tsitting\\tin\\tthe\\talcove,\\tand\\t keeping\\twell\\tback,\\tWinston\\twas\\table\\tto\\tremain\\toutside\\tthe\\trange\\tof\\tthe\\ttelescreen,\\tso\\tfar\\tas\\tsight\\twent.\\tHe\\t could\\tbe\\theard,\\tof\\tcourse,\\tbut\\tso\\tlong\\tas\\the\\tstayed\\tin\\this\\tpresent\\tposition\\the\\tcould\\tnot\\tbe\\tseen.\\tIt\\twas\\tpartly\\t the\\tunusual\\tgeography\\tof\\tthe\\troom\\tthat\\thad\\tsuggested\\tto\\thim\\tthe\\tthing\\tthat\\the\\twas\\tnow\\tabout\\tto\\tdo.\\n\\nBut\\tit\\thad\\talso\\tbeen\\tsuggested\\tby\\tthe\\tbook\\tthat\\the\\thad\\tjust\\ttaken\\tout\\tof\\tthe\\tdrawer.\\tIt\\twas\\ta\\tpeculiarly\\t beautiful\\tbook.\\tIts\\tsmooth\\tcreamy\\tpaper,\\ta\\tlittle\\tyellowed\\tby\\tage,\\twas\\tof\\ta\\tkind\\tthat\\thad\\tnot\\tbeen\\t manufactured\\tfor\\tat\\tleast\\tforty\\tyears\\tpast.\\tHe\\tcould\\tguess,\\thowever,\\tthat\\tthe\\tbook\\twas\\tmuch\\tolder\\tthan\\t that.\\tHe\\thad\\tseen\\tit\\tlying\\tin\\tthe\\twindow\\tof\\ta\\tfrowsy\\tlittle\\tjunk-shop\\tin\\ta\\tslummy\\tquarter\\tof\\tthe\\ttown\\t(just\\t what\\tquarter\\the\\tdid\\tnot\\tnow\\tremember)\\tand\\thad\\tbeen\\tstricken\\timmediately\\tby\\tan\\toverwhelming\\tdesire\\tto\\t possess\\tit.\\tParty\\tmembers\\twere\\tsupposed\\tnot\\tto\\tgo\\tinto\\tordinary\\tshops\\t('dealing\\ton\\tthe\\tfree\\tmarket',\\tit\\twas\\t called),\\tbut\\tthe\\trule\\twas\\tnot\\tstrictly\\tkept,\\tbecause\\tthere\\twere\\tvarious\\tthings,\\tsuch\\tas\\tshoelaces\\tand\\trazor\\t blades,\\twhich\\tit\\twas\\timpossible\\tto\\tget\\thold\\tof\\tin\\tany\\tother\\tway.\\tHe\\thad\\tgiven\\ta\\tquick\\tglance\\tup\\tand\\tdown\\t the\\tstreet\\tand\\tthen\\thad\\tslipped\\tinside\\tand\\tbought\\tthe\\tbook\\tfor\\ttwo\\tdollars\\tfifty.\\tAt\\tthe\\ttime\\the\\twas\\tnot\\t conscious\\tof\\twanting\\tit\\tfor\\tany\\tparticular\\tpurpose.\\tHe\\thad\\tcarried\\tit\\tguiltily\\thome\\tin\\this\\tbriefcase.\\tEven\\t with\\tnothing\\twritten\\tin\\tit,\\tit\\twas\\ta\\tcompromising\\tpossession.\\n\\nThe\\tthing\\tthat\\the\\twas\\tabout\\tto\\tdo\\twas\\tto\\topen\\ta\\tdiary.\\tThis\\twas\\tnot\\tillegal\\t(nothing\\twas\\tillegal,\\tsince\\tthere\\t were\\tno\\tlonger\\tany\\tlaws),\\tbut\\tif\\tdetected\\tit\\twas\\treasonably\\tcertain\\tthat\\tit\\twould\\tbe\\tpunished\\tby\\tdeath,\\tor\\tat\\t least\\tby\\ttwenty-five\\tyears\\tin\\ta\\tforced-labour\\tcamp.\\tWinston\\tfitted\\ta\\tnib\\tinto\\tthe\\tpenholder\\tand\\tsucked\\tit\\tto\\t get\\tthe\\tgrease\\toff.\\tThe\\tpen\\twas\\tan\\tarchaic\\tinstrument,\\tseldom\\tused\\teven\\tfor\\tsignatures,\\tand\\the\\thad\\t procured\\tone,\\tfurtively\\tand\\twith\\tsome\\tdifficulty,\\tsimply\\tbecause\\tof\\ta\\tfeeling\\tthat\\tthe\\tbeautiful\\tcreamy\\t paper\\tdeserved\\tto\\tbe\\twritten\\ton\\twith\\ta\\treal\\tnib\\tinstead\\tof\\tbeing\\tscratched\\twith\\tan\\tink-pencil.\\tActually\\the\\t was\\tnot\\tused\\tto\\twriting\\tby\\thand.\\tApart\\tfrom\\tvery\\tshort\\tnotes,\\tit\\twas\\tusual\\tto\\tdictate\\teverything\\tinto\\tthe\\t speakwrite\\twhich\\twas\\tof\\tcourse\\timpossible\\tfor\\this\\tpresent\\tpurpose.\\tHe\\tdipped\\tthe\\tpen\\tinto\\tthe\\tink\\tand\\t then\\tfaltered\\tfor\\tjust\\ta\\tsecond.\\tA\\ttremor\\thad\\tgone\\tthrough\\this\\tbowels.\\tTo\\tmark\\tthe\\tpaper\\twas\\tthe\\tdecisive\\t act.\\tIn\\tsmall\\tclumsy\\tletters\\the\\twrote:\\n\\nApril\\t4th,\\t1984.\\n\\nHe\\tsat\\tback.\\tA\\tsense\\tof\\tcomplete\\thelplessness\\thad\\tdescended\\tupon\\thim.\\tTo\\tbegin\\twith,\\the\\tdid\\tnot\\tknow\\t with\\tany\\tcertainty\\tthat\\tthis\\twas\\t1984.\\tIt\\tmust\\tbe\\tround\\tabout\\tthat\\tdate,\\tsince\\the\\twas\\tfairly\\tsure\\tthat\\this\\tage\\t was\\tthirty-nine,\\tand\\the\\tbelieved\\tthat\\the\\thad\\tbeen\\tborn\\tin\\t1944\\tor\\t1945;\\tbut\\tit\\twas\\tnever\\tpossible\\t nowadays\\tto\\tpin\\tdown\\tany\\tdate\\twithin\\ta\\tyear\\tor\\ttwo.\\n\\nFor\\twhom,\\tit\\tsuddenly\\toccurred\\tto\\thim\\tto\\twonder,\\twas\\the\\twriting\\tthis\\tdiary?\\tFor\\tthe\\tfuture,\\tfor\\tthe\\tunborn.\\t His\\tmind\\thovered\\tfor\\ta\\tmoment\\tround\\tthe\\tdoubtful\\tdate\\ton\\tthe\\tpage,\\tand\\tthen\\tfetched\\tup\\twith\\ta\\tbump\\t against\\tthe\\tNewspeak\\tword\\tdoublethink.\\tFor\\tthe\\tfirst\\ttime\\tthe\\tmagnitude\\tof\\twhat\\the\\thad\\tundertaken\\tcame\\t home\\tto\\thim.\\tHow\\tcould\\tyou\\tcommunicate\\twith\\tthe\\tfuture?\\tIt\\twas\\tof\\tits\\tnature\\timpossible.\\tEither\\tthe\\tfuture\\t would\\tresemble\\tthe\\tpresent,\\tin\\twhich\\tcase\\tit\\twould\\tnot\\tlisten\\tto\\thim:\\tor\\tit\\twould\\tbe\\tdifferent\\tfrom\\tit,\\tand\\t his\\tpredicament\\twould\\tbe\\tmeaningless.\\n\\nFor\\tsome\\ttime\\the\\tsat\\tgazing\\tstupidly\\tat\\tthe\\tpaper.\\tThe\\ttelescreen\\thad\\tchanged\\tover\\tto\\tstrident\\tmilitary\\t music.\\tIt\\twas\\tcurious\\tthat\\the\\tseemed\\tnot\\tmerely\\tto\\thave\\tlost\\tthe\\tpower\\tof\\texpressing\\thimself,\\tbut\\teven\\tto\\t have\\tforgotten\\twhat\\tit\\twas\\tthat\\the\\thad\\toriginally\\tintended\\tto\\tsay.\\tFor\\tweeks\\tpast\\the\\thad\\tbeen\\tmaking\\tready\\n\\nfor\\tthis\\tmoment,\\tand\\tit\\thad\\tnever\\tcrossed\\this\\tmind\\tthat\\tanything\\twould\\tbe\\tneeded\\texcept\\tcourage.\\tThe\\t actual\\twriting\\twould\\tbe\\teasy.\\tAll\\the\\thad\\tto\\tdo\\twas\\tto\\ttransfer\\tto\\tpaper\\tthe\\tinterminable\\trestless\\tmonologue\\t that\\thad\\tbeen\\trunning\\tinside\\this\\thead,\\tliterally\\tfor\\tyears.\\tAt\\tthis\\tmoment,\\thowever,\\teven\\tthe\\tmonologue\\t had\\tdried\\tup.\\tMoreover\\this\\tvaricose\\tulcer\\thad\\tbegun\\titching\\tunbearably.\\tHe\\tdared\\tnot\\tscratch\\tit,\\tbecause\\tif\\t he\\tdid\\tso\\tit\\talways\\tbecame\\tinflamed.\\tThe\\tseconds\\twere\\tticking\\tby.\\tHe\\twas\\tconscious\\tof\\tnothing\\texcept\\tthe\\t blankness\\tof\\tthe\\tpage\\tin\\tfront\\tof\\thim,\\tthe\\titching\\tof\\tthe\\tskin\\tabove\\this\\tankle,\\tthe\\tblaring\\tof\\tthe\\tmusic,\\tand\\ta\\t slight\\tbooziness\\tcaused\\tby\\tthe\\tgin.\\n\\nSuddenly\\the\\tbegan\\twriting\\tin\\tsheer\\tpanic,\\tonly\\timperfectly\\taware\\tof\\twhat\\the\\twas\\tsetting\\tdown.\\tHis\\tsmall\\t but\\tchildish\\thandwriting\\tstraggled\\tup\\tand\\tdown\\tthe\\tpage,\\tshedding\\tfirst\\tits\\tcapital\\tletters\\tand\\tfinally\\teven\\t its\\tfull\\tstops:\\n\\nApril\\t4th,\\t1984.\\tLast\\tnight\\tto\\tthe\\tflicks.\\tAll\\twar\\tfilms.\\tOne\\tvery\\tgood\\tone\\tof\\ta\\tship\\tfull\\tof\\trefugees\\tbeing\\t bombed\\tsomewhere\\tin\\tthe\\tMediterranean.\\tAudience\\tmuch\\tamused\\tby\\tshots\\tof\\ta\\tgreat\\thuge\\tfat\\tman\\ttrying\\t to\\tswim\\taway\\twith\\ta\\thelicopter\\tafter\\thim,\\tfirst\\tyou\\tsaw\\thim\\twallowing\\talong\\tin\\tthe\\twater\\tlike\\ta\\tporpoise,\\t then\\tyou\\tsaw\\thim\\tthrough\\tthe\\thelicopters\\tgunsights,\\tthen\\the\\twas\\tfull\\tof\\tholes\\tand\\tthe\\tsea\\tround\\thim\\tturned\\t pink\\tand\\the\\tsank\\tas\\tsuddenly\\tas\\tthough\\tthe\\tholes\\thad\\tlet\\tin\\tthe\\twater,\\taudience\\tshouting\\twith\\tlaughter\\t when\\the\\tsank.\\tthen\\tyou\\tsaw\\ta\\tlifeboat\\tfull\\tof\\tchildren\\twith\\ta\\thelicopter\\thovering\\tover\\tit.\\tthere\\twas\\ta\\t middle-aged\\twoman\\tmight\\thave\\tbeen\\ta\\tjewess\\tsitting\\tup\\tin\\tthe\\tbow\\twith\\ta\\tlittle\\tboy\\tabout\\tthree\\tyears\\told\\t in\\ther\\tarms.\\tlittle\\tboy\\tscreaming\\twith\\tfright\\tand\\thiding\\this\\thead\\tbetween\\ther\\tbreasts\\tas\\tif\\the\\twas\\ttrying\\tto\\t burrow\\tright\\tinto\\ther\\tand\\tthe\\twoman\\tputting\\ther\\tarms\\tround\\thim\\tand\\tcomforting\\thim\\talthough\\tshe\\twas\\t blue\\twith\\tfright\\therself,\\tall\\tthe\\ttime\\tcovering\\thim\\tup\\tas\\tmuch\\tas\\tpossible\\tas\\tif\\tshe\\tthought\\ther\\tarms\\tcould\\t keep\\tthe\\tbullets\\toff\\thim.\\tthen\\tthe\\thelicopter\\tplanted\\ta\\t20\\tkilo\\tbomb\\tin\\tamong\\tthem\\tterrific\\tflash\\tand\\tthe\\t boat\\twent\\tall\\tto\\tmatchwood.\\tthen\\tthere\\twas\\ta\\twonderful\\tshot\\tof\\ta\\tchild's\\tarm\\tgoing\\tup\\tup\\tup\\tright\\tup\\tinto\\t the\\tair\\ta\\thelicopter\\twith\\ta\\tcamera\\tin\\tits\\tnose\\tmust\\thave\\tfollowed\\tit\\tup\\tand\\tthere\\twas\\ta\\tlot\\tof\\tapplause\\tfrom\\t the\\tparty\\tseats\\tbut\\ta\\twoman\\tdown\\tin\\tthe\\tprole\\tpart\\tof\\tthe\\thouse\\tsuddenly\\tstarted\\tkicking\\tup\\ta\\tfuss\\tand\\t shouting\\tthey\\tdidnt\\toughter\\tof\\tshowed\\tit\\tnot\\tin\\tfront\\tof\\tkids\\tthey\\tdidnt\\tit\\taint\\tright\\tnot\\tin\\tfront\\tof\\tkids\\tit\\t aint\\tuntil\\tthe\\tpolice\\tturned\\ther\\tturned\\ther\\tout\\ti\\tdont\\tsuppose\\tanything\\thappened\\tto\\ther\\tnobody\\tcares\\twhat\\t the\\tproles\\tsay\\ttypical\\tprole\\treaction\\tthey\\tnever\\t--\\n\\nWinston\\tstopped\\twriting,\\tpartly\\tbecause\\the\\twas\\tsuffering\\tfrom\\tcramp.\\tHe\\tdid\\tnot\\tknow\\twhat\\thad\\tmade\\t him\\tpour\\tout\\tthis\\tstream\\tof\\trubbish.\\tBut\\tthe\\tcurious\\tthing\\twas\\tthat\\twhile\\the\\twas\\tdoing\\tso\\ta\\ttotally\\tdifferent\\t memory\\thad\\tclarified\\titself\\tin\\this\\tmind,\\tto\\tthe\\tpoint\\twhere\\the\\talmost\\tfelt\\tequal\\tto\\twriting\\tit\\tdown.\\tIt\\twas,\\the\\t now\\trealized,\\tbecause\\tof\\tthis\\tother\\tincident\\tthat\\the\\thad\\tsuddenly\\tdecided\\tto\\tcome\\thome\\tand\\tbegin\\tthe\\t diary\\ttoday.\\n\\nIt\\thad\\thappened\\tthat\\tmorning\\tat\\tthe\\tMinistry,\\tif\\tanything\\tso\\tnebulous\\tcould\\tbe\\tsaid\\tto\\thappen.\\n\\nIt\\twas\\tnearly\\televen\\thundred,\\tand\\tin\\tthe\\tRecords\\tDepartment,\\twhere\\tWinston\\tworked,\\tthey\\twere\\tdragging\\t the\\tchairs\\tout\\tof\\tthe\\tcubicles\\tand\\tgrouping\\tthem\\tin\\tthe\\tcentre\\tof\\tthe\\thall\\topposite\\tthe\\tbig\\ttelescreen,\\tin\\t preparation\\tfor\\tthe\\tTwo\\tMinutes\\tHate.\\tWinston\\twas\\tjust\\ttaking\\this\\tplace\\tin\\tone\\tof\\tthe\\tmiddle\\trows\\twhen\\t two\\tpeople\\twhom\\the\\tknew\\tby\\tsight,\\tbut\\thad\\tnever\\tspoken\\tto,\\tcame\\tunexpectedly\\tinto\\tthe\\troom.\\tOne\\tof\\t them\\twas\\ta\\tgirl\\twhom\\the\\toften\\tpassed\\tin\\tthe\\tcorridors.\\tHe\\tdid\\tnot\\tknow\\ther\\tname,\\tbut\\the\\tknew\\tthat\\tshe\\t worked\\tin\\tthe\\tFiction\\tDepartment.\\tPresumably\\t--\\tsince\\the\\thad\\tsometimes\\tseen\\ther\\twith\\toily\\thands\\tand\\t carrying\\ta\\tspanner\\tshe\\thad\\tsome\\tmechanical\\tjob\\ton\\tone\\tof\\tthe\\tnovel-writing\\tmachines.\\tShe\\twas\\ta\\tbold- looking\\tgirl,\\tof\\tabout\\ttwenty-seven,\\twith\\tthick\\thair,\\ta\\tfreckled\\tface,\\tand\\tswift,\\tathletic\\tmovements.\\tA\\tnarrow\\t scarlet\\tsash,\\temblem\\tof\\tthe\\tJunior\\tAnti-Sex\\tLeague,\\twas\\twound\\tseveral\\ttimes\\tround\\tthe\\twaist\\tof\\ther\\t overalls,\\tjust\\ttightly\\tenough\\tto\\tbring\\tout\\tthe\\tshapeliness\\tof\\ther\\thips.\\tWinston\\thad\\tdisliked\\ther\\tfrom\\tthe\\tvery\\t first\\tmoment\\tof\\tseeing\\ther.\\tHe\\tknew\\tthe\\treason.\\tIt\\twas\\tbecause\\tof\\tthe\\tatmosphere\\tof\\thockey-fields\\tand\\tcold\\t baths\\tand\\tcommunity\\thikes\\tand\\tgeneral\\tclean-mindedness\\twhich\\tshe\\tmanaged\\tto\\tcarry\\tabout\\twith\\ther.\\tHe\\t disliked\\tnearly\\tall\\twomen,\\tand\\tespecially\\tthe\\tyoung\\tand\\tpretty\\tones.\\tIt\\twas\\talways\\tthe\\twomen,\\tand\\tabove\\t all\\tthe\\tyoung\\tones,\\twho\\twere\\tthe\\tmost\\tbigoted\\tadherents\\tof\\tthe\\tParty,\\tthe\\tswallowers\\tof\\tslogans,\\tthe\\t amateur\\tspies\\tand\\tnosers-out\\tof\\tunorthodoxy.\\tBut\\tthis\\tparticular\\tgirl\\tgave\\thim\\tthe\\timpression\\tof\\tbeing\\t more\\tdangerous\\tthan\\tmost.\\tOnce\\twhen\\tthey\\tpassed\\tin\\tthe\\tcorridor\\tshe\\tgave\\thim\\ta\\tquick\\tsidelong\\tglance\\n\\nwhich\\tseemed\\tto\\tpierce\\tright\\tinto\\thim\\tand\\tfor\\ta\\tmoment\\thad\\tfilled\\thim\\twith\\tblack\\tterror.\\tThe\\tidea\\thad\\teven\\t crossed\\this\\tmind\\tthat\\tshe\\tmight\\tbe\\tan\\tagent\\tof\\tthe\\tThought\\tPolice.\\tThat,\\tit\\twas\\ttrue,\\twas\\tvery\\tunlikely.\\tStill,\\t he\\tcontinued\\tto\\tfeel\\ta\\tpeculiar\\tuneasiness,\\twhich\\thad\\tfear\\tmixed\\tup\\tin\\tit\\tas\\twell\\tas\\thostility,\\twhenever\\tshe\\t was\\tanywhere\\tnear\\thim.\\n\\nThe\\tother\\tperson\\twas\\ta\\tman\\tnamed\\tO'Brien,\\ta\\tmember\\tof\\tthe\\tInner\\tParty\\tand\\tholder\\tof\\tsome\\tpost\\tso\\t important\\tand\\tremote\\tthat\\tWinston\\thad\\tonly\\ta\\tdim\\tidea\\tof\\tits\\tnature.\\tA\\tmomentary\\thush\\tpassed\\tover\\tthe\\t group\\tof\\tpeople\\tround\\tthe\\tchairs\\tas\\tthey\\tsaw\\tthe\\tblack\\toveralls\\tof\\tan\\tInner\\tParty\\tmember\\tapproaching.\\t O'Brien\\twas\\ta\\tlarge,\\tburly\\tman\\twith\\ta\\tthick\\tneck\\tand\\ta\\tcoarse,\\thumorous,\\tbrutal\\tface.\\tIn\\tspite\\tof\\this\\t formidable\\tappearance\\the\\thad\\ta\\tcertain\\tcharm\\tof\\tmanner.\\tHe\\thad\\ta\\ttrick\\tof\\tresettling\\this\\tspectacles\\ton\\this\\t nose\\twhich\\twas\\tcuriously\\tdisarming\\t--\\tin\\tsome\\tindefinable\\tway,\\tcuriously\\tcivilized.\\tIt\\twas\\ta\\tgesture\\twhich,\\t if\\tanyone\\thad\\tstill\\tthought\\tin\\tsuch\\tterms,\\tmight\\thave\\trecalled\\tan\\teighteenth-century\\tnobleman\\toffering\\this\\t snuffbox.\\tWinston\\thad\\tseen\\tO'Brien\\tperhaps\\ta\\tdozen\\ttimes\\tin\\talmost\\tas\\tmany\\tyears.\\tHe\\tfelt\\tdeeply\\tdrawn\\t to\\thim,\\tand\\tnot\\tsolely\\tbecause\\the\\twas\\tintrigued\\tby\\tthe\\tcontrast\\tbetween\\tO'Brien's\\turbane\\tmanner\\tand\\this\\t prize-fighter's\\tphysique.\\tMuch\\tmore\\tit\\twas\\tbecause\\tof\\ta\\tsecretly\\theld\\tbelief\\t--\\tor\\tperhaps\\tnot\\teven\\ta\\tbelief,\\t merely\\ta\\thope\\t--\\tthat\\tO'Brien's\\tpolitical\\torthodoxy\\twas\\tnot\\tperfect.\\tSomething\\tin\\this\\tface\\tsuggested\\tit\\t irresistibly.\\tAnd\\tagain,\\tperhaps\\tit\\twas\\tnot\\teven\\tunorthodoxy\\tthat\\twas\\twritten\\tin\\this\\tface,\\tbut\\tsimply\\t intelligence.\\tBut\\tat\\tany\\trate\\the\\thad\\tthe\\tappearance\\tof\\tbeing\\ta\\tperson\\tthat\\tyou\\tcould\\ttalk\\tto\\tif\\tsomehow\\tyou\\t could\\tcheat\\tthe\\ttelescreen\\tand\\tget\\thim\\talone.\\tWinston\\thad\\tnever\\tmade\\tthe\\tsmallest\\teffort\\tto\\tverify\\tthis\\t guess:\\tindeed,\\tthere\\twas\\tno\\tway\\tof\\tdoing\\tso.\\tAt\\tthis\\tmoment\\tO'Brien\\tglanced\\tat\\this\\twrist-watch,\\tsaw\\tthat\\tit\\t was\\tnearly\\televen\\thundred,\\tand\\tevidently\\tdecided\\tto\\tstay\\tin\\tthe\\tRecords\\tDepartment\\tuntil\\tthe\\tTwo\\tMinutes\\t Hate\\twas\\tover.\\tHe\\ttook\\ta\\tchair\\tin\\tthe\\tsame\\trow\\tas\\tWinston,\\ta\\tcouple\\tof\\tplaces\\taway.\\tA\\tsmall,\\tsandy-haired\\t woman\\twho\\tworked\\tin\\tthe\\tnext\\tcubicle\\tto\\tWinston\\twas\\tbetween\\tthem.\\tThe\\tgirl\\twith\\tdark\\thair\\twas\\tsitting\\t immediately\\tbehind.\\n\\nThe\\tnext\\tmoment\\ta\\thideous,\\tgrinding\\tspeech,\\tas\\tof\\tsome\\tmonstrous\\tmachine\\trunning\\twithout\\toil,\\tburst\\t from\\tthe\\tbig\\ttelescreen\\tat\\tthe\\tend\\tof\\tthe\\troom.\\tIt\\twas\\ta\\tnoise\\tthat\\tset\\tone's\\tteeth\\ton\\tedge\\tand\\tbristled\\tthe\\t hair\\tat\\tthe\\tback\\tof\\tone's\\tneck.\\tThe\\tHate\\thad\\tstarted.\\n\\nAs\\tusual,\\tthe\\tface\\tof\\tEmmanuel\\tGoldstein,\\tthe\\tEnemy\\tof\\tthe\\tPeople,\\thad\\tflashed\\ton\\tto\\tthe\\tscreen.\\tThere\\t were\\thisses\\there\\tand\\tthere\\tamong\\tthe\\taudience.\\tThe\\tlittle\\tsandy-haired\\twoman\\tgave\\ta\\tsqueak\\tof\\tmingled\\t fear\\tand\\tdisgust.\\tGoldstein\\twas\\tthe\\trenegade\\tand\\tbackslider\\twho\\tonce,\\tlong\\tago\\t(how\\tlong\\tago,\\tnobody\\t quite\\tremembered),\\thad\\tbeen\\tone\\tof\\tthe\\tleading\\tfigures\\tof\\tthe\\tParty,\\talmost\\ton\\ta\\tlevel\\twith\\tBig\\tBrother\\t himself,\\tand\\tthen\\thad\\tengaged\\tin\\tcounter-revolutionary\\tactivities,\\thad\\tbeen\\tcondemned\\tto\\tdeath,\\tand\\thad\\t mysteriously\\tescaped\\tand\\tdisappeared.\\tThe\\tprogrammes\\tof\\tthe\\tTwo\\tMinutes\\tHate\\tvaried\\tfrom\\tday\\tto\\tday,\\t but\\tthere\\twas\\tnone\\tin\\twhich\\tGoldstein\\twas\\tnot\\tthe\\tprincipal\\tfigure.\\tHe\\twas\\tthe\\tprimal\\ttraitor,\\tthe\\tearliest\\t defiler\\tof\\tthe\\tParty's\\tpurity.\\tAll\\tsubsequent\\tcrimes\\tagainst\\tthe\\tParty,\\tall\\ttreacheries,\\tacts\\tof\\tsabotage,\\t heresies,\\tdeviations,\\tsprang\\tdirectly\\tout\\tof\\this\\tteaching.\\tSomewhere\\tor\\tother\\the\\twas\\tstill\\talive\\tand\\thatching\\t his\\tconspiracies:\\tperhaps\\tsomewhere\\tbeyond\\tthe\\tsea,\\tunder\\tthe\\tprotection\\tof\\this\\tforeign\\tpaymasters,\\t perhaps\\teven\\t--\\tso\\tit\\twas\\toccasionally\\trumoured\\t--\\tin\\tsome\\thiding-place\\tin\\tOceania\\titself.\\n\\nWinston's\\tdiaphragm\\twas\\tconstricted.\\tHe\\tcould\\tnever\\tsee\\tthe\\tface\\tof\\tGoldstein\\twithout\\ta\\tpainful\\tmixture\\tof\\t emotions.\\tIt\\twas\\ta\\tlean\\tJewish\\tface,\\twith\\ta\\tgreat\\tfuzzy\\taureole\\tof\\twhite\\thair\\tand\\ta\\tsmall\\tgoatee\\tbeard\\t--\\ta\\t clever\\tface,\\tand\\tyet\\tsomehow\\tinherently\\tdespicable,\\twith\\ta\\tkind\\tof\\tsenile\\tsilliness\\tin\\tthe\\tlong\\tthin\\tnose,\\t near\\tthe\\tend\\tof\\twhich\\ta\\tpair\\tof\\tspectacles\\twas\\tperched.\\tIt\\tresembled\\tthe\\tface\\tof\\ta\\tsheep,\\tand\\tthe\\tvoice,\\ttoo,\\t had\\ta\\tsheep-like\\tquality.\\tGoldstein\\twas\\tdelivering\\this\\tusual\\tvenomous\\tattack\\tupon\\tthe\\tdoctrines\\tof\\tthe\\t Party\\t--\\tan\\tattack\\tso\\texaggerated\\tand\\tperverse\\tthat\\ta\\tchild\\tshould\\thave\\tbeen\\table\\tto\\tsee\\tthrough\\tit,\\tand\\tyet\\t just\\tplausible\\tenough\\tto\\tfill\\tone\\twith\\tan\\talarmed\\tfeeling\\tthat\\tother\\tpeople,\\tless\\tlevel-headed\\tthan\\toneself,\\t might\\tbe\\ttaken\\tin\\tby\\tit.\\tHe\\twas\\tabusing\\tBig\\tBrother,\\the\\twas\\tdenouncing\\tthe\\tdictatorship\\tof\\tthe\\tParty,\\the\\t was\\tdemanding\\tthe\\timmediate\\tconclusion\\tof\\tpeace\\twith\\tEurasia,\\the\\twas\\tadvocating\\tfreedom\\tof\\tspeech,\\t freedom\\tof\\tthe\\tPress,\\tfreedom\\tof\\tassembly,\\tfreedom\\tof\\tthought,\\the\\twas\\tcrying\\thysterically\\tthat\\tthe\\t revolution\\thad\\tbeen\\tbetrayed\\t--\\tand\\tall\\tthis\\tin\\trapid\\tpolysyllabic\\tspeech\\twhich\\twas\\ta\\tsort\\tof\\tparody\\tof\\tthe\\t habitual\\tstyle\\tof\\tthe\\torators\\tof\\tthe\\tParty,\\tand\\teven\\tcontained\\tNewspeak\\twords:\\tmore\\tNewspeak\\twords,\\t indeed,\\tthan\\tany\\tParty\\tmember\\twould\\tnormally\\tuse\\tin\\treal\\tlife.\\tAnd\\tall\\tthe\\twhile,\\tlest\\tone\\tshould\\tbe\\tin\\tany\\n\\ndoubt\\tas\\tto\\tthe\\treality\\twhich\\tGoldstein's\\tspecious\\tclaptrap\\tcovered,\\tbehind\\this\\thead\\ton\\tthe\\ttelescreen\\tthere\\t marched\\tthe\\tendless\\tcolumns\\tof\\tthe\\tEurasian\\tarmy\\t--\\trow\\tafter\\trow\\tof\\tsolid-looking\\tmen\\twith\\t expressionless\\tAsiatic\\tfaces,\\twho\\tswam\\tup\\tto\\tthe\\tsurface\\tof\\tthe\\tscreen\\tand\\tvanished,\\tto\\tbe\\treplaced\\tby\\t others\\texactly\\tsimilar.\\tThe\\tdull\\trhythmic\\ttramp\\tof\\tthe\\tsoldiers'\\tboots\\tformed\\tthe\\tbackground\\tto\\tGoldstein's\\t bleating\\tvoice.\\n\\nBefore\\tthe\\tHate\\thad\\tproceeded\\tfor\\tthirty\\tseconds,\\tuncontrollable\\texclamations\\tof\\trage\\twere\\tbreaking\\tout\\t from\\thalf\\tthe\\tpeople\\tin\\tthe\\troom.\\tThe\\tself-satisfied\\tsheep-like\\tface\\ton\\tthe\\tscreen,\\tand\\tthe\\tterrifying\\tpower\\t of\\tthe\\tEurasian\\tarmy\\tbehind\\tit,\\twere\\ttoo\\tmuch\\tto\\tbe\\tborne:\\tbesides,\\tthe\\tsight\\tor\\teven\\tthe\\tthought\\tof\\t Goldstein\\tproduced\\tfear\\tand\\tanger\\tautomatically.\\tHe\\twas\\tan\\tobject\\tof\\thatred\\tmore\\tconstant\\tthan\\teither\\t Eurasia\\tor\\tEastasia,\\tsince\\twhen\\tOceania\\twas\\tat\\twar\\twith\\tone\\tof\\tthese\\tPowers\\tit\\twas\\tgenerally\\tat\\tpeace\\twith\\t the\\tother.\\tBut\\twhat\\twas\\tstrange\\twas\\tthat\\talthough\\tGoldstein\\twas\\thated\\tand\\tdespised\\tby\\teverybody,\\t although\\tevery\\tday\\tand\\ta\\tthousand\\ttimes\\ta\\tday,\\ton\\tplatforms,\\ton\\tthe\\ttelescreen,\\tin\\tnewspapers,\\tin\\tbooks,\\t his\\ttheories\\twere\\trefuted,\\tsmashed,\\tridiculed,\\theld\\tup\\tto\\tthe\\tgeneral\\tgaze\\tfor\\tthe\\tpitiful\\trubbish\\tthat\\tthey\\t were\\tin\\tspite\\tof\\tall\\tthis,\\this\\tinfluence\\tnever\\tseemed\\tto\\tgrow\\tless.\\tAlways\\tthere\\twere\\tfresh\\tdupes\\twaiting\\tto\\t be\\tseduced\\tby\\thim.\\tA\\tday\\tnever\\tpassed\\twhen\\tspies\\tand\\tsaboteurs\\tacting\\tunder\\this\\tdirections\\twere\\tnot\\t unmasked\\tby\\tthe\\tThought\\tPolice.\\tHe\\twas\\tthe\\tcommander\\tof\\ta\\tvast\\tshadowy\\tarmy,\\tan\\tunderground\\t network\\tof\\tconspirators\\tdedicated\\tto\\tthe\\toverthrow\\tof\\tthe\\tState.\\tThe\\tBrotherhood,\\tits\\tname\\twas\\tsupposed\\t to\\tbe.\\tThere\\twere\\talso\\twhispered\\tstories\\tof\\ta\\tterrible\\tbook,\\ta\\tcompendium\\tof\\tall\\tthe\\theresies,\\tof\\twhich\\t Goldstein\\twas\\tthe\\tauthor\\tand\\twhich\\tcirculated\\tclandestinely\\there\\tand\\tthere.\\tIt\\twas\\ta\\tbook\\twithout\\ta\\ttitle.\\t People\\treferred\\tto\\tit,\\tif\\tat\\tall,\\tsimply\\tas\\tthe\\tbook.\\tBut\\tone\\tknew\\tof\\tsuch\\tthings\\tonly\\tthrough\\tvague\\trumours.\\t Neither\\tthe\\tBrotherhood\\tnor\\tthe\\tbook\\twas\\ta\\tsubject\\tthat\\tany\\tordinary\\tParty\\tmember\\twould\\tmention\\tif\\t there\\twas\\ta\\tway\\tof\\tavoiding\\tit.\\n\\nIn\\tits\\tsecond\\tminute\\tthe\\tHate\\trose\\tto\\ta\\tfrenzy.\\tPeople\\twere\\tleaping\\tup\\tand\\tdown\\tin\\ttheir\\tplaces\\tand\\t shouting\\tat\\tthe\\ttops\\tof\\ttheir\\tvoices\\tin\\tan\\teffort\\tto\\tdrown\\tthe\\tmaddening\\tbleating\\tvoice\\tthat\\tcame\\tfrom\\tthe\\t screen.\\tThe\\tlittle\\tsandy-haired\\twoman\\thad\\tturned\\tbright\\tpink,\\tand\\ther\\tmouth\\twas\\topening\\tand\\tshutting\\t like\\tthat\\tof\\ta\\tlanded\\tfish.\\tEven\\tO'Brien's\\theavy\\tface\\twas\\tflushed.\\tHe\\twas\\tsitting\\tvery\\tstraight\\tin\\this\\tchair,\\this\\t powerful\\tchest\\tswelling\\tand\\tquivering\\tas\\tthough\\the\\twere\\tstanding\\tup\\tto\\tthe\\tassault\\tof\\ta\\twave.\\tThe\\tdark- haired\\tgirl\\tbehind\\tWinston\\thad\\tbegun\\tcrying\\tout\\t'Swine!\\tSwine!\\tSwine!'\\tand\\tsuddenly\\tshe\\tpicked\\tup\\ta\\t heavy\\tNewspeak\\tdictionary\\tand\\tflung\\tit\\tat\\tthe\\tscreen.\\tIt\\tstruck\\tGoldstein's\\tnose\\tand\\tbounced\\toff;\\tthe\\tvoice\\t continued\\tinexorably.\\tIn\\ta\\tlucid\\tmoment\\tWinston\\tfound\\tthat\\the\\twas\\tshouting\\twith\\tthe\\tothers\\tand\\tkicking\\t his\\theel\\tviolently\\tagainst\\tthe\\trung\\tof\\this\\tchair.\\tThe\\thorrible\\tthing\\tabout\\tthe\\tTwo\\tMinutes\\tHate\\twas\\tnot\\tthat\\t one\\twas\\tobliged\\tto\\tact\\ta\\tpart,\\tbut,\\ton\\tthe\\tcontrary,\\tthat\\tit\\twas\\timpossible\\tto\\tavoid\\tjoining\\tin.\\tWithin\\tthirty\\t seconds\\tany\\tpretence\\twas\\talways\\tunnecessary.\\tA\\thideous\\tecstasy\\tof\\tfear\\tand\\tvindictiveness,\\ta\\tdesire\\tto\\tkill,\\t to\\ttorture,\\tto\\tsmash\\tfaces\\tin\\twith\\ta\\tsledge-hammer,\\tseemed\\tto\\tflow\\tthrough\\tthe\\twhole\\tgroup\\tof\\tpeople\\tlike\\t an\\telectric\\tcurrent,\\tturning\\tone\\teven\\tagainst\\tone's\\twill\\tinto\\ta\\tgrimacing,\\tscreaming\\tlunatic.\\tAnd\\tyet\\tthe\\trage\\t that\\tone\\tfelt\\twas\\tan\\tabstract,\\tundirected\\temotion\\twhich\\tcould\\tbe\\tswitched\\tfrom\\tone\\tobject\\tto\\tanother\\tlike\\t the\\tflame\\tof\\ta\\tblowlamp.\\tThus,\\tat\\tone\\tmoment\\tWinston's\\thatred\\twas\\tnot\\tturned\\tagainst\\tGoldstein\\tat\\tall,\\t but,\\ton\\tthe\\tcontrary,\\tagainst\\tBig\\tBrother,\\tthe\\tParty,\\tand\\tthe\\tThought\\tPolice;\\tand\\tat\\tsuch\\tmoments\\this\\theart\\t went\\tout\\tto\\tthe\\tlonely,\\tderided\\theretic\\ton\\tthe\\tscreen,\\tsole\\tguardian\\tof\\ttruth\\tand\\tsanity\\tin\\ta\\tworld\\tof\\tlies.\\t And\\tyet\\tthe\\tvery\\tnext\\tinstant\\the\\twas\\tat\\tone\\twith\\tthe\\tpeople\\tabout\\thim,\\tand\\tall\\tthat\\twas\\tsaid\\tof\\tGoldstein\\t seemed\\tto\\thim\\tto\\tbe\\ttrue.\\tAt\\tthose\\tmoments\\this\\tsecret\\tloathing\\tof\\tBig\\tBrother\\tchanged\\tinto\\tadoration,\\tand\\t Big\\tBrother\\tseemed\\tto\\ttower\\tup,\\tan\\tinvincible,\\tfearless\\tprotector,\\tstanding\\tlike\\ta\\trock\\tagainst\\tthe\\thordes\\tof\\t Asia,\\tand\\tGoldstein,\\tin\\tspite\\tof\\this\\tisolation,\\this\\thelplessness,\\tand\\tthe\\tdoubt\\tthat\\thung\\tabout\\this\\tvery\\t existence,\\tseemed\\tlike\\tsome\\tsinister\\tenchanter,\\tcapable\\tby\\tthe\\tmere\\tpower\\tof\\this\\tvoice\\tof\\twrecking\\tthe\\t structure\\tof\\tcivilization.\\n\\nIt\\twas\\teven\\tpossible,\\tat\\tmoments,\\tto\\tswitch\\tone's\\thatred\\tthis\\tway\\tor\\tthat\\tby\\ta\\tvoluntary\\tact.\\tSuddenly,\\tby\\t the\\tsort\\tof\\tviolent\\teffort\\twith\\twhich\\tone\\twrenches\\tone's\\thead\\taway\\tfrom\\tthe\\tpillow\\tin\\ta\\tnightmare,\\tWinston\\t succeeded\\tin\\ttransferring\\this\\thatred\\tfrom\\tthe\\tface\\ton\\tthe\\tscreen\\tto\\tthe\\tdark-haired\\tgirl\\tbehind\\thim.\\tVivid,\\t beautiful\\thallucinations\\tflashed\\tthrough\\this\\tmind.\\tHe\\twould\\tflog\\ther\\tto\\tdeath\\twith\\ta\\trubber\\ttruncheon.\\tHe\\t would\\ttie\\ther\\tnaked\\tto\\ta\\tstake\\tand\\tshoot\\ther\\tfull\\tof\\tarrows\\tlike\\tSaint\\tSebastian.\\tHe\\twould\\travish\\ther\\tand\\tcut\\t her\\tthroat\\tat\\tthe\\tmoment\\tof\\tclimax.\\tBetter\\tthan\\tbefore,\\tmoreover,\\the\\trealized\\twhy\\tit\\twas\\tthat\\the\\thated\\ther.\\n\\nHe\\thated\\ther\\tbecause\\tshe\\twas\\tyoung\\tand\\tpretty\\tand\\tsexless,\\tbecause\\the\\twanted\\tto\\tgo\\tto\\tbed\\twith\\ther\\tand\\t would\\tnever\\tdo\\tso,\\tbecause\\tround\\ther\\tsweet\\tsupple\\twaist,\\twhich\\tseemed\\tto\\task\\tyou\\tto\\tencircle\\tit\\twith\\tyour\\t arm,\\tthere\\twas\\tonly\\tthe\\todious\\tscarlet\\tsash,\\taggressive\\tsymbol\\tof\\tchastity.\\n\\nThe\\tHate\\trose\\tto\\tits\\tclimax.\\tThe\\tvoice\\tof\\tGoldstein\\thad\\tbecome\\tan\\tactual\\tsheep's\\tbleat,\\tand\\tfor\\tan\\tinstant\\t the\\tface\\tchanged\\tinto\\tthat\\tof\\ta\\tsheep.\\tThen\\tthe\\tsheep-face\\tmelted\\tinto\\tthe\\tfigure\\tof\\ta\\tEurasian\\tsoldier\\twho\\t seemed\\tto\\tbe\\tadvancing,\\thuge\\tand\\tterrible,\\this\\tsub-machine\\tgun\\troaring,\\tand\\tseeming\\tto\\tspring\\tout\\tof\\tthe\\t surface\\tof\\tthe\\tscreen,\\tso\\tthat\\tsome\\tof\\tthe\\tpeople\\tin\\tthe\\tfront\\trow\\tactually\\tflinched\\tbackwards\\tin\\ttheir\\tseats.\\t But\\tin\\tthe\\tsame\\tmoment,\\tdrawing\\ta\\tdeep\\tsigh\\tof\\trelief\\tfrom\\teverybody,\\tthe\\thostile\\tfigure\\tmelted\\tinto\\tthe\\t face\\tof\\tBig\\tBrother,\\tblack-haired,\\tblack-moustachio'd,\\tfull\\tof\\tpower\\tand\\tmysterious\\tcalm,\\tand\\tso\\tvast\\tthat\\tit\\t almost\\tfilled\\tup\\tthe\\tscreen.\\tNobody\\theard\\twhat\\tBig\\tBrother\\twas\\tsaying.\\tIt\\twas\\tmerely\\ta\\tfew\\twords\\tof\\t encouragement,\\tthe\\tsort\\tof\\twords\\tthat\\tare\\tuttered\\tin\\tthe\\tdin\\tof\\tbattle,\\tnot\\tdistinguishable\\tindividually\\tbut\\t restoring\\tconfidence\\tby\\tthe\\tfact\\tof\\tbeing\\tspoken.\\tThen\\tthe\\tface\\tof\\tBig\\tBrother\\tfaded\\taway\\tagain,\\tand\\tinstead\\t the\\tthree\\tslogans\\tof\\tthe\\tParty\\tstood\\tout\\tin\\tbold\\tcapitals:\\n\\nWAR\\tIS\\tPEACE\\n\\nFREEDOM\\tIS\\tSLAVERY\\n\\nIGNORANCE\\tIS\\tSTRENGTH\\n\\nBut\\tthe\\tface\\tof\\tBig\\tBrother\\tseemed\\tto\\tpersist\\tfor\\tseveral\\tseconds\\ton\\tthe\\tscreen,\\tas\\tthough\\tthe\\timpact\\tthat\\tit\\t had\\tmade\\ton\\teveryone's\\teyeballs\\twas\\ttoo\\tvivid\\tto\\twear\\toff\\timmediately.\\tThe\\tlittle\\tsandyhaired\\twoman\\thad\\t flung\\therself\\tforward\\tover\\tthe\\tback\\tof\\tthe\\tchair\\tin\\tfront\\tof\\ther.\\tWith\\ta\\ttremulous\\tmurmur\\tthat\\tsounded\\tlike\\t 'My\\tSaviour!'\\tshe\\textended\\ther\\tarms\\ttowards\\tthe\\tscreen.\\tThen\\tshe\\tburied\\ther\\tface\\tin\\ther\\thands.\\tIt\\twas\\t apparent\\tthat\\tshe\\twas\\tuttering\\ta\\tprayer.\\n\\nAt\\tthis\\tmoment\\tthe\\tentire\\tgroup\\tof\\tpeople\\tbroke\\tinto\\ta\\tdeep,\\tslow,\\trhythmical\\tchant\\tof\\t'B-B!\\t...B-B!'\\t--\\tover\\t and\\tover\\tagain,\\tvery\\tslowly,\\twith\\ta\\tlong\\tpause\\tbetween\\tthe\\tfirst\\t'B'\\tand\\tthe\\tsecond-a\\theavy,\\tmurmurous\\t sound,\\tsomehow\\tcuriously\\tsavage,\\tin\\tthe\\tbackground\\tof\\twhich\\tone\\tseemed\\tto\\thear\\tthe\\tstamp\\tof\\tnaked\\tfeet\\t and\\tthe\\tthrobbing\\tof\\ttom-toms.\\tFor\\tperhaps\\tas\\tmuch\\tas\\tthirty\\tseconds\\tthey\\tkept\\tit\\tup.\\tIt\\twas\\ta\\trefrain\\tthat\\t was\\toften\\theard\\tin\\tmoments\\tof\\toverwhelming\\temotion.\\tPartly\\tit\\twas\\ta\\tsort\\tof\\thymn\\tto\\tthe\\twisdom\\tand\\t majesty\\tof\\tBig\\tBrother,\\tbut\\tstill\\tmore\\tit\\twas\\tan\\tact\\tof\\tself-hypnosis,\\ta\\tdeliberate\\tdrowning\\tof\\tconsciousness\\t by\\tmeans\\tof\\trhythmic\\tnoise.\\tWinston's\\tentrails\\tseemed\\tto\\tgrow\\tcold.\\tIn\\tthe\\tTwo\\tMinutes\\tHate\\the\\tcould\\tnot\\t help\\tsharing\\tin\\tthe\\tgeneral\\tdelirium,\\tbut\\tthis\\tsub-human\\tchanting\\tof\\t'B-B!\\t...B-B!'\\talways\\tfilled\\thim\\twith\\t horror.\\tOf\\tcourse\\the\\tchanted\\twith\\tthe\\trest:\\tit\\twas\\timpossible\\tto\\tdo\\totherwise.\\tTo\\tdissemble\\tyour\\tfeelings,\\tto\\t control\\tyour\\tface,\\tto\\tdo\\twhat\\teveryone\\telse\\twas\\tdoing,\\twas\\tan\\tinstinctive\\treaction.\\tBut\\tthere\\twas\\ta\\tspace\\tof\\t a\\tcouple\\tof\\tseconds\\tduring\\twhich\\tthe\\texpression\\tof\\this\\teyes\\tmight\\tconceivably\\thave\\tbetrayed\\thim.\\tAnd\\tit\\t was\\texactly\\tat\\tthis\\tmoment\\tthat\\tthe\\tsignificant\\tthing\\thappened\\t--\\tif,\\tindeed,\\tit\\tdid\\thappen.\\n\\nMomentarily\\the\\tcaught\\tO'Brien's\\teye.\\tO'Brien\\thad\\tstood\\tup.\\tHe\\thad\\ttaken\\toff\\this\\tspectacles\\tand\\twas\\tin\\tthe\\t act\\tof\\tresettling\\tthem\\ton\\this\\tnose\\twith\\this\\tcharacteristic\\tgesture.\\tBut\\tthere\\twas\\ta\\tfraction\\tof\\ta\\tsecond\\twhen\\t their\\teyes\\tmet,\\tand\\tfor\\tas\\tlong\\tas\\tit\\ttook\\tto\\thappen\\tWinston\\tknew-yes,\\the\\tknew!-that\\tO'Brien\\twas\\tthinking\\t the\\tsame\\tthing\\tas\\thimself.\\tAn\\tunmistakable\\tmessage\\thad\\tpassed.\\tIt\\twas\\tas\\tthough\\ttheir\\ttwo\\tminds\\thad\\t opened\\tand\\tthe\\tthoughts\\twere\\tflowing\\tfrom\\tone\\tinto\\tthe\\tother\\tthrough\\ttheir\\teyes.\\t'I\\tam\\twith\\tyou,'\\tO'Brien\\t seemed\\tto\\tbe\\tsaying\\tto\\thim.\\t'I\\tknow\\tprecisely\\twhat\\tyou\\tare\\tfeeling.\\tI\\tknow\\tall\\tabout\\tyour\\tcontempt,\\tyour\\t hatred,\\tyour\\tdisgust.\\tBut\\tdon't\\tworry,\\tI\\tam\\ton\\tyour\\tside!'\\tAnd\\tthen\\tthe\\tflash\\tof\\tintelligence\\twas\\tgone,\\tand\\t O'Brien's\\tface\\twas\\tas\\tinscrutable\\tas\\teverybody\\telse's.\\n\\nThat\\twas\\tall,\\tand\\the\\twas\\talready\\tuncertain\\twhether\\tit\\thad\\thappened.\\tSuch\\tincidents\\tnever\\thad\\tany\\tsequel.\\t All\\tthat\\tthey\\tdid\\twas\\tto\\tkeep\\talive\\tin\\thim\\tthe\\tbelief,\\tor\\thope,\\tthat\\tothers\\tbesides\\thimself\\twere\\tthe\\tenemies\\t of\\tthe\\tParty.\\tPerhaps\\tthe\\trumours\\tof\\tvast\\tunderground\\tconspiracies\\twere\\ttrue\\tafter\\tall\\t--\\tperhaps\\tthe\\t Brotherhood\\treally\\texisted!\\tIt\\twas\\timpossible,\\tin\\tspite\\tof\\tthe\\tendless\\tarrests\\tand\\tconfessions\\tand\\t executions,\\tto\\tbe\\tsure\\tthat\\tthe\\tBrotherhood\\twas\\tnot\\tsimply\\ta\\tmyth.\\tSome\\tdays\\the\\tbelieved\\tin\\tit,\\tsome\\tdays\\n\\nnot.\\tThere\\twas\\tno\\tevidence,\\tonly\\tfleeting\\tglimpses\\tthat\\tmight\\tmean\\tanything\\tor\\tnothing:\\tsnatches\\tof\\t overheard\\tconversation,\\tfaint\\tscribbles\\ton\\tlavatory\\twalls\\t--\\tonce,\\teven,\\twhen\\ttwo\\tstrangers\\tmet,\\ta\\tsmall\\t movement\\tof\\tthe\\thand\\twhich\\thad\\tlooked\\tas\\tthough\\tit\\tmight\\tbe\\ta\\tsignal\\tof\\trecognition.\\tIt\\twas\\tall\\tguesswork:\\t very\\tlikely\\the\\thad\\timagined\\teverything.\\tHe\\thad\\tgone\\tback\\tto\\this\\tcubicle\\twithout\\tlooking\\tat\\tO'Brien\\tagain.\\t The\\tidea\\tof\\tfollowing\\tup\\ttheir\\tmomentary\\tcontact\\thardly\\tcrossed\\this\\tmind.\\tIt\\twould\\thave\\tbeen\\t inconceivably\\tdangerous\\teven\\tif\\the\\thad\\tknown\\thow\\tto\\tset\\tabout\\tdoing\\tit.\\tFor\\ta\\tsecond,\\ttwo\\tseconds,\\tthey\\t had\\texchanged\\tan\\tequivocal\\tglance,\\tand\\tthat\\twas\\tthe\\tend\\tof\\tthe\\tstory.\\tBut\\teven\\tthat\\twas\\ta\\tmemorable\\t event,\\tin\\tthe\\tlocked\\tloneliness\\tin\\twhich\\tone\\thad\\tto\\tlive.\\n\\nWinston\\troused\\thimself\\tand\\tsat\\tup\\tstraighter.\\tHe\\tlet\\tout\\ta\\tbelch.\\tThe\\tgin\\twas\\trising\\tfrom\\this\\tstomach.\\n\\nHis\\teyes\\tre-focused\\ton\\tthe\\tpage.\\tHe\\tdiscovered\\tthat\\twhile\\the\\tsat\\thelplessly\\tmusing\\the\\thad\\talso\\tbeen\\t writing,\\tas\\tthough\\tby\\tautomatic\\taction.\\tAnd\\tit\\twas\\tno\\tlonger\\tthe\\tsame\\tcramped,\\tawkward\\thandwriting\\tas\\t before.\\tHis\\tpen\\thad\\tslid\\tvoluptuously\\tover\\tthe\\tsmooth\\tpaper,\\tprinting\\tin\\tlarge\\tneat\\tcapitals\\t-\\n\\nDOWN\\tWITH\\tBIG\\tBROTHER\\n\\nDOWN\\tWITH\\tBIG\\tBROTHER\\n\\nDOWN\\tWITH\\tBIG\\tBROTHER\\n\\nDOWN\\tWITH\\tBIG\\tBROTHER\\n\\nDOWN\\tWITH\\tBIG\\tBROTHER\\n\\nover\\tand\\tover\\tagain,\\tfilling\\thalf\\ta\\tpage.\\n\\nHe\\tcould\\tnot\\thelp\\tfeeling\\ta\\ttwinge\\tof\\tpanic.\\tIt\\twas\\tabsurd,\\tsince\\tthe\\twriting\\tof\\tthose\\tparticular\\twords\\twas\\t not\\tmore\\tdangerous\\tthan\\tthe\\tinitial\\tact\\tof\\topening\\tthe\\tdiary,\\tbut\\tfor\\ta\\tmoment\\the\\twas\\ttempted\\tto\\ttear\\tout\\t the\\tspoiled\\tpages\\tand\\tabandon\\tthe\\tenterprise\\taltogether.\\n\\nHe\\tdid\\tnot\\tdo\\tso,\\thowever,\\tbecause\\the\\tknew\\tthat\\tit\\twas\\tuseless.\\tWhether\\the\\twrote\\tDOWN\\tWITH\\tBIG\\t BROTHER,\\tor\\twhether\\the\\trefrained\\tfrom\\twriting\\tit,\\tmade\\tno\\tdifference.\\tWhether\\the\\twent\\ton\\twith\\tthe\\tdiary,\\t or\\twhether\\the\\tdid\\tnot\\tgo\\ton\\twith\\tit,\\tmade\\tno\\tdifference.\\tThe\\tThought\\tPolice\\twould\\tget\\thim\\tjust\\tthe\\tsame.\\t He\\thad\\tcommitted\\t--\\twould\\tstill\\thave\\tcommitted,\\teven\\tif\\the\\thad\\tnever\\tset\\tpen\\tto\\tpaper\\t--\\tthe\\tessential\\t crime\\tthat\\tcontained\\tall\\tothers\\tin\\titself.\\tThoughtcrime,\\tthey\\tcalled\\tit.\\tThoughtcrime\\twas\\tnot\\ta\\tthing\\tthat\\t could\\tbe\\tconcealed\\tfor\\tever.\\tYou\\tmight\\tdodge\\tsuccessfully\\tfor\\ta\\twhile,\\teven\\tfor\\tyears,\\tbut\\tsooner\\tor\\tlater\\t they\\twere\\tbound\\tto\\tget\\tyou.\\n\\nIt\\twas\\talways\\tat\\tnight\\t--\\tthe\\tarrests\\tinvariably\\thappened\\tat\\tnight.\\tThe\\tsudden\\tjerk\\tout\\tof\\tsleep,\\tthe\\trough\\t hand\\tshaking\\tyour\\tshoulder,\\tthe\\tlights\\tglaring\\tin\\tyour\\teyes,\\tthe\\tring\\tof\\thard\\tfaces\\tround\\tthe\\tbed.\\tIn\\tthe\\tvast\\t majority\\tof\\tcases\\tthere\\twas\\tno\\ttrial,\\tno\\treport\\tof\\tthe\\tarrest.\\tPeople\\tsimply\\tdisappeared,\\talways\\tduring\\tthe\\t night.\\tYour\\tname\\twas\\tremoved\\tfrom\\tthe\\tregisters,\\tevery\\trecord\\tof\\teverything\\tyou\\thad\\tever\\tdone\\twas\\twiped\\t out,\\tyour\\tone-time\\texistence\\twas\\tdenied\\tand\\tthen\\tforgotten.\\tYou\\twere\\tabolished,\\tannihilated:\\tvaporized\\t was\\tthe\\tusual\\tword.\\n\\nFor\\ta\\tmoment\\the\\twas\\tseized\\tby\\ta\\tkind\\tof\\thysteria.\\tHe\\tbegan\\twriting\\tin\\ta\\thurried\\tuntidy\\tscrawl:\\n\\ntheyll\\tshoot\\tme\\ti\\tdon't\\tcare\\ttheyll\\tshoot\\tme\\tin\\tthe\\tback\\tof\\tthe\\tneck\\ti\\tdont\\tcare\\tdown\\twith\\tbig\\tbrother\\tthey\\t always\\tshoot\\tyou\\tin\\tthe\\tback\\tof\\tthe\\tneck\\ti\\tdont\\tcare\\tdown\\twith\\tbig\\tbrother\\t--\\n\\nHe\\tsat\\tback\\tin\\this\\tchair,\\tslightly\\tashamed\\tof\\thimself,\\tand\\tlaid\\tdown\\tthe\\tpen.\\tThe\\tnext\\tmoment\\the\\tstarted\\t violently.\\tThere\\twas\\ta\\tknocking\\tat\\tthe\\tdoor.\\n\\nAlready!\\tHe\\tsat\\tas\\tstill\\tas\\ta\\tmouse,\\tin\\tthe\\tfutile\\thope\\tthat\\twhoever\\tit\\twas\\tmight\\tgo\\taway\\tafter\\ta\\tsingle\\t attempt.\\tBut\\tno,\\tthe\\tknocking\\twas\\trepeated.\\tThe\\tworst\\tthing\\tof\\tall\\twould\\tbe\\tto\\tdelay.\\tHis\\theart\\twas\\t thumping\\tlike\\ta\\tdrum,\\tbut\\this\\tface,\\tfrom\\tlong\\thabit,\\twas\\tprobably\\texpressionless.\\tHe\\tgot\\tup\\tand\\tmoved\\t heavily\\ttowards\\tthe\\tdoor.\\n\\nForward\\t>\")]"
      ]
     },
     "execution_count": 20,
     "metadata": {},
     "output_type": "execute_result"
    }
   ],
   "source": [
    "# from langchain.document_loaders import UnstructuredFileLoader\n",
    "\n",
    "# loader = UnstructuredFileLoader(\"./files/chapter_one.pdf\")\n",
    "\n",
    "# loader.load()"
   ]
  },
  {
   "cell_type": "code",
   "execution_count": 25,
   "id": "9a782d7f-a51e-4aa7-993d-09a0686f7e1d",
   "metadata": {},
   "outputs": [
    {
     "data": {
      "text/plain": [
       "1"
      ]
     },
     "execution_count": 25,
     "metadata": {},
     "output_type": "execute_result"
    }
   ],
   "source": [
    "# from langchain.document_loaders import UnstructuredFileLoader\n",
    "\n",
    "# loader = UnstructuredFileLoader(\"./files/chapter_one.docx\")\n",
    "\n",
    "# # loader.load()\n",
    "# len(loader.load()) # 1 "
   ]
  },
  {
   "cell_type": "code",
   "execution_count": null,
   "id": "cdfe127d-5949-48ec-a58d-90dcdd1671f0",
   "metadata": {},
   "outputs": [
    {
     "data": {
      "text/plain": [
       "[Document(metadata={'source': './files/chapter_one.docx'}, page_content='1984 Part 1, Chapter 1 Part One'),\n",
       " Document(metadata={'source': './files/chapter_one.docx'}, page_content='1'),\n",
       " Document(metadata={'source': './files/chapter_one.docx'}, page_content='It was a bright cold day in April, and the clocks were striking thirteen. Winston Smith, his chin nuzzled into his breast in an effort to escape the vile wind, slipped quickly through the glass doors'),\n",
       " Document(metadata={'source': './files/chapter_one.docx'}, page_content='was a bright cold day in April, and the clocks were striking thirteen. Winston Smith, his chin nuzzled into his breast in an effort to escape the vile wind, slipped quickly through the glass doors of'),\n",
       " Document(metadata={'source': './files/chapter_one.docx'}, page_content='cold day in April, and the clocks were striking thirteen. Winston Smith, his chin nuzzled into his breast in an effort to escape the vile wind, slipped quickly through the glass doors of Victory'),\n",
       " Document(metadata={'source': './files/chapter_one.docx'}, page_content='day in April, and the clocks were striking thirteen. Winston Smith, his chin nuzzled into his breast in an effort to escape the vile wind, slipped quickly through the glass doors of Victory Mansions,'),\n",
       " Document(metadata={'source': './files/chapter_one.docx'}, page_content='April, and the clocks were striking thirteen. Winston Smith, his chin nuzzled into his breast in an effort to escape the vile wind, slipped quickly through the glass doors of Victory Mansions, though'),\n",
       " Document(metadata={'source': './files/chapter_one.docx'}, page_content='and the clocks were striking thirteen. Winston Smith, his chin nuzzled into his breast in an effort to escape the vile wind, slipped quickly through the glass doors of Victory Mansions, though not'),\n",
       " Document(metadata={'source': './files/chapter_one.docx'}, page_content='clocks were striking thirteen. Winston Smith, his chin nuzzled into his breast in an effort to escape the vile wind, slipped quickly through the glass doors of Victory Mansions, though not quickly'),\n",
       " Document(metadata={'source': './files/chapter_one.docx'}, page_content='were striking thirteen. Winston Smith, his chin nuzzled into his breast in an effort to escape the vile wind, slipped quickly through the glass doors of Victory Mansions, though not quickly enough to'),\n",
       " Document(metadata={'source': './files/chapter_one.docx'}, page_content='thirteen. Winston Smith, his chin nuzzled into his breast in an effort to escape the vile wind, slipped quickly through the glass doors of Victory Mansions, though not quickly enough to prevent a'),\n",
       " Document(metadata={'source': './files/chapter_one.docx'}, page_content='Winston Smith, his chin nuzzled into his breast in an effort to escape the vile wind, slipped quickly through the glass doors of Victory Mansions, though not quickly enough to prevent a swirl of'),\n",
       " Document(metadata={'source': './files/chapter_one.docx'}, page_content='Smith, his chin nuzzled into his breast in an effort to escape the vile wind, slipped quickly through the glass doors of Victory Mansions, though not quickly enough to prevent a swirl of gritty dust'),\n",
       " Document(metadata={'source': './files/chapter_one.docx'}, page_content='his chin nuzzled into his breast in an effort to escape the vile wind, slipped quickly through the glass doors of Victory Mansions, though not quickly enough to prevent a swirl of gritty dust from'),\n",
       " Document(metadata={'source': './files/chapter_one.docx'}, page_content='nuzzled into his breast in an effort to escape the vile wind, slipped quickly through the glass doors of Victory Mansions, though not quickly enough to prevent a swirl of gritty dust from entering'),\n",
       " Document(metadata={'source': './files/chapter_one.docx'}, page_content='into his breast in an effort to escape the vile wind, slipped quickly through the glass doors of Victory Mansions, though not quickly enough to prevent a swirl of gritty dust from entering along with'),\n",
       " Document(metadata={'source': './files/chapter_one.docx'}, page_content='his breast in an effort to escape the vile wind, slipped quickly through the glass doors of Victory Mansions, though not quickly enough to prevent a swirl of gritty dust from entering along with him.'),\n",
       " Document(metadata={'source': './files/chapter_one.docx'}, page_content='The hallway smelt of boiled cabbage and old rag mats. At one end of it a coloured poster, too large for indoor display, had been tacked to the wall. It depicted simply an enormous face, more than a'),\n",
       " Document(metadata={'source': './files/chapter_one.docx'}, page_content='hallway smelt of boiled cabbage and old rag mats. At one end of it a coloured poster, too large for indoor display, had been tacked to the wall. It depicted simply an enormous face, more than a metre'),\n",
       " Document(metadata={'source': './files/chapter_one.docx'}, page_content='smelt of boiled cabbage and old rag mats. At one end of it a coloured poster, too large for indoor display, had been tacked to the wall. It depicted simply an enormous face, more than a metre wide:'),\n",
       " Document(metadata={'source': './files/chapter_one.docx'}, page_content='of boiled cabbage and old rag mats. At one end of it a coloured poster, too large for indoor display, had been tacked to the wall. It depicted simply an enormous face, more than a metre wide: the'),\n",
       " Document(metadata={'source': './files/chapter_one.docx'}, page_content='boiled cabbage and old rag mats. At one end of it a coloured poster, too large for indoor display, had been tacked to the wall. It depicted simply an enormous face, more than a metre wide: the face'),\n",
       " Document(metadata={'source': './files/chapter_one.docx'}, page_content='cabbage and old rag mats. At one end of it a coloured poster, too large for indoor display, had been tacked to the wall. It depicted simply an enormous face, more than a metre wide: the face of a man'),\n",
       " Document(metadata={'source': './files/chapter_one.docx'}, page_content='and old rag mats. At one end of it a coloured poster, too large for indoor display, had been tacked to the wall. It depicted simply an enormous face, more than a metre wide: the face of a man of'),\n",
       " Document(metadata={'source': './files/chapter_one.docx'}, page_content='old rag mats. At one end of it a coloured poster, too large for indoor display, had been tacked to the wall. It depicted simply an enormous face, more than a metre wide: the face of a man of about'),\n",
       " Document(metadata={'source': './files/chapter_one.docx'}, page_content='At one end of it a coloured poster, too large for indoor display, had been tacked to the wall. It depicted simply an enormous face, more than a metre wide: the face of a man of about forty-five, with'),\n",
       " Document(metadata={'source': './files/chapter_one.docx'}, page_content='one end of it a coloured poster, too large for indoor display, had been tacked to the wall. It depicted simply an enormous face, more than a metre wide: the face of a man of about forty-five, with a'),\n",
       " Document(metadata={'source': './files/chapter_one.docx'}, page_content='of it a coloured poster, too large for indoor display, had been tacked to the wall. It depicted simply an enormous face, more than a metre wide: the face of a man of about forty-five, with a heavy'),\n",
       " Document(metadata={'source': './files/chapter_one.docx'}, page_content='it a coloured poster, too large for indoor display, had been tacked to the wall. It depicted simply an enormous face, more than a metre wide: the face of a man of about forty-five, with a heavy black'),\n",
       " Document(metadata={'source': './files/chapter_one.docx'}, page_content='poster, too large for indoor display, had been tacked to the wall. It depicted simply an enormous face, more than a metre wide: the face of a man of about forty-five, with a heavy black moustache and'),\n",
       " Document(metadata={'source': './files/chapter_one.docx'}, page_content='large for indoor display, had been tacked to the wall. It depicted simply an enormous face, more than a metre wide: the face of a man of about forty-five, with a heavy black moustache and ruggedly'),\n",
       " Document(metadata={'source': './files/chapter_one.docx'}, page_content='for indoor display, had been tacked to the wall. It depicted simply an enormous face, more than a metre wide: the face of a man of about forty-five, with a heavy black moustache and ruggedly handsome'),\n",
       " Document(metadata={'source': './files/chapter_one.docx'}, page_content='display, had been tacked to the wall. It depicted simply an enormous face, more than a metre wide: the face of a man of about forty-five, with a heavy black moustache and ruggedly handsome features.'),\n",
       " Document(metadata={'source': './files/chapter_one.docx'}, page_content='had been tacked to the wall. It depicted simply an enormous face, more than a metre wide: the face of a man of about forty-five, with a heavy black moustache and ruggedly handsome features. Winston'),\n",
       " Document(metadata={'source': './files/chapter_one.docx'}, page_content='been tacked to the wall. It depicted simply an enormous face, more than a metre wide: the face of a man of about forty-five, with a heavy black moustache and ruggedly handsome features. Winston made'),\n",
       " Document(metadata={'source': './files/chapter_one.docx'}, page_content='tacked to the wall. It depicted simply an enormous face, more than a metre wide: the face of a man of about forty-five, with a heavy black moustache and ruggedly handsome features. Winston made for'),\n",
       " Document(metadata={'source': './files/chapter_one.docx'}, page_content='to the wall. It depicted simply an enormous face, more than a metre wide: the face of a man of about forty-five, with a heavy black moustache and ruggedly handsome features. Winston made for the'),\n",
       " Document(metadata={'source': './files/chapter_one.docx'}, page_content='the wall. It depicted simply an enormous face, more than a metre wide: the face of a man of about forty-five, with a heavy black moustache and ruggedly handsome features. Winston made for the stairs.'),\n",
       " Document(metadata={'source': './files/chapter_one.docx'}, page_content='wall. It depicted simply an enormous face, more than a metre wide: the face of a man of about forty-five, with a heavy black moustache and ruggedly handsome features. Winston made for the stairs. It'),\n",
       " Document(metadata={'source': './files/chapter_one.docx'}, page_content='It depicted simply an enormous face, more than a metre wide: the face of a man of about forty-five, with a heavy black moustache and ruggedly handsome features. Winston made for the stairs. It was no'),\n",
       " Document(metadata={'source': './files/chapter_one.docx'}, page_content='simply an enormous face, more than a metre wide: the face of a man of about forty-five, with a heavy black moustache and ruggedly handsome features. Winston made for the stairs. It was no use trying'),\n",
       " Document(metadata={'source': './files/chapter_one.docx'}, page_content='an enormous face, more than a metre wide: the face of a man of about forty-five, with a heavy black moustache and ruggedly handsome features. Winston made for the stairs. It was no use trying the'),\n",
       " Document(metadata={'source': './files/chapter_one.docx'}, page_content='enormous face, more than a metre wide: the face of a man of about forty-five, with a heavy black moustache and ruggedly handsome features. Winston made for the stairs. It was no use trying the lift.'),\n",
       " Document(metadata={'source': './files/chapter_one.docx'}, page_content='face, more than a metre wide: the face of a man of about forty-five, with a heavy black moustache and ruggedly handsome features. Winston made for the stairs. It was no use trying the lift. Even at'),\n",
       " Document(metadata={'source': './files/chapter_one.docx'}, page_content='more than a metre wide: the face of a man of about forty-five, with a heavy black moustache and ruggedly handsome features. Winston made for the stairs. It was no use trying the lift. Even at the'),\n",
       " Document(metadata={'source': './files/chapter_one.docx'}, page_content='than a metre wide: the face of a man of about forty-five, with a heavy black moustache and ruggedly handsome features. Winston made for the stairs. It was no use trying the lift. Even at the best of'),\n",
       " Document(metadata={'source': './files/chapter_one.docx'}, page_content='a metre wide: the face of a man of about forty-five, with a heavy black moustache and ruggedly handsome features. Winston made for the stairs. It was no use trying the lift. Even at the best of times'),\n",
       " Document(metadata={'source': './files/chapter_one.docx'}, page_content='wide: the face of a man of about forty-five, with a heavy black moustache and ruggedly handsome features. Winston made for the stairs. It was no use trying the lift. Even at the best of times it was'),\n",
       " Document(metadata={'source': './files/chapter_one.docx'}, page_content='the face of a man of about forty-five, with a heavy black moustache and ruggedly handsome features. Winston made for the stairs. It was no use trying the lift. Even at the best of times it was seldom'),\n",
       " Document(metadata={'source': './files/chapter_one.docx'}, page_content='of a man of about forty-five, with a heavy black moustache and ruggedly handsome features. Winston made for the stairs. It was no use trying the lift. Even at the best of times it was seldom working,'),\n",
       " Document(metadata={'source': './files/chapter_one.docx'}, page_content='man of about forty-five, with a heavy black moustache and ruggedly handsome features. Winston made for the stairs. It was no use trying the lift. Even at the best of times it was seldom working, and'),\n",
       " Document(metadata={'source': './files/chapter_one.docx'}, page_content='of about forty-five, with a heavy black moustache and ruggedly handsome features. Winston made for the stairs. It was no use trying the lift. Even at the best of times it was seldom working, and at'),\n",
       " Document(metadata={'source': './files/chapter_one.docx'}, page_content='forty-five, with a heavy black moustache and ruggedly handsome features. Winston made for the stairs. It was no use trying the lift. Even at the best of times it was seldom working, and at present'),\n",
       " Document(metadata={'source': './files/chapter_one.docx'}, page_content='with a heavy black moustache and ruggedly handsome features. Winston made for the stairs. It was no use trying the lift. Even at the best of times it was seldom working, and at present the electric'),\n",
       " Document(metadata={'source': './files/chapter_one.docx'}, page_content='heavy black moustache and ruggedly handsome features. Winston made for the stairs. It was no use trying the lift. Even at the best of times it was seldom working, and at present the electric current'),\n",
       " Document(metadata={'source': './files/chapter_one.docx'}, page_content='black moustache and ruggedly handsome features. Winston made for the stairs. It was no use trying the lift. Even at the best of times it was seldom working, and at present the electric current was'),\n",
       " Document(metadata={'source': './files/chapter_one.docx'}, page_content='moustache and ruggedly handsome features. Winston made for the stairs. It was no use trying the lift. Even at the best of times it was seldom working, and at present the electric current was cut off'),\n",
       " Document(metadata={'source': './files/chapter_one.docx'}, page_content='and ruggedly handsome features. Winston made for the stairs. It was no use trying the lift. Even at the best of times it was seldom working, and at present the electric current was cut off during'),\n",
       " Document(metadata={'source': './files/chapter_one.docx'}, page_content='handsome features. Winston made for the stairs. It was no use trying the lift. Even at the best of times it was seldom working, and at present the electric current was cut off during daylight hours.'),\n",
       " Document(metadata={'source': './files/chapter_one.docx'}, page_content='features. Winston made for the stairs. It was no use trying the lift. Even at the best of times it was seldom working, and at present the electric current was cut off during daylight hours. It was'),\n",
       " Document(metadata={'source': './files/chapter_one.docx'}, page_content='Winston made for the stairs. It was no use trying the lift. Even at the best of times it was seldom working, and at present the electric current was cut off during daylight hours. It was part of the'),\n",
       " Document(metadata={'source': './files/chapter_one.docx'}, page_content='made for the stairs. It was no use trying the lift. Even at the best of times it was seldom working, and at present the electric current was cut off during daylight hours. It was part of the economy'),\n",
       " Document(metadata={'source': './files/chapter_one.docx'}, page_content='for the stairs. It was no use trying the lift. Even at the best of times it was seldom working, and at present the electric current was cut off during daylight hours. It was part of the economy drive'),\n",
       " Document(metadata={'source': './files/chapter_one.docx'}, page_content='the stairs. It was no use trying the lift. Even at the best of times it was seldom working, and at present the electric current was cut off during daylight hours. It was part of the economy drive in'),\n",
       " Document(metadata={'source': './files/chapter_one.docx'}, page_content='It was no use trying the lift. Even at the best of times it was seldom working, and at present the electric current was cut off during daylight hours. It was part of the economy drive in preparation'),\n",
       " Document(metadata={'source': './files/chapter_one.docx'}, page_content='was no use trying the lift. Even at the best of times it was seldom working, and at present the electric current was cut off during daylight hours. It was part of the economy drive in preparation for'),\n",
       " Document(metadata={'source': './files/chapter_one.docx'}, page_content='use trying the lift. Even at the best of times it was seldom working, and at present the electric current was cut off during daylight hours. It was part of the economy drive in preparation for Hate'),\n",
       " Document(metadata={'source': './files/chapter_one.docx'}, page_content='trying the lift. Even at the best of times it was seldom working, and at present the electric current was cut off during daylight hours. It was part of the economy drive in preparation for Hate Week.'),\n",
       " Document(metadata={'source': './files/chapter_one.docx'}, page_content='the lift. Even at the best of times it was seldom working, and at present the electric current was cut off during daylight hours. It was part of the economy drive in preparation for Hate Week. The'),\n",
       " Document(metadata={'source': './files/chapter_one.docx'}, page_content='lift. Even at the best of times it was seldom working, and at present the electric current was cut off during daylight hours. It was part of the economy drive in preparation for Hate Week. The flat'),\n",
       " Document(metadata={'source': './files/chapter_one.docx'}, page_content='Even at the best of times it was seldom working, and at present the electric current was cut off during daylight hours. It was part of the economy drive in preparation for Hate Week. The flat was'),\n",
       " Document(metadata={'source': './files/chapter_one.docx'}, page_content='at the best of times it was seldom working, and at present the electric current was cut off during daylight hours. It was part of the economy drive in preparation for Hate Week. The flat was seven'),\n",
       " Document(metadata={'source': './files/chapter_one.docx'}, page_content='best of times it was seldom working, and at present the electric current was cut off during daylight hours. It was part of the economy drive in preparation for Hate Week. The flat was seven flights'),\n",
       " Document(metadata={'source': './files/chapter_one.docx'}, page_content='of times it was seldom working, and at present the electric current was cut off during daylight hours. It was part of the economy drive in preparation for Hate Week. The flat was seven flights up,'),\n",
       " Document(metadata={'source': './files/chapter_one.docx'}, page_content='times it was seldom working, and at present the electric current was cut off during daylight hours. It was part of the economy drive in preparation for Hate Week. The flat was seven flights up, and'),\n",
       " Document(metadata={'source': './files/chapter_one.docx'}, page_content='was seldom working, and at present the electric current was cut off during daylight hours. It was part of the economy drive in preparation for Hate Week. The flat was seven flights up, and Winston,'),\n",
       " Document(metadata={'source': './files/chapter_one.docx'}, page_content='seldom working, and at present the electric current was cut off during daylight hours. It was part of the economy drive in preparation for Hate Week. The flat was seven flights up, and Winston, who'),\n",
       " Document(metadata={'source': './files/chapter_one.docx'}, page_content='working, and at present the electric current was cut off during daylight hours. It was part of the economy drive in preparation for Hate Week. The flat was seven flights up, and Winston, who was'),\n",
       " Document(metadata={'source': './files/chapter_one.docx'}, page_content='and at present the electric current was cut off during daylight hours. It was part of the economy drive in preparation for Hate Week. The flat was seven flights up, and Winston, who was thirty-nine'),\n",
       " Document(metadata={'source': './files/chapter_one.docx'}, page_content='at present the electric current was cut off during daylight hours. It was part of the economy drive in preparation for Hate Week. The flat was seven flights up, and Winston, who was thirty-nine and'),\n",
       " Document(metadata={'source': './files/chapter_one.docx'}, page_content='present the electric current was cut off during daylight hours. It was part of the economy drive in preparation for Hate Week. The flat was seven flights up, and Winston, who was thirty-nine and had'),\n",
       " Document(metadata={'source': './files/chapter_one.docx'}, page_content='the electric current was cut off during daylight hours. It was part of the economy drive in preparation for Hate Week. The flat was seven flights up, and Winston, who was thirty-nine and had a'),\n",
       " Document(metadata={'source': './files/chapter_one.docx'}, page_content='electric current was cut off during daylight hours. It was part of the economy drive in preparation for Hate Week. The flat was seven flights up, and Winston, who was thirty-nine and had a varicose'),\n",
       " Document(metadata={'source': './files/chapter_one.docx'}, page_content='current was cut off during daylight hours. It was part of the economy drive in preparation for Hate Week. The flat was seven flights up, and Winston, who was thirty-nine and had a varicose ulcer'),\n",
       " Document(metadata={'source': './files/chapter_one.docx'}, page_content='was cut off during daylight hours. It was part of the economy drive in preparation for Hate Week. The flat was seven flights up, and Winston, who was thirty-nine and had a varicose ulcer above his'),\n",
       " Document(metadata={'source': './files/chapter_one.docx'}, page_content='cut off during daylight hours. It was part of the economy drive in preparation for Hate Week. The flat was seven flights up, and Winston, who was thirty-nine and had a varicose ulcer above his right'),\n",
       " Document(metadata={'source': './files/chapter_one.docx'}, page_content='during daylight hours. It was part of the economy drive in preparation for Hate Week. The flat was seven flights up, and Winston, who was thirty-nine and had a varicose ulcer above his right ankle,'),\n",
       " Document(metadata={'source': './files/chapter_one.docx'}, page_content='daylight hours. It was part of the economy drive in preparation for Hate Week. The flat was seven flights up, and Winston, who was thirty-nine and had a varicose ulcer above his right ankle, went'),\n",
       " Document(metadata={'source': './files/chapter_one.docx'}, page_content='hours. It was part of the economy drive in preparation for Hate Week. The flat was seven flights up, and Winston, who was thirty-nine and had a varicose ulcer above his right ankle, went slowly,'),\n",
       " Document(metadata={'source': './files/chapter_one.docx'}, page_content='It was part of the economy drive in preparation for Hate Week. The flat was seven flights up, and Winston, who was thirty-nine and had a varicose ulcer above his right ankle, went slowly, resting'),\n",
       " Document(metadata={'source': './files/chapter_one.docx'}, page_content='part of the economy drive in preparation for Hate Week. The flat was seven flights up, and Winston, who was thirty-nine and had a varicose ulcer above his right ankle, went slowly, resting several'),\n",
       " Document(metadata={'source': './files/chapter_one.docx'}, page_content='of the economy drive in preparation for Hate Week. The flat was seven flights up, and Winston, who was thirty-nine and had a varicose ulcer above his right ankle, went slowly, resting several times'),\n",
       " Document(metadata={'source': './files/chapter_one.docx'}, page_content='the economy drive in preparation for Hate Week. The flat was seven flights up, and Winston, who was thirty-nine and had a varicose ulcer above his right ankle, went slowly, resting several times on'),\n",
       " Document(metadata={'source': './files/chapter_one.docx'}, page_content='economy drive in preparation for Hate Week. The flat was seven flights up, and Winston, who was thirty-nine and had a varicose ulcer above his right ankle, went slowly, resting several times on the'),\n",
       " Document(metadata={'source': './files/chapter_one.docx'}, page_content='drive in preparation for Hate Week. The flat was seven flights up, and Winston, who was thirty-nine and had a varicose ulcer above his right ankle, went slowly, resting several times on the way. On'),\n",
       " Document(metadata={'source': './files/chapter_one.docx'}, page_content='in preparation for Hate Week. The flat was seven flights up, and Winston, who was thirty-nine and had a varicose ulcer above his right ankle, went slowly, resting several times on the way. On each'),\n",
       " Document(metadata={'source': './files/chapter_one.docx'}, page_content='for Hate Week. The flat was seven flights up, and Winston, who was thirty-nine and had a varicose ulcer above his right ankle, went slowly, resting several times on the way. On each landing, opposite'),\n",
       " Document(metadata={'source': './files/chapter_one.docx'}, page_content='Hate Week. The flat was seven flights up, and Winston, who was thirty-nine and had a varicose ulcer above his right ankle, went slowly, resting several times on the way. On each landing, opposite the'),\n",
       " Document(metadata={'source': './files/chapter_one.docx'}, page_content='flat was seven flights up, and Winston, who was thirty-nine and had a varicose ulcer above his right ankle, went slowly, resting several times on the way. On each landing, opposite the lift-shaft,'),\n",
       " Document(metadata={'source': './files/chapter_one.docx'}, page_content='was seven flights up, and Winston, who was thirty-nine and had a varicose ulcer above his right ankle, went slowly, resting several times on the way. On each landing, opposite the lift-shaft, the'),\n",
       " Document(metadata={'source': './files/chapter_one.docx'}, page_content='seven flights up, and Winston, who was thirty-nine and had a varicose ulcer above his right ankle, went slowly, resting several times on the way. On each landing, opposite the lift-shaft, the poster'),\n",
       " Document(metadata={'source': './files/chapter_one.docx'}, page_content='flights up, and Winston, who was thirty-nine and had a varicose ulcer above his right ankle, went slowly, resting several times on the way. On each landing, opposite the lift-shaft, the poster with'),\n",
       " Document(metadata={'source': './files/chapter_one.docx'}, page_content='up, and Winston, who was thirty-nine and had a varicose ulcer above his right ankle, went slowly, resting several times on the way. On each landing, opposite the lift-shaft, the poster with the'),\n",
       " Document(metadata={'source': './files/chapter_one.docx'}, page_content='and Winston, who was thirty-nine and had a varicose ulcer above his right ankle, went slowly, resting several times on the way. On each landing, opposite the lift-shaft, the poster with the enormous'),\n",
       " Document(metadata={'source': './files/chapter_one.docx'}, page_content='Winston, who was thirty-nine and had a varicose ulcer above his right ankle, went slowly, resting several times on the way. On each landing, opposite the lift-shaft, the poster with the enormous face'),\n",
       " Document(metadata={'source': './files/chapter_one.docx'}, page_content='who was thirty-nine and had a varicose ulcer above his right ankle, went slowly, resting several times on the way. On each landing, opposite the lift-shaft, the poster with the enormous face gazed'),\n",
       " Document(metadata={'source': './files/chapter_one.docx'}, page_content='was thirty-nine and had a varicose ulcer above his right ankle, went slowly, resting several times on the way. On each landing, opposite the lift-shaft, the poster with the enormous face gazed from'),\n",
       " Document(metadata={'source': './files/chapter_one.docx'}, page_content='thirty-nine and had a varicose ulcer above his right ankle, went slowly, resting several times on the way. On each landing, opposite the lift-shaft, the poster with the enormous face gazed from the'),\n",
       " Document(metadata={'source': './files/chapter_one.docx'}, page_content='and had a varicose ulcer above his right ankle, went slowly, resting several times on the way. On each landing, opposite the lift-shaft, the poster with the enormous face gazed from the wall. It was'),\n",
       " Document(metadata={'source': './files/chapter_one.docx'}, page_content='had a varicose ulcer above his right ankle, went slowly, resting several times on the way. On each landing, opposite the lift-shaft, the poster with the enormous face gazed from the wall. It was one'),\n",
       " Document(metadata={'source': './files/chapter_one.docx'}, page_content='a varicose ulcer above his right ankle, went slowly, resting several times on the way. On each landing, opposite the lift-shaft, the poster with the enormous face gazed from the wall. It was one of'),\n",
       " Document(metadata={'source': './files/chapter_one.docx'}, page_content='ulcer above his right ankle, went slowly, resting several times on the way. On each landing, opposite the lift-shaft, the poster with the enormous face gazed from the wall. It was one of those'),\n",
       " Document(metadata={'source': './files/chapter_one.docx'}, page_content='above his right ankle, went slowly, resting several times on the way. On each landing, opposite the lift-shaft, the poster with the enormous face gazed from the wall. It was one of those pictures'),\n",
       " Document(metadata={'source': './files/chapter_one.docx'}, page_content='his right ankle, went slowly, resting several times on the way. On each landing, opposite the lift-shaft, the poster with the enormous face gazed from the wall. It was one of those pictures which are'),\n",
       " Document(metadata={'source': './files/chapter_one.docx'}, page_content='right ankle, went slowly, resting several times on the way. On each landing, opposite the lift-shaft, the poster with the enormous face gazed from the wall. It was one of those pictures which are so'),\n",
       " Document(metadata={'source': './files/chapter_one.docx'}, page_content='went slowly, resting several times on the way. On each landing, opposite the lift-shaft, the poster with the enormous face gazed from the wall. It was one of those pictures which are so contrived'),\n",
       " Document(metadata={'source': './files/chapter_one.docx'}, page_content='slowly, resting several times on the way. On each landing, opposite the lift-shaft, the poster with the enormous face gazed from the wall. It was one of those pictures which are so contrived that the'),\n",
       " Document(metadata={'source': './files/chapter_one.docx'}, page_content='resting several times on the way. On each landing, opposite the lift-shaft, the poster with the enormous face gazed from the wall. It was one of those pictures which are so contrived that the eyes'),\n",
       " Document(metadata={'source': './files/chapter_one.docx'}, page_content='several times on the way. On each landing, opposite the lift-shaft, the poster with the enormous face gazed from the wall. It was one of those pictures which are so contrived that the eyes follow you'),\n",
       " Document(metadata={'source': './files/chapter_one.docx'}, page_content='times on the way. On each landing, opposite the lift-shaft, the poster with the enormous face gazed from the wall. It was one of those pictures which are so contrived that the eyes follow you about'),\n",
       " Document(metadata={'source': './files/chapter_one.docx'}, page_content='on the way. On each landing, opposite the lift-shaft, the poster with the enormous face gazed from the wall. It was one of those pictures which are so contrived that the eyes follow you about when'),\n",
       " Document(metadata={'source': './files/chapter_one.docx'}, page_content='the way. On each landing, opposite the lift-shaft, the poster with the enormous face gazed from the wall. It was one of those pictures which are so contrived that the eyes follow you about when you'),\n",
       " Document(metadata={'source': './files/chapter_one.docx'}, page_content='way. On each landing, opposite the lift-shaft, the poster with the enormous face gazed from the wall. It was one of those pictures which are so contrived that the eyes follow you about when you move.'),\n",
       " Document(metadata={'source': './files/chapter_one.docx'}, page_content='On each landing, opposite the lift-shaft, the poster with the enormous face gazed from the wall. It was one of those pictures which are so contrived that the eyes follow you about when you move. BIG'),\n",
       " Document(metadata={'source': './files/chapter_one.docx'}, page_content='landing, opposite the lift-shaft, the poster with the enormous face gazed from the wall. It was one of those pictures which are so contrived that the eyes follow you about when you move. BIG BROTHER'),\n",
       " Document(metadata={'source': './files/chapter_one.docx'}, page_content='opposite the lift-shaft, the poster with the enormous face gazed from the wall. It was one of those pictures which are so contrived that the eyes follow you about when you move. BIG BROTHER IS'),\n",
       " Document(metadata={'source': './files/chapter_one.docx'}, page_content='the lift-shaft, the poster with the enormous face gazed from the wall. It was one of those pictures which are so contrived that the eyes follow you about when you move. BIG BROTHER IS WATCHING YOU,'),\n",
       " Document(metadata={'source': './files/chapter_one.docx'}, page_content='lift-shaft, the poster with the enormous face gazed from the wall. It was one of those pictures which are so contrived that the eyes follow you about when you move. BIG BROTHER IS WATCHING YOU, the'),\n",
       " Document(metadata={'source': './files/chapter_one.docx'}, page_content='the poster with the enormous face gazed from the wall. It was one of those pictures which are so contrived that the eyes follow you about when you move. BIG BROTHER IS WATCHING YOU, the caption'),\n",
       " Document(metadata={'source': './files/chapter_one.docx'}, page_content='poster with the enormous face gazed from the wall. It was one of those pictures which are so contrived that the eyes follow you about when you move. BIG BROTHER IS WATCHING YOU, the caption beneath'),\n",
       " Document(metadata={'source': './files/chapter_one.docx'}, page_content='with the enormous face gazed from the wall. It was one of those pictures which are so contrived that the eyes follow you about when you move. BIG BROTHER IS WATCHING YOU, the caption beneath it ran.'),\n",
       " Document(metadata={'source': './files/chapter_one.docx'}, page_content='Inside the flat a fruity voice was reading out a list of figures which had something to do with the production of pig-iron. The voice came from an oblong metal plaque like a dulled mirror which'),\n",
       " Document(metadata={'source': './files/chapter_one.docx'}, page_content='the flat a fruity voice was reading out a list of figures which had something to do with the production of pig-iron. The voice came from an oblong metal plaque like a dulled mirror which formed part'),\n",
       " Document(metadata={'source': './files/chapter_one.docx'}, page_content='flat a fruity voice was reading out a list of figures which had something to do with the production of pig-iron. The voice came from an oblong metal plaque like a dulled mirror which formed part of'),\n",
       " Document(metadata={'source': './files/chapter_one.docx'}, page_content='a fruity voice was reading out a list of figures which had something to do with the production of pig-iron. The voice came from an oblong metal plaque like a dulled mirror which formed part of the'),\n",
       " Document(metadata={'source': './files/chapter_one.docx'}, page_content='voice was reading out a list of figures which had something to do with the production of pig-iron. The voice came from an oblong metal plaque like a dulled mirror which formed part of the surface of'),\n",
       " Document(metadata={'source': './files/chapter_one.docx'}, page_content='was reading out a list of figures which had something to do with the production of pig-iron. The voice came from an oblong metal plaque like a dulled mirror which formed part of the surface of the'),\n",
       " Document(metadata={'source': './files/chapter_one.docx'}, page_content='out a list of figures which had something to do with the production of pig-iron. The voice came from an oblong metal plaque like a dulled mirror which formed part of the surface of the right-hand'),\n",
       " Document(metadata={'source': './files/chapter_one.docx'}, page_content='a list of figures which had something to do with the production of pig-iron. The voice came from an oblong metal plaque like a dulled mirror which formed part of the surface of the right-hand wall.'),\n",
       " Document(metadata={'source': './files/chapter_one.docx'}, page_content='of figures which had something to do with the production of pig-iron. The voice came from an oblong metal plaque like a dulled mirror which formed part of the surface of the right-hand wall. Winston'),\n",
       " Document(metadata={'source': './files/chapter_one.docx'}, page_content='which had something to do with the production of pig-iron. The voice came from an oblong metal plaque like a dulled mirror which formed part of the surface of the right-hand wall. Winston turned a'),\n",
       " Document(metadata={'source': './files/chapter_one.docx'}, page_content='had something to do with the production of pig-iron. The voice came from an oblong metal plaque like a dulled mirror which formed part of the surface of the right-hand wall. Winston turned a switch'),\n",
       " Document(metadata={'source': './files/chapter_one.docx'}, page_content='something to do with the production of pig-iron. The voice came from an oblong metal plaque like a dulled mirror which formed part of the surface of the right-hand wall. Winston turned a switch and'),\n",
       " Document(metadata={'source': './files/chapter_one.docx'}, page_content='to do with the production of pig-iron. The voice came from an oblong metal plaque like a dulled mirror which formed part of the surface of the right-hand wall. Winston turned a switch and the voice'),\n",
       " Document(metadata={'source': './files/chapter_one.docx'}, page_content='do with the production of pig-iron. The voice came from an oblong metal plaque like a dulled mirror which formed part of the surface of the right-hand wall. Winston turned a switch and the voice sank'),\n",
       " Document(metadata={'source': './files/chapter_one.docx'}, page_content='production of pig-iron. The voice came from an oblong metal plaque like a dulled mirror which formed part of the surface of the right-hand wall. Winston turned a switch and the voice sank somewhat,'),\n",
       " Document(metadata={'source': './files/chapter_one.docx'}, page_content='of pig-iron. The voice came from an oblong metal plaque like a dulled mirror which formed part of the surface of the right-hand wall. Winston turned a switch and the voice sank somewhat, though the'),\n",
       " Document(metadata={'source': './files/chapter_one.docx'}, page_content='The voice came from an oblong metal plaque like a dulled mirror which formed part of the surface of the right-hand wall. Winston turned a switch and the voice sank somewhat, though the words were'),\n",
       " Document(metadata={'source': './files/chapter_one.docx'}, page_content='voice came from an oblong metal plaque like a dulled mirror which formed part of the surface of the right-hand wall. Winston turned a switch and the voice sank somewhat, though the words were still'),\n",
       " Document(metadata={'source': './files/chapter_one.docx'}, page_content='an oblong metal plaque like a dulled mirror which formed part of the surface of the right-hand wall. Winston turned a switch and the voice sank somewhat, though the words were still distinguishable.'),\n",
       " Document(metadata={'source': './files/chapter_one.docx'}, page_content='oblong metal plaque like a dulled mirror which formed part of the surface of the right-hand wall. Winston turned a switch and the voice sank somewhat, though the words were still distinguishable. The'),\n",
       " Document(metadata={'source': './files/chapter_one.docx'}, page_content='plaque like a dulled mirror which formed part of the surface of the right-hand wall. Winston turned a switch and the voice sank somewhat, though the words were still distinguishable. The instrument'),\n",
       " Document(metadata={'source': './files/chapter_one.docx'}, page_content='like a dulled mirror which formed part of the surface of the right-hand wall. Winston turned a switch and the voice sank somewhat, though the words were still distinguishable. The instrument (the'),\n",
       " Document(metadata={'source': './files/chapter_one.docx'}, page_content='mirror which formed part of the surface of the right-hand wall. Winston turned a switch and the voice sank somewhat, though the words were still distinguishable. The instrument (the telescreen, it'),\n",
       " Document(metadata={'source': './files/chapter_one.docx'}, page_content='which formed part of the surface of the right-hand wall. Winston turned a switch and the voice sank somewhat, though the words were still distinguishable. The instrument (the telescreen, it was'),\n",
       " Document(metadata={'source': './files/chapter_one.docx'}, page_content='formed part of the surface of the right-hand wall. Winston turned a switch and the voice sank somewhat, though the words were still distinguishable. The instrument (the telescreen, it was called)'),\n",
       " Document(metadata={'source': './files/chapter_one.docx'}, page_content='part of the surface of the right-hand wall. Winston turned a switch and the voice sank somewhat, though the words were still distinguishable. The instrument (the telescreen, it was called) could be'),\n",
       " Document(metadata={'source': './files/chapter_one.docx'}, page_content='the surface of the right-hand wall. Winston turned a switch and the voice sank somewhat, though the words were still distinguishable. The instrument (the telescreen, it was called) could be dimmed,'),\n",
       " Document(metadata={'source': './files/chapter_one.docx'}, page_content='surface of the right-hand wall. Winston turned a switch and the voice sank somewhat, though the words were still distinguishable. The instrument (the telescreen, it was called) could be dimmed, but'),\n",
       " Document(metadata={'source': './files/chapter_one.docx'}, page_content='of the right-hand wall. Winston turned a switch and the voice sank somewhat, though the words were still distinguishable. The instrument (the telescreen, it was called) could be dimmed, but there was'),\n",
       " Document(metadata={'source': './files/chapter_one.docx'}, page_content='the right-hand wall. Winston turned a switch and the voice sank somewhat, though the words were still distinguishable. The instrument (the telescreen, it was called) could be dimmed, but there was no'),\n",
       " Document(metadata={'source': './files/chapter_one.docx'}, page_content='right-hand wall. Winston turned a switch and the voice sank somewhat, though the words were still distinguishable. The instrument (the telescreen, it was called) could be dimmed, but there was no way'),\n",
       " Document(metadata={'source': './files/chapter_one.docx'}, page_content='wall. Winston turned a switch and the voice sank somewhat, though the words were still distinguishable. The instrument (the telescreen, it was called) could be dimmed, but there was no way of'),\n",
       " Document(metadata={'source': './files/chapter_one.docx'}, page_content='Winston turned a switch and the voice sank somewhat, though the words were still distinguishable. The instrument (the telescreen, it was called) could be dimmed, but there was no way of shutting it'),\n",
       " Document(metadata={'source': './files/chapter_one.docx'}, page_content='turned a switch and the voice sank somewhat, though the words were still distinguishable. The instrument (the telescreen, it was called) could be dimmed, but there was no way of shutting it off'),\n",
       " Document(metadata={'source': './files/chapter_one.docx'}, page_content='a switch and the voice sank somewhat, though the words were still distinguishable. The instrument (the telescreen, it was called) could be dimmed, but there was no way of shutting it off completely.'),\n",
       " Document(metadata={'source': './files/chapter_one.docx'}, page_content='switch and the voice sank somewhat, though the words were still distinguishable. The instrument (the telescreen, it was called) could be dimmed, but there was no way of shutting it off completely. He'),\n",
       " Document(metadata={'source': './files/chapter_one.docx'}, page_content='and the voice sank somewhat, though the words were still distinguishable. The instrument (the telescreen, it was called) could be dimmed, but there was no way of shutting it off completely. He moved'),\n",
       " Document(metadata={'source': './files/chapter_one.docx'}, page_content='the voice sank somewhat, though the words were still distinguishable. The instrument (the telescreen, it was called) could be dimmed, but there was no way of shutting it off completely. He moved over'),\n",
       " Document(metadata={'source': './files/chapter_one.docx'}, page_content='voice sank somewhat, though the words were still distinguishable. The instrument (the telescreen, it was called) could be dimmed, but there was no way of shutting it off completely. He moved over to'),\n",
       " Document(metadata={'source': './files/chapter_one.docx'}, page_content='sank somewhat, though the words were still distinguishable. The instrument (the telescreen, it was called) could be dimmed, but there was no way of shutting it off completely. He moved over to the'),\n",
       " Document(metadata={'source': './files/chapter_one.docx'}, page_content='somewhat, though the words were still distinguishable. The instrument (the telescreen, it was called) could be dimmed, but there was no way of shutting it off completely. He moved over to the window:'),\n",
       " Document(metadata={'source': './files/chapter_one.docx'}, page_content='though the words were still distinguishable. The instrument (the telescreen, it was called) could be dimmed, but there was no way of shutting it off completely. He moved over to the window: a'),\n",
       " Document(metadata={'source': './files/chapter_one.docx'}, page_content='the words were still distinguishable. The instrument (the telescreen, it was called) could be dimmed, but there was no way of shutting it off completely. He moved over to the window: a smallish,'),\n",
       " Document(metadata={'source': './files/chapter_one.docx'}, page_content='words were still distinguishable. The instrument (the telescreen, it was called) could be dimmed, but there was no way of shutting it off completely. He moved over to the window: a smallish, frail'),\n",
       " Document(metadata={'source': './files/chapter_one.docx'}, page_content='were still distinguishable. The instrument (the telescreen, it was called) could be dimmed, but there was no way of shutting it off completely. He moved over to the window: a smallish, frail figure,'),\n",
       " Document(metadata={'source': './files/chapter_one.docx'}, page_content='still distinguishable. The instrument (the telescreen, it was called) could be dimmed, but there was no way of shutting it off completely. He moved over to the window: a smallish, frail figure, the'),\n",
       " Document(metadata={'source': './files/chapter_one.docx'}, page_content='The instrument (the telescreen, it was called) could be dimmed, but there was no way of shutting it off completely. He moved over to the window: a smallish, frail figure, the meagreness of his body'),\n",
       " Document(metadata={'source': './files/chapter_one.docx'}, page_content='(the telescreen, it was called) could be dimmed, but there was no way of shutting it off completely. He moved over to the window: a smallish, frail figure, the meagreness of his body merely'),\n",
       " Document(metadata={'source': './files/chapter_one.docx'}, page_content='telescreen, it was called) could be dimmed, but there was no way of shutting it off completely. He moved over to the window: a smallish, frail figure, the meagreness of his body merely emphasized by'),\n",
       " Document(metadata={'source': './files/chapter_one.docx'}, page_content='it was called) could be dimmed, but there was no way of shutting it off completely. He moved over to the window: a smallish, frail figure, the meagreness of his body merely emphasized by the blue'),\n",
       " Document(metadata={'source': './files/chapter_one.docx'}, page_content='called) could be dimmed, but there was no way of shutting it off completely. He moved over to the window: a smallish, frail figure, the meagreness of his body merely emphasized by the blue overalls'),\n",
       " Document(metadata={'source': './files/chapter_one.docx'}, page_content='could be dimmed, but there was no way of shutting it off completely. He moved over to the window: a smallish, frail figure, the meagreness of his body merely emphasized by the blue overalls which'),\n",
       " Document(metadata={'source': './files/chapter_one.docx'}, page_content='be dimmed, but there was no way of shutting it off completely. He moved over to the window: a smallish, frail figure, the meagreness of his body merely emphasized by the blue overalls which were the'),\n",
       " Document(metadata={'source': './files/chapter_one.docx'}, page_content='but there was no way of shutting it off completely. He moved over to the window: a smallish, frail figure, the meagreness of his body merely emphasized by the blue overalls which were the uniform of'),\n",
       " Document(metadata={'source': './files/chapter_one.docx'}, page_content='there was no way of shutting it off completely. He moved over to the window: a smallish, frail figure, the meagreness of his body merely emphasized by the blue overalls which were the uniform of the'),\n",
       " Document(metadata={'source': './files/chapter_one.docx'}, page_content='was no way of shutting it off completely. He moved over to the window: a smallish, frail figure, the meagreness of his body merely emphasized by the blue overalls which were the uniform of the party.'),\n",
       " Document(metadata={'source': './files/chapter_one.docx'}, page_content='no way of shutting it off completely. He moved over to the window: a smallish, frail figure, the meagreness of his body merely emphasized by the blue overalls which were the uniform of the party. His'),\n",
       " Document(metadata={'source': './files/chapter_one.docx'}, page_content='of shutting it off completely. He moved over to the window: a smallish, frail figure, the meagreness of his body merely emphasized by the blue overalls which were the uniform of the party. His hair'),\n",
       " Document(metadata={'source': './files/chapter_one.docx'}, page_content='shutting it off completely. He moved over to the window: a smallish, frail figure, the meagreness of his body merely emphasized by the blue overalls which were the uniform of the party. His hair was'),\n",
       " Document(metadata={'source': './files/chapter_one.docx'}, page_content='it off completely. He moved over to the window: a smallish, frail figure, the meagreness of his body merely emphasized by the blue overalls which were the uniform of the party. His hair was very'),\n",
       " Document(metadata={'source': './files/chapter_one.docx'}, page_content='off completely. He moved over to the window: a smallish, frail figure, the meagreness of his body merely emphasized by the blue overalls which were the uniform of the party. His hair was very fair,'),\n",
       " Document(metadata={'source': './files/chapter_one.docx'}, page_content='completely. He moved over to the window: a smallish, frail figure, the meagreness of his body merely emphasized by the blue overalls which were the uniform of the party. His hair was very fair, his'),\n",
       " Document(metadata={'source': './files/chapter_one.docx'}, page_content='He moved over to the window: a smallish, frail figure, the meagreness of his body merely emphasized by the blue overalls which were the uniform of the party. His hair was very fair, his face'),\n",
       " Document(metadata={'source': './files/chapter_one.docx'}, page_content='moved over to the window: a smallish, frail figure, the meagreness of his body merely emphasized by the blue overalls which were the uniform of the party. His hair was very fair, his face naturally'),\n",
       " Document(metadata={'source': './files/chapter_one.docx'}, page_content='to the window: a smallish, frail figure, the meagreness of his body merely emphasized by the blue overalls which were the uniform of the party. His hair was very fair, his face naturally sanguine,'),\n",
       " Document(metadata={'source': './files/chapter_one.docx'}, page_content='the window: a smallish, frail figure, the meagreness of his body merely emphasized by the blue overalls which were the uniform of the party. His hair was very fair, his face naturally sanguine, his'),\n",
       " Document(metadata={'source': './files/chapter_one.docx'}, page_content='window: a smallish, frail figure, the meagreness of his body merely emphasized by the blue overalls which were the uniform of the party. His hair was very fair, his face naturally sanguine, his skin'),\n",
       " Document(metadata={'source': './files/chapter_one.docx'}, page_content='smallish, frail figure, the meagreness of his body merely emphasized by the blue overalls which were the uniform of the party. His hair was very fair, his face naturally sanguine, his skin roughened'),\n",
       " Document(metadata={'source': './files/chapter_one.docx'}, page_content='frail figure, the meagreness of his body merely emphasized by the blue overalls which were the uniform of the party. His hair was very fair, his face naturally sanguine, his skin roughened by coarse'),\n",
       " Document(metadata={'source': './files/chapter_one.docx'}, page_content='figure, the meagreness of his body merely emphasized by the blue overalls which were the uniform of the party. His hair was very fair, his face naturally sanguine, his skin roughened by coarse soap'),\n",
       " Document(metadata={'source': './files/chapter_one.docx'}, page_content='the meagreness of his body merely emphasized by the blue overalls which were the uniform of the party. His hair was very fair, his face naturally sanguine, his skin roughened by coarse soap and blunt'),\n",
       " Document(metadata={'source': './files/chapter_one.docx'}, page_content='of his body merely emphasized by the blue overalls which were the uniform of the party. His hair was very fair, his face naturally sanguine, his skin roughened by coarse soap and blunt razor blades'),\n",
       " Document(metadata={'source': './files/chapter_one.docx'}, page_content='his body merely emphasized by the blue overalls which were the uniform of the party. His hair was very fair, his face naturally sanguine, his skin roughened by coarse soap and blunt razor blades and'),\n",
       " Document(metadata={'source': './files/chapter_one.docx'}, page_content='body merely emphasized by the blue overalls which were the uniform of the party. His hair was very fair, his face naturally sanguine, his skin roughened by coarse soap and blunt razor blades and the'),\n",
       " Document(metadata={'source': './files/chapter_one.docx'}, page_content='merely emphasized by the blue overalls which were the uniform of the party. His hair was very fair, his face naturally sanguine, his skin roughened by coarse soap and blunt razor blades and the cold'),\n",
       " Document(metadata={'source': './files/chapter_one.docx'}, page_content='emphasized by the blue overalls which were the uniform of the party. His hair was very fair, his face naturally sanguine, his skin roughened by coarse soap and blunt razor blades and the cold of the'),\n",
       " Document(metadata={'source': './files/chapter_one.docx'}, page_content='by the blue overalls which were the uniform of the party. His hair was very fair, his face naturally sanguine, his skin roughened by coarse soap and blunt razor blades and the cold of the winter that'),\n",
       " Document(metadata={'source': './files/chapter_one.docx'}, page_content='blue overalls which were the uniform of the party. His hair was very fair, his face naturally sanguine, his skin roughened by coarse soap and blunt razor blades and the cold of the winter that had'),\n",
       " Document(metadata={'source': './files/chapter_one.docx'}, page_content='overalls which were the uniform of the party. His hair was very fair, his face naturally sanguine, his skin roughened by coarse soap and blunt razor blades and the cold of the winter that had just'),\n",
       " Document(metadata={'source': './files/chapter_one.docx'}, page_content='which were the uniform of the party. His hair was very fair, his face naturally sanguine, his skin roughened by coarse soap and blunt razor blades and the cold of the winter that had just ended.'),\n",
       " Document(metadata={'source': './files/chapter_one.docx'}, page_content='Outside, even through the shut window-pane, the world looked cold. Down in the street little eddies of wind were whirling dust and torn paper into spirals, and though the sun was shining and the sky'),\n",
       " Document(metadata={'source': './files/chapter_one.docx'}, page_content='even through the shut window-pane, the world looked cold. Down in the street little eddies of wind were whirling dust and torn paper into spirals, and though the sun was shining and the sky a harsh'),\n",
       " Document(metadata={'source': './files/chapter_one.docx'}, page_content='through the shut window-pane, the world looked cold. Down in the street little eddies of wind were whirling dust and torn paper into spirals, and though the sun was shining and the sky a harsh blue,'),\n",
       " Document(metadata={'source': './files/chapter_one.docx'}, page_content='the shut window-pane, the world looked cold. Down in the street little eddies of wind were whirling dust and torn paper into spirals, and though the sun was shining and the sky a harsh blue, there'),\n",
       " Document(metadata={'source': './files/chapter_one.docx'}, page_content='shut window-pane, the world looked cold. Down in the street little eddies of wind were whirling dust and torn paper into spirals, and though the sun was shining and the sky a harsh blue, there seemed'),\n",
       " Document(metadata={'source': './files/chapter_one.docx'}, page_content='window-pane, the world looked cold. Down in the street little eddies of wind were whirling dust and torn paper into spirals, and though the sun was shining and the sky a harsh blue, there seemed to'),\n",
       " Document(metadata={'source': './files/chapter_one.docx'}, page_content='the world looked cold. Down in the street little eddies of wind were whirling dust and torn paper into spirals, and though the sun was shining and the sky a harsh blue, there seemed to be no colour'),\n",
       " Document(metadata={'source': './files/chapter_one.docx'}, page_content='world looked cold. Down in the street little eddies of wind were whirling dust and torn paper into spirals, and though the sun was shining and the sky a harsh blue, there seemed to be no colour in'),\n",
       " Document(metadata={'source': './files/chapter_one.docx'}, page_content='cold. Down in the street little eddies of wind were whirling dust and torn paper into spirals, and though the sun was shining and the sky a harsh blue, there seemed to be no colour in anything,'),\n",
       " Document(metadata={'source': './files/chapter_one.docx'}, page_content='Down in the street little eddies of wind were whirling dust and torn paper into spirals, and though the sun was shining and the sky a harsh blue, there seemed to be no colour in anything, except the'),\n",
       " Document(metadata={'source': './files/chapter_one.docx'}, page_content='the street little eddies of wind were whirling dust and torn paper into spirals, and though the sun was shining and the sky a harsh blue, there seemed to be no colour in anything, except the posters'),\n",
       " Document(metadata={'source': './files/chapter_one.docx'}, page_content='street little eddies of wind were whirling dust and torn paper into spirals, and though the sun was shining and the sky a harsh blue, there seemed to be no colour in anything, except the posters that'),\n",
       " Document(metadata={'source': './files/chapter_one.docx'}, page_content='little eddies of wind were whirling dust and torn paper into spirals, and though the sun was shining and the sky a harsh blue, there seemed to be no colour in anything, except the posters that were'),\n",
       " Document(metadata={'source': './files/chapter_one.docx'}, page_content='of wind were whirling dust and torn paper into spirals, and though the sun was shining and the sky a harsh blue, there seemed to be no colour in anything, except the posters that were plastered'),\n",
       " Document(metadata={'source': './files/chapter_one.docx'}, page_content='were whirling dust and torn paper into spirals, and though the sun was shining and the sky a harsh blue, there seemed to be no colour in anything, except the posters that were plastered everywhere.'),\n",
       " Document(metadata={'source': './files/chapter_one.docx'}, page_content='whirling dust and torn paper into spirals, and though the sun was shining and the sky a harsh blue, there seemed to be no colour in anything, except the posters that were plastered everywhere. The'),\n",
       " Document(metadata={'source': './files/chapter_one.docx'}, page_content=\"torn paper into spirals, and though the sun was shining and the sky a harsh blue, there seemed to be no colour in anything, except the posters that were plastered everywhere. The blackmoustachio'd\"),\n",
       " Document(metadata={'source': './files/chapter_one.docx'}, page_content=\"paper into spirals, and though the sun was shining and the sky a harsh blue, there seemed to be no colour in anything, except the posters that were plastered everywhere. The blackmoustachio'd face\"),\n",
       " Document(metadata={'source': './files/chapter_one.docx'}, page_content=\"into spirals, and though the sun was shining and the sky a harsh blue, there seemed to be no colour in anything, except the posters that were plastered everywhere. The blackmoustachio'd face gazed\"),\n",
       " Document(metadata={'source': './files/chapter_one.docx'}, page_content=\"spirals, and though the sun was shining and the sky a harsh blue, there seemed to be no colour in anything, except the posters that were plastered everywhere. The blackmoustachio'd face gazed down\"),\n",
       " Document(metadata={'source': './files/chapter_one.docx'}, page_content=\"and though the sun was shining and the sky a harsh blue, there seemed to be no colour in anything, except the posters that were plastered everywhere. The blackmoustachio'd face gazed down from every\"),\n",
       " Document(metadata={'source': './files/chapter_one.docx'}, page_content=\"the sun was shining and the sky a harsh blue, there seemed to be no colour in anything, except the posters that were plastered everywhere. The blackmoustachio'd face gazed down from every commanding\"),\n",
       " Document(metadata={'source': './files/chapter_one.docx'}, page_content=\"was shining and the sky a harsh blue, there seemed to be no colour in anything, except the posters that were plastered everywhere. The blackmoustachio'd face gazed down from every commanding corner.\"),\n",
       " Document(metadata={'source': './files/chapter_one.docx'}, page_content=\"and the sky a harsh blue, there seemed to be no colour in anything, except the posters that were plastered everywhere. The blackmoustachio'd face gazed down from every commanding corner. There was\"),\n",
       " Document(metadata={'source': './files/chapter_one.docx'}, page_content=\"the sky a harsh blue, there seemed to be no colour in anything, except the posters that were plastered everywhere. The blackmoustachio'd face gazed down from every commanding corner. There was one on\"),\n",
       " Document(metadata={'source': './files/chapter_one.docx'}, page_content=\"sky a harsh blue, there seemed to be no colour in anything, except the posters that were plastered everywhere. The blackmoustachio'd face gazed down from every commanding corner. There was one on the\"),\n",
       " Document(metadata={'source': './files/chapter_one.docx'}, page_content=\"blue, there seemed to be no colour in anything, except the posters that were plastered everywhere. The blackmoustachio'd face gazed down from every commanding corner. There was one on the house-front\"),\n",
       " Document(metadata={'source': './files/chapter_one.docx'}, page_content=\"seemed to be no colour in anything, except the posters that were plastered everywhere. The blackmoustachio'd face gazed down from every commanding corner. There was one on the house-front immediately\"),\n",
       " Document(metadata={'source': './files/chapter_one.docx'}, page_content=\"be no colour in anything, except the posters that were plastered everywhere. The blackmoustachio'd face gazed down from every commanding corner. There was one on the house-front immediately opposite.\"),\n",
       " Document(metadata={'source': './files/chapter_one.docx'}, page_content=\"colour in anything, except the posters that were plastered everywhere. The blackmoustachio'd face gazed down from every commanding corner. There was one on the house-front immediately opposite. BIG\"),\n",
       " Document(metadata={'source': './files/chapter_one.docx'}, page_content=\"in anything, except the posters that were plastered everywhere. The blackmoustachio'd face gazed down from every commanding corner. There was one on the house-front immediately opposite. BIG BROTHER\"),\n",
       " Document(metadata={'source': './files/chapter_one.docx'}, page_content=\"anything, except the posters that were plastered everywhere. The blackmoustachio'd face gazed down from every commanding corner. There was one on the house-front immediately opposite. BIG BROTHER IS\"),\n",
       " Document(metadata={'source': './files/chapter_one.docx'}, page_content=\"except the posters that were plastered everywhere. The blackmoustachio'd face gazed down from every commanding corner. There was one on the house-front immediately opposite. BIG BROTHER IS WATCHING\"),\n",
       " Document(metadata={'source': './files/chapter_one.docx'}, page_content=\"the posters that were plastered everywhere. The blackmoustachio'd face gazed down from every commanding corner. There was one on the house-front immediately opposite. BIG BROTHER IS WATCHING YOU, the\"),\n",
       " Document(metadata={'source': './files/chapter_one.docx'}, page_content=\"that were plastered everywhere. The blackmoustachio'd face gazed down from every commanding corner. There was one on the house-front immediately opposite. BIG BROTHER IS WATCHING YOU, the caption\"),\n",
       " Document(metadata={'source': './files/chapter_one.docx'}, page_content=\"were plastered everywhere. The blackmoustachio'd face gazed down from every commanding corner. There was one on the house-front immediately opposite. BIG BROTHER IS WATCHING YOU, the caption said,\"),\n",
       " Document(metadata={'source': './files/chapter_one.docx'}, page_content=\"plastered everywhere. The blackmoustachio'd face gazed down from every commanding corner. There was one on the house-front immediately opposite. BIG BROTHER IS WATCHING YOU, the caption said, while\"),\n",
       " Document(metadata={'source': './files/chapter_one.docx'}, page_content=\"everywhere. The blackmoustachio'd face gazed down from every commanding corner. There was one on the house-front immediately opposite. BIG BROTHER IS WATCHING YOU, the caption said, while the dark\"),\n",
       " Document(metadata={'source': './files/chapter_one.docx'}, page_content=\"The blackmoustachio'd face gazed down from every commanding corner. There was one on the house-front immediately opposite. BIG BROTHER IS WATCHING YOU, the caption said, while the dark eyes looked\"),\n",
       " Document(metadata={'source': './files/chapter_one.docx'}, page_content=\"blackmoustachio'd face gazed down from every commanding corner. There was one on the house-front immediately opposite. BIG BROTHER IS WATCHING YOU, the caption said, while the dark eyes looked deep\"),\n",
       " Document(metadata={'source': './files/chapter_one.docx'}, page_content=\"face gazed down from every commanding corner. There was one on the house-front immediately opposite. BIG BROTHER IS WATCHING YOU, the caption said, while the dark eyes looked deep into Winston's own.\"),\n",
       " Document(metadata={'source': './files/chapter_one.docx'}, page_content=\"gazed down from every commanding corner. There was one on the house-front immediately opposite. BIG BROTHER IS WATCHING YOU, the caption said, while the dark eyes looked deep into Winston's own. Down\"),\n",
       " Document(metadata={'source': './files/chapter_one.docx'}, page_content=\"down from every commanding corner. There was one on the house-front immediately opposite. BIG BROTHER IS WATCHING YOU, the caption said, while the dark eyes looked deep into Winston's own. Down at\"),\n",
       " Document(metadata={'source': './files/chapter_one.docx'}, page_content=\"every commanding corner. There was one on the house-front immediately opposite. BIG BROTHER IS WATCHING YOU, the caption said, while the dark eyes looked deep into Winston's own. Down at streetlevel\"),\n",
       " Document(metadata={'source': './files/chapter_one.docx'}, page_content=\"corner. There was one on the house-front immediately opposite. BIG BROTHER IS WATCHING YOU, the caption said, while the dark eyes looked deep into Winston's own. Down at streetlevel another poster,\"),\n",
       " Document(metadata={'source': './files/chapter_one.docx'}, page_content=\"There was one on the house-front immediately opposite. BIG BROTHER IS WATCHING YOU, the caption said, while the dark eyes looked deep into Winston's own. Down at streetlevel another poster, torn at\"),\n",
       " Document(metadata={'source': './files/chapter_one.docx'}, page_content=\"was one on the house-front immediately opposite. BIG BROTHER IS WATCHING YOU, the caption said, while the dark eyes looked deep into Winston's own. Down at streetlevel another poster, torn at one\"),\n",
       " Document(metadata={'source': './files/chapter_one.docx'}, page_content=\"one on the house-front immediately opposite. BIG BROTHER IS WATCHING YOU, the caption said, while the dark eyes looked deep into Winston's own. Down at streetlevel another poster, torn at one corner,\"),\n",
       " Document(metadata={'source': './files/chapter_one.docx'}, page_content=\"house-front immediately opposite. BIG BROTHER IS WATCHING YOU, the caption said, while the dark eyes looked deep into Winston's own. Down at streetlevel another poster, torn at one corner, flapped\"),\n",
       " Document(metadata={'source': './files/chapter_one.docx'}, page_content=\"immediately opposite. BIG BROTHER IS WATCHING YOU, the caption said, while the dark eyes looked deep into Winston's own. Down at streetlevel another poster, torn at one corner, flapped fitfully in\"),\n",
       " Document(metadata={'source': './files/chapter_one.docx'}, page_content=\"opposite. BIG BROTHER IS WATCHING YOU, the caption said, while the dark eyes looked deep into Winston's own. Down at streetlevel another poster, torn at one corner, flapped fitfully in the wind,\"),\n",
       " Document(metadata={'source': './files/chapter_one.docx'}, page_content=\"BIG BROTHER IS WATCHING YOU, the caption said, while the dark eyes looked deep into Winston's own. Down at streetlevel another poster, torn at one corner, flapped fitfully in the wind, alternately\"),\n",
       " Document(metadata={'source': './files/chapter_one.docx'}, page_content=\"IS WATCHING YOU, the caption said, while the dark eyes looked deep into Winston's own. Down at streetlevel another poster, torn at one corner, flapped fitfully in the wind, alternately covering and\"),\n",
       " Document(metadata={'source': './files/chapter_one.docx'}, page_content=\"YOU, the caption said, while the dark eyes looked deep into Winston's own. Down at streetlevel another poster, torn at one corner, flapped fitfully in the wind, alternately covering and uncovering\"),\n",
       " Document(metadata={'source': './files/chapter_one.docx'}, page_content=\"the caption said, while the dark eyes looked deep into Winston's own. Down at streetlevel another poster, torn at one corner, flapped fitfully in the wind, alternately covering and uncovering the\"),\n",
       " Document(metadata={'source': './files/chapter_one.docx'}, page_content=\"caption said, while the dark eyes looked deep into Winston's own. Down at streetlevel another poster, torn at one corner, flapped fitfully in the wind, alternately covering and uncovering the single\"),\n",
       " Document(metadata={'source': './files/chapter_one.docx'}, page_content=\"said, while the dark eyes looked deep into Winston's own. Down at streetlevel another poster, torn at one corner, flapped fitfully in the wind, alternately covering and uncovering the single word\"),\n",
       " Document(metadata={'source': './files/chapter_one.docx'}, page_content=\"while the dark eyes looked deep into Winston's own. Down at streetlevel another poster, torn at one corner, flapped fitfully in the wind, alternately covering and uncovering the single word INGSOC.\"),\n",
       " Document(metadata={'source': './files/chapter_one.docx'}, page_content=\"the dark eyes looked deep into Winston's own. Down at streetlevel another poster, torn at one corner, flapped fitfully in the wind, alternately covering and uncovering the single word INGSOC. In the\"),\n",
       " Document(metadata={'source': './files/chapter_one.docx'}, page_content=\"dark eyes looked deep into Winston's own. Down at streetlevel another poster, torn at one corner, flapped fitfully in the wind, alternately covering and uncovering the single word INGSOC. In the far\"),\n",
       " Document(metadata={'source': './files/chapter_one.docx'}, page_content=\"looked deep into Winston's own. Down at streetlevel another poster, torn at one corner, flapped fitfully in the wind, alternately covering and uncovering the single word INGSOC. In the far distance a\"),\n",
       " Document(metadata={'source': './files/chapter_one.docx'}, page_content=\"into Winston's own. Down at streetlevel another poster, torn at one corner, flapped fitfully in the wind, alternately covering and uncovering the single word INGSOC. In the far distance a helicopter\"),\n",
       " Document(metadata={'source': './files/chapter_one.docx'}, page_content='own. Down at streetlevel another poster, torn at one corner, flapped fitfully in the wind, alternately covering and uncovering the single word INGSOC. In the far distance a helicopter skimmed down'),\n",
       " Document(metadata={'source': './files/chapter_one.docx'}, page_content='Down at streetlevel another poster, torn at one corner, flapped fitfully in the wind, alternately covering and uncovering the single word INGSOC. In the far distance a helicopter skimmed down between'),\n",
       " Document(metadata={'source': './files/chapter_one.docx'}, page_content='at streetlevel another poster, torn at one corner, flapped fitfully in the wind, alternately covering and uncovering the single word INGSOC. In the far distance a helicopter skimmed down between the'),\n",
       " Document(metadata={'source': './files/chapter_one.docx'}, page_content='another poster, torn at one corner, flapped fitfully in the wind, alternately covering and uncovering the single word INGSOC. In the far distance a helicopter skimmed down between the roofs, hovered'),\n",
       " Document(metadata={'source': './files/chapter_one.docx'}, page_content='poster, torn at one corner, flapped fitfully in the wind, alternately covering and uncovering the single word INGSOC. In the far distance a helicopter skimmed down between the roofs, hovered for an'),\n",
       " Document(metadata={'source': './files/chapter_one.docx'}, page_content='torn at one corner, flapped fitfully in the wind, alternately covering and uncovering the single word INGSOC. In the far distance a helicopter skimmed down between the roofs, hovered for an instant'),\n",
       " Document(metadata={'source': './files/chapter_one.docx'}, page_content='at one corner, flapped fitfully in the wind, alternately covering and uncovering the single word INGSOC. In the far distance a helicopter skimmed down between the roofs, hovered for an instant like a'),\n",
       " Document(metadata={'source': './files/chapter_one.docx'}, page_content='flapped fitfully in the wind, alternately covering and uncovering the single word INGSOC. In the far distance a helicopter skimmed down between the roofs, hovered for an instant like a bluebottle,'),\n",
       " Document(metadata={'source': './files/chapter_one.docx'}, page_content='fitfully in the wind, alternately covering and uncovering the single word INGSOC. In the far distance a helicopter skimmed down between the roofs, hovered for an instant like a bluebottle, and darted'),\n",
       " Document(metadata={'source': './files/chapter_one.docx'}, page_content='in the wind, alternately covering and uncovering the single word INGSOC. In the far distance a helicopter skimmed down between the roofs, hovered for an instant like a bluebottle, and darted away'),\n",
       " Document(metadata={'source': './files/chapter_one.docx'}, page_content='the wind, alternately covering and uncovering the single word INGSOC. In the far distance a helicopter skimmed down between the roofs, hovered for an instant like a bluebottle, and darted away again'),\n",
       " Document(metadata={'source': './files/chapter_one.docx'}, page_content='wind, alternately covering and uncovering the single word INGSOC. In the far distance a helicopter skimmed down between the roofs, hovered for an instant like a bluebottle, and darted away again with'),\n",
       " Document(metadata={'source': './files/chapter_one.docx'}, page_content='alternately covering and uncovering the single word INGSOC. In the far distance a helicopter skimmed down between the roofs, hovered for an instant like a bluebottle, and darted away again with a'),\n",
       " Document(metadata={'source': './files/chapter_one.docx'}, page_content='covering and uncovering the single word INGSOC. In the far distance a helicopter skimmed down between the roofs, hovered for an instant like a bluebottle, and darted away again with a curving flight.'),\n",
       " Document(metadata={'source': './files/chapter_one.docx'}, page_content='and uncovering the single word INGSOC. In the far distance a helicopter skimmed down between the roofs, hovered for an instant like a bluebottle, and darted away again with a curving flight. It was'),\n",
       " Document(metadata={'source': './files/chapter_one.docx'}, page_content='uncovering the single word INGSOC. In the far distance a helicopter skimmed down between the roofs, hovered for an instant like a bluebottle, and darted away again with a curving flight. It was the'),\n",
       " Document(metadata={'source': './files/chapter_one.docx'}, page_content='the single word INGSOC. In the far distance a helicopter skimmed down between the roofs, hovered for an instant like a bluebottle, and darted away again with a curving flight. It was the police'),\n",
       " Document(metadata={'source': './files/chapter_one.docx'}, page_content='single word INGSOC. In the far distance a helicopter skimmed down between the roofs, hovered for an instant like a bluebottle, and darted away again with a curving flight. It was the police patrol,'),\n",
       " Document(metadata={'source': './files/chapter_one.docx'}, page_content='word INGSOC. In the far distance a helicopter skimmed down between the roofs, hovered for an instant like a bluebottle, and darted away again with a curving flight. It was the police patrol, snooping'),\n",
       " Document(metadata={'source': './files/chapter_one.docx'}, page_content='INGSOC. In the far distance a helicopter skimmed down between the roofs, hovered for an instant like a bluebottle, and darted away again with a curving flight. It was the police patrol, snooping into'),\n",
       " Document(metadata={'source': './files/chapter_one.docx'}, page_content=\"the far distance a helicopter skimmed down between the roofs, hovered for an instant like a bluebottle, and darted away again with a curving flight. It was the police patrol, snooping into people's\"),\n",
       " Document(metadata={'source': './files/chapter_one.docx'}, page_content=\"distance a helicopter skimmed down between the roofs, hovered for an instant like a bluebottle, and darted away again with a curving flight. It was the police patrol, snooping into people's windows.\"),\n",
       " Document(metadata={'source': './files/chapter_one.docx'}, page_content=\"a helicopter skimmed down between the roofs, hovered for an instant like a bluebottle, and darted away again with a curving flight. It was the police patrol, snooping into people's windows. The\"),\n",
       " Document(metadata={'source': './files/chapter_one.docx'}, page_content=\"helicopter skimmed down between the roofs, hovered for an instant like a bluebottle, and darted away again with a curving flight. It was the police patrol, snooping into people's windows. The patrols\"),\n",
       " Document(metadata={'source': './files/chapter_one.docx'}, page_content=\"skimmed down between the roofs, hovered for an instant like a bluebottle, and darted away again with a curving flight. It was the police patrol, snooping into people's windows. The patrols did not\"),\n",
       " Document(metadata={'source': './files/chapter_one.docx'}, page_content=\"down between the roofs, hovered for an instant like a bluebottle, and darted away again with a curving flight. It was the police patrol, snooping into people's windows. The patrols did not matter,\"),\n",
       " Document(metadata={'source': './files/chapter_one.docx'}, page_content=\"the roofs, hovered for an instant like a bluebottle, and darted away again with a curving flight. It was the police patrol, snooping into people's windows. The patrols did not matter, however. Only\"),\n",
       " Document(metadata={'source': './files/chapter_one.docx'}, page_content=\"roofs, hovered for an instant like a bluebottle, and darted away again with a curving flight. It was the police patrol, snooping into people's windows. The patrols did not matter, however. Only the\"),\n",
       " Document(metadata={'source': './files/chapter_one.docx'}, page_content=\"hovered for an instant like a bluebottle, and darted away again with a curving flight. It was the police patrol, snooping into people's windows. The patrols did not matter, however. Only the Thought\"),\n",
       " Document(metadata={'source': './files/chapter_one.docx'}, page_content=\"for an instant like a bluebottle, and darted away again with a curving flight. It was the police patrol, snooping into people's windows. The patrols did not matter, however. Only the Thought Police\"),\n",
       " Document(metadata={'source': './files/chapter_one.docx'}, page_content=\"like a bluebottle, and darted away again with a curving flight. It was the police patrol, snooping into people's windows. The patrols did not matter, however. Only the Thought Police mattered.\"),\n",
       " Document(metadata={'source': './files/chapter_one.docx'}, page_content=\"Behind Winston's back the voice from the telescreen was still babbling away about pig-iron and the overfulfilment of the Ninth Three-Year Plan. The telescreen received and transmitted simultaneously.\"),\n",
       " Document(metadata={'source': './files/chapter_one.docx'}, page_content=\"Winston's back the voice from the telescreen was still babbling away about pig-iron and the overfulfilment of the Ninth Three-Year Plan. The telescreen received and transmitted simultaneously. Any\"),\n",
       " Document(metadata={'source': './files/chapter_one.docx'}, page_content='back the voice from the telescreen was still babbling away about pig-iron and the overfulfilment of the Ninth Three-Year Plan. The telescreen received and transmitted simultaneously. Any sound that'),\n",
       " Document(metadata={'source': './files/chapter_one.docx'}, page_content='voice from the telescreen was still babbling away about pig-iron and the overfulfilment of the Ninth Three-Year Plan. The telescreen received and transmitted simultaneously. Any sound that Winston'),\n",
       " Document(metadata={'source': './files/chapter_one.docx'}, page_content='from the telescreen was still babbling away about pig-iron and the overfulfilment of the Ninth Three-Year Plan. The telescreen received and transmitted simultaneously. Any sound that Winston made,'),\n",
       " Document(metadata={'source': './files/chapter_one.docx'}, page_content='the telescreen was still babbling away about pig-iron and the overfulfilment of the Ninth Three-Year Plan. The telescreen received and transmitted simultaneously. Any sound that Winston made, above'),\n",
       " Document(metadata={'source': './files/chapter_one.docx'}, page_content='telescreen was still babbling away about pig-iron and the overfulfilment of the Ninth Three-Year Plan. The telescreen received and transmitted simultaneously. Any sound that Winston made, above the'),\n",
       " Document(metadata={'source': './files/chapter_one.docx'}, page_content='was still babbling away about pig-iron and the overfulfilment of the Ninth Three-Year Plan. The telescreen received and transmitted simultaneously. Any sound that Winston made, above the level of a'),\n",
       " Document(metadata={'source': './files/chapter_one.docx'}, page_content='still babbling away about pig-iron and the overfulfilment of the Ninth Three-Year Plan. The telescreen received and transmitted simultaneously. Any sound that Winston made, above the level of a very'),\n",
       " Document(metadata={'source': './files/chapter_one.docx'}, page_content='babbling away about pig-iron and the overfulfilment of the Ninth Three-Year Plan. The telescreen received and transmitted simultaneously. Any sound that Winston made, above the level of a very low'),\n",
       " Document(metadata={'source': './files/chapter_one.docx'}, page_content='away about pig-iron and the overfulfilment of the Ninth Three-Year Plan. The telescreen received and transmitted simultaneously. Any sound that Winston made, above the level of a very low whisper,'),\n",
       " Document(metadata={'source': './files/chapter_one.docx'}, page_content='about pig-iron and the overfulfilment of the Ninth Three-Year Plan. The telescreen received and transmitted simultaneously. Any sound that Winston made, above the level of a very low whisper, would'),\n",
       " Document(metadata={'source': './files/chapter_one.docx'}, page_content='pig-iron and the overfulfilment of the Ninth Three-Year Plan. The telescreen received and transmitted simultaneously. Any sound that Winston made, above the level of a very low whisper, would be'),\n",
       " Document(metadata={'source': './files/chapter_one.docx'}, page_content='and the overfulfilment of the Ninth Three-Year Plan. The telescreen received and transmitted simultaneously. Any sound that Winston made, above the level of a very low whisper, would be picked up by'),\n",
       " Document(metadata={'source': './files/chapter_one.docx'}, page_content='the overfulfilment of the Ninth Three-Year Plan. The telescreen received and transmitted simultaneously. Any sound that Winston made, above the level of a very low whisper, would be picked up by it,'),\n",
       " Document(metadata={'source': './files/chapter_one.docx'}, page_content='of the Ninth Three-Year Plan. The telescreen received and transmitted simultaneously. Any sound that Winston made, above the level of a very low whisper, would be picked up by it, moreover, so long'),\n",
       " Document(metadata={'source': './files/chapter_one.docx'}, page_content='the Ninth Three-Year Plan. The telescreen received and transmitted simultaneously. Any sound that Winston made, above the level of a very low whisper, would be picked up by it, moreover, so long as'),\n",
       " Document(metadata={'source': './files/chapter_one.docx'}, page_content='Ninth Three-Year Plan. The telescreen received and transmitted simultaneously. Any sound that Winston made, above the level of a very low whisper, would be picked up by it, moreover, so long as he'),\n",
       " Document(metadata={'source': './files/chapter_one.docx'}, page_content='Three-Year Plan. The telescreen received and transmitted simultaneously. Any sound that Winston made, above the level of a very low whisper, would be picked up by it, moreover, so long as he remained'),\n",
       " Document(metadata={'source': './files/chapter_one.docx'}, page_content='Plan. The telescreen received and transmitted simultaneously. Any sound that Winston made, above the level of a very low whisper, would be picked up by it, moreover, so long as he remained within the'),\n",
       " Document(metadata={'source': './files/chapter_one.docx'}, page_content='The telescreen received and transmitted simultaneously. Any sound that Winston made, above the level of a very low whisper, would be picked up by it, moreover, so long as he remained within the field'),\n",
       " Document(metadata={'source': './files/chapter_one.docx'}, page_content='telescreen received and transmitted simultaneously. Any sound that Winston made, above the level of a very low whisper, would be picked up by it, moreover, so long as he remained within the field of'),\n",
       " Document(metadata={'source': './files/chapter_one.docx'}, page_content='received and transmitted simultaneously. Any sound that Winston made, above the level of a very low whisper, would be picked up by it, moreover, so long as he remained within the field of vision'),\n",
       " Document(metadata={'source': './files/chapter_one.docx'}, page_content='and transmitted simultaneously. Any sound that Winston made, above the level of a very low whisper, would be picked up by it, moreover, so long as he remained within the field of vision which the'),\n",
       " Document(metadata={'source': './files/chapter_one.docx'}, page_content='transmitted simultaneously. Any sound that Winston made, above the level of a very low whisper, would be picked up by it, moreover, so long as he remained within the field of vision which the metal'),\n",
       " Document(metadata={'source': './files/chapter_one.docx'}, page_content='simultaneously. Any sound that Winston made, above the level of a very low whisper, would be picked up by it, moreover, so long as he remained within the field of vision which the metal plaque'),\n",
       " Document(metadata={'source': './files/chapter_one.docx'}, page_content='Any sound that Winston made, above the level of a very low whisper, would be picked up by it, moreover, so long as he remained within the field of vision which the metal plaque commanded, he could be'),\n",
       " Document(metadata={'source': './files/chapter_one.docx'}, page_content='that Winston made, above the level of a very low whisper, would be picked up by it, moreover, so long as he remained within the field of vision which the metal plaque commanded, he could be seen as'),\n",
       " Document(metadata={'source': './files/chapter_one.docx'}, page_content='Winston made, above the level of a very low whisper, would be picked up by it, moreover, so long as he remained within the field of vision which the metal plaque commanded, he could be seen as well'),\n",
       " Document(metadata={'source': './files/chapter_one.docx'}, page_content='made, above the level of a very low whisper, would be picked up by it, moreover, so long as he remained within the field of vision which the metal plaque commanded, he could be seen as well as heard.'),\n",
       " Document(metadata={'source': './files/chapter_one.docx'}, page_content='above the level of a very low whisper, would be picked up by it, moreover, so long as he remained within the field of vision which the metal plaque commanded, he could be seen as well as heard. There'),\n",
       " Document(metadata={'source': './files/chapter_one.docx'}, page_content='the level of a very low whisper, would be picked up by it, moreover, so long as he remained within the field of vision which the metal plaque commanded, he could be seen as well as heard. There was'),\n",
       " Document(metadata={'source': './files/chapter_one.docx'}, page_content='level of a very low whisper, would be picked up by it, moreover, so long as he remained within the field of vision which the metal plaque commanded, he could be seen as well as heard. There was of'),\n",
       " Document(metadata={'source': './files/chapter_one.docx'}, page_content='of a very low whisper, would be picked up by it, moreover, so long as he remained within the field of vision which the metal plaque commanded, he could be seen as well as heard. There was of course'),\n",
       " Document(metadata={'source': './files/chapter_one.docx'}, page_content='a very low whisper, would be picked up by it, moreover, so long as he remained within the field of vision which the metal plaque commanded, he could be seen as well as heard. There was of course no'),\n",
       " Document(metadata={'source': './files/chapter_one.docx'}, page_content='very low whisper, would be picked up by it, moreover, so long as he remained within the field of vision which the metal plaque commanded, he could be seen as well as heard. There was of course no way'),\n",
       " Document(metadata={'source': './files/chapter_one.docx'}, page_content='low whisper, would be picked up by it, moreover, so long as he remained within the field of vision which the metal plaque commanded, he could be seen as well as heard. There was of course no way of'),\n",
       " Document(metadata={'source': './files/chapter_one.docx'}, page_content='would be picked up by it, moreover, so long as he remained within the field of vision which the metal plaque commanded, he could be seen as well as heard. There was of course no way of knowing'),\n",
       " Document(metadata={'source': './files/chapter_one.docx'}, page_content='be picked up by it, moreover, so long as he remained within the field of vision which the metal plaque commanded, he could be seen as well as heard. There was of course no way of knowing whether you'),\n",
       " Document(metadata={'source': './files/chapter_one.docx'}, page_content='up by it, moreover, so long as he remained within the field of vision which the metal plaque commanded, he could be seen as well as heard. There was of course no way of knowing whether you were being'),\n",
       " Document(metadata={'source': './files/chapter_one.docx'}, page_content='moreover, so long as he remained within the field of vision which the metal plaque commanded, he could be seen as well as heard. There was of course no way of knowing whether you were being watched'),\n",
       " Document(metadata={'source': './files/chapter_one.docx'}, page_content='so long as he remained within the field of vision which the metal plaque commanded, he could be seen as well as heard. There was of course no way of knowing whether you were being watched at any'),\n",
       " Document(metadata={'source': './files/chapter_one.docx'}, page_content='long as he remained within the field of vision which the metal plaque commanded, he could be seen as well as heard. There was of course no way of knowing whether you were being watched at any given'),\n",
       " Document(metadata={'source': './files/chapter_one.docx'}, page_content='he remained within the field of vision which the metal plaque commanded, he could be seen as well as heard. There was of course no way of knowing whether you were being watched at any given moment.'),\n",
       " Document(metadata={'source': './files/chapter_one.docx'}, page_content='remained within the field of vision which the metal plaque commanded, he could be seen as well as heard. There was of course no way of knowing whether you were being watched at any given moment. How'),\n",
       " Document(metadata={'source': './files/chapter_one.docx'}, page_content='within the field of vision which the metal plaque commanded, he could be seen as well as heard. There was of course no way of knowing whether you were being watched at any given moment. How often, or'),\n",
       " Document(metadata={'source': './files/chapter_one.docx'}, page_content='the field of vision which the metal plaque commanded, he could be seen as well as heard. There was of course no way of knowing whether you were being watched at any given moment. How often, or on'),\n",
       " Document(metadata={'source': './files/chapter_one.docx'}, page_content='field of vision which the metal plaque commanded, he could be seen as well as heard. There was of course no way of knowing whether you were being watched at any given moment. How often, or on what'),\n",
       " Document(metadata={'source': './files/chapter_one.docx'}, page_content='of vision which the metal plaque commanded, he could be seen as well as heard. There was of course no way of knowing whether you were being watched at any given moment. How often, or on what system,'),\n",
       " Document(metadata={'source': './files/chapter_one.docx'}, page_content='vision which the metal plaque commanded, he could be seen as well as heard. There was of course no way of knowing whether you were being watched at any given moment. How often, or on what system, the'),\n",
       " Document(metadata={'source': './files/chapter_one.docx'}, page_content='the metal plaque commanded, he could be seen as well as heard. There was of course no way of knowing whether you were being watched at any given moment. How often, or on what system, the Thought'),\n",
       " Document(metadata={'source': './files/chapter_one.docx'}, page_content='metal plaque commanded, he could be seen as well as heard. There was of course no way of knowing whether you were being watched at any given moment. How often, or on what system, the Thought Police'),\n",
       " Document(metadata={'source': './files/chapter_one.docx'}, page_content='plaque commanded, he could be seen as well as heard. There was of course no way of knowing whether you were being watched at any given moment. How often, or on what system, the Thought Police plugged'),\n",
       " Document(metadata={'source': './files/chapter_one.docx'}, page_content='commanded, he could be seen as well as heard. There was of course no way of knowing whether you were being watched at any given moment. How often, or on what system, the Thought Police plugged in on'),\n",
       " Document(metadata={'source': './files/chapter_one.docx'}, page_content='he could be seen as well as heard. There was of course no way of knowing whether you were being watched at any given moment. How often, or on what system, the Thought Police plugged in on any'),\n",
       " Document(metadata={'source': './files/chapter_one.docx'}, page_content='could be seen as well as heard. There was of course no way of knowing whether you were being watched at any given moment. How often, or on what system, the Thought Police plugged in on any individual'),\n",
       " Document(metadata={'source': './files/chapter_one.docx'}, page_content='be seen as well as heard. There was of course no way of knowing whether you were being watched at any given moment. How often, or on what system, the Thought Police plugged in on any individual wire'),\n",
       " Document(metadata={'source': './files/chapter_one.docx'}, page_content='seen as well as heard. There was of course no way of knowing whether you were being watched at any given moment. How often, or on what system, the Thought Police plugged in on any individual wire was'),\n",
       " Document(metadata={'source': './files/chapter_one.docx'}, page_content='as heard. There was of course no way of knowing whether you were being watched at any given moment. How often, or on what system, the Thought Police plugged in on any individual wire was guesswork.'),\n",
       " Document(metadata={'source': './files/chapter_one.docx'}, page_content='heard. There was of course no way of knowing whether you were being watched at any given moment. How often, or on what system, the Thought Police plugged in on any individual wire was guesswork. It'),\n",
       " Document(metadata={'source': './files/chapter_one.docx'}, page_content='There was of course no way of knowing whether you were being watched at any given moment. How often, or on what system, the Thought Police plugged in on any individual wire was guesswork. It was even'),\n",
       " Document(metadata={'source': './files/chapter_one.docx'}, page_content='course no way of knowing whether you were being watched at any given moment. How often, or on what system, the Thought Police plugged in on any individual wire was guesswork. It was even conceivable'),\n",
       " Document(metadata={'source': './files/chapter_one.docx'}, page_content='no way of knowing whether you were being watched at any given moment. How often, or on what system, the Thought Police plugged in on any individual wire was guesswork. It was even conceivable that'),\n",
       " Document(metadata={'source': './files/chapter_one.docx'}, page_content='way of knowing whether you were being watched at any given moment. How often, or on what system, the Thought Police plugged in on any individual wire was guesswork. It was even conceivable that they'),\n",
       " Document(metadata={'source': './files/chapter_one.docx'}, page_content='knowing whether you were being watched at any given moment. How often, or on what system, the Thought Police plugged in on any individual wire was guesswork. It was even conceivable that they watched'),\n",
       " Document(metadata={'source': './files/chapter_one.docx'}, page_content='you were being watched at any given moment. How often, or on what system, the Thought Police plugged in on any individual wire was guesswork. It was even conceivable that they watched everybody all'),\n",
       " Document(metadata={'source': './files/chapter_one.docx'}, page_content='were being watched at any given moment. How often, or on what system, the Thought Police plugged in on any individual wire was guesswork. It was even conceivable that they watched everybody all the'),\n",
       " Document(metadata={'source': './files/chapter_one.docx'}, page_content='being watched at any given moment. How often, or on what system, the Thought Police plugged in on any individual wire was guesswork. It was even conceivable that they watched everybody all the time.'),\n",
       " Document(metadata={'source': './files/chapter_one.docx'}, page_content='watched at any given moment. How often, or on what system, the Thought Police plugged in on any individual wire was guesswork. It was even conceivable that they watched everybody all the time. But at'),\n",
       " Document(metadata={'source': './files/chapter_one.docx'}, page_content='at any given moment. How often, or on what system, the Thought Police plugged in on any individual wire was guesswork. It was even conceivable that they watched everybody all the time. But at any'),\n",
       " Document(metadata={'source': './files/chapter_one.docx'}, page_content='any given moment. How often, or on what system, the Thought Police plugged in on any individual wire was guesswork. It was even conceivable that they watched everybody all the time. But at any rate'),\n",
       " Document(metadata={'source': './files/chapter_one.docx'}, page_content='given moment. How often, or on what system, the Thought Police plugged in on any individual wire was guesswork. It was even conceivable that they watched everybody all the time. But at any rate they'),\n",
       " Document(metadata={'source': './files/chapter_one.docx'}, page_content='moment. How often, or on what system, the Thought Police plugged in on any individual wire was guesswork. It was even conceivable that they watched everybody all the time. But at any rate they could'),\n",
       " Document(metadata={'source': './files/chapter_one.docx'}, page_content='How often, or on what system, the Thought Police plugged in on any individual wire was guesswork. It was even conceivable that they watched everybody all the time. But at any rate they could plug in'),\n",
       " Document(metadata={'source': './files/chapter_one.docx'}, page_content='often, or on what system, the Thought Police plugged in on any individual wire was guesswork. It was even conceivable that they watched everybody all the time. But at any rate they could plug in your'),\n",
       " Document(metadata={'source': './files/chapter_one.docx'}, page_content='or on what system, the Thought Police plugged in on any individual wire was guesswork. It was even conceivable that they watched everybody all the time. But at any rate they could plug in your wire'),\n",
       " Document(metadata={'source': './files/chapter_one.docx'}, page_content='system, the Thought Police plugged in on any individual wire was guesswork. It was even conceivable that they watched everybody all the time. But at any rate they could plug in your wire whenever'),\n",
       " Document(metadata={'source': './files/chapter_one.docx'}, page_content='the Thought Police plugged in on any individual wire was guesswork. It was even conceivable that they watched everybody all the time. But at any rate they could plug in your wire whenever they wanted'),\n",
       " Document(metadata={'source': './files/chapter_one.docx'}, page_content='Thought Police plugged in on any individual wire was guesswork. It was even conceivable that they watched everybody all the time. But at any rate they could plug in your wire whenever they wanted to.'),\n",
       " Document(metadata={'source': './files/chapter_one.docx'}, page_content='Police plugged in on any individual wire was guesswork. It was even conceivable that they watched everybody all the time. But at any rate they could plug in your wire whenever they wanted to. You had'),\n",
       " Document(metadata={'source': './files/chapter_one.docx'}, page_content='plugged in on any individual wire was guesswork. It was even conceivable that they watched everybody all the time. But at any rate they could plug in your wire whenever they wanted to. You had to'),\n",
       " Document(metadata={'source': './files/chapter_one.docx'}, page_content='in on any individual wire was guesswork. It was even conceivable that they watched everybody all the time. But at any rate they could plug in your wire whenever they wanted to. You had to live -- did'),\n",
       " Document(metadata={'source': './files/chapter_one.docx'}, page_content='any individual wire was guesswork. It was even conceivable that they watched everybody all the time. But at any rate they could plug in your wire whenever they wanted to. You had to live -- did live,'),\n",
       " Document(metadata={'source': './files/chapter_one.docx'}, page_content='wire was guesswork. It was even conceivable that they watched everybody all the time. But at any rate they could plug in your wire whenever they wanted to. You had to live -- did live, from habit'),\n",
       " Document(metadata={'source': './files/chapter_one.docx'}, page_content='was guesswork. It was even conceivable that they watched everybody all the time. But at any rate they could plug in your wire whenever they wanted to. You had to live -- did live, from habit that'),\n",
       " Document(metadata={'source': './files/chapter_one.docx'}, page_content='guesswork. It was even conceivable that they watched everybody all the time. But at any rate they could plug in your wire whenever they wanted to. You had to live -- did live, from habit that became'),\n",
       " Document(metadata={'source': './files/chapter_one.docx'}, page_content='It was even conceivable that they watched everybody all the time. But at any rate they could plug in your wire whenever they wanted to. You had to live -- did live, from habit that became instinct --'),\n",
       " Document(metadata={'source': './files/chapter_one.docx'}, page_content='was even conceivable that they watched everybody all the time. But at any rate they could plug in your wire whenever they wanted to. You had to live -- did live, from habit that became instinct -- in'),\n",
       " Document(metadata={'source': './files/chapter_one.docx'}, page_content='even conceivable that they watched everybody all the time. But at any rate they could plug in your wire whenever they wanted to. You had to live -- did live, from habit that became instinct -- in the'),\n",
       " Document(metadata={'source': './files/chapter_one.docx'}, page_content='that they watched everybody all the time. But at any rate they could plug in your wire whenever they wanted to. You had to live -- did live, from habit that became instinct -- in the assumption that'),\n",
       " Document(metadata={'source': './files/chapter_one.docx'}, page_content='they watched everybody all the time. But at any rate they could plug in your wire whenever they wanted to. You had to live -- did live, from habit that became instinct -- in the assumption that every'),\n",
       " Document(metadata={'source': './files/chapter_one.docx'}, page_content='everybody all the time. But at any rate they could plug in your wire whenever they wanted to. You had to live -- did live, from habit that became instinct -- in the assumption that every sound you'),\n",
       " Document(metadata={'source': './files/chapter_one.docx'}, page_content='all the time. But at any rate they could plug in your wire whenever they wanted to. You had to live -- did live, from habit that became instinct -- in the assumption that every sound you made was'),\n",
       " Document(metadata={'source': './files/chapter_one.docx'}, page_content='time. But at any rate they could plug in your wire whenever they wanted to. You had to live -- did live, from habit that became instinct -- in the assumption that every sound you made was overheard,'),\n",
       " Document(metadata={'source': './files/chapter_one.docx'}, page_content='But at any rate they could plug in your wire whenever they wanted to. You had to live -- did live, from habit that became instinct -- in the assumption that every sound you made was overheard, and,'),\n",
       " Document(metadata={'source': './files/chapter_one.docx'}, page_content='any rate they could plug in your wire whenever they wanted to. You had to live -- did live, from habit that became instinct -- in the assumption that every sound you made was overheard, and, except'),\n",
       " Document(metadata={'source': './files/chapter_one.docx'}, page_content='rate they could plug in your wire whenever they wanted to. You had to live -- did live, from habit that became instinct -- in the assumption that every sound you made was overheard, and, except in'),\n",
       " Document(metadata={'source': './files/chapter_one.docx'}, page_content='could plug in your wire whenever they wanted to. You had to live -- did live, from habit that became instinct -- in the assumption that every sound you made was overheard, and, except in darkness,'),\n",
       " Document(metadata={'source': './files/chapter_one.docx'}, page_content='plug in your wire whenever they wanted to. You had to live -- did live, from habit that became instinct -- in the assumption that every sound you made was overheard, and, except in darkness, every'),\n",
       " Document(metadata={'source': './files/chapter_one.docx'}, page_content='your wire whenever they wanted to. You had to live -- did live, from habit that became instinct -- in the assumption that every sound you made was overheard, and, except in darkness, every movement'),\n",
       " Document(metadata={'source': './files/chapter_one.docx'}, page_content='they wanted to. You had to live -- did live, from habit that became instinct -- in the assumption that every sound you made was overheard, and, except in darkness, every movement scrutinized.'),\n",
       " Document(metadata={'source': './files/chapter_one.docx'}, page_content='Winston kept his back turned to the telescreen. It was safer, though, as he well knew, even a back can be revealing. A kilometre away the Ministry of Truth, his place of work, towered vast and white'),\n",
       " Document(metadata={'source': './files/chapter_one.docx'}, page_content='kept his back turned to the telescreen. It was safer, though, as he well knew, even a back can be revealing. A kilometre away the Ministry of Truth, his place of work, towered vast and white above'),\n",
       " Document(metadata={'source': './files/chapter_one.docx'}, page_content='his back turned to the telescreen. It was safer, though, as he well knew, even a back can be revealing. A kilometre away the Ministry of Truth, his place of work, towered vast and white above the'),\n",
       " Document(metadata={'source': './files/chapter_one.docx'}, page_content='back turned to the telescreen. It was safer, though, as he well knew, even a back can be revealing. A kilometre away the Ministry of Truth, his place of work, towered vast and white above the grimy'),\n",
       " Document(metadata={'source': './files/chapter_one.docx'}, page_content='to the telescreen. It was safer, though, as he well knew, even a back can be revealing. A kilometre away the Ministry of Truth, his place of work, towered vast and white above the grimy landscape.'),\n",
       " Document(metadata={'source': './files/chapter_one.docx'}, page_content='the telescreen. It was safer, though, as he well knew, even a back can be revealing. A kilometre away the Ministry of Truth, his place of work, towered vast and white above the grimy landscape. This,'),\n",
       " Document(metadata={'source': './files/chapter_one.docx'}, page_content='telescreen. It was safer, though, as he well knew, even a back can be revealing. A kilometre away the Ministry of Truth, his place of work, towered vast and white above the grimy landscape. This, he'),\n",
       " Document(metadata={'source': './files/chapter_one.docx'}, page_content='It was safer, though, as he well knew, even a back can be revealing. A kilometre away the Ministry of Truth, his place of work, towered vast and white above the grimy landscape. This, he thought with'),\n",
       " Document(metadata={'source': './files/chapter_one.docx'}, page_content='was safer, though, as he well knew, even a back can be revealing. A kilometre away the Ministry of Truth, his place of work, towered vast and white above the grimy landscape. This, he thought with a'),\n",
       " Document(metadata={'source': './files/chapter_one.docx'}, page_content='safer, though, as he well knew, even a back can be revealing. A kilometre away the Ministry of Truth, his place of work, towered vast and white above the grimy landscape. This, he thought with a sort'),\n",
       " Document(metadata={'source': './files/chapter_one.docx'}, page_content='though, as he well knew, even a back can be revealing. A kilometre away the Ministry of Truth, his place of work, towered vast and white above the grimy landscape. This, he thought with a sort of'),\n",
       " Document(metadata={'source': './files/chapter_one.docx'}, page_content='as he well knew, even a back can be revealing. A kilometre away the Ministry of Truth, his place of work, towered vast and white above the grimy landscape. This, he thought with a sort of vague'),\n",
       " Document(metadata={'source': './files/chapter_one.docx'}, page_content='he well knew, even a back can be revealing. A kilometre away the Ministry of Truth, his place of work, towered vast and white above the grimy landscape. This, he thought with a sort of vague distaste'),\n",
       " Document(metadata={'source': './files/chapter_one.docx'}, page_content='well knew, even a back can be revealing. A kilometre away the Ministry of Truth, his place of work, towered vast and white above the grimy landscape. This, he thought with a sort of vague distaste --'),\n",
       " Document(metadata={'source': './files/chapter_one.docx'}, page_content='knew, even a back can be revealing. A kilometre away the Ministry of Truth, his place of work, towered vast and white above the grimy landscape. This, he thought with a sort of vague distaste -- this'),\n",
       " Document(metadata={'source': './files/chapter_one.docx'}, page_content='even a back can be revealing. A kilometre away the Ministry of Truth, his place of work, towered vast and white above the grimy landscape. This, he thought with a sort of vague distaste -- this was'),\n",
       " Document(metadata={'source': './files/chapter_one.docx'}, page_content='back can be revealing. A kilometre away the Ministry of Truth, his place of work, towered vast and white above the grimy landscape. This, he thought with a sort of vague distaste -- this was London,'),\n",
       " Document(metadata={'source': './files/chapter_one.docx'}, page_content='can be revealing. A kilometre away the Ministry of Truth, his place of work, towered vast and white above the grimy landscape. This, he thought with a sort of vague distaste -- this was London, chief'),\n",
       " Document(metadata={'source': './files/chapter_one.docx'}, page_content='revealing. A kilometre away the Ministry of Truth, his place of work, towered vast and white above the grimy landscape. This, he thought with a sort of vague distaste -- this was London, chief city'),\n",
       " Document(metadata={'source': './files/chapter_one.docx'}, page_content='A kilometre away the Ministry of Truth, his place of work, towered vast and white above the grimy landscape. This, he thought with a sort of vague distaste -- this was London, chief city of Airstrip'),\n",
       " Document(metadata={'source': './files/chapter_one.docx'}, page_content='away the Ministry of Truth, his place of work, towered vast and white above the grimy landscape. This, he thought with a sort of vague distaste -- this was London, chief city of Airstrip One, itself'),\n",
       " Document(metadata={'source': './files/chapter_one.docx'}, page_content='the Ministry of Truth, his place of work, towered vast and white above the grimy landscape. This, he thought with a sort of vague distaste -- this was London, chief city of Airstrip One, itself the'),\n",
       " Document(metadata={'source': './files/chapter_one.docx'}, page_content='Ministry of Truth, his place of work, towered vast and white above the grimy landscape. This, he thought with a sort of vague distaste -- this was London, chief city of Airstrip One, itself the third'),\n",
       " Document(metadata={'source': './files/chapter_one.docx'}, page_content='of Truth, his place of work, towered vast and white above the grimy landscape. This, he thought with a sort of vague distaste -- this was London, chief city of Airstrip One, itself the third most'),\n",
       " Document(metadata={'source': './files/chapter_one.docx'}, page_content='his place of work, towered vast and white above the grimy landscape. This, he thought with a sort of vague distaste -- this was London, chief city of Airstrip One, itself the third most populous of'),\n",
       " Document(metadata={'source': './files/chapter_one.docx'}, page_content='place of work, towered vast and white above the grimy landscape. This, he thought with a sort of vague distaste -- this was London, chief city of Airstrip One, itself the third most populous of the'),\n",
       " Document(metadata={'source': './files/chapter_one.docx'}, page_content='work, towered vast and white above the grimy landscape. This, he thought with a sort of vague distaste -- this was London, chief city of Airstrip One, itself the third most populous of the provinces'),\n",
       " Document(metadata={'source': './files/chapter_one.docx'}, page_content='towered vast and white above the grimy landscape. This, he thought with a sort of vague distaste -- this was London, chief city of Airstrip One, itself the third most populous of the provinces of'),\n",
       " Document(metadata={'source': './files/chapter_one.docx'}, page_content='vast and white above the grimy landscape. This, he thought with a sort of vague distaste -- this was London, chief city of Airstrip One, itself the third most populous of the provinces of Oceania. He'),\n",
       " Document(metadata={'source': './files/chapter_one.docx'}, page_content='white above the grimy landscape. This, he thought with a sort of vague distaste -- this was London, chief city of Airstrip One, itself the third most populous of the provinces of Oceania. He tried to'),\n",
       " Document(metadata={'source': './files/chapter_one.docx'}, page_content='the grimy landscape. This, he thought with a sort of vague distaste -- this was London, chief city of Airstrip One, itself the third most populous of the provinces of Oceania. He tried to squeeze out'),\n",
       " Document(metadata={'source': './files/chapter_one.docx'}, page_content='landscape. This, he thought with a sort of vague distaste -- this was London, chief city of Airstrip One, itself the third most populous of the provinces of Oceania. He tried to squeeze out some'),\n",
       " Document(metadata={'source': './files/chapter_one.docx'}, page_content='This, he thought with a sort of vague distaste -- this was London, chief city of Airstrip One, itself the third most populous of the provinces of Oceania. He tried to squeeze out some childhood'),\n",
       " Document(metadata={'source': './files/chapter_one.docx'}, page_content='he thought with a sort of vague distaste -- this was London, chief city of Airstrip One, itself the third most populous of the provinces of Oceania. He tried to squeeze out some childhood memory that'),\n",
       " Document(metadata={'source': './files/chapter_one.docx'}, page_content='with a sort of vague distaste -- this was London, chief city of Airstrip One, itself the third most populous of the provinces of Oceania. He tried to squeeze out some childhood memory that should'),\n",
       " Document(metadata={'source': './files/chapter_one.docx'}, page_content='a sort of vague distaste -- this was London, chief city of Airstrip One, itself the third most populous of the provinces of Oceania. He tried to squeeze out some childhood memory that should tell him'),\n",
       " Document(metadata={'source': './files/chapter_one.docx'}, page_content='vague distaste -- this was London, chief city of Airstrip One, itself the third most populous of the provinces of Oceania. He tried to squeeze out some childhood memory that should tell him whether'),\n",
       " Document(metadata={'source': './files/chapter_one.docx'}, page_content='distaste -- this was London, chief city of Airstrip One, itself the third most populous of the provinces of Oceania. He tried to squeeze out some childhood memory that should tell him whether London'),\n",
       " Document(metadata={'source': './files/chapter_one.docx'}, page_content='-- this was London, chief city of Airstrip One, itself the third most populous of the provinces of Oceania. He tried to squeeze out some childhood memory that should tell him whether London had'),\n",
       " Document(metadata={'source': './files/chapter_one.docx'}, page_content='this was London, chief city of Airstrip One, itself the third most populous of the provinces of Oceania. He tried to squeeze out some childhood memory that should tell him whether London had always'),\n",
       " Document(metadata={'source': './files/chapter_one.docx'}, page_content='was London, chief city of Airstrip One, itself the third most populous of the provinces of Oceania. He tried to squeeze out some childhood memory that should tell him whether London had always been'),\n",
       " Document(metadata={'source': './files/chapter_one.docx'}, page_content='London, chief city of Airstrip One, itself the third most populous of the provinces of Oceania. He tried to squeeze out some childhood memory that should tell him whether London had always been quite'),\n",
       " Document(metadata={'source': './files/chapter_one.docx'}, page_content='chief city of Airstrip One, itself the third most populous of the provinces of Oceania. He tried to squeeze out some childhood memory that should tell him whether London had always been quite like'),\n",
       " Document(metadata={'source': './files/chapter_one.docx'}, page_content='city of Airstrip One, itself the third most populous of the provinces of Oceania. He tried to squeeze out some childhood memory that should tell him whether London had always been quite like this.'),\n",
       " Document(metadata={'source': './files/chapter_one.docx'}, page_content='of Airstrip One, itself the third most populous of the provinces of Oceania. He tried to squeeze out some childhood memory that should tell him whether London had always been quite like this. Were'),\n",
       " Document(metadata={'source': './files/chapter_one.docx'}, page_content='Airstrip One, itself the third most populous of the provinces of Oceania. He tried to squeeze out some childhood memory that should tell him whether London had always been quite like this. Were there'),\n",
       " Document(metadata={'source': './files/chapter_one.docx'}, page_content='One, itself the third most populous of the provinces of Oceania. He tried to squeeze out some childhood memory that should tell him whether London had always been quite like this. Were there always'),\n",
       " Document(metadata={'source': './files/chapter_one.docx'}, page_content='itself the third most populous of the provinces of Oceania. He tried to squeeze out some childhood memory that should tell him whether London had always been quite like this. Were there always these'),\n",
       " Document(metadata={'source': './files/chapter_one.docx'}, page_content='the third most populous of the provinces of Oceania. He tried to squeeze out some childhood memory that should tell him whether London had always been quite like this. Were there always these vistas'),\n",
       " Document(metadata={'source': './files/chapter_one.docx'}, page_content='third most populous of the provinces of Oceania. He tried to squeeze out some childhood memory that should tell him whether London had always been quite like this. Were there always these vistas of'),\n",
       " Document(metadata={'source': './files/chapter_one.docx'}, page_content='most populous of the provinces of Oceania. He tried to squeeze out some childhood memory that should tell him whether London had always been quite like this. Were there always these vistas of rotting'),\n",
       " Document(metadata={'source': './files/chapter_one.docx'}, page_content='provinces of Oceania. He tried to squeeze out some childhood memory that should tell him whether London had always been quite like this. Were there always these vistas of rotting nineteenth-century'),\n",
       " Document(metadata={'source': './files/chapter_one.docx'}, page_content='of Oceania. He tried to squeeze out some childhood memory that should tell him whether London had always been quite like this. Were there always these vistas of rotting nineteenth-century houses,'),\n",
       " Document(metadata={'source': './files/chapter_one.docx'}, page_content='Oceania. He tried to squeeze out some childhood memory that should tell him whether London had always been quite like this. Were there always these vistas of rotting nineteenth-century houses, their'),\n",
       " Document(metadata={'source': './files/chapter_one.docx'}, page_content='He tried to squeeze out some childhood memory that should tell him whether London had always been quite like this. Were there always these vistas of rotting nineteenth-century houses, their sides'),\n",
       " Document(metadata={'source': './files/chapter_one.docx'}, page_content='tried to squeeze out some childhood memory that should tell him whether London had always been quite like this. Were there always these vistas of rotting nineteenth-century houses, their sides shored'),\n",
       " Document(metadata={'source': './files/chapter_one.docx'}, page_content='to squeeze out some childhood memory that should tell him whether London had always been quite like this. Were there always these vistas of rotting nineteenth-century houses, their sides shored up'),\n",
       " Document(metadata={'source': './files/chapter_one.docx'}, page_content='squeeze out some childhood memory that should tell him whether London had always been quite like this. Were there always these vistas of rotting nineteenth-century houses, their sides shored up with'),\n",
       " Document(metadata={'source': './files/chapter_one.docx'}, page_content='out some childhood memory that should tell him whether London had always been quite like this. Were there always these vistas of rotting nineteenth-century houses, their sides shored up with baulks'),\n",
       " Document(metadata={'source': './files/chapter_one.docx'}, page_content='some childhood memory that should tell him whether London had always been quite like this. Were there always these vistas of rotting nineteenth-century houses, their sides shored up with baulks of'),\n",
       " Document(metadata={'source': './files/chapter_one.docx'}, page_content='childhood memory that should tell him whether London had always been quite like this. Were there always these vistas of rotting nineteenth-century houses, their sides shored up with baulks of timber,'),\n",
       " Document(metadata={'source': './files/chapter_one.docx'}, page_content='memory that should tell him whether London had always been quite like this. Were there always these vistas of rotting nineteenth-century houses, their sides shored up with baulks of timber, their'),\n",
       " Document(metadata={'source': './files/chapter_one.docx'}, page_content='that should tell him whether London had always been quite like this. Were there always these vistas of rotting nineteenth-century houses, their sides shored up with baulks of timber, their windows'),\n",
       " Document(metadata={'source': './files/chapter_one.docx'}, page_content='should tell him whether London had always been quite like this. Were there always these vistas of rotting nineteenth-century houses, their sides shored up with baulks of timber, their windows patched'),\n",
       " Document(metadata={'source': './files/chapter_one.docx'}, page_content='tell him whether London had always been quite like this. Were there always these vistas of rotting nineteenth-century houses, their sides shored up with baulks of timber, their windows patched with'),\n",
       " Document(metadata={'source': './files/chapter_one.docx'}, page_content='whether London had always been quite like this. Were there always these vistas of rotting nineteenth-century houses, their sides shored up with baulks of timber, their windows patched with cardboard'),\n",
       " Document(metadata={'source': './files/chapter_one.docx'}, page_content='London had always been quite like this. Were there always these vistas of rotting nineteenth-century houses, their sides shored up with baulks of timber, their windows patched with cardboard and'),\n",
       " Document(metadata={'source': './files/chapter_one.docx'}, page_content='had always been quite like this. Were there always these vistas of rotting nineteenth-century houses, their sides shored up with baulks of timber, their windows patched with cardboard and their roofs'),\n",
       " Document(metadata={'source': './files/chapter_one.docx'}, page_content='been quite like this. Were there always these vistas of rotting nineteenth-century houses, their sides shored up with baulks of timber, their windows patched with cardboard and their roofs with'),\n",
       " Document(metadata={'source': './files/chapter_one.docx'}, page_content='quite like this. Were there always these vistas of rotting nineteenth-century houses, their sides shored up with baulks of timber, their windows patched with cardboard and their roofs with corrugated'),\n",
       " Document(metadata={'source': './files/chapter_one.docx'}, page_content='like this. Were there always these vistas of rotting nineteenth-century houses, their sides shored up with baulks of timber, their windows patched with cardboard and their roofs with corrugated iron,'),\n",
       " Document(metadata={'source': './files/chapter_one.docx'}, page_content='Were there always these vistas of rotting nineteenth-century houses, their sides shored up with baulks of timber, their windows patched with cardboard and their roofs with corrugated iron, their'),\n",
       " Document(metadata={'source': './files/chapter_one.docx'}, page_content='there always these vistas of rotting nineteenth-century houses, their sides shored up with baulks of timber, their windows patched with cardboard and their roofs with corrugated iron, their crazy'),\n",
       " Document(metadata={'source': './files/chapter_one.docx'}, page_content='always these vistas of rotting nineteenth-century houses, their sides shored up with baulks of timber, their windows patched with cardboard and their roofs with corrugated iron, their crazy garden'),\n",
       " Document(metadata={'source': './files/chapter_one.docx'}, page_content='these vistas of rotting nineteenth-century houses, their sides shored up with baulks of timber, their windows patched with cardboard and their roofs with corrugated iron, their crazy garden walls'),\n",
       " Document(metadata={'source': './files/chapter_one.docx'}, page_content='vistas of rotting nineteenth-century houses, their sides shored up with baulks of timber, their windows patched with cardboard and their roofs with corrugated iron, their crazy garden walls sagging'),\n",
       " Document(metadata={'source': './files/chapter_one.docx'}, page_content='of rotting nineteenth-century houses, their sides shored up with baulks of timber, their windows patched with cardboard and their roofs with corrugated iron, their crazy garden walls sagging in all'),\n",
       " Document(metadata={'source': './files/chapter_one.docx'}, page_content='nineteenth-century houses, their sides shored up with baulks of timber, their windows patched with cardboard and their roofs with corrugated iron, their crazy garden walls sagging in all directions?'),\n",
       " Document(metadata={'source': './files/chapter_one.docx'}, page_content='houses, their sides shored up with baulks of timber, their windows patched with cardboard and their roofs with corrugated iron, their crazy garden walls sagging in all directions? And the bombed'),\n",
       " Document(metadata={'source': './files/chapter_one.docx'}, page_content='their sides shored up with baulks of timber, their windows patched with cardboard and their roofs with corrugated iron, their crazy garden walls sagging in all directions? And the bombed sites where'),\n",
       " Document(metadata={'source': './files/chapter_one.docx'}, page_content='sides shored up with baulks of timber, their windows patched with cardboard and their roofs with corrugated iron, their crazy garden walls sagging in all directions? And the bombed sites where the'),\n",
       " Document(metadata={'source': './files/chapter_one.docx'}, page_content='shored up with baulks of timber, their windows patched with cardboard and their roofs with corrugated iron, their crazy garden walls sagging in all directions? And the bombed sites where the plaster'),\n",
       " Document(metadata={'source': './files/chapter_one.docx'}, page_content='up with baulks of timber, their windows patched with cardboard and their roofs with corrugated iron, their crazy garden walls sagging in all directions? And the bombed sites where the plaster dust'),\n",
       " Document(metadata={'source': './files/chapter_one.docx'}, page_content='baulks of timber, their windows patched with cardboard and their roofs with corrugated iron, their crazy garden walls sagging in all directions? And the bombed sites where the plaster dust swirled in'),\n",
       " Document(metadata={'source': './files/chapter_one.docx'}, page_content='of timber, their windows patched with cardboard and their roofs with corrugated iron, their crazy garden walls sagging in all directions? And the bombed sites where the plaster dust swirled in the'),\n",
       " Document(metadata={'source': './files/chapter_one.docx'}, page_content='timber, their windows patched with cardboard and their roofs with corrugated iron, their crazy garden walls sagging in all directions? And the bombed sites where the plaster dust swirled in the air'),\n",
       " Document(metadata={'source': './files/chapter_one.docx'}, page_content='their windows patched with cardboard and their roofs with corrugated iron, their crazy garden walls sagging in all directions? And the bombed sites where the plaster dust swirled in the air and the'),\n",
       " Document(metadata={'source': './files/chapter_one.docx'}, page_content='patched with cardboard and their roofs with corrugated iron, their crazy garden walls sagging in all directions? And the bombed sites where the plaster dust swirled in the air and the willow-herb'),\n",
       " Document(metadata={'source': './files/chapter_one.docx'}, page_content='with cardboard and their roofs with corrugated iron, their crazy garden walls sagging in all directions? And the bombed sites where the plaster dust swirled in the air and the willow-herb straggled'),\n",
       " Document(metadata={'source': './files/chapter_one.docx'}, page_content='cardboard and their roofs with corrugated iron, their crazy garden walls sagging in all directions? And the bombed sites where the plaster dust swirled in the air and the willow-herb straggled over'),\n",
       " Document(metadata={'source': './files/chapter_one.docx'}, page_content='and their roofs with corrugated iron, their crazy garden walls sagging in all directions? And the bombed sites where the plaster dust swirled in the air and the willow-herb straggled over the heaps'),\n",
       " Document(metadata={'source': './files/chapter_one.docx'}, page_content='their roofs with corrugated iron, their crazy garden walls sagging in all directions? And the bombed sites where the plaster dust swirled in the air and the willow-herb straggled over the heaps of'),\n",
       " Document(metadata={'source': './files/chapter_one.docx'}, page_content='roofs with corrugated iron, their crazy garden walls sagging in all directions? And the bombed sites where the plaster dust swirled in the air and the willow-herb straggled over the heaps of rubble;'),\n",
       " Document(metadata={'source': './files/chapter_one.docx'}, page_content='with corrugated iron, their crazy garden walls sagging in all directions? And the bombed sites where the plaster dust swirled in the air and the willow-herb straggled over the heaps of rubble; and'),\n",
       " Document(metadata={'source': './files/chapter_one.docx'}, page_content='corrugated iron, their crazy garden walls sagging in all directions? And the bombed sites where the plaster dust swirled in the air and the willow-herb straggled over the heaps of rubble; and the'),\n",
       " Document(metadata={'source': './files/chapter_one.docx'}, page_content='iron, their crazy garden walls sagging in all directions? And the bombed sites where the plaster dust swirled in the air and the willow-herb straggled over the heaps of rubble; and the places where'),\n",
       " Document(metadata={'source': './files/chapter_one.docx'}, page_content='their crazy garden walls sagging in all directions? And the bombed sites where the plaster dust swirled in the air and the willow-herb straggled over the heaps of rubble; and the places where the'),\n",
       " Document(metadata={'source': './files/chapter_one.docx'}, page_content='crazy garden walls sagging in all directions? And the bombed sites where the plaster dust swirled in the air and the willow-herb straggled over the heaps of rubble; and the places where the bombs had'),\n",
       " Document(metadata={'source': './files/chapter_one.docx'}, page_content='walls sagging in all directions? And the bombed sites where the plaster dust swirled in the air and the willow-herb straggled over the heaps of rubble; and the places where the bombs had cleared a'),\n",
       " Document(metadata={'source': './files/chapter_one.docx'}, page_content='sagging in all directions? And the bombed sites where the plaster dust swirled in the air and the willow-herb straggled over the heaps of rubble; and the places where the bombs had cleared a larger'),\n",
       " Document(metadata={'source': './files/chapter_one.docx'}, page_content='in all directions? And the bombed sites where the plaster dust swirled in the air and the willow-herb straggled over the heaps of rubble; and the places where the bombs had cleared a larger patch and'),\n",
       " Document(metadata={'source': './files/chapter_one.docx'}, page_content='directions? And the bombed sites where the plaster dust swirled in the air and the willow-herb straggled over the heaps of rubble; and the places where the bombs had cleared a larger patch and there'),\n",
       " Document(metadata={'source': './files/chapter_one.docx'}, page_content='And the bombed sites where the plaster dust swirled in the air and the willow-herb straggled over the heaps of rubble; and the places where the bombs had cleared a larger patch and there had sprung'),\n",
       " Document(metadata={'source': './files/chapter_one.docx'}, page_content='the bombed sites where the plaster dust swirled in the air and the willow-herb straggled over the heaps of rubble; and the places where the bombs had cleared a larger patch and there had sprung up'),\n",
       " Document(metadata={'source': './files/chapter_one.docx'}, page_content='bombed sites where the plaster dust swirled in the air and the willow-herb straggled over the heaps of rubble; and the places where the bombs had cleared a larger patch and there had sprung up sordid'),\n",
       " Document(metadata={'source': './files/chapter_one.docx'}, page_content='where the plaster dust swirled in the air and the willow-herb straggled over the heaps of rubble; and the places where the bombs had cleared a larger patch and there had sprung up sordid colonies of'),\n",
       " Document(metadata={'source': './files/chapter_one.docx'}, page_content='the plaster dust swirled in the air and the willow-herb straggled over the heaps of rubble; and the places where the bombs had cleared a larger patch and there had sprung up sordid colonies of wooden'),\n",
       " Document(metadata={'source': './files/chapter_one.docx'}, page_content='dust swirled in the air and the willow-herb straggled over the heaps of rubble; and the places where the bombs had cleared a larger patch and there had sprung up sordid colonies of wooden dwellings'),\n",
       " Document(metadata={'source': './files/chapter_one.docx'}, page_content='swirled in the air and the willow-herb straggled over the heaps of rubble; and the places where the bombs had cleared a larger patch and there had sprung up sordid colonies of wooden dwellings like'),\n",
       " Document(metadata={'source': './files/chapter_one.docx'}, page_content='air and the willow-herb straggled over the heaps of rubble; and the places where the bombs had cleared a larger patch and there had sprung up sordid colonies of wooden dwellings like chicken-houses?'),\n",
       " Document(metadata={'source': './files/chapter_one.docx'}, page_content='and the willow-herb straggled over the heaps of rubble; and the places where the bombs had cleared a larger patch and there had sprung up sordid colonies of wooden dwellings like chicken-houses? But'),\n",
       " Document(metadata={'source': './files/chapter_one.docx'}, page_content='the willow-herb straggled over the heaps of rubble; and the places where the bombs had cleared a larger patch and there had sprung up sordid colonies of wooden dwellings like chicken-houses? But it'),\n",
       " Document(metadata={'source': './files/chapter_one.docx'}, page_content='willow-herb straggled over the heaps of rubble; and the places where the bombs had cleared a larger patch and there had sprung up sordid colonies of wooden dwellings like chicken-houses? But it was'),\n",
       " Document(metadata={'source': './files/chapter_one.docx'}, page_content='straggled over the heaps of rubble; and the places where the bombs had cleared a larger patch and there had sprung up sordid colonies of wooden dwellings like chicken-houses? But it was no use, he'),\n",
       " Document(metadata={'source': './files/chapter_one.docx'}, page_content='over the heaps of rubble; and the places where the bombs had cleared a larger patch and there had sprung up sordid colonies of wooden dwellings like chicken-houses? But it was no use, he could not'),\n",
       " Document(metadata={'source': './files/chapter_one.docx'}, page_content='heaps of rubble; and the places where the bombs had cleared a larger patch and there had sprung up sordid colonies of wooden dwellings like chicken-houses? But it was no use, he could not remember:'),\n",
       " Document(metadata={'source': './files/chapter_one.docx'}, page_content='of rubble; and the places where the bombs had cleared a larger patch and there had sprung up sordid colonies of wooden dwellings like chicken-houses? But it was no use, he could not remember: nothing'),\n",
       " Document(metadata={'source': './files/chapter_one.docx'}, page_content='and the places where the bombs had cleared a larger patch and there had sprung up sordid colonies of wooden dwellings like chicken-houses? But it was no use, he could not remember: nothing remained'),\n",
       " Document(metadata={'source': './files/chapter_one.docx'}, page_content='the places where the bombs had cleared a larger patch and there had sprung up sordid colonies of wooden dwellings like chicken-houses? But it was no use, he could not remember: nothing remained of'),\n",
       " Document(metadata={'source': './files/chapter_one.docx'}, page_content='places where the bombs had cleared a larger patch and there had sprung up sordid colonies of wooden dwellings like chicken-houses? But it was no use, he could not remember: nothing remained of his'),\n",
       " Document(metadata={'source': './files/chapter_one.docx'}, page_content='where the bombs had cleared a larger patch and there had sprung up sordid colonies of wooden dwellings like chicken-houses? But it was no use, he could not remember: nothing remained of his childhood'),\n",
       " Document(metadata={'source': './files/chapter_one.docx'}, page_content='bombs had cleared a larger patch and there had sprung up sordid colonies of wooden dwellings like chicken-houses? But it was no use, he could not remember: nothing remained of his childhood except a'),\n",
       " Document(metadata={'source': './files/chapter_one.docx'}, page_content='had cleared a larger patch and there had sprung up sordid colonies of wooden dwellings like chicken-houses? But it was no use, he could not remember: nothing remained of his childhood except a series'),\n",
       " Document(metadata={'source': './files/chapter_one.docx'}, page_content='cleared a larger patch and there had sprung up sordid colonies of wooden dwellings like chicken-houses? But it was no use, he could not remember: nothing remained of his childhood except a series of'),\n",
       " Document(metadata={'source': './files/chapter_one.docx'}, page_content='larger patch and there had sprung up sordid colonies of wooden dwellings like chicken-houses? But it was no use, he could not remember: nothing remained of his childhood except a series of bright-lit'),\n",
       " Document(metadata={'source': './files/chapter_one.docx'}, page_content='and there had sprung up sordid colonies of wooden dwellings like chicken-houses? But it was no use, he could not remember: nothing remained of his childhood except a series of bright-lit tableaux'),\n",
       " Document(metadata={'source': './files/chapter_one.docx'}, page_content='had sprung up sordid colonies of wooden dwellings like chicken-houses? But it was no use, he could not remember: nothing remained of his childhood except a series of bright-lit tableaux occurring'),\n",
       " Document(metadata={'source': './files/chapter_one.docx'}, page_content='sprung up sordid colonies of wooden dwellings like chicken-houses? But it was no use, he could not remember: nothing remained of his childhood except a series of bright-lit tableaux occurring against'),\n",
       " Document(metadata={'source': './files/chapter_one.docx'}, page_content='up sordid colonies of wooden dwellings like chicken-houses? But it was no use, he could not remember: nothing remained of his childhood except a series of bright-lit tableaux occurring against no'),\n",
       " Document(metadata={'source': './files/chapter_one.docx'}, page_content='colonies of wooden dwellings like chicken-houses? But it was no use, he could not remember: nothing remained of his childhood except a series of bright-lit tableaux occurring against no background'),\n",
       " Document(metadata={'source': './files/chapter_one.docx'}, page_content='of wooden dwellings like chicken-houses? But it was no use, he could not remember: nothing remained of his childhood except a series of bright-lit tableaux occurring against no background and mostly'),\n",
       " Document(metadata={'source': './files/chapter_one.docx'}, page_content='like chicken-houses? But it was no use, he could not remember: nothing remained of his childhood except a series of bright-lit tableaux occurring against no background and mostly unintelligible.'),\n",
       " Document(metadata={'source': './files/chapter_one.docx'}, page_content='The Ministry of Truth -- Minitrue, in Newspeak -- was startlingly different from any other object in sight. It was an enormous pyramidal structure of glittering white concrete, soaring up, terrace'),\n",
       " Document(metadata={'source': './files/chapter_one.docx'}, page_content='Ministry of Truth -- Minitrue, in Newspeak -- was startlingly different from any other object in sight. It was an enormous pyramidal structure of glittering white concrete, soaring up, terrace after'),\n",
       " Document(metadata={'source': './files/chapter_one.docx'}, page_content='of Truth -- Minitrue, in Newspeak -- was startlingly different from any other object in sight. It was an enormous pyramidal structure of glittering white concrete, soaring up, terrace after terrace,'),\n",
       " Document(metadata={'source': './files/chapter_one.docx'}, page_content='Truth -- Minitrue, in Newspeak -- was startlingly different from any other object in sight. It was an enormous pyramidal structure of glittering white concrete, soaring up, terrace after terrace, 300'),\n",
       " Document(metadata={'source': './files/chapter_one.docx'}, page_content='Minitrue, in Newspeak -- was startlingly different from any other object in sight. It was an enormous pyramidal structure of glittering white concrete, soaring up, terrace after terrace, 300 metres'),\n",
       " Document(metadata={'source': './files/chapter_one.docx'}, page_content='in Newspeak -- was startlingly different from any other object in sight. It was an enormous pyramidal structure of glittering white concrete, soaring up, terrace after terrace, 300 metres into the'),\n",
       " Document(metadata={'source': './files/chapter_one.docx'}, page_content='Newspeak -- was startlingly different from any other object in sight. It was an enormous pyramidal structure of glittering white concrete, soaring up, terrace after terrace, 300 metres into the air.'),\n",
       " Document(metadata={'source': './files/chapter_one.docx'}, page_content='-- was startlingly different from any other object in sight. It was an enormous pyramidal structure of glittering white concrete, soaring up, terrace after terrace, 300 metres into the air. From'),\n",
       " Document(metadata={'source': './files/chapter_one.docx'}, page_content='was startlingly different from any other object in sight. It was an enormous pyramidal structure of glittering white concrete, soaring up, terrace after terrace, 300 metres into the air. From where'),\n",
       " Document(metadata={'source': './files/chapter_one.docx'}, page_content='different from any other object in sight. It was an enormous pyramidal structure of glittering white concrete, soaring up, terrace after terrace, 300 metres into the air. From where Winston stood it'),\n",
       " Document(metadata={'source': './files/chapter_one.docx'}, page_content='from any other object in sight. It was an enormous pyramidal structure of glittering white concrete, soaring up, terrace after terrace, 300 metres into the air. From where Winston stood it was just'),\n",
       " Document(metadata={'source': './files/chapter_one.docx'}, page_content='other object in sight. It was an enormous pyramidal structure of glittering white concrete, soaring up, terrace after terrace, 300 metres into the air. From where Winston stood it was just possible'),\n",
       " Document(metadata={'source': './files/chapter_one.docx'}, page_content='object in sight. It was an enormous pyramidal structure of glittering white concrete, soaring up, terrace after terrace, 300 metres into the air. From where Winston stood it was just possible to'),\n",
       " Document(metadata={'source': './files/chapter_one.docx'}, page_content='in sight. It was an enormous pyramidal structure of glittering white concrete, soaring up, terrace after terrace, 300 metres into the air. From where Winston stood it was just possible to read,'),\n",
       " Document(metadata={'source': './files/chapter_one.docx'}, page_content='sight. It was an enormous pyramidal structure of glittering white concrete, soaring up, terrace after terrace, 300 metres into the air. From where Winston stood it was just possible to read, picked'),\n",
       " Document(metadata={'source': './files/chapter_one.docx'}, page_content='It was an enormous pyramidal structure of glittering white concrete, soaring up, terrace after terrace, 300 metres into the air. From where Winston stood it was just possible to read, picked out on'),\n",
       " Document(metadata={'source': './files/chapter_one.docx'}, page_content='was an enormous pyramidal structure of glittering white concrete, soaring up, terrace after terrace, 300 metres into the air. From where Winston stood it was just possible to read, picked out on its'),\n",
       " Document(metadata={'source': './files/chapter_one.docx'}, page_content='enormous pyramidal structure of glittering white concrete, soaring up, terrace after terrace, 300 metres into the air. From where Winston stood it was just possible to read, picked out on its white'),\n",
       " Document(metadata={'source': './files/chapter_one.docx'}, page_content='pyramidal structure of glittering white concrete, soaring up, terrace after terrace, 300 metres into the air. From where Winston stood it was just possible to read, picked out on its white face in'),\n",
       " Document(metadata={'source': './files/chapter_one.docx'}, page_content='structure of glittering white concrete, soaring up, terrace after terrace, 300 metres into the air. From where Winston stood it was just possible to read, picked out on its white face in elegant'),\n",
       " Document(metadata={'source': './files/chapter_one.docx'}, page_content='of glittering white concrete, soaring up, terrace after terrace, 300 metres into the air. From where Winston stood it was just possible to read, picked out on its white face in elegant lettering, the'),\n",
       " Document(metadata={'source': './files/chapter_one.docx'}, page_content='white concrete, soaring up, terrace after terrace, 300 metres into the air. From where Winston stood it was just possible to read, picked out on its white face in elegant lettering, the three slogans'),\n",
       " Document(metadata={'source': './files/chapter_one.docx'}, page_content='concrete, soaring up, terrace after terrace, 300 metres into the air. From where Winston stood it was just possible to read, picked out on its white face in elegant lettering, the three slogans of'),\n",
       " Document(metadata={'source': './files/chapter_one.docx'}, page_content='soaring up, terrace after terrace, 300 metres into the air. From where Winston stood it was just possible to read, picked out on its white face in elegant lettering, the three slogans of the Party:'),\n",
       " Document(metadata={'source': './files/chapter_one.docx'}, page_content='WAR IS PEACE\\n\\nFREEDOM IS SLAVERY\\n\\nIGNORANCE IS STRENGTH'),\n",
       " Document(metadata={'source': './files/chapter_one.docx'}, page_content='The Ministry of Truth contained, it was said, three thousand rooms above ground level, and corresponding ramifications below. Scattered about London there were just three other buildings of similar'),\n",
       " Document(metadata={'source': './files/chapter_one.docx'}, page_content='of Truth contained, it was said, three thousand rooms above ground level, and corresponding ramifications below. Scattered about London there were just three other buildings of similar appearance and'),\n",
       " Document(metadata={'source': './files/chapter_one.docx'}, page_content='contained, it was said, three thousand rooms above ground level, and corresponding ramifications below. Scattered about London there were just three other buildings of similar appearance and size. So'),\n",
       " Document(metadata={'source': './files/chapter_one.docx'}, page_content='it was said, three thousand rooms above ground level, and corresponding ramifications below. Scattered about London there were just three other buildings of similar appearance and size. So completely'),\n",
       " Document(metadata={'source': './files/chapter_one.docx'}, page_content='said, three thousand rooms above ground level, and corresponding ramifications below. Scattered about London there were just three other buildings of similar appearance and size. So completely did'),\n",
       " Document(metadata={'source': './files/chapter_one.docx'}, page_content='three thousand rooms above ground level, and corresponding ramifications below. Scattered about London there were just three other buildings of similar appearance and size. So completely did they'),\n",
       " Document(metadata={'source': './files/chapter_one.docx'}, page_content='thousand rooms above ground level, and corresponding ramifications below. Scattered about London there were just three other buildings of similar appearance and size. So completely did they dwarf the'),\n",
       " Document(metadata={'source': './files/chapter_one.docx'}, page_content='above ground level, and corresponding ramifications below. Scattered about London there were just three other buildings of similar appearance and size. So completely did they dwarf the surrounding'),\n",
       " Document(metadata={'source': './files/chapter_one.docx'}, page_content='level, and corresponding ramifications below. Scattered about London there were just three other buildings of similar appearance and size. So completely did they dwarf the surrounding architecture'),\n",
       " Document(metadata={'source': './files/chapter_one.docx'}, page_content='and corresponding ramifications below. Scattered about London there were just three other buildings of similar appearance and size. So completely did they dwarf the surrounding architecture that from'),\n",
       " Document(metadata={'source': './files/chapter_one.docx'}, page_content='corresponding ramifications below. Scattered about London there were just three other buildings of similar appearance and size. So completely did they dwarf the surrounding architecture that from the'),\n",
       " Document(metadata={'source': './files/chapter_one.docx'}, page_content='ramifications below. Scattered about London there were just three other buildings of similar appearance and size. So completely did they dwarf the surrounding architecture that from the roof of'),\n",
       " Document(metadata={'source': './files/chapter_one.docx'}, page_content='below. Scattered about London there were just three other buildings of similar appearance and size. So completely did they dwarf the surrounding architecture that from the roof of Victory Mansions'),\n",
       " Document(metadata={'source': './files/chapter_one.docx'}, page_content='Scattered about London there were just three other buildings of similar appearance and size. So completely did they dwarf the surrounding architecture that from the roof of Victory Mansions you could'),\n",
       " Document(metadata={'source': './files/chapter_one.docx'}, page_content='about London there were just three other buildings of similar appearance and size. So completely did they dwarf the surrounding architecture that from the roof of Victory Mansions you could see all'),\n",
       " Document(metadata={'source': './files/chapter_one.docx'}, page_content='London there were just three other buildings of similar appearance and size. So completely did they dwarf the surrounding architecture that from the roof of Victory Mansions you could see all four of'),\n",
       " Document(metadata={'source': './files/chapter_one.docx'}, page_content='there were just three other buildings of similar appearance and size. So completely did they dwarf the surrounding architecture that from the roof of Victory Mansions you could see all four of them'),\n",
       " Document(metadata={'source': './files/chapter_one.docx'}, page_content='three other buildings of similar appearance and size. So completely did they dwarf the surrounding architecture that from the roof of Victory Mansions you could see all four of them simultaneously.'),\n",
       " Document(metadata={'source': './files/chapter_one.docx'}, page_content='other buildings of similar appearance and size. So completely did they dwarf the surrounding architecture that from the roof of Victory Mansions you could see all four of them simultaneously. They'),\n",
       " Document(metadata={'source': './files/chapter_one.docx'}, page_content='buildings of similar appearance and size. So completely did they dwarf the surrounding architecture that from the roof of Victory Mansions you could see all four of them simultaneously. They were the'),\n",
       " Document(metadata={'source': './files/chapter_one.docx'}, page_content='of similar appearance and size. So completely did they dwarf the surrounding architecture that from the roof of Victory Mansions you could see all four of them simultaneously. They were the homes of'),\n",
       " Document(metadata={'source': './files/chapter_one.docx'}, page_content='similar appearance and size. So completely did they dwarf the surrounding architecture that from the roof of Victory Mansions you could see all four of them simultaneously. They were the homes of the'),\n",
       " Document(metadata={'source': './files/chapter_one.docx'}, page_content='appearance and size. So completely did they dwarf the surrounding architecture that from the roof of Victory Mansions you could see all four of them simultaneously. They were the homes of the four'),\n",
       " Document(metadata={'source': './files/chapter_one.docx'}, page_content='and size. So completely did they dwarf the surrounding architecture that from the roof of Victory Mansions you could see all four of them simultaneously. They were the homes of the four Ministries'),\n",
       " Document(metadata={'source': './files/chapter_one.docx'}, page_content='So completely did they dwarf the surrounding architecture that from the roof of Victory Mansions you could see all four of them simultaneously. They were the homes of the four Ministries between'),\n",
       " Document(metadata={'source': './files/chapter_one.docx'}, page_content='completely did they dwarf the surrounding architecture that from the roof of Victory Mansions you could see all four of them simultaneously. They were the homes of the four Ministries between which'),\n",
       " Document(metadata={'source': './files/chapter_one.docx'}, page_content='did they dwarf the surrounding architecture that from the roof of Victory Mansions you could see all four of them simultaneously. They were the homes of the four Ministries between which the entire'),\n",
       " Document(metadata={'source': './files/chapter_one.docx'}, page_content='dwarf the surrounding architecture that from the roof of Victory Mansions you could see all four of them simultaneously. They were the homes of the four Ministries between which the entire apparatus'),\n",
       " Document(metadata={'source': './files/chapter_one.docx'}, page_content='the surrounding architecture that from the roof of Victory Mansions you could see all four of them simultaneously. They were the homes of the four Ministries between which the entire apparatus of'),\n",
       " Document(metadata={'source': './files/chapter_one.docx'}, page_content='architecture that from the roof of Victory Mansions you could see all four of them simultaneously. They were the homes of the four Ministries between which the entire apparatus of government was'),\n",
       " Document(metadata={'source': './files/chapter_one.docx'}, page_content='that from the roof of Victory Mansions you could see all four of them simultaneously. They were the homes of the four Ministries between which the entire apparatus of government was divided. The'),\n",
       " Document(metadata={'source': './files/chapter_one.docx'}, page_content='from the roof of Victory Mansions you could see all four of them simultaneously. They were the homes of the four Ministries between which the entire apparatus of government was divided. The Ministry'),\n",
       " Document(metadata={'source': './files/chapter_one.docx'}, page_content='the roof of Victory Mansions you could see all four of them simultaneously. They were the homes of the four Ministries between which the entire apparatus of government was divided. The Ministry of'),\n",
       " Document(metadata={'source': './files/chapter_one.docx'}, page_content='roof of Victory Mansions you could see all four of them simultaneously. They were the homes of the four Ministries between which the entire apparatus of government was divided. The Ministry of Truth,'),\n",
       " Document(metadata={'source': './files/chapter_one.docx'}, page_content='Victory Mansions you could see all four of them simultaneously. They were the homes of the four Ministries between which the entire apparatus of government was divided. The Ministry of Truth, which'),\n",
       " Document(metadata={'source': './files/chapter_one.docx'}, page_content='Mansions you could see all four of them simultaneously. They were the homes of the four Ministries between which the entire apparatus of government was divided. The Ministry of Truth, which concerned'),\n",
       " Document(metadata={'source': './files/chapter_one.docx'}, page_content='you could see all four of them simultaneously. They were the homes of the four Ministries between which the entire apparatus of government was divided. The Ministry of Truth, which concerned itself'),\n",
       " Document(metadata={'source': './files/chapter_one.docx'}, page_content='could see all four of them simultaneously. They were the homes of the four Ministries between which the entire apparatus of government was divided. The Ministry of Truth, which concerned itself with'),\n",
       " Document(metadata={'source': './files/chapter_one.docx'}, page_content='see all four of them simultaneously. They were the homes of the four Ministries between which the entire apparatus of government was divided. The Ministry of Truth, which concerned itself with news,'),\n",
       " Document(metadata={'source': './files/chapter_one.docx'}, page_content='them simultaneously. They were the homes of the four Ministries between which the entire apparatus of government was divided. The Ministry of Truth, which concerned itself with news, entertainment,'),\n",
       " Document(metadata={'source': './files/chapter_one.docx'}, page_content='They were the homes of the four Ministries between which the entire apparatus of government was divided. The Ministry of Truth, which concerned itself with news, entertainment, education, and the'),\n",
       " Document(metadata={'source': './files/chapter_one.docx'}, page_content='were the homes of the four Ministries between which the entire apparatus of government was divided. The Ministry of Truth, which concerned itself with news, entertainment, education, and the fine'),\n",
       " Document(metadata={'source': './files/chapter_one.docx'}, page_content='the homes of the four Ministries between which the entire apparatus of government was divided. The Ministry of Truth, which concerned itself with news, entertainment, education, and the fine arts.'),\n",
       " Document(metadata={'source': './files/chapter_one.docx'}, page_content='homes of the four Ministries between which the entire apparatus of government was divided. The Ministry of Truth, which concerned itself with news, entertainment, education, and the fine arts. The'),\n",
       " Document(metadata={'source': './files/chapter_one.docx'}, page_content='of the four Ministries between which the entire apparatus of government was divided. The Ministry of Truth, which concerned itself with news, entertainment, education, and the fine arts. The Ministry'),\n",
       " Document(metadata={'source': './files/chapter_one.docx'}, page_content='the four Ministries between which the entire apparatus of government was divided. The Ministry of Truth, which concerned itself with news, entertainment, education, and the fine arts. The Ministry of'),\n",
       " Document(metadata={'source': './files/chapter_one.docx'}, page_content='Ministries between which the entire apparatus of government was divided. The Ministry of Truth, which concerned itself with news, entertainment, education, and the fine arts. The Ministry of Peace,'),\n",
       " Document(metadata={'source': './files/chapter_one.docx'}, page_content='between which the entire apparatus of government was divided. The Ministry of Truth, which concerned itself with news, entertainment, education, and the fine arts. The Ministry of Peace, which'),\n",
       " Document(metadata={'source': './files/chapter_one.docx'}, page_content='which the entire apparatus of government was divided. The Ministry of Truth, which concerned itself with news, entertainment, education, and the fine arts. The Ministry of Peace, which concerned'),\n",
       " Document(metadata={'source': './files/chapter_one.docx'}, page_content='the entire apparatus of government was divided. The Ministry of Truth, which concerned itself with news, entertainment, education, and the fine arts. The Ministry of Peace, which concerned itself'),\n",
       " Document(metadata={'source': './files/chapter_one.docx'}, page_content='entire apparatus of government was divided. The Ministry of Truth, which concerned itself with news, entertainment, education, and the fine arts. The Ministry of Peace, which concerned itself with'),\n",
       " Document(metadata={'source': './files/chapter_one.docx'}, page_content='apparatus of government was divided. The Ministry of Truth, which concerned itself with news, entertainment, education, and the fine arts. The Ministry of Peace, which concerned itself with war. The'),\n",
       " Document(metadata={'source': './files/chapter_one.docx'}, page_content='of government was divided. The Ministry of Truth, which concerned itself with news, entertainment, education, and the fine arts. The Ministry of Peace, which concerned itself with war. The Ministry'),\n",
       " Document(metadata={'source': './files/chapter_one.docx'}, page_content='government was divided. The Ministry of Truth, which concerned itself with news, entertainment, education, and the fine arts. The Ministry of Peace, which concerned itself with war. The Ministry of'),\n",
       " Document(metadata={'source': './files/chapter_one.docx'}, page_content='was divided. The Ministry of Truth, which concerned itself with news, entertainment, education, and the fine arts. The Ministry of Peace, which concerned itself with war. The Ministry of Love, which'),\n",
       " Document(metadata={'source': './files/chapter_one.docx'}, page_content='The Ministry of Truth, which concerned itself with news, entertainment, education, and the fine arts. The Ministry of Peace, which concerned itself with war. The Ministry of Love, which maintained'),\n",
       " Document(metadata={'source': './files/chapter_one.docx'}, page_content='Ministry of Truth, which concerned itself with news, entertainment, education, and the fine arts. The Ministry of Peace, which concerned itself with war. The Ministry of Love, which maintained law'),\n",
       " Document(metadata={'source': './files/chapter_one.docx'}, page_content='of Truth, which concerned itself with news, entertainment, education, and the fine arts. The Ministry of Peace, which concerned itself with war. The Ministry of Love, which maintained law and order.'),\n",
       " Document(metadata={'source': './files/chapter_one.docx'}, page_content='Truth, which concerned itself with news, entertainment, education, and the fine arts. The Ministry of Peace, which concerned itself with war. The Ministry of Love, which maintained law and order. And'),\n",
       " Document(metadata={'source': './files/chapter_one.docx'}, page_content='which concerned itself with news, entertainment, education, and the fine arts. The Ministry of Peace, which concerned itself with war. The Ministry of Love, which maintained law and order. And the'),\n",
       " Document(metadata={'source': './files/chapter_one.docx'}, page_content='concerned itself with news, entertainment, education, and the fine arts. The Ministry of Peace, which concerned itself with war. The Ministry of Love, which maintained law and order. And the Ministry'),\n",
       " Document(metadata={'source': './files/chapter_one.docx'}, page_content='itself with news, entertainment, education, and the fine arts. The Ministry of Peace, which concerned itself with war. The Ministry of Love, which maintained law and order. And the Ministry of'),\n",
       " Document(metadata={'source': './files/chapter_one.docx'}, page_content='with news, entertainment, education, and the fine arts. The Ministry of Peace, which concerned itself with war. The Ministry of Love, which maintained law and order. And the Ministry of Plenty, which'),\n",
       " Document(metadata={'source': './files/chapter_one.docx'}, page_content='news, entertainment, education, and the fine arts. The Ministry of Peace, which concerned itself with war. The Ministry of Love, which maintained law and order. And the Ministry of Plenty, which was'),\n",
       " Document(metadata={'source': './files/chapter_one.docx'}, page_content='education, and the fine arts. The Ministry of Peace, which concerned itself with war. The Ministry of Love, which maintained law and order. And the Ministry of Plenty, which was responsible for'),\n",
       " Document(metadata={'source': './files/chapter_one.docx'}, page_content='and the fine arts. The Ministry of Peace, which concerned itself with war. The Ministry of Love, which maintained law and order. And the Ministry of Plenty, which was responsible for economic'),\n",
       " Document(metadata={'source': './files/chapter_one.docx'}, page_content='the fine arts. The Ministry of Peace, which concerned itself with war. The Ministry of Love, which maintained law and order. And the Ministry of Plenty, which was responsible for economic affairs.'),\n",
       " Document(metadata={'source': './files/chapter_one.docx'}, page_content='fine arts. The Ministry of Peace, which concerned itself with war. The Ministry of Love, which maintained law and order. And the Ministry of Plenty, which was responsible for economic affairs. Their'),\n",
       " Document(metadata={'source': './files/chapter_one.docx'}, page_content='The Ministry of Peace, which concerned itself with war. The Ministry of Love, which maintained law and order. And the Ministry of Plenty, which was responsible for economic affairs. Their names, in'),\n",
       " Document(metadata={'source': './files/chapter_one.docx'}, page_content='of Peace, which concerned itself with war. The Ministry of Love, which maintained law and order. And the Ministry of Plenty, which was responsible for economic affairs. Their names, in Newspeak:'),\n",
       " Document(metadata={'source': './files/chapter_one.docx'}, page_content='which concerned itself with war. The Ministry of Love, which maintained law and order. And the Ministry of Plenty, which was responsible for economic affairs. Their names, in Newspeak: Minitrue,'),\n",
       " Document(metadata={'source': './files/chapter_one.docx'}, page_content='concerned itself with war. The Ministry of Love, which maintained law and order. And the Ministry of Plenty, which was responsible for economic affairs. Their names, in Newspeak: Minitrue, Minipax,'),\n",
       " Document(metadata={'source': './files/chapter_one.docx'}, page_content='itself with war. The Ministry of Love, which maintained law and order. And the Ministry of Plenty, which was responsible for economic affairs. Their names, in Newspeak: Minitrue, Minipax, Miniluv,'),\n",
       " Document(metadata={'source': './files/chapter_one.docx'}, page_content='with war. The Ministry of Love, which maintained law and order. And the Ministry of Plenty, which was responsible for economic affairs. Their names, in Newspeak: Minitrue, Minipax, Miniluv, and'),\n",
       " Document(metadata={'source': './files/chapter_one.docx'}, page_content='The Ministry of Love, which maintained law and order. And the Ministry of Plenty, which was responsible for economic affairs. Their names, in Newspeak: Minitrue, Minipax, Miniluv, and Miniplenty.'),\n",
       " Document(metadata={'source': './files/chapter_one.docx'}, page_content='The Ministry of Love was the really frightening one. There were no windows in it at all. Winston had never been inside the Ministry of Love, nor within half a kilometre of it. It was a place'),\n",
       " Document(metadata={'source': './files/chapter_one.docx'}, page_content='Ministry of Love was the really frightening one. There were no windows in it at all. Winston had never been inside the Ministry of Love, nor within half a kilometre of it. It was a place impossible'),\n",
       " Document(metadata={'source': './files/chapter_one.docx'}, page_content='of Love was the really frightening one. There were no windows in it at all. Winston had never been inside the Ministry of Love, nor within half a kilometre of it. It was a place impossible to enter'),\n",
       " Document(metadata={'source': './files/chapter_one.docx'}, page_content='was the really frightening one. There were no windows in it at all. Winston had never been inside the Ministry of Love, nor within half a kilometre of it. It was a place impossible to enter except on'),\n",
       " Document(metadata={'source': './files/chapter_one.docx'}, page_content='frightening one. There were no windows in it at all. Winston had never been inside the Ministry of Love, nor within half a kilometre of it. It was a place impossible to enter except on official'),\n",
       " Document(metadata={'source': './files/chapter_one.docx'}, page_content='one. There were no windows in it at all. Winston had never been inside the Ministry of Love, nor within half a kilometre of it. It was a place impossible to enter except on official business, and'),\n",
       " Document(metadata={'source': './files/chapter_one.docx'}, page_content='There were no windows in it at all. Winston had never been inside the Ministry of Love, nor within half a kilometre of it. It was a place impossible to enter except on official business, and then'),\n",
       " Document(metadata={'source': './files/chapter_one.docx'}, page_content='were no windows in it at all. Winston had never been inside the Ministry of Love, nor within half a kilometre of it. It was a place impossible to enter except on official business, and then only by'),\n",
       " Document(metadata={'source': './files/chapter_one.docx'}, page_content='in it at all. Winston had never been inside the Ministry of Love, nor within half a kilometre of it. It was a place impossible to enter except on official business, and then only by penetrating'),\n",
       " Document(metadata={'source': './files/chapter_one.docx'}, page_content='it at all. Winston had never been inside the Ministry of Love, nor within half a kilometre of it. It was a place impossible to enter except on official business, and then only by penetrating through'),\n",
       " Document(metadata={'source': './files/chapter_one.docx'}, page_content='at all. Winston had never been inside the Ministry of Love, nor within half a kilometre of it. It was a place impossible to enter except on official business, and then only by penetrating through a'),\n",
       " Document(metadata={'source': './files/chapter_one.docx'}, page_content='all. Winston had never been inside the Ministry of Love, nor within half a kilometre of it. It was a place impossible to enter except on official business, and then only by penetrating through a maze'),\n",
       " Document(metadata={'source': './files/chapter_one.docx'}, page_content='Winston had never been inside the Ministry of Love, nor within half a kilometre of it. It was a place impossible to enter except on official business, and then only by penetrating through a maze of'),\n",
       " Document(metadata={'source': './files/chapter_one.docx'}, page_content='never been inside the Ministry of Love, nor within half a kilometre of it. It was a place impossible to enter except on official business, and then only by penetrating through a maze of barbed-wire'),\n",
       " Document(metadata={'source': './files/chapter_one.docx'}, page_content='the Ministry of Love, nor within half a kilometre of it. It was a place impossible to enter except on official business, and then only by penetrating through a maze of barbed-wire entanglements,'),\n",
       " Document(metadata={'source': './files/chapter_one.docx'}, page_content='Ministry of Love, nor within half a kilometre of it. It was a place impossible to enter except on official business, and then only by penetrating through a maze of barbed-wire entanglements, steel'),\n",
       " Document(metadata={'source': './files/chapter_one.docx'}, page_content='of Love, nor within half a kilometre of it. It was a place impossible to enter except on official business, and then only by penetrating through a maze of barbed-wire entanglements, steel doors, and'),\n",
       " Document(metadata={'source': './files/chapter_one.docx'}, page_content='nor within half a kilometre of it. It was a place impossible to enter except on official business, and then only by penetrating through a maze of barbed-wire entanglements, steel doors, and hidden'),\n",
       " Document(metadata={'source': './files/chapter_one.docx'}, page_content='half a kilometre of it. It was a place impossible to enter except on official business, and then only by penetrating through a maze of barbed-wire entanglements, steel doors, and hidden machine-gun'),\n",
       " Document(metadata={'source': './files/chapter_one.docx'}, page_content='a kilometre of it. It was a place impossible to enter except on official business, and then only by penetrating through a maze of barbed-wire entanglements, steel doors, and hidden machine-gun nests.'),\n",
       " Document(metadata={'source': './files/chapter_one.docx'}, page_content='of it. It was a place impossible to enter except on official business, and then only by penetrating through a maze of barbed-wire entanglements, steel doors, and hidden machine-gun nests. Even the'),\n",
       " Document(metadata={'source': './files/chapter_one.docx'}, page_content='It was a place impossible to enter except on official business, and then only by penetrating through a maze of barbed-wire entanglements, steel doors, and hidden machine-gun nests. Even the streets'),\n",
       " Document(metadata={'source': './files/chapter_one.docx'}, page_content='a place impossible to enter except on official business, and then only by penetrating through a maze of barbed-wire entanglements, steel doors, and hidden machine-gun nests. Even the streets leading'),\n",
       " Document(metadata={'source': './files/chapter_one.docx'}, page_content='place impossible to enter except on official business, and then only by penetrating through a maze of barbed-wire entanglements, steel doors, and hidden machine-gun nests. Even the streets leading up'),\n",
       " Document(metadata={'source': './files/chapter_one.docx'}, page_content='impossible to enter except on official business, and then only by penetrating through a maze of barbed-wire entanglements, steel doors, and hidden machine-gun nests. Even the streets leading up to'),\n",
       " Document(metadata={'source': './files/chapter_one.docx'}, page_content='to enter except on official business, and then only by penetrating through a maze of barbed-wire entanglements, steel doors, and hidden machine-gun nests. Even the streets leading up to its outer'),\n",
       " Document(metadata={'source': './files/chapter_one.docx'}, page_content='except on official business, and then only by penetrating through a maze of barbed-wire entanglements, steel doors, and hidden machine-gun nests. Even the streets leading up to its outer barriers'),\n",
       " Document(metadata={'source': './files/chapter_one.docx'}, page_content='on official business, and then only by penetrating through a maze of barbed-wire entanglements, steel doors, and hidden machine-gun nests. Even the streets leading up to its outer barriers were'),\n",
       " Document(metadata={'source': './files/chapter_one.docx'}, page_content='official business, and then only by penetrating through a maze of barbed-wire entanglements, steel doors, and hidden machine-gun nests. Even the streets leading up to its outer barriers were roamed'),\n",
       " Document(metadata={'source': './files/chapter_one.docx'}, page_content='business, and then only by penetrating through a maze of barbed-wire entanglements, steel doors, and hidden machine-gun nests. Even the streets leading up to its outer barriers were roamed by'),\n",
       " Document(metadata={'source': './files/chapter_one.docx'}, page_content='and then only by penetrating through a maze of barbed-wire entanglements, steel doors, and hidden machine-gun nests. Even the streets leading up to its outer barriers were roamed by gorilla-faced'),\n",
       " Document(metadata={'source': './files/chapter_one.docx'}, page_content='then only by penetrating through a maze of barbed-wire entanglements, steel doors, and hidden machine-gun nests. Even the streets leading up to its outer barriers were roamed by gorilla-faced guards'),\n",
       " Document(metadata={'source': './files/chapter_one.docx'}, page_content='only by penetrating through a maze of barbed-wire entanglements, steel doors, and hidden machine-gun nests. Even the streets leading up to its outer barriers were roamed by gorilla-faced guards in'),\n",
       " Document(metadata={'source': './files/chapter_one.docx'}, page_content='by penetrating through a maze of barbed-wire entanglements, steel doors, and hidden machine-gun nests. Even the streets leading up to its outer barriers were roamed by gorilla-faced guards in black'),\n",
       " Document(metadata={'source': './files/chapter_one.docx'}, page_content='through a maze of barbed-wire entanglements, steel doors, and hidden machine-gun nests. Even the streets leading up to its outer barriers were roamed by gorilla-faced guards in black uniforms, armed'),\n",
       " Document(metadata={'source': './files/chapter_one.docx'}, page_content='a maze of barbed-wire entanglements, steel doors, and hidden machine-gun nests. Even the streets leading up to its outer barriers were roamed by gorilla-faced guards in black uniforms, armed with'),\n",
       " Document(metadata={'source': './files/chapter_one.docx'}, page_content='of barbed-wire entanglements, steel doors, and hidden machine-gun nests. Even the streets leading up to its outer barriers were roamed by gorilla-faced guards in black uniforms, armed with jointed'),\n",
       " Document(metadata={'source': './files/chapter_one.docx'}, page_content='entanglements, steel doors, and hidden machine-gun nests. Even the streets leading up to its outer barriers were roamed by gorilla-faced guards in black uniforms, armed with jointed truncheons.'),\n",
       " Document(metadata={'source': './files/chapter_one.docx'}, page_content='Winston turned round abruptly. He had set his features into the expression of quiet optimism which it was advisable to wear when facing the telescreen. He crossed the room into the tiny kitchen. By'),\n",
       " Document(metadata={'source': './files/chapter_one.docx'}, page_content='turned round abruptly. He had set his features into the expression of quiet optimism which it was advisable to wear when facing the telescreen. He crossed the room into the tiny kitchen. By leaving'),\n",
       " Document(metadata={'source': './files/chapter_one.docx'}, page_content='round abruptly. He had set his features into the expression of quiet optimism which it was advisable to wear when facing the telescreen. He crossed the room into the tiny kitchen. By leaving the'),\n",
       " Document(metadata={'source': './files/chapter_one.docx'}, page_content='abruptly. He had set his features into the expression of quiet optimism which it was advisable to wear when facing the telescreen. He crossed the room into the tiny kitchen. By leaving the Ministry'),\n",
       " Document(metadata={'source': './files/chapter_one.docx'}, page_content='He had set his features into the expression of quiet optimism which it was advisable to wear when facing the telescreen. He crossed the room into the tiny kitchen. By leaving the Ministry at this'),\n",
       " Document(metadata={'source': './files/chapter_one.docx'}, page_content='had set his features into the expression of quiet optimism which it was advisable to wear when facing the telescreen. He crossed the room into the tiny kitchen. By leaving the Ministry at this time'),\n",
       " Document(metadata={'source': './files/chapter_one.docx'}, page_content='set his features into the expression of quiet optimism which it was advisable to wear when facing the telescreen. He crossed the room into the tiny kitchen. By leaving the Ministry at this time of'),\n",
       " Document(metadata={'source': './files/chapter_one.docx'}, page_content='his features into the expression of quiet optimism which it was advisable to wear when facing the telescreen. He crossed the room into the tiny kitchen. By leaving the Ministry at this time of day he'),\n",
       " Document(metadata={'source': './files/chapter_one.docx'}, page_content='features into the expression of quiet optimism which it was advisable to wear when facing the telescreen. He crossed the room into the tiny kitchen. By leaving the Ministry at this time of day he had'),\n",
       " Document(metadata={'source': './files/chapter_one.docx'}, page_content='the expression of quiet optimism which it was advisable to wear when facing the telescreen. He crossed the room into the tiny kitchen. By leaving the Ministry at this time of day he had sacrificed'),\n",
       " Document(metadata={'source': './files/chapter_one.docx'}, page_content='expression of quiet optimism which it was advisable to wear when facing the telescreen. He crossed the room into the tiny kitchen. By leaving the Ministry at this time of day he had sacrificed his'),\n",
       " Document(metadata={'source': './files/chapter_one.docx'}, page_content='of quiet optimism which it was advisable to wear when facing the telescreen. He crossed the room into the tiny kitchen. By leaving the Ministry at this time of day he had sacrificed his lunch in the'),\n",
       " Document(metadata={'source': './files/chapter_one.docx'}, page_content='optimism which it was advisable to wear when facing the telescreen. He crossed the room into the tiny kitchen. By leaving the Ministry at this time of day he had sacrificed his lunch in the canteen,'),\n",
       " Document(metadata={'source': './files/chapter_one.docx'}, page_content='which it was advisable to wear when facing the telescreen. He crossed the room into the tiny kitchen. By leaving the Ministry at this time of day he had sacrificed his lunch in the canteen, and he'),\n",
       " Document(metadata={'source': './files/chapter_one.docx'}, page_content='it was advisable to wear when facing the telescreen. He crossed the room into the tiny kitchen. By leaving the Ministry at this time of day he had sacrificed his lunch in the canteen, and he was'),\n",
       " Document(metadata={'source': './files/chapter_one.docx'}, page_content='was advisable to wear when facing the telescreen. He crossed the room into the tiny kitchen. By leaving the Ministry at this time of day he had sacrificed his lunch in the canteen, and he was aware'),\n",
       " Document(metadata={'source': './files/chapter_one.docx'}, page_content='advisable to wear when facing the telescreen. He crossed the room into the tiny kitchen. By leaving the Ministry at this time of day he had sacrificed his lunch in the canteen, and he was aware that'),\n",
       " Document(metadata={'source': './files/chapter_one.docx'}, page_content='to wear when facing the telescreen. He crossed the room into the tiny kitchen. By leaving the Ministry at this time of day he had sacrificed his lunch in the canteen, and he was aware that there was'),\n",
       " Document(metadata={'source': './files/chapter_one.docx'}, page_content='wear when facing the telescreen. He crossed the room into the tiny kitchen. By leaving the Ministry at this time of day he had sacrificed his lunch in the canteen, and he was aware that there was no'),\n",
       " Document(metadata={'source': './files/chapter_one.docx'}, page_content='when facing the telescreen. He crossed the room into the tiny kitchen. By leaving the Ministry at this time of day he had sacrificed his lunch in the canteen, and he was aware that there was no food'),\n",
       " Document(metadata={'source': './files/chapter_one.docx'}, page_content='facing the telescreen. He crossed the room into the tiny kitchen. By leaving the Ministry at this time of day he had sacrificed his lunch in the canteen, and he was aware that there was no food in'),\n",
       " Document(metadata={'source': './files/chapter_one.docx'}, page_content='the telescreen. He crossed the room into the tiny kitchen. By leaving the Ministry at this time of day he had sacrificed his lunch in the canteen, and he was aware that there was no food in the'),\n",
       " Document(metadata={'source': './files/chapter_one.docx'}, page_content='telescreen. He crossed the room into the tiny kitchen. By leaving the Ministry at this time of day he had sacrificed his lunch in the canteen, and he was aware that there was no food in the kitchen'),\n",
       " Document(metadata={'source': './files/chapter_one.docx'}, page_content='He crossed the room into the tiny kitchen. By leaving the Ministry at this time of day he had sacrificed his lunch in the canteen, and he was aware that there was no food in the kitchen except a hunk'),\n",
       " Document(metadata={'source': './files/chapter_one.docx'}, page_content='crossed the room into the tiny kitchen. By leaving the Ministry at this time of day he had sacrificed his lunch in the canteen, and he was aware that there was no food in the kitchen except a hunk of'),\n",
       " Document(metadata={'source': './files/chapter_one.docx'}, page_content='into the tiny kitchen. By leaving the Ministry at this time of day he had sacrificed his lunch in the canteen, and he was aware that there was no food in the kitchen except a hunk of dark-coloured'),\n",
       " Document(metadata={'source': './files/chapter_one.docx'}, page_content='the tiny kitchen. By leaving the Ministry at this time of day he had sacrificed his lunch in the canteen, and he was aware that there was no food in the kitchen except a hunk of dark-coloured bread'),\n",
       " Document(metadata={'source': './files/chapter_one.docx'}, page_content='tiny kitchen. By leaving the Ministry at this time of day he had sacrificed his lunch in the canteen, and he was aware that there was no food in the kitchen except a hunk of dark-coloured bread which'),\n",
       " Document(metadata={'source': './files/chapter_one.docx'}, page_content='kitchen. By leaving the Ministry at this time of day he had sacrificed his lunch in the canteen, and he was aware that there was no food in the kitchen except a hunk of dark-coloured bread which had'),\n",
       " Document(metadata={'source': './files/chapter_one.docx'}, page_content='By leaving the Ministry at this time of day he had sacrificed his lunch in the canteen, and he was aware that there was no food in the kitchen except a hunk of dark-coloured bread which had got to be'),\n",
       " Document(metadata={'source': './files/chapter_one.docx'}, page_content='the Ministry at this time of day he had sacrificed his lunch in the canteen, and he was aware that there was no food in the kitchen except a hunk of dark-coloured bread which had got to be saved for'),\n",
       " Document(metadata={'source': './files/chapter_one.docx'}, page_content=\"at this time of day he had sacrificed his lunch in the canteen, and he was aware that there was no food in the kitchen except a hunk of dark-coloured bread which had got to be saved for tomorrow's\"),\n",
       " Document(metadata={'source': './files/chapter_one.docx'}, page_content=\"time of day he had sacrificed his lunch in the canteen, and he was aware that there was no food in the kitchen except a hunk of dark-coloured bread which had got to be saved for tomorrow's breakfast.\"),\n",
       " Document(metadata={'source': './files/chapter_one.docx'}, page_content=\"of day he had sacrificed his lunch in the canteen, and he was aware that there was no food in the kitchen except a hunk of dark-coloured bread which had got to be saved for tomorrow's breakfast. He\"),\n",
       " Document(metadata={'source': './files/chapter_one.docx'}, page_content=\"day he had sacrificed his lunch in the canteen, and he was aware that there was no food in the kitchen except a hunk of dark-coloured bread which had got to be saved for tomorrow's breakfast. He took\"),\n",
       " Document(metadata={'source': './files/chapter_one.docx'}, page_content=\"had sacrificed his lunch in the canteen, and he was aware that there was no food in the kitchen except a hunk of dark-coloured bread which had got to be saved for tomorrow's breakfast. He took down\"),\n",
       " Document(metadata={'source': './files/chapter_one.docx'}, page_content=\"sacrificed his lunch in the canteen, and he was aware that there was no food in the kitchen except a hunk of dark-coloured bread which had got to be saved for tomorrow's breakfast. He took down from\"),\n",
       " Document(metadata={'source': './files/chapter_one.docx'}, page_content=\"his lunch in the canteen, and he was aware that there was no food in the kitchen except a hunk of dark-coloured bread which had got to be saved for tomorrow's breakfast. He took down from the shelf a\"),\n",
       " Document(metadata={'source': './files/chapter_one.docx'}, page_content=\"in the canteen, and he was aware that there was no food in the kitchen except a hunk of dark-coloured bread which had got to be saved for tomorrow's breakfast. He took down from the shelf a bottle of\"),\n",
       " Document(metadata={'source': './files/chapter_one.docx'}, page_content=\"and he was aware that there was no food in the kitchen except a hunk of dark-coloured bread which had got to be saved for tomorrow's breakfast. He took down from the shelf a bottle of colourless\"),\n",
       " Document(metadata={'source': './files/chapter_one.docx'}, page_content=\"he was aware that there was no food in the kitchen except a hunk of dark-coloured bread which had got to be saved for tomorrow's breakfast. He took down from the shelf a bottle of colourless liquid\"),\n",
       " Document(metadata={'source': './files/chapter_one.docx'}, page_content=\"was aware that there was no food in the kitchen except a hunk of dark-coloured bread which had got to be saved for tomorrow's breakfast. He took down from the shelf a bottle of colourless liquid with\"),\n",
       " Document(metadata={'source': './files/chapter_one.docx'}, page_content=\"aware that there was no food in the kitchen except a hunk of dark-coloured bread which had got to be saved for tomorrow's breakfast. He took down from the shelf a bottle of colourless liquid with a\"),\n",
       " Document(metadata={'source': './files/chapter_one.docx'}, page_content=\"that there was no food in the kitchen except a hunk of dark-coloured bread which had got to be saved for tomorrow's breakfast. He took down from the shelf a bottle of colourless liquid with a plain\"),\n",
       " Document(metadata={'source': './files/chapter_one.docx'}, page_content=\"there was no food in the kitchen except a hunk of dark-coloured bread which had got to be saved for tomorrow's breakfast. He took down from the shelf a bottle of colourless liquid with a plain white\"),\n",
       " Document(metadata={'source': './files/chapter_one.docx'}, page_content=\"was no food in the kitchen except a hunk of dark-coloured bread which had got to be saved for tomorrow's breakfast. He took down from the shelf a bottle of colourless liquid with a plain white label\"),\n",
       " Document(metadata={'source': './files/chapter_one.docx'}, page_content=\"food in the kitchen except a hunk of dark-coloured bread which had got to be saved for tomorrow's breakfast. He took down from the shelf a bottle of colourless liquid with a plain white label marked\"),\n",
       " Document(metadata={'source': './files/chapter_one.docx'}, page_content=\"the kitchen except a hunk of dark-coloured bread which had got to be saved for tomorrow's breakfast. He took down from the shelf a bottle of colourless liquid with a plain white label marked VICTORY\"),\n",
       " Document(metadata={'source': './files/chapter_one.docx'}, page_content=\"kitchen except a hunk of dark-coloured bread which had got to be saved for tomorrow's breakfast. He took down from the shelf a bottle of colourless liquid with a plain white label marked VICTORY GIN.\"),\n",
       " Document(metadata={'source': './files/chapter_one.docx'}, page_content=\"except a hunk of dark-coloured bread which had got to be saved for tomorrow's breakfast. He took down from the shelf a bottle of colourless liquid with a plain white label marked VICTORY GIN. It gave\"),\n",
       " Document(metadata={'source': './files/chapter_one.docx'}, page_content=\"a hunk of dark-coloured bread which had got to be saved for tomorrow's breakfast. He took down from the shelf a bottle of colourless liquid with a plain white label marked VICTORY GIN. It gave off a\"),\n",
       " Document(metadata={'source': './files/chapter_one.docx'}, page_content=\"of dark-coloured bread which had got to be saved for tomorrow's breakfast. He took down from the shelf a bottle of colourless liquid with a plain white label marked VICTORY GIN. It gave off a sickly,\"),\n",
       " Document(metadata={'source': './files/chapter_one.docx'}, page_content=\"bread which had got to be saved for tomorrow's breakfast. He took down from the shelf a bottle of colourless liquid with a plain white label marked VICTORY GIN. It gave off a sickly, oily smell, as\"),\n",
       " Document(metadata={'source': './files/chapter_one.docx'}, page_content=\"which had got to be saved for tomorrow's breakfast. He took down from the shelf a bottle of colourless liquid with a plain white label marked VICTORY GIN. It gave off a sickly, oily smell, as of\"),\n",
       " Document(metadata={'source': './files/chapter_one.docx'}, page_content=\"had got to be saved for tomorrow's breakfast. He took down from the shelf a bottle of colourless liquid with a plain white label marked VICTORY GIN. It gave off a sickly, oily smell, as of Chinese\"),\n",
       " Document(metadata={'source': './files/chapter_one.docx'}, page_content=\"be saved for tomorrow's breakfast. He took down from the shelf a bottle of colourless liquid with a plain white label marked VICTORY GIN. It gave off a sickly, oily smell, as of Chinese ricespirit.\"),\n",
       " Document(metadata={'source': './files/chapter_one.docx'}, page_content=\"for tomorrow's breakfast. He took down from the shelf a bottle of colourless liquid with a plain white label marked VICTORY GIN. It gave off a sickly, oily smell, as of Chinese ricespirit. Winston\"),\n",
       " Document(metadata={'source': './files/chapter_one.docx'}, page_content=\"tomorrow's breakfast. He took down from the shelf a bottle of colourless liquid with a plain white label marked VICTORY GIN. It gave off a sickly, oily smell, as of Chinese ricespirit. Winston poured\"),\n",
       " Document(metadata={'source': './files/chapter_one.docx'}, page_content='breakfast. He took down from the shelf a bottle of colourless liquid with a plain white label marked VICTORY GIN. It gave off a sickly, oily smell, as of Chinese ricespirit. Winston poured out nearly'),\n",
       " Document(metadata={'source': './files/chapter_one.docx'}, page_content='He took down from the shelf a bottle of colourless liquid with a plain white label marked VICTORY GIN. It gave off a sickly, oily smell, as of Chinese ricespirit. Winston poured out nearly a'),\n",
       " Document(metadata={'source': './files/chapter_one.docx'}, page_content='took down from the shelf a bottle of colourless liquid with a plain white label marked VICTORY GIN. It gave off a sickly, oily smell, as of Chinese ricespirit. Winston poured out nearly a teacupful,'),\n",
       " Document(metadata={'source': './files/chapter_one.docx'}, page_content='from the shelf a bottle of colourless liquid with a plain white label marked VICTORY GIN. It gave off a sickly, oily smell, as of Chinese ricespirit. Winston poured out nearly a teacupful, nerved'),\n",
       " Document(metadata={'source': './files/chapter_one.docx'}, page_content='the shelf a bottle of colourless liquid with a plain white label marked VICTORY GIN. It gave off a sickly, oily smell, as of Chinese ricespirit. Winston poured out nearly a teacupful, nerved himself'),\n",
       " Document(metadata={'source': './files/chapter_one.docx'}, page_content='shelf a bottle of colourless liquid with a plain white label marked VICTORY GIN. It gave off a sickly, oily smell, as of Chinese ricespirit. Winston poured out nearly a teacupful, nerved himself for'),\n",
       " Document(metadata={'source': './files/chapter_one.docx'}, page_content='a bottle of colourless liquid with a plain white label marked VICTORY GIN. It gave off a sickly, oily smell, as of Chinese ricespirit. Winston poured out nearly a teacupful, nerved himself for a'),\n",
       " Document(metadata={'source': './files/chapter_one.docx'}, page_content='bottle of colourless liquid with a plain white label marked VICTORY GIN. It gave off a sickly, oily smell, as of Chinese ricespirit. Winston poured out nearly a teacupful, nerved himself for a shock,'),\n",
       " Document(metadata={'source': './files/chapter_one.docx'}, page_content='of colourless liquid with a plain white label marked VICTORY GIN. It gave off a sickly, oily smell, as of Chinese ricespirit. Winston poured out nearly a teacupful, nerved himself for a shock, and'),\n",
       " Document(metadata={'source': './files/chapter_one.docx'}, page_content='liquid with a plain white label marked VICTORY GIN. It gave off a sickly, oily smell, as of Chinese ricespirit. Winston poured out nearly a teacupful, nerved himself for a shock, and gulped it down'),\n",
       " Document(metadata={'source': './files/chapter_one.docx'}, page_content='with a plain white label marked VICTORY GIN. It gave off a sickly, oily smell, as of Chinese ricespirit. Winston poured out nearly a teacupful, nerved himself for a shock, and gulped it down like a'),\n",
       " Document(metadata={'source': './files/chapter_one.docx'}, page_content='a plain white label marked VICTORY GIN. It gave off a sickly, oily smell, as of Chinese ricespirit. Winston poured out nearly a teacupful, nerved himself for a shock, and gulped it down like a dose'),\n",
       " Document(metadata={'source': './files/chapter_one.docx'}, page_content='plain white label marked VICTORY GIN. It gave off a sickly, oily smell, as of Chinese ricespirit. Winston poured out nearly a teacupful, nerved himself for a shock, and gulped it down like a dose of'),\n",
       " Document(metadata={'source': './files/chapter_one.docx'}, page_content='label marked VICTORY GIN. It gave off a sickly, oily smell, as of Chinese ricespirit. Winston poured out nearly a teacupful, nerved himself for a shock, and gulped it down like a dose of medicine.'),\n",
       " Document(metadata={'source': './files/chapter_one.docx'}, page_content='Instantly his face turned scarlet and the water ran out of his eyes. The stuff was like nitric acid, and moreover, in swallowing it one had the sensation of being hit on the back of the head with a'),\n",
       " Document(metadata={'source': './files/chapter_one.docx'}, page_content='his face turned scarlet and the water ran out of his eyes. The stuff was like nitric acid, and moreover, in swallowing it one had the sensation of being hit on the back of the head with a rubber'),\n",
       " Document(metadata={'source': './files/chapter_one.docx'}, page_content='face turned scarlet and the water ran out of his eyes. The stuff was like nitric acid, and moreover, in swallowing it one had the sensation of being hit on the back of the head with a rubber club.'),\n",
       " Document(metadata={'source': './files/chapter_one.docx'}, page_content='turned scarlet and the water ran out of his eyes. The stuff was like nitric acid, and moreover, in swallowing it one had the sensation of being hit on the back of the head with a rubber club. The'),\n",
       " Document(metadata={'source': './files/chapter_one.docx'}, page_content='scarlet and the water ran out of his eyes. The stuff was like nitric acid, and moreover, in swallowing it one had the sensation of being hit on the back of the head with a rubber club. The next'),\n",
       " Document(metadata={'source': './files/chapter_one.docx'}, page_content='and the water ran out of his eyes. The stuff was like nitric acid, and moreover, in swallowing it one had the sensation of being hit on the back of the head with a rubber club. The next moment,'),\n",
       " Document(metadata={'source': './files/chapter_one.docx'}, page_content='the water ran out of his eyes. The stuff was like nitric acid, and moreover, in swallowing it one had the sensation of being hit on the back of the head with a rubber club. The next moment, however,'),\n",
       " Document(metadata={'source': './files/chapter_one.docx'}, page_content='water ran out of his eyes. The stuff was like nitric acid, and moreover, in swallowing it one had the sensation of being hit on the back of the head with a rubber club. The next moment, however, the'),\n",
       " Document(metadata={'source': './files/chapter_one.docx'}, page_content='out of his eyes. The stuff was like nitric acid, and moreover, in swallowing it one had the sensation of being hit on the back of the head with a rubber club. The next moment, however, the burning in'),\n",
       " Document(metadata={'source': './files/chapter_one.docx'}, page_content='of his eyes. The stuff was like nitric acid, and moreover, in swallowing it one had the sensation of being hit on the back of the head with a rubber club. The next moment, however, the burning in his'),\n",
       " Document(metadata={'source': './files/chapter_one.docx'}, page_content='eyes. The stuff was like nitric acid, and moreover, in swallowing it one had the sensation of being hit on the back of the head with a rubber club. The next moment, however, the burning in his belly'),\n",
       " Document(metadata={'source': './files/chapter_one.docx'}, page_content='The stuff was like nitric acid, and moreover, in swallowing it one had the sensation of being hit on the back of the head with a rubber club. The next moment, however, the burning in his belly died'),\n",
       " Document(metadata={'source': './files/chapter_one.docx'}, page_content='stuff was like nitric acid, and moreover, in swallowing it one had the sensation of being hit on the back of the head with a rubber club. The next moment, however, the burning in his belly died down'),\n",
       " Document(metadata={'source': './files/chapter_one.docx'}, page_content='was like nitric acid, and moreover, in swallowing it one had the sensation of being hit on the back of the head with a rubber club. The next moment, however, the burning in his belly died down and'),\n",
       " Document(metadata={'source': './files/chapter_one.docx'}, page_content='like nitric acid, and moreover, in swallowing it one had the sensation of being hit on the back of the head with a rubber club. The next moment, however, the burning in his belly died down and the'),\n",
       " Document(metadata={'source': './files/chapter_one.docx'}, page_content='nitric acid, and moreover, in swallowing it one had the sensation of being hit on the back of the head with a rubber club. The next moment, however, the burning in his belly died down and the world'),\n",
       " Document(metadata={'source': './files/chapter_one.docx'}, page_content='acid, and moreover, in swallowing it one had the sensation of being hit on the back of the head with a rubber club. The next moment, however, the burning in his belly died down and the world began to'),\n",
       " Document(metadata={'source': './files/chapter_one.docx'}, page_content='and moreover, in swallowing it one had the sensation of being hit on the back of the head with a rubber club. The next moment, however, the burning in his belly died down and the world began to look'),\n",
       " Document(metadata={'source': './files/chapter_one.docx'}, page_content='moreover, in swallowing it one had the sensation of being hit on the back of the head with a rubber club. The next moment, however, the burning in his belly died down and the world began to look more'),\n",
       " Document(metadata={'source': './files/chapter_one.docx'}, page_content='in swallowing it one had the sensation of being hit on the back of the head with a rubber club. The next moment, however, the burning in his belly died down and the world began to look more cheerful.'),\n",
       " Document(metadata={'source': './files/chapter_one.docx'}, page_content='swallowing it one had the sensation of being hit on the back of the head with a rubber club. The next moment, however, the burning in his belly died down and the world began to look more cheerful. He'),\n",
       " Document(metadata={'source': './files/chapter_one.docx'}, page_content='it one had the sensation of being hit on the back of the head with a rubber club. The next moment, however, the burning in his belly died down and the world began to look more cheerful. He took a'),\n",
       " Document(metadata={'source': './files/chapter_one.docx'}, page_content='had the sensation of being hit on the back of the head with a rubber club. The next moment, however, the burning in his belly died down and the world began to look more cheerful. He took a cigarette'),\n",
       " Document(metadata={'source': './files/chapter_one.docx'}, page_content='the sensation of being hit on the back of the head with a rubber club. The next moment, however, the burning in his belly died down and the world began to look more cheerful. He took a cigarette from'),\n",
       " Document(metadata={'source': './files/chapter_one.docx'}, page_content='sensation of being hit on the back of the head with a rubber club. The next moment, however, the burning in his belly died down and the world began to look more cheerful. He took a cigarette from a'),\n",
       " Document(metadata={'source': './files/chapter_one.docx'}, page_content='of being hit on the back of the head with a rubber club. The next moment, however, the burning in his belly died down and the world began to look more cheerful. He took a cigarette from a crumpled'),\n",
       " Document(metadata={'source': './files/chapter_one.docx'}, page_content='hit on the back of the head with a rubber club. The next moment, however, the burning in his belly died down and the world began to look more cheerful. He took a cigarette from a crumpled packet'),\n",
       " Document(metadata={'source': './files/chapter_one.docx'}, page_content='on the back of the head with a rubber club. The next moment, however, the burning in his belly died down and the world began to look more cheerful. He took a cigarette from a crumpled packet marked'),\n",
       " Document(metadata={'source': './files/chapter_one.docx'}, page_content='back of the head with a rubber club. The next moment, however, the burning in his belly died down and the world began to look more cheerful. He took a cigarette from a crumpled packet marked VICTORY'),\n",
       " Document(metadata={'source': './files/chapter_one.docx'}, page_content='head with a rubber club. The next moment, however, the burning in his belly died down and the world began to look more cheerful. He took a cigarette from a crumpled packet marked VICTORY CIGARETTES'),\n",
       " Document(metadata={'source': './files/chapter_one.docx'}, page_content='with a rubber club. The next moment, however, the burning in his belly died down and the world began to look more cheerful. He took a cigarette from a crumpled packet marked VICTORY CIGARETTES and'),\n",
       " Document(metadata={'source': './files/chapter_one.docx'}, page_content='club. The next moment, however, the burning in his belly died down and the world began to look more cheerful. He took a cigarette from a crumpled packet marked VICTORY CIGARETTES and incautiously'),\n",
       " Document(metadata={'source': './files/chapter_one.docx'}, page_content='The next moment, however, the burning in his belly died down and the world began to look more cheerful. He took a cigarette from a crumpled packet marked VICTORY CIGARETTES and incautiously held it'),\n",
       " Document(metadata={'source': './files/chapter_one.docx'}, page_content='moment, however, the burning in his belly died down and the world began to look more cheerful. He took a cigarette from a crumpled packet marked VICTORY CIGARETTES and incautiously held it upright,'),\n",
       " Document(metadata={'source': './files/chapter_one.docx'}, page_content='however, the burning in his belly died down and the world began to look more cheerful. He took a cigarette from a crumpled packet marked VICTORY CIGARETTES and incautiously held it upright, whereupon'),\n",
       " Document(metadata={'source': './files/chapter_one.docx'}, page_content='the burning in his belly died down and the world began to look more cheerful. He took a cigarette from a crumpled packet marked VICTORY CIGARETTES and incautiously held it upright, whereupon the'),\n",
       " Document(metadata={'source': './files/chapter_one.docx'}, page_content='burning in his belly died down and the world began to look more cheerful. He took a cigarette from a crumpled packet marked VICTORY CIGARETTES and incautiously held it upright, whereupon the tobacco'),\n",
       " Document(metadata={'source': './files/chapter_one.docx'}, page_content='in his belly died down and the world began to look more cheerful. He took a cigarette from a crumpled packet marked VICTORY CIGARETTES and incautiously held it upright, whereupon the tobacco fell out'),\n",
       " Document(metadata={'source': './files/chapter_one.docx'}, page_content='his belly died down and the world began to look more cheerful. He took a cigarette from a crumpled packet marked VICTORY CIGARETTES and incautiously held it upright, whereupon the tobacco fell out on'),\n",
       " Document(metadata={'source': './files/chapter_one.docx'}, page_content='belly died down and the world began to look more cheerful. He took a cigarette from a crumpled packet marked VICTORY CIGARETTES and incautiously held it upright, whereupon the tobacco fell out on to'),\n",
       " Document(metadata={'source': './files/chapter_one.docx'}, page_content='died down and the world began to look more cheerful. He took a cigarette from a crumpled packet marked VICTORY CIGARETTES and incautiously held it upright, whereupon the tobacco fell out on to the'),\n",
       " Document(metadata={'source': './files/chapter_one.docx'}, page_content='down and the world began to look more cheerful. He took a cigarette from a crumpled packet marked VICTORY CIGARETTES and incautiously held it upright, whereupon the tobacco fell out on to the floor.'),\n",
       " Document(metadata={'source': './files/chapter_one.docx'}, page_content='and the world began to look more cheerful. He took a cigarette from a crumpled packet marked VICTORY CIGARETTES and incautiously held it upright, whereupon the tobacco fell out on to the floor. With'),\n",
       " Document(metadata={'source': './files/chapter_one.docx'}, page_content='the world began to look more cheerful. He took a cigarette from a crumpled packet marked VICTORY CIGARETTES and incautiously held it upright, whereupon the tobacco fell out on to the floor. With the'),\n",
       " Document(metadata={'source': './files/chapter_one.docx'}, page_content='world began to look more cheerful. He took a cigarette from a crumpled packet marked VICTORY CIGARETTES and incautiously held it upright, whereupon the tobacco fell out on to the floor. With the next'),\n",
       " Document(metadata={'source': './files/chapter_one.docx'}, page_content='began to look more cheerful. He took a cigarette from a crumpled packet marked VICTORY CIGARETTES and incautiously held it upright, whereupon the tobacco fell out on to the floor. With the next he'),\n",
       " Document(metadata={'source': './files/chapter_one.docx'}, page_content='to look more cheerful. He took a cigarette from a crumpled packet marked VICTORY CIGARETTES and incautiously held it upright, whereupon the tobacco fell out on to the floor. With the next he was more'),\n",
       " Document(metadata={'source': './files/chapter_one.docx'}, page_content='cheerful. He took a cigarette from a crumpled packet marked VICTORY CIGARETTES and incautiously held it upright, whereupon the tobacco fell out on to the floor. With the next he was more successful.'),\n",
       " Document(metadata={'source': './files/chapter_one.docx'}, page_content='He took a cigarette from a crumpled packet marked VICTORY CIGARETTES and incautiously held it upright, whereupon the tobacco fell out on to the floor. With the next he was more successful. He went'),\n",
       " Document(metadata={'source': './files/chapter_one.docx'}, page_content='took a cigarette from a crumpled packet marked VICTORY CIGARETTES and incautiously held it upright, whereupon the tobacco fell out on to the floor. With the next he was more successful. He went back'),\n",
       " Document(metadata={'source': './files/chapter_one.docx'}, page_content='a cigarette from a crumpled packet marked VICTORY CIGARETTES and incautiously held it upright, whereupon the tobacco fell out on to the floor. With the next he was more successful. He went back to'),\n",
       " Document(metadata={'source': './files/chapter_one.docx'}, page_content='cigarette from a crumpled packet marked VICTORY CIGARETTES and incautiously held it upright, whereupon the tobacco fell out on to the floor. With the next he was more successful. He went back to the'),\n",
       " Document(metadata={'source': './files/chapter_one.docx'}, page_content='a crumpled packet marked VICTORY CIGARETTES and incautiously held it upright, whereupon the tobacco fell out on to the floor. With the next he was more successful. He went back to the living-room and'),\n",
       " Document(metadata={'source': './files/chapter_one.docx'}, page_content='packet marked VICTORY CIGARETTES and incautiously held it upright, whereupon the tobacco fell out on to the floor. With the next he was more successful. He went back to the living-room and sat down'),\n",
       " Document(metadata={'source': './files/chapter_one.docx'}, page_content='marked VICTORY CIGARETTES and incautiously held it upright, whereupon the tobacco fell out on to the floor. With the next he was more successful. He went back to the living-room and sat down at a'),\n",
       " Document(metadata={'source': './files/chapter_one.docx'}, page_content='VICTORY CIGARETTES and incautiously held it upright, whereupon the tobacco fell out on to the floor. With the next he was more successful. He went back to the living-room and sat down at a small'),\n",
       " Document(metadata={'source': './files/chapter_one.docx'}, page_content='CIGARETTES and incautiously held it upright, whereupon the tobacco fell out on to the floor. With the next he was more successful. He went back to the living-room and sat down at a small table that'),\n",
       " Document(metadata={'source': './files/chapter_one.docx'}, page_content='and incautiously held it upright, whereupon the tobacco fell out on to the floor. With the next he was more successful. He went back to the living-room and sat down at a small table that stood to the'),\n",
       " Document(metadata={'source': './files/chapter_one.docx'}, page_content='held it upright, whereupon the tobacco fell out on to the floor. With the next he was more successful. He went back to the living-room and sat down at a small table that stood to the left of the'),\n",
       " Document(metadata={'source': './files/chapter_one.docx'}, page_content='upright, whereupon the tobacco fell out on to the floor. With the next he was more successful. He went back to the living-room and sat down at a small table that stood to the left of the telescreen.'),\n",
       " Document(metadata={'source': './files/chapter_one.docx'}, page_content='whereupon the tobacco fell out on to the floor. With the next he was more successful. He went back to the living-room and sat down at a small table that stood to the left of the telescreen. From the'),\n",
       " Document(metadata={'source': './files/chapter_one.docx'}, page_content='the tobacco fell out on to the floor. With the next he was more successful. He went back to the living-room and sat down at a small table that stood to the left of the telescreen. From the table'),\n",
       " Document(metadata={'source': './files/chapter_one.docx'}, page_content='tobacco fell out on to the floor. With the next he was more successful. He went back to the living-room and sat down at a small table that stood to the left of the telescreen. From the table drawer'),\n",
       " Document(metadata={'source': './files/chapter_one.docx'}, page_content='fell out on to the floor. With the next he was more successful. He went back to the living-room and sat down at a small table that stood to the left of the telescreen. From the table drawer he took'),\n",
       " Document(metadata={'source': './files/chapter_one.docx'}, page_content='out on to the floor. With the next he was more successful. He went back to the living-room and sat down at a small table that stood to the left of the telescreen. From the table drawer he took out a'),\n",
       " Document(metadata={'source': './files/chapter_one.docx'}, page_content='the floor. With the next he was more successful. He went back to the living-room and sat down at a small table that stood to the left of the telescreen. From the table drawer he took out a penholder,'),\n",
       " Document(metadata={'source': './files/chapter_one.docx'}, page_content='floor. With the next he was more successful. He went back to the living-room and sat down at a small table that stood to the left of the telescreen. From the table drawer he took out a penholder, a'),\n",
       " Document(metadata={'source': './files/chapter_one.docx'}, page_content='With the next he was more successful. He went back to the living-room and sat down at a small table that stood to the left of the telescreen. From the table drawer he took out a penholder, a bottle'),\n",
       " Document(metadata={'source': './files/chapter_one.docx'}, page_content='the next he was more successful. He went back to the living-room and sat down at a small table that stood to the left of the telescreen. From the table drawer he took out a penholder, a bottle of'),\n",
       " Document(metadata={'source': './files/chapter_one.docx'}, page_content='next he was more successful. He went back to the living-room and sat down at a small table that stood to the left of the telescreen. From the table drawer he took out a penholder, a bottle of ink,'),\n",
       " Document(metadata={'source': './files/chapter_one.docx'}, page_content='he was more successful. He went back to the living-room and sat down at a small table that stood to the left of the telescreen. From the table drawer he took out a penholder, a bottle of ink, and a'),\n",
       " Document(metadata={'source': './files/chapter_one.docx'}, page_content='more successful. He went back to the living-room and sat down at a small table that stood to the left of the telescreen. From the table drawer he took out a penholder, a bottle of ink, and a thick,'),\n",
       " Document(metadata={'source': './files/chapter_one.docx'}, page_content='He went back to the living-room and sat down at a small table that stood to the left of the telescreen. From the table drawer he took out a penholder, a bottle of ink, and a thick, quarto-sized blank'),\n",
       " Document(metadata={'source': './files/chapter_one.docx'}, page_content='back to the living-room and sat down at a small table that stood to the left of the telescreen. From the table drawer he took out a penholder, a bottle of ink, and a thick, quarto-sized blank book'),\n",
       " Document(metadata={'source': './files/chapter_one.docx'}, page_content='to the living-room and sat down at a small table that stood to the left of the telescreen. From the table drawer he took out a penholder, a bottle of ink, and a thick, quarto-sized blank book with a'),\n",
       " Document(metadata={'source': './files/chapter_one.docx'}, page_content='the living-room and sat down at a small table that stood to the left of the telescreen. From the table drawer he took out a penholder, a bottle of ink, and a thick, quarto-sized blank book with a red'),\n",
       " Document(metadata={'source': './files/chapter_one.docx'}, page_content='and sat down at a small table that stood to the left of the telescreen. From the table drawer he took out a penholder, a bottle of ink, and a thick, quarto-sized blank book with a red back and a'),\n",
       " Document(metadata={'source': './files/chapter_one.docx'}, page_content='sat down at a small table that stood to the left of the telescreen. From the table drawer he took out a penholder, a bottle of ink, and a thick, quarto-sized blank book with a red back and a marbled'),\n",
       " Document(metadata={'source': './files/chapter_one.docx'}, page_content='at a small table that stood to the left of the telescreen. From the table drawer he took out a penholder, a bottle of ink, and a thick, quarto-sized blank book with a red back and a marbled cover.'),\n",
       " Document(metadata={'source': './files/chapter_one.docx'}, page_content='For some reason the telescreen in the living-room was in an unusual position. Instead of being placed, as was normal, in the end wall, where it could command the whole room, it was in the longer'),\n",
       " Document(metadata={'source': './files/chapter_one.docx'}, page_content='some reason the telescreen in the living-room was in an unusual position. Instead of being placed, as was normal, in the end wall, where it could command the whole room, it was in the longer wall,'),\n",
       " Document(metadata={'source': './files/chapter_one.docx'}, page_content='the telescreen in the living-room was in an unusual position. Instead of being placed, as was normal, in the end wall, where it could command the whole room, it was in the longer wall, opposite the'),\n",
       " Document(metadata={'source': './files/chapter_one.docx'}, page_content='in the living-room was in an unusual position. Instead of being placed, as was normal, in the end wall, where it could command the whole room, it was in the longer wall, opposite the window. To one'),\n",
       " Document(metadata={'source': './files/chapter_one.docx'}, page_content='the living-room was in an unusual position. Instead of being placed, as was normal, in the end wall, where it could command the whole room, it was in the longer wall, opposite the window. To one side'),\n",
       " Document(metadata={'source': './files/chapter_one.docx'}, page_content='living-room was in an unusual position. Instead of being placed, as was normal, in the end wall, where it could command the whole room, it was in the longer wall, opposite the window. To one side of'),\n",
       " Document(metadata={'source': './files/chapter_one.docx'}, page_content='was in an unusual position. Instead of being placed, as was normal, in the end wall, where it could command the whole room, it was in the longer wall, opposite the window. To one side of it there was'),\n",
       " Document(metadata={'source': './files/chapter_one.docx'}, page_content='in an unusual position. Instead of being placed, as was normal, in the end wall, where it could command the whole room, it was in the longer wall, opposite the window. To one side of it there was a'),\n",
       " Document(metadata={'source': './files/chapter_one.docx'}, page_content='unusual position. Instead of being placed, as was normal, in the end wall, where it could command the whole room, it was in the longer wall, opposite the window. To one side of it there was a shallow'),\n",
       " Document(metadata={'source': './files/chapter_one.docx'}, page_content='position. Instead of being placed, as was normal, in the end wall, where it could command the whole room, it was in the longer wall, opposite the window. To one side of it there was a shallow alcove'),\n",
       " Document(metadata={'source': './files/chapter_one.docx'}, page_content='Instead of being placed, as was normal, in the end wall, where it could command the whole room, it was in the longer wall, opposite the window. To one side of it there was a shallow alcove in which'),\n",
       " Document(metadata={'source': './files/chapter_one.docx'}, page_content='of being placed, as was normal, in the end wall, where it could command the whole room, it was in the longer wall, opposite the window. To one side of it there was a shallow alcove in which Winston'),\n",
       " Document(metadata={'source': './files/chapter_one.docx'}, page_content='being placed, as was normal, in the end wall, where it could command the whole room, it was in the longer wall, opposite the window. To one side of it there was a shallow alcove in which Winston was'),\n",
       " Document(metadata={'source': './files/chapter_one.docx'}, page_content='placed, as was normal, in the end wall, where it could command the whole room, it was in the longer wall, opposite the window. To one side of it there was a shallow alcove in which Winston was now'),\n",
       " Document(metadata={'source': './files/chapter_one.docx'}, page_content='as was normal, in the end wall, where it could command the whole room, it was in the longer wall, opposite the window. To one side of it there was a shallow alcove in which Winston was now sitting,'),\n",
       " Document(metadata={'source': './files/chapter_one.docx'}, page_content='was normal, in the end wall, where it could command the whole room, it was in the longer wall, opposite the window. To one side of it there was a shallow alcove in which Winston was now sitting, and'),\n",
       " Document(metadata={'source': './files/chapter_one.docx'}, page_content='in the end wall, where it could command the whole room, it was in the longer wall, opposite the window. To one side of it there was a shallow alcove in which Winston was now sitting, and which, when'),\n",
       " Document(metadata={'source': './files/chapter_one.docx'}, page_content='the end wall, where it could command the whole room, it was in the longer wall, opposite the window. To one side of it there was a shallow alcove in which Winston was now sitting, and which, when the'),\n",
       " Document(metadata={'source': './files/chapter_one.docx'}, page_content='wall, where it could command the whole room, it was in the longer wall, opposite the window. To one side of it there was a shallow alcove in which Winston was now sitting, and which, when the flats'),\n",
       " Document(metadata={'source': './files/chapter_one.docx'}, page_content='where it could command the whole room, it was in the longer wall, opposite the window. To one side of it there was a shallow alcove in which Winston was now sitting, and which, when the flats were'),\n",
       " Document(metadata={'source': './files/chapter_one.docx'}, page_content='it could command the whole room, it was in the longer wall, opposite the window. To one side of it there was a shallow alcove in which Winston was now sitting, and which, when the flats were built,'),\n",
       " Document(metadata={'source': './files/chapter_one.docx'}, page_content='could command the whole room, it was in the longer wall, opposite the window. To one side of it there was a shallow alcove in which Winston was now sitting, and which, when the flats were built, had'),\n",
       " Document(metadata={'source': './files/chapter_one.docx'}, page_content='the whole room, it was in the longer wall, opposite the window. To one side of it there was a shallow alcove in which Winston was now sitting, and which, when the flats were built, had probably been'),\n",
       " Document(metadata={'source': './files/chapter_one.docx'}, page_content='room, it was in the longer wall, opposite the window. To one side of it there was a shallow alcove in which Winston was now sitting, and which, when the flats were built, had probably been intended'),\n",
       " Document(metadata={'source': './files/chapter_one.docx'}, page_content='it was in the longer wall, opposite the window. To one side of it there was a shallow alcove in which Winston was now sitting, and which, when the flats were built, had probably been intended to hold'),\n",
       " Document(metadata={'source': './files/chapter_one.docx'}, page_content='longer wall, opposite the window. To one side of it there was a shallow alcove in which Winston was now sitting, and which, when the flats were built, had probably been intended to hold bookshelves.'),\n",
       " Document(metadata={'source': './files/chapter_one.docx'}, page_content='wall, opposite the window. To one side of it there was a shallow alcove in which Winston was now sitting, and which, when the flats were built, had probably been intended to hold bookshelves. By'),\n",
       " Document(metadata={'source': './files/chapter_one.docx'}, page_content='opposite the window. To one side of it there was a shallow alcove in which Winston was now sitting, and which, when the flats were built, had probably been intended to hold bookshelves. By sitting in'),\n",
       " Document(metadata={'source': './files/chapter_one.docx'}, page_content='the window. To one side of it there was a shallow alcove in which Winston was now sitting, and which, when the flats were built, had probably been intended to hold bookshelves. By sitting in the'),\n",
       " Document(metadata={'source': './files/chapter_one.docx'}, page_content='window. To one side of it there was a shallow alcove in which Winston was now sitting, and which, when the flats were built, had probably been intended to hold bookshelves. By sitting in the alcove,'),\n",
       " Document(metadata={'source': './files/chapter_one.docx'}, page_content='To one side of it there was a shallow alcove in which Winston was now sitting, and which, when the flats were built, had probably been intended to hold bookshelves. By sitting in the alcove, and'),\n",
       " Document(metadata={'source': './files/chapter_one.docx'}, page_content='one side of it there was a shallow alcove in which Winston was now sitting, and which, when the flats were built, had probably been intended to hold bookshelves. By sitting in the alcove, and keeping'),\n",
       " Document(metadata={'source': './files/chapter_one.docx'}, page_content='of it there was a shallow alcove in which Winston was now sitting, and which, when the flats were built, had probably been intended to hold bookshelves. By sitting in the alcove, and keeping well'),\n",
       " Document(metadata={'source': './files/chapter_one.docx'}, page_content='it there was a shallow alcove in which Winston was now sitting, and which, when the flats were built, had probably been intended to hold bookshelves. By sitting in the alcove, and keeping well back,'),\n",
       " Document(metadata={'source': './files/chapter_one.docx'}, page_content='was a shallow alcove in which Winston was now sitting, and which, when the flats were built, had probably been intended to hold bookshelves. By sitting in the alcove, and keeping well back, Winston'),\n",
       " Document(metadata={'source': './files/chapter_one.docx'}, page_content='a shallow alcove in which Winston was now sitting, and which, when the flats were built, had probably been intended to hold bookshelves. By sitting in the alcove, and keeping well back, Winston was'),\n",
       " Document(metadata={'source': './files/chapter_one.docx'}, page_content='alcove in which Winston was now sitting, and which, when the flats were built, had probably been intended to hold bookshelves. By sitting in the alcove, and keeping well back, Winston was able to'),\n",
       " Document(metadata={'source': './files/chapter_one.docx'}, page_content='in which Winston was now sitting, and which, when the flats were built, had probably been intended to hold bookshelves. By sitting in the alcove, and keeping well back, Winston was able to remain'),\n",
       " Document(metadata={'source': './files/chapter_one.docx'}, page_content='Winston was now sitting, and which, when the flats were built, had probably been intended to hold bookshelves. By sitting in the alcove, and keeping well back, Winston was able to remain outside the'),\n",
       " Document(metadata={'source': './files/chapter_one.docx'}, page_content='was now sitting, and which, when the flats were built, had probably been intended to hold bookshelves. By sitting in the alcove, and keeping well back, Winston was able to remain outside the range of'),\n",
       " Document(metadata={'source': './files/chapter_one.docx'}, page_content='now sitting, and which, when the flats were built, had probably been intended to hold bookshelves. By sitting in the alcove, and keeping well back, Winston was able to remain outside the range of the'),\n",
       " Document(metadata={'source': './files/chapter_one.docx'}, page_content='and which, when the flats were built, had probably been intended to hold bookshelves. By sitting in the alcove, and keeping well back, Winston was able to remain outside the range of the telescreen,'),\n",
       " Document(metadata={'source': './files/chapter_one.docx'}, page_content='which, when the flats were built, had probably been intended to hold bookshelves. By sitting in the alcove, and keeping well back, Winston was able to remain outside the range of the telescreen, so'),\n",
       " Document(metadata={'source': './files/chapter_one.docx'}, page_content='when the flats were built, had probably been intended to hold bookshelves. By sitting in the alcove, and keeping well back, Winston was able to remain outside the range of the telescreen, so far as'),\n",
       " Document(metadata={'source': './files/chapter_one.docx'}, page_content='the flats were built, had probably been intended to hold bookshelves. By sitting in the alcove, and keeping well back, Winston was able to remain outside the range of the telescreen, so far as sight'),\n",
       " Document(metadata={'source': './files/chapter_one.docx'}, page_content='were built, had probably been intended to hold bookshelves. By sitting in the alcove, and keeping well back, Winston was able to remain outside the range of the telescreen, so far as sight went. He'),\n",
       " Document(metadata={'source': './files/chapter_one.docx'}, page_content='built, had probably been intended to hold bookshelves. By sitting in the alcove, and keeping well back, Winston was able to remain outside the range of the telescreen, so far as sight went. He could'),\n",
       " Document(metadata={'source': './files/chapter_one.docx'}, page_content='had probably been intended to hold bookshelves. By sitting in the alcove, and keeping well back, Winston was able to remain outside the range of the telescreen, so far as sight went. He could be'),\n",
       " Document(metadata={'source': './files/chapter_one.docx'}, page_content='probably been intended to hold bookshelves. By sitting in the alcove, and keeping well back, Winston was able to remain outside the range of the telescreen, so far as sight went. He could be heard,'),\n",
       " Document(metadata={'source': './files/chapter_one.docx'}, page_content='been intended to hold bookshelves. By sitting in the alcove, and keeping well back, Winston was able to remain outside the range of the telescreen, so far as sight went. He could be heard, of course,'),\n",
       " Document(metadata={'source': './files/chapter_one.docx'}, page_content='intended to hold bookshelves. By sitting in the alcove, and keeping well back, Winston was able to remain outside the range of the telescreen, so far as sight went. He could be heard, of course, but'),\n",
       " Document(metadata={'source': './files/chapter_one.docx'}, page_content='to hold bookshelves. By sitting in the alcove, and keeping well back, Winston was able to remain outside the range of the telescreen, so far as sight went. He could be heard, of course, but so long'),\n",
       " Document(metadata={'source': './files/chapter_one.docx'}, page_content='hold bookshelves. By sitting in the alcove, and keeping well back, Winston was able to remain outside the range of the telescreen, so far as sight went. He could be heard, of course, but so long as'),\n",
       " Document(metadata={'source': './files/chapter_one.docx'}, page_content='bookshelves. By sitting in the alcove, and keeping well back, Winston was able to remain outside the range of the telescreen, so far as sight went. He could be heard, of course, but so long as he'),\n",
       " Document(metadata={'source': './files/chapter_one.docx'}, page_content='By sitting in the alcove, and keeping well back, Winston was able to remain outside the range of the telescreen, so far as sight went. He could be heard, of course, but so long as he stayed in his'),\n",
       " Document(metadata={'source': './files/chapter_one.docx'}, page_content='in the alcove, and keeping well back, Winston was able to remain outside the range of the telescreen, so far as sight went. He could be heard, of course, but so long as he stayed in his present'),\n",
       " Document(metadata={'source': './files/chapter_one.docx'}, page_content='the alcove, and keeping well back, Winston was able to remain outside the range of the telescreen, so far as sight went. He could be heard, of course, but so long as he stayed in his present position'),\n",
       " Document(metadata={'source': './files/chapter_one.docx'}, page_content='alcove, and keeping well back, Winston was able to remain outside the range of the telescreen, so far as sight went. He could be heard, of course, but so long as he stayed in his present position he'),\n",
       " Document(metadata={'source': './files/chapter_one.docx'}, page_content='and keeping well back, Winston was able to remain outside the range of the telescreen, so far as sight went. He could be heard, of course, but so long as he stayed in his present position he could'),\n",
       " Document(metadata={'source': './files/chapter_one.docx'}, page_content='keeping well back, Winston was able to remain outside the range of the telescreen, so far as sight went. He could be heard, of course, but so long as he stayed in his present position he could not be'),\n",
       " Document(metadata={'source': './files/chapter_one.docx'}, page_content='well back, Winston was able to remain outside the range of the telescreen, so far as sight went. He could be heard, of course, but so long as he stayed in his present position he could not be seen.'),\n",
       " Document(metadata={'source': './files/chapter_one.docx'}, page_content='back, Winston was able to remain outside the range of the telescreen, so far as sight went. He could be heard, of course, but so long as he stayed in his present position he could not be seen. It was'),\n",
       " Document(metadata={'source': './files/chapter_one.docx'}, page_content='was able to remain outside the range of the telescreen, so far as sight went. He could be heard, of course, but so long as he stayed in his present position he could not be seen. It was partly the'),\n",
       " Document(metadata={'source': './files/chapter_one.docx'}, page_content='to remain outside the range of the telescreen, so far as sight went. He could be heard, of course, but so long as he stayed in his present position he could not be seen. It was partly the unusual'),\n",
       " Document(metadata={'source': './files/chapter_one.docx'}, page_content='outside the range of the telescreen, so far as sight went. He could be heard, of course, but so long as he stayed in his present position he could not be seen. It was partly the unusual geography of'),\n",
       " Document(metadata={'source': './files/chapter_one.docx'}, page_content='the range of the telescreen, so far as sight went. He could be heard, of course, but so long as he stayed in his present position he could not be seen. It was partly the unusual geography of the room'),\n",
       " Document(metadata={'source': './files/chapter_one.docx'}, page_content='of the telescreen, so far as sight went. He could be heard, of course, but so long as he stayed in his present position he could not be seen. It was partly the unusual geography of the room that had'),\n",
       " Document(metadata={'source': './files/chapter_one.docx'}, page_content='so far as sight went. He could be heard, of course, but so long as he stayed in his present position he could not be seen. It was partly the unusual geography of the room that had suggested to him'),\n",
       " Document(metadata={'source': './files/chapter_one.docx'}, page_content='far as sight went. He could be heard, of course, but so long as he stayed in his present position he could not be seen. It was partly the unusual geography of the room that had suggested to him the'),\n",
       " Document(metadata={'source': './files/chapter_one.docx'}, page_content='as sight went. He could be heard, of course, but so long as he stayed in his present position he could not be seen. It was partly the unusual geography of the room that had suggested to him the thing'),\n",
       " Document(metadata={'source': './files/chapter_one.docx'}, page_content='went. He could be heard, of course, but so long as he stayed in his present position he could not be seen. It was partly the unusual geography of the room that had suggested to him the thing that he'),\n",
       " Document(metadata={'source': './files/chapter_one.docx'}, page_content='He could be heard, of course, but so long as he stayed in his present position he could not be seen. It was partly the unusual geography of the room that had suggested to him the thing that he was'),\n",
       " Document(metadata={'source': './files/chapter_one.docx'}, page_content='could be heard, of course, but so long as he stayed in his present position he could not be seen. It was partly the unusual geography of the room that had suggested to him the thing that he was now'),\n",
       " Document(metadata={'source': './files/chapter_one.docx'}, page_content='be heard, of course, but so long as he stayed in his present position he could not be seen. It was partly the unusual geography of the room that had suggested to him the thing that he was now about'),\n",
       " Document(metadata={'source': './files/chapter_one.docx'}, page_content='heard, of course, but so long as he stayed in his present position he could not be seen. It was partly the unusual geography of the room that had suggested to him the thing that he was now about to'),\n",
       " Document(metadata={'source': './files/chapter_one.docx'}, page_content='of course, but so long as he stayed in his present position he could not be seen. It was partly the unusual geography of the room that had suggested to him the thing that he was now about to do.'),\n",
       " Document(metadata={'source': './files/chapter_one.docx'}, page_content='But it had also been suggested by the book that he had just taken out of the drawer. It was a peculiarly beautiful book. Its smooth creamy paper, a little yellowed by age, was of a kind that had not'),\n",
       " Document(metadata={'source': './files/chapter_one.docx'}, page_content='it had also been suggested by the book that he had just taken out of the drawer. It was a peculiarly beautiful book. Its smooth creamy paper, a little yellowed by age, was of a kind that had not been'),\n",
       " Document(metadata={'source': './files/chapter_one.docx'}, page_content='suggested by the book that he had just taken out of the drawer. It was a peculiarly beautiful book. Its smooth creamy paper, a little yellowed by age, was of a kind that had not been manufactured for'),\n",
       " Document(metadata={'source': './files/chapter_one.docx'}, page_content='by the book that he had just taken out of the drawer. It was a peculiarly beautiful book. Its smooth creamy paper, a little yellowed by age, was of a kind that had not been manufactured for at least'),\n",
       " Document(metadata={'source': './files/chapter_one.docx'}, page_content='book that he had just taken out of the drawer. It was a peculiarly beautiful book. Its smooth creamy paper, a little yellowed by age, was of a kind that had not been manufactured for at least forty'),\n",
       " Document(metadata={'source': './files/chapter_one.docx'}, page_content='that he had just taken out of the drawer. It was a peculiarly beautiful book. Its smooth creamy paper, a little yellowed by age, was of a kind that had not been manufactured for at least forty years'),\n",
       " Document(metadata={'source': './files/chapter_one.docx'}, page_content='he had just taken out of the drawer. It was a peculiarly beautiful book. Its smooth creamy paper, a little yellowed by age, was of a kind that had not been manufactured for at least forty years past.'),\n",
       " Document(metadata={'source': './files/chapter_one.docx'}, page_content='had just taken out of the drawer. It was a peculiarly beautiful book. Its smooth creamy paper, a little yellowed by age, was of a kind that had not been manufactured for at least forty years past. He'),\n",
       " Document(metadata={'source': './files/chapter_one.docx'}, page_content='taken out of the drawer. It was a peculiarly beautiful book. Its smooth creamy paper, a little yellowed by age, was of a kind that had not been manufactured for at least forty years past. He could'),\n",
       " Document(metadata={'source': './files/chapter_one.docx'}, page_content='out of the drawer. It was a peculiarly beautiful book. Its smooth creamy paper, a little yellowed by age, was of a kind that had not been manufactured for at least forty years past. He could guess,'),\n",
       " Document(metadata={'source': './files/chapter_one.docx'}, page_content='the drawer. It was a peculiarly beautiful book. Its smooth creamy paper, a little yellowed by age, was of a kind that had not been manufactured for at least forty years past. He could guess, however,'),\n",
       " Document(metadata={'source': './files/chapter_one.docx'}, page_content='It was a peculiarly beautiful book. Its smooth creamy paper, a little yellowed by age, was of a kind that had not been manufactured for at least forty years past. He could guess, however, that the'),\n",
       " Document(metadata={'source': './files/chapter_one.docx'}, page_content='was a peculiarly beautiful book. Its smooth creamy paper, a little yellowed by age, was of a kind that had not been manufactured for at least forty years past. He could guess, however, that the book'),\n",
       " Document(metadata={'source': './files/chapter_one.docx'}, page_content='a peculiarly beautiful book. Its smooth creamy paper, a little yellowed by age, was of a kind that had not been manufactured for at least forty years past. He could guess, however, that the book was'),\n",
       " Document(metadata={'source': './files/chapter_one.docx'}, page_content='beautiful book. Its smooth creamy paper, a little yellowed by age, was of a kind that had not been manufactured for at least forty years past. He could guess, however, that the book was much older'),\n",
       " Document(metadata={'source': './files/chapter_one.docx'}, page_content='book. Its smooth creamy paper, a little yellowed by age, was of a kind that had not been manufactured for at least forty years past. He could guess, however, that the book was much older than that.'),\n",
       " Document(metadata={'source': './files/chapter_one.docx'}, page_content='Its smooth creamy paper, a little yellowed by age, was of a kind that had not been manufactured for at least forty years past. He could guess, however, that the book was much older than that. He had'),\n",
       " Document(metadata={'source': './files/chapter_one.docx'}, page_content='smooth creamy paper, a little yellowed by age, was of a kind that had not been manufactured for at least forty years past. He could guess, however, that the book was much older than that. He had seen'),\n",
       " Document(metadata={'source': './files/chapter_one.docx'}, page_content='creamy paper, a little yellowed by age, was of a kind that had not been manufactured for at least forty years past. He could guess, however, that the book was much older than that. He had seen it'),\n",
       " Document(metadata={'source': './files/chapter_one.docx'}, page_content='paper, a little yellowed by age, was of a kind that had not been manufactured for at least forty years past. He could guess, however, that the book was much older than that. He had seen it lying in'),\n",
       " Document(metadata={'source': './files/chapter_one.docx'}, page_content='a little yellowed by age, was of a kind that had not been manufactured for at least forty years past. He could guess, however, that the book was much older than that. He had seen it lying in the'),\n",
       " Document(metadata={'source': './files/chapter_one.docx'}, page_content='little yellowed by age, was of a kind that had not been manufactured for at least forty years past. He could guess, however, that the book was much older than that. He had seen it lying in the window'),\n",
       " Document(metadata={'source': './files/chapter_one.docx'}, page_content='yellowed by age, was of a kind that had not been manufactured for at least forty years past. He could guess, however, that the book was much older than that. He had seen it lying in the window of a'),\n",
       " Document(metadata={'source': './files/chapter_one.docx'}, page_content='by age, was of a kind that had not been manufactured for at least forty years past. He could guess, however, that the book was much older than that. He had seen it lying in the window of a frowsy'),\n",
       " Document(metadata={'source': './files/chapter_one.docx'}, page_content='age, was of a kind that had not been manufactured for at least forty years past. He could guess, however, that the book was much older than that. He had seen it lying in the window of a frowsy little'),\n",
       " Document(metadata={'source': './files/chapter_one.docx'}, page_content='a kind that had not been manufactured for at least forty years past. He could guess, however, that the book was much older than that. He had seen it lying in the window of a frowsy little junk-shop'),\n",
       " Document(metadata={'source': './files/chapter_one.docx'}, page_content='kind that had not been manufactured for at least forty years past. He could guess, however, that the book was much older than that. He had seen it lying in the window of a frowsy little junk-shop in'),\n",
       " Document(metadata={'source': './files/chapter_one.docx'}, page_content='that had not been manufactured for at least forty years past. He could guess, however, that the book was much older than that. He had seen it lying in the window of a frowsy little junk-shop in a'),\n",
       " Document(metadata={'source': './files/chapter_one.docx'}, page_content='had not been manufactured for at least forty years past. He could guess, however, that the book was much older than that. He had seen it lying in the window of a frowsy little junk-shop in a slummy'),\n",
       " Document(metadata={'source': './files/chapter_one.docx'}, page_content='been manufactured for at least forty years past. He could guess, however, that the book was much older than that. He had seen it lying in the window of a frowsy little junk-shop in a slummy quarter'),\n",
       " Document(metadata={'source': './files/chapter_one.docx'}, page_content='manufactured for at least forty years past. He could guess, however, that the book was much older than that. He had seen it lying in the window of a frowsy little junk-shop in a slummy quarter of the'),\n",
       " Document(metadata={'source': './files/chapter_one.docx'}, page_content='for at least forty years past. He could guess, however, that the book was much older than that. He had seen it lying in the window of a frowsy little junk-shop in a slummy quarter of the town (just'),\n",
       " Document(metadata={'source': './files/chapter_one.docx'}, page_content='at least forty years past. He could guess, however, that the book was much older than that. He had seen it lying in the window of a frowsy little junk-shop in a slummy quarter of the town (just what'),\n",
       " Document(metadata={'source': './files/chapter_one.docx'}, page_content='forty years past. He could guess, however, that the book was much older than that. He had seen it lying in the window of a frowsy little junk-shop in a slummy quarter of the town (just what quarter'),\n",
       " Document(metadata={'source': './files/chapter_one.docx'}, page_content='years past. He could guess, however, that the book was much older than that. He had seen it lying in the window of a frowsy little junk-shop in a slummy quarter of the town (just what quarter he did'),\n",
       " Document(metadata={'source': './files/chapter_one.docx'}, page_content='past. He could guess, however, that the book was much older than that. He had seen it lying in the window of a frowsy little junk-shop in a slummy quarter of the town (just what quarter he did not'),\n",
       " Document(metadata={'source': './files/chapter_one.docx'}, page_content='He could guess, however, that the book was much older than that. He had seen it lying in the window of a frowsy little junk-shop in a slummy quarter of the town (just what quarter he did not now'),\n",
       " Document(metadata={'source': './files/chapter_one.docx'}, page_content='guess, however, that the book was much older than that. He had seen it lying in the window of a frowsy little junk-shop in a slummy quarter of the town (just what quarter he did not now remember) and'),\n",
       " Document(metadata={'source': './files/chapter_one.docx'}, page_content='however, that the book was much older than that. He had seen it lying in the window of a frowsy little junk-shop in a slummy quarter of the town (just what quarter he did not now remember) and had'),\n",
       " Document(metadata={'source': './files/chapter_one.docx'}, page_content='that the book was much older than that. He had seen it lying in the window of a frowsy little junk-shop in a slummy quarter of the town (just what quarter he did not now remember) and had been'),\n",
       " Document(metadata={'source': './files/chapter_one.docx'}, page_content='the book was much older than that. He had seen it lying in the window of a frowsy little junk-shop in a slummy quarter of the town (just what quarter he did not now remember) and had been stricken'),\n",
       " Document(metadata={'source': './files/chapter_one.docx'}, page_content='was much older than that. He had seen it lying in the window of a frowsy little junk-shop in a slummy quarter of the town (just what quarter he did not now remember) and had been stricken immediately'),\n",
       " Document(metadata={'source': './files/chapter_one.docx'}, page_content='much older than that. He had seen it lying in the window of a frowsy little junk-shop in a slummy quarter of the town (just what quarter he did not now remember) and had been stricken immediately by'),\n",
       " Document(metadata={'source': './files/chapter_one.docx'}, page_content='older than that. He had seen it lying in the window of a frowsy little junk-shop in a slummy quarter of the town (just what quarter he did not now remember) and had been stricken immediately by an'),\n",
       " Document(metadata={'source': './files/chapter_one.docx'}, page_content='that. He had seen it lying in the window of a frowsy little junk-shop in a slummy quarter of the town (just what quarter he did not now remember) and had been stricken immediately by an overwhelming'),\n",
       " Document(metadata={'source': './files/chapter_one.docx'}, page_content='He had seen it lying in the window of a frowsy little junk-shop in a slummy quarter of the town (just what quarter he did not now remember) and had been stricken immediately by an overwhelming desire'),\n",
       " Document(metadata={'source': './files/chapter_one.docx'}, page_content='had seen it lying in the window of a frowsy little junk-shop in a slummy quarter of the town (just what quarter he did not now remember) and had been stricken immediately by an overwhelming desire to'),\n",
       " Document(metadata={'source': './files/chapter_one.docx'}, page_content='it lying in the window of a frowsy little junk-shop in a slummy quarter of the town (just what quarter he did not now remember) and had been stricken immediately by an overwhelming desire to possess'),\n",
       " Document(metadata={'source': './files/chapter_one.docx'}, page_content='lying in the window of a frowsy little junk-shop in a slummy quarter of the town (just what quarter he did not now remember) and had been stricken immediately by an overwhelming desire to possess it.'),\n",
       " Document(metadata={'source': './files/chapter_one.docx'}, page_content='in the window of a frowsy little junk-shop in a slummy quarter of the town (just what quarter he did not now remember) and had been stricken immediately by an overwhelming desire to possess it. Party'),\n",
       " Document(metadata={'source': './files/chapter_one.docx'}, page_content='of a frowsy little junk-shop in a slummy quarter of the town (just what quarter he did not now remember) and had been stricken immediately by an overwhelming desire to possess it. Party members were'),\n",
       " Document(metadata={'source': './files/chapter_one.docx'}, page_content='little junk-shop in a slummy quarter of the town (just what quarter he did not now remember) and had been stricken immediately by an overwhelming desire to possess it. Party members were supposed not'),\n",
       " Document(metadata={'source': './files/chapter_one.docx'}, page_content='junk-shop in a slummy quarter of the town (just what quarter he did not now remember) and had been stricken immediately by an overwhelming desire to possess it. Party members were supposed not to go'),\n",
       " Document(metadata={'source': './files/chapter_one.docx'}, page_content='in a slummy quarter of the town (just what quarter he did not now remember) and had been stricken immediately by an overwhelming desire to possess it. Party members were supposed not to go into'),\n",
       " Document(metadata={'source': './files/chapter_one.docx'}, page_content='a slummy quarter of the town (just what quarter he did not now remember) and had been stricken immediately by an overwhelming desire to possess it. Party members were supposed not to go into ordinary'),\n",
       " Document(metadata={'source': './files/chapter_one.docx'}, page_content='quarter of the town (just what quarter he did not now remember) and had been stricken immediately by an overwhelming desire to possess it. Party members were supposed not to go into ordinary shops'),\n",
       " Document(metadata={'source': './files/chapter_one.docx'}, page_content=\"of the town (just what quarter he did not now remember) and had been stricken immediately by an overwhelming desire to possess it. Party members were supposed not to go into ordinary shops ('dealing\"),\n",
       " Document(metadata={'source': './files/chapter_one.docx'}, page_content=\"the town (just what quarter he did not now remember) and had been stricken immediately by an overwhelming desire to possess it. Party members were supposed not to go into ordinary shops ('dealing on\"),\n",
       " Document(metadata={'source': './files/chapter_one.docx'}, page_content=\"town (just what quarter he did not now remember) and had been stricken immediately by an overwhelming desire to possess it. Party members were supposed not to go into ordinary shops ('dealing on the\"),\n",
       " Document(metadata={'source': './files/chapter_one.docx'}, page_content=\"(just what quarter he did not now remember) and had been stricken immediately by an overwhelming desire to possess it. Party members were supposed not to go into ordinary shops ('dealing on the free\"),\n",
       " Document(metadata={'source': './files/chapter_one.docx'}, page_content=\"quarter he did not now remember) and had been stricken immediately by an overwhelming desire to possess it. Party members were supposed not to go into ordinary shops ('dealing on the free market', it\"),\n",
       " Document(metadata={'source': './files/chapter_one.docx'}, page_content=\"he did not now remember) and had been stricken immediately by an overwhelming desire to possess it. Party members were supposed not to go into ordinary shops ('dealing on the free market', it was\"),\n",
       " Document(metadata={'source': './files/chapter_one.docx'}, page_content=\"not now remember) and had been stricken immediately by an overwhelming desire to possess it. Party members were supposed not to go into ordinary shops ('dealing on the free market', it was called),\"),\n",
       " Document(metadata={'source': './files/chapter_one.docx'}, page_content=\"now remember) and had been stricken immediately by an overwhelming desire to possess it. Party members were supposed not to go into ordinary shops ('dealing on the free market', it was called), but\"),\n",
       " Document(metadata={'source': './files/chapter_one.docx'}, page_content=\"remember) and had been stricken immediately by an overwhelming desire to possess it. Party members were supposed not to go into ordinary shops ('dealing on the free market', it was called), but the\"),\n",
       " Document(metadata={'source': './files/chapter_one.docx'}, page_content=\"and had been stricken immediately by an overwhelming desire to possess it. Party members were supposed not to go into ordinary shops ('dealing on the free market', it was called), but the rule was\"),\n",
       " Document(metadata={'source': './files/chapter_one.docx'}, page_content=\"had been stricken immediately by an overwhelming desire to possess it. Party members were supposed not to go into ordinary shops ('dealing on the free market', it was called), but the rule was not\"),\n",
       " Document(metadata={'source': './files/chapter_one.docx'}, page_content=\"stricken immediately by an overwhelming desire to possess it. Party members were supposed not to go into ordinary shops ('dealing on the free market', it was called), but the rule was not strictly\"),\n",
       " Document(metadata={'source': './files/chapter_one.docx'}, page_content=\"immediately by an overwhelming desire to possess it. Party members were supposed not to go into ordinary shops ('dealing on the free market', it was called), but the rule was not strictly kept,\"),\n",
       " Document(metadata={'source': './files/chapter_one.docx'}, page_content=\"by an overwhelming desire to possess it. Party members were supposed not to go into ordinary shops ('dealing on the free market', it was called), but the rule was not strictly kept, because there\"),\n",
       " Document(metadata={'source': './files/chapter_one.docx'}, page_content=\"an overwhelming desire to possess it. Party members were supposed not to go into ordinary shops ('dealing on the free market', it was called), but the rule was not strictly kept, because there were\"),\n",
       " Document(metadata={'source': './files/chapter_one.docx'}, page_content=\"desire to possess it. Party members were supposed not to go into ordinary shops ('dealing on the free market', it was called), but the rule was not strictly kept, because there were various things,\"),\n",
       " Document(metadata={'source': './files/chapter_one.docx'}, page_content=\"to possess it. Party members were supposed not to go into ordinary shops ('dealing on the free market', it was called), but the rule was not strictly kept, because there were various things, such as\"),\n",
       " Document(metadata={'source': './files/chapter_one.docx'}, page_content=\"it. Party members were supposed not to go into ordinary shops ('dealing on the free market', it was called), but the rule was not strictly kept, because there were various things, such as shoelaces\"),\n",
       " Document(metadata={'source': './files/chapter_one.docx'}, page_content=\"Party members were supposed not to go into ordinary shops ('dealing on the free market', it was called), but the rule was not strictly kept, because there were various things, such as shoelaces and\"),\n",
       " Document(metadata={'source': './files/chapter_one.docx'}, page_content=\"members were supposed not to go into ordinary shops ('dealing on the free market', it was called), but the rule was not strictly kept, because there were various things, such as shoelaces and razor\"),\n",
       " Document(metadata={'source': './files/chapter_one.docx'}, page_content=\"were supposed not to go into ordinary shops ('dealing on the free market', it was called), but the rule was not strictly kept, because there were various things, such as shoelaces and razor blades,\"),\n",
       " Document(metadata={'source': './files/chapter_one.docx'}, page_content=\"supposed not to go into ordinary shops ('dealing on the free market', it was called), but the rule was not strictly kept, because there were various things, such as shoelaces and razor blades, which\"),\n",
       " Document(metadata={'source': './files/chapter_one.docx'}, page_content=\"not to go into ordinary shops ('dealing on the free market', it was called), but the rule was not strictly kept, because there were various things, such as shoelaces and razor blades, which it was\"),\n",
       " Document(metadata={'source': './files/chapter_one.docx'}, page_content=\"into ordinary shops ('dealing on the free market', it was called), but the rule was not strictly kept, because there were various things, such as shoelaces and razor blades, which it was impossible\"),\n",
       " Document(metadata={'source': './files/chapter_one.docx'}, page_content=\"ordinary shops ('dealing on the free market', it was called), but the rule was not strictly kept, because there were various things, such as shoelaces and razor blades, which it was impossible to get\"),\n",
       " Document(metadata={'source': './files/chapter_one.docx'}, page_content=\"shops ('dealing on the free market', it was called), but the rule was not strictly kept, because there were various things, such as shoelaces and razor blades, which it was impossible to get hold of\"),\n",
       " Document(metadata={'source': './files/chapter_one.docx'}, page_content=\"('dealing on the free market', it was called), but the rule was not strictly kept, because there were various things, such as shoelaces and razor blades, which it was impossible to get hold of in any\"),\n",
       " Document(metadata={'source': './files/chapter_one.docx'}, page_content=\"on the free market', it was called), but the rule was not strictly kept, because there were various things, such as shoelaces and razor blades, which it was impossible to get hold of in any other\"),\n",
       " Document(metadata={'source': './files/chapter_one.docx'}, page_content=\"the free market', it was called), but the rule was not strictly kept, because there were various things, such as shoelaces and razor blades, which it was impossible to get hold of in any other way.\"),\n",
       " Document(metadata={'source': './files/chapter_one.docx'}, page_content=\"free market', it was called), but the rule was not strictly kept, because there were various things, such as shoelaces and razor blades, which it was impossible to get hold of in any other way. He\"),\n",
       " Document(metadata={'source': './files/chapter_one.docx'}, page_content=\"market', it was called), but the rule was not strictly kept, because there were various things, such as shoelaces and razor blades, which it was impossible to get hold of in any other way. He had\"),\n",
       " Document(metadata={'source': './files/chapter_one.docx'}, page_content='it was called), but the rule was not strictly kept, because there were various things, such as shoelaces and razor blades, which it was impossible to get hold of in any other way. He had given a'),\n",
       " Document(metadata={'source': './files/chapter_one.docx'}, page_content='was called), but the rule was not strictly kept, because there were various things, such as shoelaces and razor blades, which it was impossible to get hold of in any other way. He had given a quick'),\n",
       " Document(metadata={'source': './files/chapter_one.docx'}, page_content='but the rule was not strictly kept, because there were various things, such as shoelaces and razor blades, which it was impossible to get hold of in any other way. He had given a quick glance up and'),\n",
       " Document(metadata={'source': './files/chapter_one.docx'}, page_content='the rule was not strictly kept, because there were various things, such as shoelaces and razor blades, which it was impossible to get hold of in any other way. He had given a quick glance up and down'),\n",
       " Document(metadata={'source': './files/chapter_one.docx'}, page_content='rule was not strictly kept, because there were various things, such as shoelaces and razor blades, which it was impossible to get hold of in any other way. He had given a quick glance up and down the'),\n",
       " Document(metadata={'source': './files/chapter_one.docx'}, page_content='not strictly kept, because there were various things, such as shoelaces and razor blades, which it was impossible to get hold of in any other way. He had given a quick glance up and down the street'),\n",
       " Document(metadata={'source': './files/chapter_one.docx'}, page_content='strictly kept, because there were various things, such as shoelaces and razor blades, which it was impossible to get hold of in any other way. He had given a quick glance up and down the street and'),\n",
       " Document(metadata={'source': './files/chapter_one.docx'}, page_content='kept, because there were various things, such as shoelaces and razor blades, which it was impossible to get hold of in any other way. He had given a quick glance up and down the street and then had'),\n",
       " Document(metadata={'source': './files/chapter_one.docx'}, page_content='because there were various things, such as shoelaces and razor blades, which it was impossible to get hold of in any other way. He had given a quick glance up and down the street and then had slipped'),\n",
       " Document(metadata={'source': './files/chapter_one.docx'}, page_content='there were various things, such as shoelaces and razor blades, which it was impossible to get hold of in any other way. He had given a quick glance up and down the street and then had slipped inside'),\n",
       " Document(metadata={'source': './files/chapter_one.docx'}, page_content='were various things, such as shoelaces and razor blades, which it was impossible to get hold of in any other way. He had given a quick glance up and down the street and then had slipped inside and'),\n",
       " ...]"
      ]
     },
     "execution_count": 31,
     "metadata": {},
     "output_type": "execute_result"
    }
   ],
   "source": [
    "# from langchain.document_loaders import UnstructuredFileLoader\n",
    "# from langchain.text_splitter import RecursiveCharacterTextSplitter\n",
    "\n",
    "# splitter = RecursiveCharacterTextSplitter(\n",
    "#     chunk_size=200,\n",
    "#     chunk_overlap=50\n",
    "# )\n",
    "\n",
    "# loader = UnstructuredFileLoader(\"./files/chapter_one.docx\")\n",
    "\n",
    "# docs = loader.load()\n",
    "\n",
    "# splitter.split_documents(docs)\n",
    "\n",
    "# len(loader.load_and_split(text_splitter=splitter)) # 11 "
   ]
  },
  {
   "cell_type": "code",
   "execution_count": 1,
   "id": "ecc21628-c475-4241-9e8f-50d9921c4f66",
   "metadata": {},
   "outputs": [],
   "source": [
    "# from langchain.document_loaders import UnstructuredFileLoader\n",
    "# from langchain.text_splitter import CharacterTextSplitter\n",
    "\n",
    "# splitter = CharacterTextSplitter(\n",
    "#     separator=\"\\n\",\n",
    "#     chunk_size=600,\n",
    "#     chunk_overlap=100\n",
    "# )\n",
    "\n",
    "# loader = UnstructuredFileLoader(\"./files/chapter_one.docx\")\n",
    "\n",
    "# docs = loader.load()\n",
    "\n",
    "# splitter.split_documents(docs)\n",
    "\n",
    "# len(loader.load_and_split(text_splitter=splitter)) # 11 "
   ]
  },
  {
   "cell_type": "code",
   "execution_count": null,
   "id": "1afd438e",
   "metadata": {},
   "outputs": [],
   "source": [
    "# from langchain.document_loaders import UnstructuredFileLoader\n",
    "# from langchain.text_splitter import CharacterTextSplitter\n",
    "\n",
    "# splitter = CharacterTextSplitter.from_tiktoken_encoder(\n",
    "#     separator=\"\\n\",\n",
    "#     chunk_size=600,\n",
    "#     chunk_overlap=100,\n",
    "#     length_function=len, # counting texts (different from human's counting method )\n",
    "# )\n",
    "# # tokens != characters\n",
    "# # tiktoken은 tokens 수를 세는 것 -> from_tiktoken_encoder을 사용함으로써 사람과 동일한 방법으로 텍스트 카운팅이 가능\n",
    "\n",
    "# loader = UnstructuredFileLoader(\"./files/chapter_one.docx\")"
   ]
  },
  {
   "cell_type": "code",
   "execution_count": null,
   "id": "b08ca005",
   "metadata": {},
   "outputs": [
    {
     "name": "stdout",
     "output_type": "stream",
     "text": [
      "4 1536\n"
     ]
    }
   ],
   "source": [
    "# # vector store\n",
    "# from langchain.embeddings import OpenAIEmbeddings\n",
    "\n",
    "# embedder= OpenAIEmbeddings()\n",
    "\n",
    "# # vector = embedder.embed_query(\"Hi\")\n",
    "# # len(vector) # how many dimensions? 1536\n",
    "\n",
    "# vector = embedder.embed_documents([\n",
    "#   \"hi\",\n",
    "#   \"how\",\n",
    "#   \"are\",\n",
    "#   \"you + longer sentenes\"\n",
    "# ])\n",
    "\n",
    "# # vector\n",
    "# # len(vector) # 4\n",
    "\n",
    "# print(len(vector), len(vector[0])) # 4개 벡터, 1536개의 차원\n"
   ]
  },
  {
   "cell_type": "code",
   "execution_count": null,
   "id": "c4628142",
   "metadata": {},
   "outputs": [],
   "source": [
    "# from langchain.chat_models import ChatOpenAI\n",
    "# from langchain.document_loaders import UnstructuredFileLoader\n",
    "# from langchain.text_splitter import CharacterTextSplitter\n",
    "# from langchain.embeddings import OpenAIEmbeddings, CacheBackedEmbeddings\n",
    "# from langchain.vectorstores import Chroma\n",
    "# from langchain.storage import LocalFileStore\n",
    "\n",
    "# cache_dir = LocalFileStore(\"./.cache/\")\n",
    "\n",
    "# splitter = CharacterTextSplitter.from_tiktoken_encoder(\n",
    "#   separator=\"\\n\",\n",
    "#   chunk_size=600,\n",
    "#   chunk_overlap=100,\n",
    "# )\n",
    "# loader = UnstructuredFileLoader(\"./files/chapter_one.docx\")\n",
    "\n",
    "# docs = loader.load_and_split(text_splitter=splitter)\n",
    "\n",
    "# embeddings = OpenAIEmbeddings()\n",
    "\n",
    "# cached_embeddings = CacheBackedEmbeddings.from_bytes_store(\n",
    "#   embeddings, cache_dir\n",
    "# ) \n",
    "\n",
    "# vectorstore = Chroma.from_documents(docs, cached_embeddings)"
   ]
  },
  {
   "cell_type": "code",
   "execution_count": null,
   "id": "ff730dae",
   "metadata": {},
   "outputs": [
    {
     "data": {
      "text/plain": [
       "4"
      ]
     },
     "execution_count": 14,
     "metadata": {},
     "output_type": "execute_result"
    }
   ],
   "source": [
    "# results = vectorstore.similarity_search(\"where does winston live?\")\n",
    "\n",
    "# len(results) # 4\n",
    "# results"
   ]
  },
  {
   "cell_type": "code",
   "execution_count": null,
   "id": "3b76b2c6",
   "metadata": {},
   "outputs": [
    {
     "name": "stderr",
     "output_type": "stream",
     "text": [
      "/Users/sejinpark/git/fullstack-gpt/venv/lib/python3.11/site-packages/langchain/chains/llm.py:369: UserWarning: The apply_and_parse method is deprecated, instead pass an output parser directly to LLMChain.\n",
      "  warnings.warn(\n"
     ]
    },
    {
     "data": {
      "text/plain": [
       "'Victory Mansions is a place with a filthy hallway that smells of boiled cabbage and old rag mats. It is depicted with a coloured poster of a man\\'s face, about forty-five years old, with a heavy black moustache and ruggedly handsome features. The flat is seven flights up, with a varicose ulcer above the right ankle. The building has a telescreen that cannot be shut off completely and a window. The building is associated with the phrase \"BIG BROTHER IS WATCHING YOU.\"'"
      ]
     },
     "execution_count": 11,
     "metadata": {},
     "output_type": "execute_result"
    }
   ],
   "source": [
    "# from langchain.chat_models import ChatOpenAI\n",
    "# from langchain.document_loaders import UnstructuredFileLoader\n",
    "# from langchain.text_splitter import CharacterTextSplitter\n",
    "# from langchain.embeddings import OpenAIEmbeddings, CacheBackedEmbeddings\n",
    "# from langchain.vectorstores import FAISS\n",
    "# from langchain.storage import LocalFileStore\n",
    "# from langchain.chains import RetrievalQA\n",
    "\n",
    "# llm = ChatOpenAI()\n",
    "\n",
    "# cache_dir = LocalFileStore(\"./.cache/\")\n",
    "\n",
    "# splitter = CharacterTextSplitter.from_tiktoken_encoder(\n",
    "#   separator=\"\\n\",\n",
    "#   chunk_size=600,\n",
    "#   chunk_overlap=100,\n",
    "# )\n",
    "# loader = UnstructuredFileLoader(\"./files/chapter_one.txt\")\n",
    "\n",
    "# docs = loader.load_and_split(text_splitter=splitter)\n",
    "\n",
    "# embeddings = OpenAIEmbeddings()\n",
    "\n",
    "# cached_embeddings = CacheBackedEmbeddings.from_bytes_store(\n",
    "#   embeddings, cache_dir\n",
    "# ) \n",
    "\n",
    "# vectorstore = FAISS.from_documents(docs, cached_embeddings)\n",
    "\n",
    "# chain = RetrievalQA.from_chain_type(\n",
    "#   llm=llm,\n",
    "#   chain_type=\"map_rerank\", # map_reduce, stuff, refine, map_rerank\n",
    "#   retriever=vectorstore.as_retriever(),\n",
    "# )\n",
    "\n",
    "# chain.run(\"where does winston live?\") # 1st floor 'Winston Smith lives in Victory Mansions.'\n",
    "# chain.run(\"Describe Victory Mansions\") # 2nd floor 'Victory Mansions is a place where Winston lives. It is a place that is not very nice.'"
   ]
  },
  {
   "cell_type": "code",
   "execution_count": null,
   "id": "ca2ff56f",
   "metadata": {},
   "outputs": [
    {
     "name": "stderr",
     "output_type": "stream",
     "text": [
      "libmagic is unavailable but assists in filetype detection. Please consider installing libmagic for better results.\n"
     ]
    },
    {
     "data": {
      "text/plain": [
       "AIMessage(content='Victory Mansions is a building where Winston Smith resides. It has glass doors that let in gritty dust, and the hallway smells of boiled cabbage and old rag mats. The flat where Winston lives is seven flights up, and the building has a faulty lift due to the electricity being cut off during daylight hours. Inside the flat, there is a telescreen that cannot be completely shut off, and a poster with the caption \"BIG BROTHER IS WATCHING YOU\" hangs on the wall.', additional_kwargs={}, response_metadata={'token_usage': {'completion_tokens': 101, 'prompt_tokens': 2060, 'total_tokens': 2161, 'completion_tokens_details': {'accepted_prediction_tokens': 0, 'audio_tokens': 0, 'reasoning_tokens': 0, 'rejected_prediction_tokens': 0}, 'prompt_tokens_details': {'audio_tokens': 0, 'cached_tokens': 0}}, 'model_name': 'gpt-3.5-turbo', 'system_fingerprint': None, 'finish_reason': 'stop', 'logprobs': None}, id='run-75bb6e5f-08b8-4ccf-a57c-7bbe18928fd5-0')"
      ]
     },
     "execution_count": 6,
     "metadata": {},
     "output_type": "execute_result"
    }
   ],
   "source": [
    "# from langchain.chat_models import ChatOpenAI\n",
    "# from langchain.document_loaders import UnstructuredFileLoader\n",
    "# from langchain.text_splitter import CharacterTextSplitter\n",
    "# from langchain.embeddings import OpenAIEmbeddings, CacheBackedEmbeddings\n",
    "# from langchain.vectorstores import FAISS\n",
    "# from langchain.storage import LocalFileStore\n",
    "# from langchain.prompts import ChatPromptTemplate\n",
    "# from langchain_core.runnables import RunnablePassthrough\n",
    "\n",
    "# llm = ChatOpenAI(\n",
    "#   temperature=0.1,\n",
    "# )\n",
    "\n",
    "# cache_dir = LocalFileStore(\"./.cache/\")\n",
    "\n",
    "# splitter = CharacterTextSplitter.from_tiktoken_encoder(\n",
    "#   separator=\"\\n\",\n",
    "#   chunk_size=600,\n",
    "#   chunk_overlap=100,\n",
    "# )\n",
    "# loader = UnstructuredFileLoader(\"./files/chapter_one.txt\")\n",
    "\n",
    "# docs = loader.load_and_split(text_splitter=splitter)\n",
    "\n",
    "# embeddings = OpenAIEmbeddings()\n",
    "\n",
    "# cached_embeddings = CacheBackedEmbeddings.from_bytes_store(\n",
    "#   embeddings, cache_dir\n",
    "# ) \n",
    "\n",
    "# vectorstore = FAISS.from_documents(docs, cached_embeddings)\n",
    "\n",
    "# retriever = vectorstore.as_retriever() \n",
    "\n",
    "# prompt = ChatPromptTemplate.from_messages([\n",
    "#   (\"system\", \"You are a helpful assistant. Answer the questions using only the following context. If you don't know the answer, just say you don't know, don't make it up:\\n{context}\"),\n",
    "#   (\"human\", \"{question}\")\n",
    "# ])\n",
    "\n",
    "# chain = (\n",
    "#   {\n",
    "#     \"context\": retriever, \n",
    "#     \"question\": RunnablePassthrough(), \n",
    "#     # \"extra\": RunnablePassthrough(),\n",
    "#   } \n",
    "#   | prompt \n",
    "#   | llm\n",
    "# )\n",
    "\n",
    "# chain.invoke(\"Describe Victory Mansions\")"
   ]
  },
  {
   "cell_type": "code",
   "execution_count": 1,
   "id": "9178240e",
   "metadata": {},
   "outputs": [
    {
     "name": "stderr",
     "output_type": "stream",
     "text": [
      "/var/folders/r9/ddpqm51n4rv1rx1s0f_zyk340000gn/T/ipykernel_55072/3421886738.py:10: LangChainDeprecationWarning: The class `ChatOpenAI` was deprecated in LangChain 0.0.10 and will be removed in 1.0. An updated version of the class exists in the :class:`~langchain-openai package and should be used instead. To use it run `pip install -U :class:`~langchain-openai` and import as `from :class:`~langchain_openai import ChatOpenAI``.\n",
      "  llm = ChatOpenAI(\n",
      "/var/folders/r9/ddpqm51n4rv1rx1s0f_zyk340000gn/T/ipykernel_55072/3421886738.py:21: LangChainDeprecationWarning: The class `UnstructuredFileLoader` was deprecated in LangChain 0.2.8 and will be removed in 1.0. An updated version of the class exists in the :class:`~langchain-unstructured package and should be used instead. To use it run `pip install -U :class:`~langchain-unstructured` and import as `from :class:`~langchain_unstructured import UnstructuredLoader``.\n",
      "  loader = UnstructuredFileLoader(\"./files/chapter_one.txt\")\n",
      "libmagic is unavailable but assists in filetype detection. Please consider installing libmagic for better results.\n",
      "/var/folders/r9/ddpqm51n4rv1rx1s0f_zyk340000gn/T/ipykernel_55072/3421886738.py:25: LangChainDeprecationWarning: The class `OpenAIEmbeddings` was deprecated in LangChain 0.0.9 and will be removed in 1.0. An updated version of the class exists in the :class:`~langchain-openai package and should be used instead. To use it run `pip install -U :class:`~langchain-openai` and import as `from :class:`~langchain_openai import OpenAIEmbeddings``.\n",
      "  embeddings = OpenAIEmbeddings()\n"
     ]
    },
    {
     "data": {
      "text/plain": [
       "AIMessage(content='Winston goes to work at the Ministry of Truth, also known as Minitrue in Newspeak.', additional_kwargs={}, response_metadata={'token_usage': {'completion_tokens': 23, 'prompt_tokens': 2094, 'total_tokens': 2117, 'completion_tokens_details': {'accepted_prediction_tokens': 0, 'audio_tokens': 0, 'reasoning_tokens': 0, 'rejected_prediction_tokens': 0}, 'prompt_tokens_details': {'audio_tokens': 0, 'cached_tokens': 0}}, 'model_name': 'gpt-3.5-turbo', 'system_fingerprint': None, 'finish_reason': 'stop', 'logprobs': None}, id='run-42f55d97-b037-4fe2-8945-657340428bbe-0')"
      ]
     },
     "execution_count": 1,
     "metadata": {},
     "output_type": "execute_result"
    }
   ],
   "source": [
    "from langchain.chat_models import ChatOpenAI\n",
    "from langchain.document_loaders import UnstructuredFileLoader\n",
    "from langchain.text_splitter import CharacterTextSplitter\n",
    "from langchain.embeddings import OpenAIEmbeddings, CacheBackedEmbeddings\n",
    "from langchain.vectorstores import FAISS\n",
    "from langchain.storage import LocalFileStore\n",
    "from langchain.prompts import ChatPromptTemplate\n",
    "from langchain_core.runnables import RunnablePassthrough, RunnableLambda\n",
    "\n",
    "llm = ChatOpenAI(\n",
    "  temperature=0.1,\n",
    ")\n",
    "\n",
    "cache_dir = LocalFileStore(\"./.cache/\")\n",
    "\n",
    "splitter = CharacterTextSplitter.from_tiktoken_encoder(\n",
    "  separator=\"\\n\",\n",
    "  chunk_size=600,\n",
    "  chunk_overlap=100,\n",
    ")\n",
    "loader = UnstructuredFileLoader(\"./files/chapter_one.txt\")\n",
    "\n",
    "docs = loader.load_and_split(text_splitter=splitter)\n",
    "\n",
    "embeddings = OpenAIEmbeddings()\n",
    "\n",
    "cached_embeddings = CacheBackedEmbeddings.from_bytes_store(\n",
    "  embeddings, cache_dir\n",
    ") \n",
    "\n",
    "vectorstore = FAISS.from_documents(docs, cached_embeddings)\n",
    "\n",
    "retriever = vectorstore.as_retriever() \n",
    "\n",
    "# list of docs\n",
    "\n",
    "# for doc in list of docs | prompt | llm \n",
    "\n",
    "# for response in list of llms response | put them all together \n",
    "\n",
    "# final doc | prompt | llm\n",
    "\n",
    "map_doc_prompt = ChatPromptTemplate.from_messages(\n",
    "  [\n",
    "    (\n",
    "      \"system\",\n",
    "      \"\"\"\n",
    "      Use the following portion of a long document to see if any of the text is relevant to answer the question.\n",
    "      Return any relevant text verbatim.\n",
    "      -----\n",
    "      {context}\n",
    "      \"\"\",\n",
    "    ),\n",
    "    (\"human\", \"{question}\"),\n",
    "  ]\n",
    ")\n",
    "\n",
    "map_doc_chain =  map_doc_prompt | llm \n",
    "\n",
    "def map_docs(inputs):\n",
    "  # print(inputs)\n",
    "  documents = inputs[\"documents\"]\n",
    "  question = inputs[\"question\"]\n",
    "  # results = []\n",
    "  # for document in documents:\n",
    "  #   result = map_doc_chain.invoke({\n",
    "  #     \"context\": document.page_content,\n",
    "  #     \"question\": question,\n",
    "  #   }).content\n",
    "  #   results.append(result)\n",
    "  # results = \"\\n\\n\".join(results)\n",
    "  # return results\n",
    "\n",
    "  return \"\\n\\n\".join(map_doc_chain.invoke({\n",
    "    \"context\": doc.page_content,\n",
    "    \"question\": question,\n",
    "    }).content\n",
    "    for doc in documents\n",
    "  ) # list of docs\n",
    "\n",
    "\n",
    "map_chain = {\"documents\": retriever, \"question\": RunnablePassthrough()}\n",
    "RunnableLambda(map_docs)\n",
    "\n",
    "# {\n",
    "#   \"documents\": [Documents],\n",
    "#   \"question\": \"Describe Victory Mansions\"\n",
    "# }\n",
    "\n",
    "final_prompt = ChatPromptTemplate.from_messages([\n",
    "  (\n",
    "    \"system\", \n",
    "    \"\"\"\n",
    "    Given the following extracted parts of a long document and a question, \n",
    "    create a final answer. \n",
    "    If you don't know the answer, just say you don't know, don't make it up.\n",
    "    -----\n",
    "    {context}\n",
    "    \"\"\",\n",
    "  ),\n",
    "  (\"human\", \"{question}\"),\n",
    "])\n",
    "\n",
    "chain = {\"context\": map_chain,\"question\": RunnablePassthrough()} | final_prompt | llm\n",
    "\n",
    "chain.invoke(\"Where does Winston go to work?\")"
   ]
  }
 ],
 "metadata": {
  "kernelspec": {
   "display_name": "venv",
   "language": "python",
   "name": "python3"
  },
  "language_info": {
   "codemirror_mode": {
    "name": "ipython",
    "version": 3
   },
   "file_extension": ".py",
   "mimetype": "text/x-python",
   "name": "python",
   "nbconvert_exporter": "python",
   "pygments_lexer": "ipython3",
   "version": "3.11.11"
  }
 },
 "nbformat": 4,
 "nbformat_minor": 5
}
